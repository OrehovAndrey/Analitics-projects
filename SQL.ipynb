{
 "cells": [
  {
   "cell_type": "markdown",
   "metadata": {},
   "source": [
    "## Вводная часть\n",
    "Коронавирус застал мир врасплох, изменив привычный порядок вещей. В свободное время жители городов больше не выходят на улицу, не посещают кафе и торговые центры. Зато стало больше времени для книг. Это заметили стартаперы — и бросились создавать приложения для тех, кто любит читать.\n",
    "Наша компания решила быть на волне и купила крупный сервис для чтения книг по подписке. Наша первая задача как аналитика — проанализировать базу данных.\n",
    "В ней:\n",
    "- информация о книгах,\n",
    "- издательствах,\n",
    "- авторах, \n",
    "- пользовательские оценки книг,\n",
    "- пользовательские обзоры книг. "
   ]
  },
  {
   "cell_type": "markdown",
   "metadata": {},
   "source": [
    "## Цель исследования:\n",
    "- Посчитайте, сколько книг вышло после 1 января 2000 года;\n",
    "- Для каждой книги посчитайте количество обзоров и среднюю оценку;\n",
    "- Определите издательство, которое выпустило наибольшее число книг толще 50 страниц — так вы исключите из анализа брошюры;\n",
    "- Определите автора с самой высокой средней оценкой книг — учитывайте только книги с 50 и более оценками;\n",
    "- Посчитайте среднее количество обзоров от пользователей, которые поставили больше 50 оценок."
   ]
  },
  {
   "cell_type": "code",
   "execution_count": 1,
   "metadata": {},
   "outputs": [],
   "source": [
    "# импортируем библиотеки\n",
    "import pandas as pd\n",
    "from sqlalchemy import create_engine\n",
    "# устанавливаем параметры\n",
    "db_config = {'user': 'praktikum_student', # имя пользователя\n",
    "'pwd': 'Sdf4$2;d-d30pp', # пароль\n",
    "'host': 'rc1b-wcoijxj3yxfsf3fs.mdb.yandexcloud.net',\n",
    "'port': 6432, # порт подключения\n",
    "'db': 'data-analyst-final-project-db'} # название базы данных\n",
    "connection_string = 'postgresql://{}:{}@{}:{}/{}'.format(db_config['user'],\n",
    " db_config['pwd'],\n",
    " db_config['host'],\n",
    " db_config['port'],\n",
    " db_config['db'])\n",
    "# сохраняем коннектор\n",
    "engine = create_engine(connection_string, connect_args={'sslmode':'require'}) "
   ]
  },
  {
   "cell_type": "markdown",
   "metadata": {},
   "source": [
    "## Описание таблиц"
   ]
  },
  {
   "cell_type": "code",
   "execution_count": 2,
   "metadata": {
    "scrolled": true
   },
   "outputs": [
    {
     "data": {
      "text/html": [
       "<div>\n",
       "<style scoped>\n",
       "    .dataframe tbody tr th:only-of-type {\n",
       "        vertical-align: middle;\n",
       "    }\n",
       "\n",
       "    .dataframe tbody tr th {\n",
       "        vertical-align: top;\n",
       "    }\n",
       "\n",
       "    .dataframe thead th {\n",
       "        text-align: right;\n",
       "    }\n",
       "</style>\n",
       "<table border=\"1\" class=\"dataframe\">\n",
       "  <thead>\n",
       "    <tr style=\"text-align: right;\">\n",
       "      <th></th>\n",
       "      <th>book_id</th>\n",
       "      <th>author_id</th>\n",
       "      <th>title</th>\n",
       "      <th>num_pages</th>\n",
       "      <th>publication_date</th>\n",
       "      <th>publisher_id</th>\n",
       "    </tr>\n",
       "  </thead>\n",
       "  <tbody>\n",
       "    <tr>\n",
       "      <th>0</th>\n",
       "      <td>1</td>\n",
       "      <td>546</td>\n",
       "      <td>'Salem's Lot</td>\n",
       "      <td>594</td>\n",
       "      <td>2005-11-01</td>\n",
       "      <td>93</td>\n",
       "    </tr>\n",
       "    <tr>\n",
       "      <th>1</th>\n",
       "      <td>2</td>\n",
       "      <td>465</td>\n",
       "      <td>1 000 Places to See Before You Die</td>\n",
       "      <td>992</td>\n",
       "      <td>2003-05-22</td>\n",
       "      <td>336</td>\n",
       "    </tr>\n",
       "    <tr>\n",
       "      <th>2</th>\n",
       "      <td>3</td>\n",
       "      <td>407</td>\n",
       "      <td>13 Little Blue Envelopes (Little Blue Envelope...</td>\n",
       "      <td>322</td>\n",
       "      <td>2010-12-21</td>\n",
       "      <td>135</td>\n",
       "    </tr>\n",
       "    <tr>\n",
       "      <th>3</th>\n",
       "      <td>4</td>\n",
       "      <td>82</td>\n",
       "      <td>1491: New Revelations of the Americas Before C...</td>\n",
       "      <td>541</td>\n",
       "      <td>2006-10-10</td>\n",
       "      <td>309</td>\n",
       "    </tr>\n",
       "    <tr>\n",
       "      <th>4</th>\n",
       "      <td>5</td>\n",
       "      <td>125</td>\n",
       "      <td>1776</td>\n",
       "      <td>386</td>\n",
       "      <td>2006-07-04</td>\n",
       "      <td>268</td>\n",
       "    </tr>\n",
       "    <tr>\n",
       "      <th>...</th>\n",
       "      <td>...</td>\n",
       "      <td>...</td>\n",
       "      <td>...</td>\n",
       "      <td>...</td>\n",
       "      <td>...</td>\n",
       "      <td>...</td>\n",
       "    </tr>\n",
       "    <tr>\n",
       "      <th>995</th>\n",
       "      <td>996</td>\n",
       "      <td>571</td>\n",
       "      <td>Wyrd Sisters (Discworld  #6; Witches #2)</td>\n",
       "      <td>265</td>\n",
       "      <td>2001-02-06</td>\n",
       "      <td>147</td>\n",
       "    </tr>\n",
       "    <tr>\n",
       "      <th>996</th>\n",
       "      <td>997</td>\n",
       "      <td>454</td>\n",
       "      <td>Xenocide (Ender's Saga  #3)</td>\n",
       "      <td>592</td>\n",
       "      <td>1996-07-15</td>\n",
       "      <td>297</td>\n",
       "    </tr>\n",
       "    <tr>\n",
       "      <th>997</th>\n",
       "      <td>998</td>\n",
       "      <td>201</td>\n",
       "      <td>Year of Wonders</td>\n",
       "      <td>358</td>\n",
       "      <td>2002-04-30</td>\n",
       "      <td>212</td>\n",
       "    </tr>\n",
       "    <tr>\n",
       "      <th>998</th>\n",
       "      <td>999</td>\n",
       "      <td>94</td>\n",
       "      <td>You Suck (A Love Story  #2)</td>\n",
       "      <td>328</td>\n",
       "      <td>2007-01-16</td>\n",
       "      <td>331</td>\n",
       "    </tr>\n",
       "    <tr>\n",
       "      <th>999</th>\n",
       "      <td>1000</td>\n",
       "      <td>509</td>\n",
       "      <td>Zen and the Art of Motorcycle Maintenance: An ...</td>\n",
       "      <td>540</td>\n",
       "      <td>2006-04-25</td>\n",
       "      <td>143</td>\n",
       "    </tr>\n",
       "  </tbody>\n",
       "</table>\n",
       "<p>1000 rows × 6 columns</p>\n",
       "</div>"
      ],
      "text/plain": [
       "     book_id  author_id                                              title  \\\n",
       "0          1        546                                       'Salem's Lot   \n",
       "1          2        465                 1 000 Places to See Before You Die   \n",
       "2          3        407  13 Little Blue Envelopes (Little Blue Envelope...   \n",
       "3          4         82  1491: New Revelations of the Americas Before C...   \n",
       "4          5        125                                               1776   \n",
       "..       ...        ...                                                ...   \n",
       "995      996        571           Wyrd Sisters (Discworld  #6; Witches #2)   \n",
       "996      997        454                        Xenocide (Ender's Saga  #3)   \n",
       "997      998        201                                    Year of Wonders   \n",
       "998      999         94                        You Suck (A Love Story  #2)   \n",
       "999     1000        509  Zen and the Art of Motorcycle Maintenance: An ...   \n",
       "\n",
       "     num_pages publication_date  publisher_id  \n",
       "0          594       2005-11-01            93  \n",
       "1          992       2003-05-22           336  \n",
       "2          322       2010-12-21           135  \n",
       "3          541       2006-10-10           309  \n",
       "4          386       2006-07-04           268  \n",
       "..         ...              ...           ...  \n",
       "995        265       2001-02-06           147  \n",
       "996        592       1996-07-15           297  \n",
       "997        358       2002-04-30           212  \n",
       "998        328       2007-01-16           331  \n",
       "999        540       2006-04-25           143  \n",
       "\n",
       "[1000 rows x 6 columns]"
      ]
     },
     "execution_count": 2,
     "metadata": {},
     "output_type": "execute_result"
    }
   ],
   "source": [
    "# таблица books\n",
    "query='''select *\n",
    "from books\n",
    "'''\n",
    "pd.io.sql.read_sql(query, con = engine) "
   ]
  },
  {
   "cell_type": "markdown",
   "metadata": {},
   "source": [
    "### Таблица books\n",
    "Содержит данные о книгах:\n",
    "- book_id — идентификатор книги;\n",
    "- author_id — идентификатор автора;\n",
    "- title — название книги;\n",
    "- num_pages — количество страниц;\n",
    "- publication_date — дата публикации книги;\n",
    "- publisher_id — идентификатор издателя."
   ]
  },
  {
   "cell_type": "code",
   "execution_count": 3,
   "metadata": {
    "scrolled": true
   },
   "outputs": [
    {
     "data": {
      "text/html": [
       "<div>\n",
       "<style scoped>\n",
       "    .dataframe tbody tr th:only-of-type {\n",
       "        vertical-align: middle;\n",
       "    }\n",
       "\n",
       "    .dataframe tbody tr th {\n",
       "        vertical-align: top;\n",
       "    }\n",
       "\n",
       "    .dataframe thead th {\n",
       "        text-align: right;\n",
       "    }\n",
       "</style>\n",
       "<table border=\"1\" class=\"dataframe\">\n",
       "  <thead>\n",
       "    <tr style=\"text-align: right;\">\n",
       "      <th></th>\n",
       "      <th>author_id</th>\n",
       "      <th>author</th>\n",
       "    </tr>\n",
       "  </thead>\n",
       "  <tbody>\n",
       "    <tr>\n",
       "      <th>0</th>\n",
       "      <td>1</td>\n",
       "      <td>A.S. Byatt</td>\n",
       "    </tr>\n",
       "    <tr>\n",
       "      <th>1</th>\n",
       "      <td>2</td>\n",
       "      <td>Aesop/Laura Harris/Laura Gibbs</td>\n",
       "    </tr>\n",
       "    <tr>\n",
       "      <th>2</th>\n",
       "      <td>3</td>\n",
       "      <td>Agatha Christie</td>\n",
       "    </tr>\n",
       "    <tr>\n",
       "      <th>3</th>\n",
       "      <td>4</td>\n",
       "      <td>Alan Brennert</td>\n",
       "    </tr>\n",
       "    <tr>\n",
       "      <th>4</th>\n",
       "      <td>5</td>\n",
       "      <td>Alan Moore/David   Lloyd</td>\n",
       "    </tr>\n",
       "    <tr>\n",
       "      <th>...</th>\n",
       "      <td>...</td>\n",
       "      <td>...</td>\n",
       "    </tr>\n",
       "    <tr>\n",
       "      <th>631</th>\n",
       "      <td>632</td>\n",
       "      <td>William Strunk Jr./E.B. White</td>\n",
       "    </tr>\n",
       "    <tr>\n",
       "      <th>632</th>\n",
       "      <td>633</td>\n",
       "      <td>Zadie Smith</td>\n",
       "    </tr>\n",
       "    <tr>\n",
       "      <th>633</th>\n",
       "      <td>634</td>\n",
       "      <td>Zilpha Keatley Snyder</td>\n",
       "    </tr>\n",
       "    <tr>\n",
       "      <th>634</th>\n",
       "      <td>635</td>\n",
       "      <td>Zora Neale Hurston</td>\n",
       "    </tr>\n",
       "    <tr>\n",
       "      <th>635</th>\n",
       "      <td>636</td>\n",
       "      <td>Åsne Seierstad/Ingrid Christopherson</td>\n",
       "    </tr>\n",
       "  </tbody>\n",
       "</table>\n",
       "<p>636 rows × 2 columns</p>\n",
       "</div>"
      ],
      "text/plain": [
       "     author_id                                author\n",
       "0            1                            A.S. Byatt\n",
       "1            2        Aesop/Laura Harris/Laura Gibbs\n",
       "2            3                       Agatha Christie\n",
       "3            4                         Alan Brennert\n",
       "4            5              Alan Moore/David   Lloyd\n",
       "..         ...                                   ...\n",
       "631        632         William Strunk Jr./E.B. White\n",
       "632        633                           Zadie Smith\n",
       "633        634                 Zilpha Keatley Snyder\n",
       "634        635                    Zora Neale Hurston\n",
       "635        636  Åsne Seierstad/Ingrid Christopherson\n",
       "\n",
       "[636 rows x 2 columns]"
      ]
     },
     "execution_count": 3,
     "metadata": {},
     "output_type": "execute_result"
    }
   ],
   "source": [
    "# таблица authors\n",
    "query='''select *\n",
    "from authors\n",
    "'''\n",
    "pd.io.sql.read_sql(query, con = engine) "
   ]
  },
  {
   "cell_type": "markdown",
   "metadata": {},
   "source": [
    "### Таблица authors\n",
    "Содержит данные об авторах:\n",
    "- author_id — идентификатор автора;\n",
    "- author — имя автора."
   ]
  },
  {
   "cell_type": "code",
   "execution_count": 4,
   "metadata": {
    "scrolled": true
   },
   "outputs": [
    {
     "data": {
      "text/html": [
       "<div>\n",
       "<style scoped>\n",
       "    .dataframe tbody tr th:only-of-type {\n",
       "        vertical-align: middle;\n",
       "    }\n",
       "\n",
       "    .dataframe tbody tr th {\n",
       "        vertical-align: top;\n",
       "    }\n",
       "\n",
       "    .dataframe thead th {\n",
       "        text-align: right;\n",
       "    }\n",
       "</style>\n",
       "<table border=\"1\" class=\"dataframe\">\n",
       "  <thead>\n",
       "    <tr style=\"text-align: right;\">\n",
       "      <th></th>\n",
       "      <th>publisher_id</th>\n",
       "      <th>publisher</th>\n",
       "    </tr>\n",
       "  </thead>\n",
       "  <tbody>\n",
       "    <tr>\n",
       "      <th>0</th>\n",
       "      <td>1</td>\n",
       "      <td>Ace</td>\n",
       "    </tr>\n",
       "    <tr>\n",
       "      <th>1</th>\n",
       "      <td>2</td>\n",
       "      <td>Ace Book</td>\n",
       "    </tr>\n",
       "    <tr>\n",
       "      <th>2</th>\n",
       "      <td>3</td>\n",
       "      <td>Ace Books</td>\n",
       "    </tr>\n",
       "    <tr>\n",
       "      <th>3</th>\n",
       "      <td>4</td>\n",
       "      <td>Ace Hardcover</td>\n",
       "    </tr>\n",
       "    <tr>\n",
       "      <th>4</th>\n",
       "      <td>5</td>\n",
       "      <td>Addison Wesley Publishing Company</td>\n",
       "    </tr>\n",
       "    <tr>\n",
       "      <th>...</th>\n",
       "      <td>...</td>\n",
       "      <td>...</td>\n",
       "    </tr>\n",
       "    <tr>\n",
       "      <th>335</th>\n",
       "      <td>336</td>\n",
       "      <td>Workman Publishing Company</td>\n",
       "    </tr>\n",
       "    <tr>\n",
       "      <th>336</th>\n",
       "      <td>337</td>\n",
       "      <td>Wyatt Book</td>\n",
       "    </tr>\n",
       "    <tr>\n",
       "      <th>337</th>\n",
       "      <td>338</td>\n",
       "      <td>Yale University Press</td>\n",
       "    </tr>\n",
       "    <tr>\n",
       "      <th>338</th>\n",
       "      <td>339</td>\n",
       "      <td>Yearling</td>\n",
       "    </tr>\n",
       "    <tr>\n",
       "      <th>339</th>\n",
       "      <td>340</td>\n",
       "      <td>Yearling Books</td>\n",
       "    </tr>\n",
       "  </tbody>\n",
       "</table>\n",
       "<p>340 rows × 2 columns</p>\n",
       "</div>"
      ],
      "text/plain": [
       "     publisher_id                          publisher\n",
       "0               1                                Ace\n",
       "1               2                           Ace Book\n",
       "2               3                          Ace Books\n",
       "3               4                      Ace Hardcover\n",
       "4               5  Addison Wesley Publishing Company\n",
       "..            ...                                ...\n",
       "335           336         Workman Publishing Company\n",
       "336           337                         Wyatt Book\n",
       "337           338              Yale University Press\n",
       "338           339                           Yearling\n",
       "339           340                     Yearling Books\n",
       "\n",
       "[340 rows x 2 columns]"
      ]
     },
     "execution_count": 4,
     "metadata": {},
     "output_type": "execute_result"
    }
   ],
   "source": [
    "# таблица publishers\n",
    "query='''select *\n",
    "from publishers\n",
    "'''\n",
    "pd.io.sql.read_sql(query, con = engine) "
   ]
  },
  {
   "cell_type": "markdown",
   "metadata": {},
   "source": [
    "### Таблица publishers\n",
    "Содержит данные об издательствах:\n",
    "- publisher_id — идентификатор издательства;\n",
    "- publisher — название издательства;"
   ]
  },
  {
   "cell_type": "code",
   "execution_count": 5,
   "metadata": {
    "scrolled": true
   },
   "outputs": [
    {
     "data": {
      "text/html": [
       "<div>\n",
       "<style scoped>\n",
       "    .dataframe tbody tr th:only-of-type {\n",
       "        vertical-align: middle;\n",
       "    }\n",
       "\n",
       "    .dataframe tbody tr th {\n",
       "        vertical-align: top;\n",
       "    }\n",
       "\n",
       "    .dataframe thead th {\n",
       "        text-align: right;\n",
       "    }\n",
       "</style>\n",
       "<table border=\"1\" class=\"dataframe\">\n",
       "  <thead>\n",
       "    <tr style=\"text-align: right;\">\n",
       "      <th></th>\n",
       "      <th>rating_id</th>\n",
       "      <th>book_id</th>\n",
       "      <th>username</th>\n",
       "      <th>rating</th>\n",
       "    </tr>\n",
       "  </thead>\n",
       "  <tbody>\n",
       "    <tr>\n",
       "      <th>0</th>\n",
       "      <td>1</td>\n",
       "      <td>1</td>\n",
       "      <td>ryanfranco</td>\n",
       "      <td>4</td>\n",
       "    </tr>\n",
       "    <tr>\n",
       "      <th>1</th>\n",
       "      <td>2</td>\n",
       "      <td>1</td>\n",
       "      <td>grantpatricia</td>\n",
       "      <td>2</td>\n",
       "    </tr>\n",
       "    <tr>\n",
       "      <th>2</th>\n",
       "      <td>3</td>\n",
       "      <td>1</td>\n",
       "      <td>brandtandrea</td>\n",
       "      <td>5</td>\n",
       "    </tr>\n",
       "    <tr>\n",
       "      <th>3</th>\n",
       "      <td>4</td>\n",
       "      <td>2</td>\n",
       "      <td>lorichen</td>\n",
       "      <td>3</td>\n",
       "    </tr>\n",
       "    <tr>\n",
       "      <th>4</th>\n",
       "      <td>5</td>\n",
       "      <td>2</td>\n",
       "      <td>mariokeller</td>\n",
       "      <td>2</td>\n",
       "    </tr>\n",
       "    <tr>\n",
       "      <th>...</th>\n",
       "      <td>...</td>\n",
       "      <td>...</td>\n",
       "      <td>...</td>\n",
       "      <td>...</td>\n",
       "    </tr>\n",
       "    <tr>\n",
       "      <th>6451</th>\n",
       "      <td>6452</td>\n",
       "      <td>1000</td>\n",
       "      <td>carolrodriguez</td>\n",
       "      <td>4</td>\n",
       "    </tr>\n",
       "    <tr>\n",
       "      <th>6452</th>\n",
       "      <td>6453</td>\n",
       "      <td>1000</td>\n",
       "      <td>wendy18</td>\n",
       "      <td>4</td>\n",
       "    </tr>\n",
       "    <tr>\n",
       "      <th>6453</th>\n",
       "      <td>6454</td>\n",
       "      <td>1000</td>\n",
       "      <td>jarvispaul</td>\n",
       "      <td>5</td>\n",
       "    </tr>\n",
       "    <tr>\n",
       "      <th>6454</th>\n",
       "      <td>6455</td>\n",
       "      <td>1000</td>\n",
       "      <td>zross</td>\n",
       "      <td>2</td>\n",
       "    </tr>\n",
       "    <tr>\n",
       "      <th>6455</th>\n",
       "      <td>6456</td>\n",
       "      <td>1000</td>\n",
       "      <td>fharris</td>\n",
       "      <td>5</td>\n",
       "    </tr>\n",
       "  </tbody>\n",
       "</table>\n",
       "<p>6456 rows × 4 columns</p>\n",
       "</div>"
      ],
      "text/plain": [
       "      rating_id  book_id        username  rating\n",
       "0             1        1      ryanfranco       4\n",
       "1             2        1   grantpatricia       2\n",
       "2             3        1    brandtandrea       5\n",
       "3             4        2        lorichen       3\n",
       "4             5        2     mariokeller       2\n",
       "...         ...      ...             ...     ...\n",
       "6451       6452     1000  carolrodriguez       4\n",
       "6452       6453     1000         wendy18       4\n",
       "6453       6454     1000      jarvispaul       5\n",
       "6454       6455     1000           zross       2\n",
       "6455       6456     1000         fharris       5\n",
       "\n",
       "[6456 rows x 4 columns]"
      ]
     },
     "execution_count": 5,
     "metadata": {},
     "output_type": "execute_result"
    }
   ],
   "source": [
    "# таблица ratings\n",
    "query='''select *\n",
    "from ratings\n",
    "'''\n",
    "pd.io.sql.read_sql(query, con = engine) "
   ]
  },
  {
   "cell_type": "markdown",
   "metadata": {},
   "source": [
    "### Таблица ratings\n",
    "Содержит данные о пользовательских оценках книг:\n",
    "- rating_id — идентификатор оценки;\n",
    "- book_id — идентификатор книги;\n",
    "- username — имя пользователя, оставившего оценку;\n",
    "- rating — оценка книги."
   ]
  },
  {
   "cell_type": "code",
   "execution_count": 6,
   "metadata": {
    "scrolled": true
   },
   "outputs": [
    {
     "data": {
      "text/html": [
       "<div>\n",
       "<style scoped>\n",
       "    .dataframe tbody tr th:only-of-type {\n",
       "        vertical-align: middle;\n",
       "    }\n",
       "\n",
       "    .dataframe tbody tr th {\n",
       "        vertical-align: top;\n",
       "    }\n",
       "\n",
       "    .dataframe thead th {\n",
       "        text-align: right;\n",
       "    }\n",
       "</style>\n",
       "<table border=\"1\" class=\"dataframe\">\n",
       "  <thead>\n",
       "    <tr style=\"text-align: right;\">\n",
       "      <th></th>\n",
       "      <th>review_id</th>\n",
       "      <th>book_id</th>\n",
       "      <th>username</th>\n",
       "      <th>text</th>\n",
       "    </tr>\n",
       "  </thead>\n",
       "  <tbody>\n",
       "    <tr>\n",
       "      <th>0</th>\n",
       "      <td>1</td>\n",
       "      <td>1</td>\n",
       "      <td>brandtandrea</td>\n",
       "      <td>Mention society tell send professor analysis. ...</td>\n",
       "    </tr>\n",
       "    <tr>\n",
       "      <th>1</th>\n",
       "      <td>2</td>\n",
       "      <td>1</td>\n",
       "      <td>ryanfranco</td>\n",
       "      <td>Foot glass pretty audience hit themselves. Amo...</td>\n",
       "    </tr>\n",
       "    <tr>\n",
       "      <th>2</th>\n",
       "      <td>3</td>\n",
       "      <td>2</td>\n",
       "      <td>lorichen</td>\n",
       "      <td>Listen treat keep worry. Miss husband tax but ...</td>\n",
       "    </tr>\n",
       "    <tr>\n",
       "      <th>3</th>\n",
       "      <td>4</td>\n",
       "      <td>3</td>\n",
       "      <td>johnsonamanda</td>\n",
       "      <td>Finally month interesting blue could nature cu...</td>\n",
       "    </tr>\n",
       "    <tr>\n",
       "      <th>4</th>\n",
       "      <td>5</td>\n",
       "      <td>3</td>\n",
       "      <td>scotttamara</td>\n",
       "      <td>Nation purpose heavy give wait song will. List...</td>\n",
       "    </tr>\n",
       "    <tr>\n",
       "      <th>...</th>\n",
       "      <td>...</td>\n",
       "      <td>...</td>\n",
       "      <td>...</td>\n",
       "      <td>...</td>\n",
       "    </tr>\n",
       "    <tr>\n",
       "      <th>2788</th>\n",
       "      <td>2789</td>\n",
       "      <td>999</td>\n",
       "      <td>martinadam</td>\n",
       "      <td>Later hospital turn easy community. Fact same ...</td>\n",
       "    </tr>\n",
       "    <tr>\n",
       "      <th>2789</th>\n",
       "      <td>2790</td>\n",
       "      <td>1000</td>\n",
       "      <td>wknight</td>\n",
       "      <td>Change lose answer close pressure. Spend so now.</td>\n",
       "    </tr>\n",
       "    <tr>\n",
       "      <th>2790</th>\n",
       "      <td>2791</td>\n",
       "      <td>1000</td>\n",
       "      <td>carolrodriguez</td>\n",
       "      <td>Authority go who television entire hair guy po...</td>\n",
       "    </tr>\n",
       "    <tr>\n",
       "      <th>2791</th>\n",
       "      <td>2792</td>\n",
       "      <td>1000</td>\n",
       "      <td>wendy18</td>\n",
       "      <td>Or western offer wonder ask. More hear phone f...</td>\n",
       "    </tr>\n",
       "    <tr>\n",
       "      <th>2792</th>\n",
       "      <td>2793</td>\n",
       "      <td>1000</td>\n",
       "      <td>jarvispaul</td>\n",
       "      <td>Republican staff bit eat material measure plan...</td>\n",
       "    </tr>\n",
       "  </tbody>\n",
       "</table>\n",
       "<p>2793 rows × 4 columns</p>\n",
       "</div>"
      ],
      "text/plain": [
       "      review_id  book_id        username  \\\n",
       "0             1        1    brandtandrea   \n",
       "1             2        1      ryanfranco   \n",
       "2             3        2        lorichen   \n",
       "3             4        3   johnsonamanda   \n",
       "4             5        3     scotttamara   \n",
       "...         ...      ...             ...   \n",
       "2788       2789      999      martinadam   \n",
       "2789       2790     1000         wknight   \n",
       "2790       2791     1000  carolrodriguez   \n",
       "2791       2792     1000         wendy18   \n",
       "2792       2793     1000      jarvispaul   \n",
       "\n",
       "                                                   text  \n",
       "0     Mention society tell send professor analysis. ...  \n",
       "1     Foot glass pretty audience hit themselves. Amo...  \n",
       "2     Listen treat keep worry. Miss husband tax but ...  \n",
       "3     Finally month interesting blue could nature cu...  \n",
       "4     Nation purpose heavy give wait song will. List...  \n",
       "...                                                 ...  \n",
       "2788  Later hospital turn easy community. Fact same ...  \n",
       "2789   Change lose answer close pressure. Spend so now.  \n",
       "2790  Authority go who television entire hair guy po...  \n",
       "2791  Or western offer wonder ask. More hear phone f...  \n",
       "2792  Republican staff bit eat material measure plan...  \n",
       "\n",
       "[2793 rows x 4 columns]"
      ]
     },
     "execution_count": 6,
     "metadata": {},
     "output_type": "execute_result"
    }
   ],
   "source": [
    "# таблица reviews\n",
    "query='''select *\n",
    "from reviews\n",
    "'''\n",
    "pd.io.sql.read_sql(query, con = engine) "
   ]
  },
  {
   "cell_type": "markdown",
   "metadata": {},
   "source": [
    "\n",
    "### Таблица reviews\n",
    "Содержит данные о пользовательских обзорах:\n",
    "- review_id — идентификатор обзора;\n",
    "- book_id — идентификатор книги;\n",
    "- username — имя автора обзора;\n",
    "- text — текст обзора."
   ]
  },
  {
   "cell_type": "markdown",
   "metadata": {},
   "source": [
    "## Исследование данных"
   ]
  },
  {
   "cell_type": "markdown",
   "metadata": {},
   "source": [
    "### Посчитаем, сколько книг вышло после 1 января 2000 года;"
   ]
  },
  {
   "cell_type": "code",
   "execution_count": 7,
   "metadata": {},
   "outputs": [
    {
     "data": {
      "text/html": [
       "<div>\n",
       "<style scoped>\n",
       "    .dataframe tbody tr th:only-of-type {\n",
       "        vertical-align: middle;\n",
       "    }\n",
       "\n",
       "    .dataframe tbody tr th {\n",
       "        vertical-align: top;\n",
       "    }\n",
       "\n",
       "    .dataframe thead th {\n",
       "        text-align: right;\n",
       "    }\n",
       "</style>\n",
       "<table border=\"1\" class=\"dataframe\">\n",
       "  <thead>\n",
       "    <tr style=\"text-align: right;\">\n",
       "      <th></th>\n",
       "      <th>count</th>\n",
       "    </tr>\n",
       "  </thead>\n",
       "  <tbody>\n",
       "    <tr>\n",
       "      <th>0</th>\n",
       "      <td>819</td>\n",
       "    </tr>\n",
       "  </tbody>\n",
       "</table>\n",
       "</div>"
      ],
      "text/plain": [
       "   count\n",
       "0    819"
      ]
     },
     "execution_count": 7,
     "metadata": {},
     "output_type": "execute_result"
    }
   ],
   "source": [
    "# таблица books\n",
    "query='''\n",
    "select count(title)\n",
    "from books\n",
    "where publication_date  > '2000-01-01'\n",
    "'''\n",
    "pd.io.sql.read_sql(query, con = engine) "
   ]
  },
  {
   "cell_type": "markdown",
   "metadata": {},
   "source": [
    "Вывод поле 2000-01-01 вышла 821 книга"
   ]
  },
  {
   "cell_type": "markdown",
   "metadata": {},
   "source": [
    "### Для каждой книги посчитаем количество обзоров и среднюю оценку;"
   ]
  },
  {
   "cell_type": "code",
   "execution_count": 8,
   "metadata": {
    "scrolled": false
   },
   "outputs": [
    {
     "data": {
      "text/html": [
       "<div>\n",
       "<style scoped>\n",
       "    .dataframe tbody tr th:only-of-type {\n",
       "        vertical-align: middle;\n",
       "    }\n",
       "\n",
       "    .dataframe tbody tr th {\n",
       "        vertical-align: top;\n",
       "    }\n",
       "\n",
       "    .dataframe thead th {\n",
       "        text-align: right;\n",
       "    }\n",
       "</style>\n",
       "<table border=\"1\" class=\"dataframe\">\n",
       "  <thead>\n",
       "    <tr style=\"text-align: right;\">\n",
       "      <th></th>\n",
       "      <th>book_id</th>\n",
       "      <th>title</th>\n",
       "      <th>count</th>\n",
       "      <th>round</th>\n",
       "    </tr>\n",
       "  </thead>\n",
       "  <tbody>\n",
       "    <tr>\n",
       "      <th>0</th>\n",
       "      <td>948</td>\n",
       "      <td>Twilight (Twilight  #1)</td>\n",
       "      <td>7</td>\n",
       "      <td>3.66</td>\n",
       "    </tr>\n",
       "    <tr>\n",
       "      <th>1</th>\n",
       "      <td>302</td>\n",
       "      <td>Harry Potter and the Prisoner of Azkaban (Harr...</td>\n",
       "      <td>6</td>\n",
       "      <td>4.41</td>\n",
       "    </tr>\n",
       "    <tr>\n",
       "      <th>2</th>\n",
       "      <td>299</td>\n",
       "      <td>Harry Potter and the Chamber of Secrets (Harry...</td>\n",
       "      <td>6</td>\n",
       "      <td>4.29</td>\n",
       "    </tr>\n",
       "    <tr>\n",
       "      <th>3</th>\n",
       "      <td>656</td>\n",
       "      <td>The Book Thief</td>\n",
       "      <td>6</td>\n",
       "      <td>4.26</td>\n",
       "    </tr>\n",
       "    <tr>\n",
       "      <th>4</th>\n",
       "      <td>734</td>\n",
       "      <td>The Glass Castle</td>\n",
       "      <td>6</td>\n",
       "      <td>4.21</td>\n",
       "    </tr>\n",
       "    <tr>\n",
       "      <th>...</th>\n",
       "      <td>...</td>\n",
       "      <td>...</td>\n",
       "      <td>...</td>\n",
       "      <td>...</td>\n",
       "    </tr>\n",
       "    <tr>\n",
       "      <th>995</th>\n",
       "      <td>191</td>\n",
       "      <td>Disney's Beauty and the Beast (A Little Golden...</td>\n",
       "      <td>0</td>\n",
       "      <td>4.00</td>\n",
       "    </tr>\n",
       "    <tr>\n",
       "      <th>996</th>\n",
       "      <td>387</td>\n",
       "      <td>Leonardo's Notebooks</td>\n",
       "      <td>0</td>\n",
       "      <td>4.00</td>\n",
       "    </tr>\n",
       "    <tr>\n",
       "      <th>997</th>\n",
       "      <td>221</td>\n",
       "      <td>Essential Tales and Poems</td>\n",
       "      <td>0</td>\n",
       "      <td>4.00</td>\n",
       "    </tr>\n",
       "    <tr>\n",
       "      <th>998</th>\n",
       "      <td>83</td>\n",
       "      <td>Anne Rice's The Vampire Lestat: A Graphic Novel</td>\n",
       "      <td>0</td>\n",
       "      <td>3.67</td>\n",
       "    </tr>\n",
       "    <tr>\n",
       "      <th>999</th>\n",
       "      <td>808</td>\n",
       "      <td>The Natural Way to Draw</td>\n",
       "      <td>0</td>\n",
       "      <td>3.00</td>\n",
       "    </tr>\n",
       "  </tbody>\n",
       "</table>\n",
       "<p>1000 rows × 4 columns</p>\n",
       "</div>"
      ],
      "text/plain": [
       "     book_id                                              title  count  round\n",
       "0        948                            Twilight (Twilight  #1)      7   3.66\n",
       "1        302  Harry Potter and the Prisoner of Azkaban (Harr...      6   4.41\n",
       "2        299  Harry Potter and the Chamber of Secrets (Harry...      6   4.29\n",
       "3        656                                     The Book Thief      6   4.26\n",
       "4        734                                   The Glass Castle      6   4.21\n",
       "..       ...                                                ...    ...    ...\n",
       "995      191  Disney's Beauty and the Beast (A Little Golden...      0   4.00\n",
       "996      387                               Leonardo's Notebooks      0   4.00\n",
       "997      221                          Essential Tales and Poems      0   4.00\n",
       "998       83    Anne Rice's The Vampire Lestat: A Graphic Novel      0   3.67\n",
       "999      808                            The Natural Way to Draw      0   3.00\n",
       "\n",
       "[1000 rows x 4 columns]"
      ]
     },
     "execution_count": 8,
     "metadata": {},
     "output_type": "execute_result"
    }
   ],
   "source": [
    "query='''\n",
    "select b.book_id, b.title, count(distinct review_id), round(avg(rating),2)\n",
    "from books as b\n",
    "full outer join reviews as re on b.book_id=re.book_id\n",
    "join ratings as ra on b.book_id=ra.book_id\n",
    "group by b.book_id\n",
    "order by 3 desc,4 desc \n",
    "'''\n",
    "pd.io.sql.read_sql(query, con = engine)"
   ]
  },
  {
   "cell_type": "markdown",
   "metadata": {},
   "source": [
    "Вывод: для каждой книги нашли количество обзоров и среднюю оценку"
   ]
  },
  {
   "cell_type": "markdown",
   "metadata": {},
   "source": [
    "### Определите издательство, которое выпустило наибольшее число книг толще 50 страниц — так вы исключите из анализа брошюры;"
   ]
  },
  {
   "cell_type": "code",
   "execution_count": 9,
   "metadata": {},
   "outputs": [
    {
     "data": {
      "text/html": [
       "<div>\n",
       "<style scoped>\n",
       "    .dataframe tbody tr th:only-of-type {\n",
       "        vertical-align: middle;\n",
       "    }\n",
       "\n",
       "    .dataframe tbody tr th {\n",
       "        vertical-align: top;\n",
       "    }\n",
       "\n",
       "    .dataframe thead th {\n",
       "        text-align: right;\n",
       "    }\n",
       "</style>\n",
       "<table border=\"1\" class=\"dataframe\">\n",
       "  <thead>\n",
       "    <tr style=\"text-align: right;\">\n",
       "      <th></th>\n",
       "      <th>publisher</th>\n",
       "      <th>count</th>\n",
       "    </tr>\n",
       "  </thead>\n",
       "  <tbody>\n",
       "    <tr>\n",
       "      <th>0</th>\n",
       "      <td>Penguin Books</td>\n",
       "      <td>42</td>\n",
       "    </tr>\n",
       "  </tbody>\n",
       "</table>\n",
       "</div>"
      ],
      "text/plain": [
       "       publisher  count\n",
       "0  Penguin Books     42"
      ]
     },
     "execution_count": 9,
     "metadata": {},
     "output_type": "execute_result"
    }
   ],
   "source": [
    "query='''\n",
    "select publisher, count(b.book_id)\n",
    "from books as b\n",
    "full outer join publishers as p on b.publisher_id=p.publisher_id\n",
    "where num_pages > 50\n",
    "group by publisher\n",
    "order by 2 desc\n",
    "limit 1\n",
    "'''\n",
    "pd.io.sql.read_sql(query, con = engine) "
   ]
  },
  {
   "cell_type": "markdown",
   "metadata": {},
   "source": [
    "Вывод: Penguin Books выпустило 42 книги"
   ]
  },
  {
   "cell_type": "markdown",
   "metadata": {},
   "source": [
    "### Определите автора с самой высокой средней оценкой книг — учитывайте только книги с 50 и более оценками;"
   ]
  },
  {
   "cell_type": "code",
   "execution_count": 10,
   "metadata": {
    "scrolled": true
   },
   "outputs": [
    {
     "data": {
      "text/html": [
       "<div>\n",
       "<style scoped>\n",
       "    .dataframe tbody tr th:only-of-type {\n",
       "        vertical-align: middle;\n",
       "    }\n",
       "\n",
       "    .dataframe tbody tr th {\n",
       "        vertical-align: top;\n",
       "    }\n",
       "\n",
       "    .dataframe thead th {\n",
       "        text-align: right;\n",
       "    }\n",
       "</style>\n",
       "<table border=\"1\" class=\"dataframe\">\n",
       "  <thead>\n",
       "    <tr style=\"text-align: right;\">\n",
       "      <th></th>\n",
       "      <th>author</th>\n",
       "      <th>round</th>\n",
       "    </tr>\n",
       "  </thead>\n",
       "  <tbody>\n",
       "    <tr>\n",
       "      <th>0</th>\n",
       "      <td>J.K. Rowling/Mary GrandPré</td>\n",
       "      <td>4.287</td>\n",
       "    </tr>\n",
       "  </tbody>\n",
       "</table>\n",
       "</div>"
      ],
      "text/plain": [
       "                       author  round\n",
       "0  J.K. Rowling/Mary GrandPré  4.287"
      ]
     },
     "execution_count": 10,
     "metadata": {},
     "output_type": "execute_result"
    }
   ],
   "source": [
    "query='''\n",
    "select author, round(avg(ra.rating),3)\n",
    "from authors as a\n",
    "full outer join books as b on a.author_id=b.author_id\n",
    "join ratings as ra on b.book_id=ra.book_id\n",
    "where b.book_id in\n",
    "     (select book_id\n",
    "     from ratings as ra\n",
    "     group by book_id\n",
    "     having count(rating) >=50)\n",
    "group by author\n",
    "order by 2 desc\n",
    "limit 1\n",
    "     \n",
    "'''\n",
    "pd.io.sql.read_sql(query, con = engine)"
   ]
  },
  {
   "cell_type": "markdown",
   "metadata": {},
   "source": [
    "Вывод: автор с самой высокой оценкой J.K. Rowling/Mary GrandPré, рейтинг 4.287"
   ]
  },
  {
   "cell_type": "markdown",
   "metadata": {},
   "source": [
    "### Посчитайте среднее количество обзоров от пользователей, которые поставили больше 50 оценок."
   ]
  },
  {
   "cell_type": "code",
   "execution_count": 11,
   "metadata": {},
   "outputs": [
    {
     "data": {
      "text/html": [
       "<div>\n",
       "<style scoped>\n",
       "    .dataframe tbody tr th:only-of-type {\n",
       "        vertical-align: middle;\n",
       "    }\n",
       "\n",
       "    .dataframe tbody tr th {\n",
       "        vertical-align: top;\n",
       "    }\n",
       "\n",
       "    .dataframe thead th {\n",
       "        text-align: right;\n",
       "    }\n",
       "</style>\n",
       "<table border=\"1\" class=\"dataframe\">\n",
       "  <thead>\n",
       "    <tr style=\"text-align: right;\">\n",
       "      <th></th>\n",
       "      <th>avg</th>\n",
       "    </tr>\n",
       "  </thead>\n",
       "  <tbody>\n",
       "    <tr>\n",
       "      <th>0</th>\n",
       "      <td>24.333333</td>\n",
       "    </tr>\n",
       "  </tbody>\n",
       "</table>\n",
       "</div>"
      ],
      "text/plain": [
       "         avg\n",
       "0  24.333333"
      ]
     },
     "execution_count": 11,
     "metadata": {},
     "output_type": "execute_result"
    }
   ],
   "source": [
    "query='''\n",
    "select avg(count)\n",
    "from\n",
    "   (select username,  count(review_id) as count\n",
    "    from reviews\n",
    "    where username in \n",
    "         (select username\n",
    "          from ratings\n",
    "          group by username\n",
    "          having count(rating_id) > 50)\n",
    "          group by username) as t\n",
    "\n",
    "\n",
    "\n",
    "'''\n",
    "pd.io.sql.read_sql(query, con = engine) "
   ]
  },
  {
   "cell_type": "markdown",
   "metadata": {},
   "source": [
    "Вывод: среднее количество обзоров от пользователей, которые поставили больше 50 оценок равно 24,3"
   ]
  },
  {
   "cell_type": "markdown",
   "metadata": {},
   "source": [
    "## Обший вывод: "
   ]
  },
  {
   "cell_type": "markdown",
   "metadata": {},
   "source": [
    "Мы помотрели базу данных, какие входят таблицы и значения каждого столбца. \n",
    "Ответили на вопросы задания:\n",
    "- Посчитайте, сколько книг вышло после 1 января 2000 года;\n",
    "- Для каждой книги посчитайте количество обзоров и среднюю оценку;\n",
    "- Определите издательство, которое выпустило наибольшее число книг толще 50 страниц — так вы исключите из анализа брошюры;\n",
    "- Определите автора с самой высокой средней оценкой книг — учитывайте только книги с 50 и более оценками;\n",
    "- Посчитайте среднее количество обзоров от пользователей, которые поставили больше 50 оценок."
   ]
  },
  {
   "cell_type": "code",
   "execution_count": null,
   "metadata": {},
   "outputs": [],
   "source": []
  }
 ],
 "metadata": {
  "ExecuteTimeLog": [
   {
    "duration": 20050,
    "start_time": "2023-05-10T10:19:20.678Z"
   },
   {
    "duration": 80,
    "start_time": "2023-05-10T10:19:40.730Z"
   },
   {
    "duration": 3,
    "start_time": "2023-05-10T10:22:35.337Z"
   },
   {
    "duration": 346,
    "start_time": "2023-05-10T10:22:35.734Z"
   },
   {
    "duration": 112,
    "start_time": "2023-05-10T10:23:04.525Z"
   },
   {
    "duration": 112,
    "start_time": "2023-05-10T10:24:01.783Z"
   },
   {
    "duration": 120,
    "start_time": "2023-05-10T10:25:16.401Z"
   },
   {
    "duration": 82,
    "start_time": "2023-05-10T10:25:16.856Z"
   },
   {
    "duration": 89,
    "start_time": "2023-05-10T10:25:17.205Z"
   },
   {
    "duration": 123,
    "start_time": "2023-05-10T10:25:17.481Z"
   },
   {
    "duration": 96,
    "start_time": "2023-05-10T10:25:17.810Z"
   },
   {
    "duration": 112,
    "start_time": "2023-05-10T10:28:07.197Z"
   },
   {
    "duration": 78,
    "start_time": "2023-05-10T10:28:07.592Z"
   },
   {
    "duration": 76,
    "start_time": "2023-05-10T10:28:07.956Z"
   },
   {
    "duration": 140,
    "start_time": "2023-05-10T10:28:08.322Z"
   },
   {
    "duration": 101,
    "start_time": "2023-05-10T10:28:08.676Z"
   },
   {
    "duration": 11694,
    "start_time": "2023-05-10T10:29:18.982Z"
   },
   {
    "duration": 319,
    "start_time": "2023-05-10T10:29:30.679Z"
   },
   {
    "duration": 96,
    "start_time": "2023-05-10T10:29:31.000Z"
   },
   {
    "duration": 84,
    "start_time": "2023-05-10T10:29:31.099Z"
   },
   {
    "duration": 196,
    "start_time": "2023-05-10T10:29:31.184Z"
   },
   {
    "duration": 104,
    "start_time": "2023-05-10T10:29:31.382Z"
   },
   {
    "duration": 115,
    "start_time": "2023-05-10T10:31:25.543Z"
   },
   {
    "duration": 294,
    "start_time": "2023-05-10T10:35:12.810Z"
   },
   {
    "duration": 175,
    "start_time": "2023-05-10T10:35:47.098Z"
   },
   {
    "duration": 123,
    "start_time": "2023-05-10T10:36:26.085Z"
   },
   {
    "duration": 72,
    "start_time": "2023-05-10T10:37:40.260Z"
   },
   {
    "duration": 155,
    "start_time": "2023-05-10T10:41:31.830Z"
   },
   {
    "duration": 129,
    "start_time": "2023-05-10T10:42:18.076Z"
   },
   {
    "duration": 134,
    "start_time": "2023-05-10T10:42:46.523Z"
   },
   {
    "duration": 404,
    "start_time": "2023-05-10T10:44:26.281Z"
   },
   {
    "duration": 401,
    "start_time": "2023-05-10T10:45:07.200Z"
   },
   {
    "duration": 249,
    "start_time": "2023-05-10T10:46:25.997Z"
   },
   {
    "duration": 107,
    "start_time": "2023-05-10T10:46:38.382Z"
   },
   {
    "duration": 101,
    "start_time": "2023-05-10T10:48:33.398Z"
   },
   {
    "duration": 111,
    "start_time": "2023-05-10T10:53:59.329Z"
   },
   {
    "duration": 99,
    "start_time": "2023-05-10T10:54:29.088Z"
   },
   {
    "duration": 114,
    "start_time": "2023-05-10T10:56:47.314Z"
   },
   {
    "duration": 122,
    "start_time": "2023-05-10T10:57:19.438Z"
   },
   {
    "duration": 102,
    "start_time": "2023-05-10T10:58:29.058Z"
   },
   {
    "duration": 176,
    "start_time": "2023-05-10T10:59:21.358Z"
   },
   {
    "duration": 202,
    "start_time": "2023-05-10T10:59:45.186Z"
   },
   {
    "duration": 107,
    "start_time": "2023-05-10T10:59:49.430Z"
   },
   {
    "duration": 284,
    "start_time": "2023-05-10T11:00:09.489Z"
   },
   {
    "duration": 392,
    "start_time": "2023-05-10T11:00:25.611Z"
   },
   {
    "duration": 107,
    "start_time": "2023-05-10T11:00:42.387Z"
   },
   {
    "duration": 111,
    "start_time": "2023-05-10T11:01:30.757Z"
   },
   {
    "duration": 275,
    "start_time": "2023-05-10T11:01:48.114Z"
   },
   {
    "duration": 105,
    "start_time": "2023-05-10T11:02:29.779Z"
   },
   {
    "duration": 134,
    "start_time": "2023-05-10T11:04:14.242Z"
   },
   {
    "duration": 105,
    "start_time": "2023-05-10T11:06:47.048Z"
   },
   {
    "duration": 112,
    "start_time": "2023-05-10T11:07:03.459Z"
   },
   {
    "duration": 103,
    "start_time": "2023-05-10T11:09:08.126Z"
   },
   {
    "duration": 238,
    "start_time": "2023-05-10T11:11:07.349Z"
   },
   {
    "duration": 198,
    "start_time": "2023-05-10T11:11:27.573Z"
   },
   {
    "duration": 197,
    "start_time": "2023-05-10T11:11:37.570Z"
   },
   {
    "duration": 389,
    "start_time": "2023-05-10T11:11:51.125Z"
   },
   {
    "duration": 181,
    "start_time": "2023-05-10T11:12:29.671Z"
   },
   {
    "duration": 372,
    "start_time": "2023-05-10T11:12:53.179Z"
   },
   {
    "duration": 435,
    "start_time": "2023-05-10T11:13:11.460Z"
   },
   {
    "duration": 209,
    "start_time": "2023-05-10T11:13:47.460Z"
   },
   {
    "duration": 427,
    "start_time": "2023-05-10T11:13:59.903Z"
   },
   {
    "duration": 115,
    "start_time": "2023-05-10T11:14:06.474Z"
   },
   {
    "duration": 113,
    "start_time": "2023-05-10T11:14:22.563Z"
   },
   {
    "duration": 87,
    "start_time": "2023-05-10T11:19:48.403Z"
   },
   {
    "duration": 124,
    "start_time": "2023-05-10T11:21:38.872Z"
   },
   {
    "duration": 149,
    "start_time": "2023-05-10T11:21:46.898Z"
   },
   {
    "duration": 111,
    "start_time": "2023-05-10T11:23:25.412Z"
   },
   {
    "duration": 185,
    "start_time": "2023-05-10T11:23:58.538Z"
   },
   {
    "duration": 347,
    "start_time": "2023-05-10T11:24:25.246Z"
   },
   {
    "duration": 202,
    "start_time": "2023-05-10T11:25:31.494Z"
   },
   {
    "duration": 93,
    "start_time": "2023-05-10T11:26:09.372Z"
   },
   {
    "duration": 86,
    "start_time": "2023-05-10T11:26:16.905Z"
   },
   {
    "duration": 80,
    "start_time": "2023-05-10T11:26:32.203Z"
   },
   {
    "duration": 510,
    "start_time": "2023-05-10T11:31:33.212Z"
   },
   {
    "duration": 94,
    "start_time": "2023-05-10T11:34:00.848Z"
   },
   {
    "duration": 79,
    "start_time": "2023-05-10T11:34:14.858Z"
   },
   {
    "duration": 184,
    "start_time": "2023-05-10T11:34:55.695Z"
   },
   {
    "duration": 96,
    "start_time": "2023-05-10T11:35:20.784Z"
   },
   {
    "duration": 107,
    "start_time": "2023-05-10T11:36:27.660Z"
   },
   {
    "duration": 103,
    "start_time": "2023-05-10T11:36:32.180Z"
   },
   {
    "duration": 102,
    "start_time": "2023-05-10T11:37:04.359Z"
   },
   {
    "duration": 98,
    "start_time": "2023-05-10T11:37:08.667Z"
   },
   {
    "duration": 100,
    "start_time": "2023-05-10T11:37:46.281Z"
   },
   {
    "duration": 88,
    "start_time": "2023-05-10T11:38:17.888Z"
   },
   {
    "duration": 96,
    "start_time": "2023-05-10T11:38:27.751Z"
   },
   {
    "duration": 91,
    "start_time": "2023-05-10T11:39:19.886Z"
   },
   {
    "duration": 84,
    "start_time": "2023-05-10T11:39:35.679Z"
   },
   {
    "duration": 89,
    "start_time": "2023-05-10T11:39:55.085Z"
   },
   {
    "duration": 271,
    "start_time": "2023-05-10T11:40:59.699Z"
   },
   {
    "duration": 176,
    "start_time": "2023-05-10T11:41:12.707Z"
   },
   {
    "duration": 90,
    "start_time": "2023-05-10T11:42:26.715Z"
   },
   {
    "duration": 91,
    "start_time": "2023-05-10T11:43:34.482Z"
   },
   {
    "duration": 90,
    "start_time": "2023-05-10T11:43:44.281Z"
   },
   {
    "duration": 85,
    "start_time": "2023-05-10T11:43:47.279Z"
   },
   {
    "duration": 81,
    "start_time": "2023-05-10T11:44:42.738Z"
   },
   {
    "duration": 89,
    "start_time": "2023-05-10T11:45:19.828Z"
   },
   {
    "duration": 268,
    "start_time": "2023-05-10T11:47:18.189Z"
   },
   {
    "duration": 198,
    "start_time": "2023-05-10T11:48:06.685Z"
   },
   {
    "duration": 158,
    "start_time": "2023-05-10T11:53:59.941Z"
   },
   {
    "duration": 83,
    "start_time": "2023-05-10T11:54:35.286Z"
   },
   {
    "duration": 80,
    "start_time": "2023-05-10T11:54:54.037Z"
   },
   {
    "duration": 95,
    "start_time": "2023-05-10T11:56:21.885Z"
   },
   {
    "duration": 98,
    "start_time": "2023-05-10T11:56:25.391Z"
   },
   {
    "duration": 169,
    "start_time": "2023-05-10T11:57:20.406Z"
   },
   {
    "duration": 99,
    "start_time": "2023-05-10T12:00:16.976Z"
   },
   {
    "duration": 95,
    "start_time": "2023-05-10T12:01:32.131Z"
   },
   {
    "duration": 89,
    "start_time": "2023-05-10T12:01:45.396Z"
   },
   {
    "duration": 85,
    "start_time": "2023-05-10T12:03:42.628Z"
   },
   {
    "duration": 84,
    "start_time": "2023-05-10T12:03:54.733Z"
   },
   {
    "duration": 87,
    "start_time": "2023-05-10T12:04:50.079Z"
   },
   {
    "duration": 140,
    "start_time": "2023-05-10T12:11:15.883Z"
   },
   {
    "duration": 82,
    "start_time": "2023-05-10T12:12:38.843Z"
   },
   {
    "duration": 87,
    "start_time": "2023-05-10T12:12:51.615Z"
   },
   {
    "duration": 90,
    "start_time": "2023-05-10T12:13:29.986Z"
   },
   {
    "duration": 159,
    "start_time": "2023-05-10T12:14:31.799Z"
   },
   {
    "duration": 409,
    "start_time": "2023-05-10T12:14:46.517Z"
   },
   {
    "duration": 84,
    "start_time": "2023-05-10T12:14:59.708Z"
   },
   {
    "duration": 152,
    "start_time": "2023-05-10T12:15:35.659Z"
   },
   {
    "duration": 85,
    "start_time": "2023-05-10T12:16:19.592Z"
   },
   {
    "duration": 133,
    "start_time": "2023-05-10T12:16:29.284Z"
   },
   {
    "duration": 99,
    "start_time": "2023-05-10T12:17:11.035Z"
   },
   {
    "duration": 82,
    "start_time": "2023-05-10T12:19:00.309Z"
   },
   {
    "duration": 96,
    "start_time": "2023-05-10T12:19:51.883Z"
   },
   {
    "duration": 82,
    "start_time": "2023-05-10T12:20:28.880Z"
   },
   {
    "duration": 92,
    "start_time": "2023-05-10T12:20:49.283Z"
   },
   {
    "duration": 76,
    "start_time": "2023-05-10T12:21:11.658Z"
   },
   {
    "duration": 26611,
    "start_time": "2023-05-10T12:23:06.797Z"
   },
   {
    "duration": 325,
    "start_time": "2023-05-10T12:23:33.411Z"
   },
   {
    "duration": 90,
    "start_time": "2023-05-10T12:23:33.739Z"
   },
   {
    "duration": 86,
    "start_time": "2023-05-10T12:23:33.832Z"
   },
   {
    "duration": 113,
    "start_time": "2023-05-10T12:23:33.920Z"
   },
   {
    "duration": 95,
    "start_time": "2023-05-10T12:23:34.035Z"
   },
   {
    "duration": 85,
    "start_time": "2023-05-10T12:23:34.132Z"
   },
   {
    "duration": 102,
    "start_time": "2023-05-10T12:23:34.220Z"
   },
   {
    "duration": 84,
    "start_time": "2023-05-10T12:23:34.325Z"
   },
   {
    "duration": 88,
    "start_time": "2023-05-10T12:23:34.413Z"
   },
   {
    "duration": 78,
    "start_time": "2023-05-10T12:23:34.504Z"
   },
   {
    "duration": 154,
    "start_time": "2023-05-10T12:27:24.858Z"
   },
   {
    "duration": 26758,
    "start_time": "2023-05-10T12:28:11.831Z"
   },
   {
    "duration": 316,
    "start_time": "2023-05-10T12:28:38.592Z"
   },
   {
    "duration": 87,
    "start_time": "2023-05-10T12:28:38.911Z"
   },
   {
    "duration": 89,
    "start_time": "2023-05-10T12:28:39.001Z"
   },
   {
    "duration": 120,
    "start_time": "2023-05-10T12:28:39.092Z"
   },
   {
    "duration": 117,
    "start_time": "2023-05-10T12:28:39.214Z"
   },
   {
    "duration": 79,
    "start_time": "2023-05-10T12:28:39.334Z"
   },
   {
    "duration": 109,
    "start_time": "2023-05-10T12:28:39.415Z"
   },
   {
    "duration": 75,
    "start_time": "2023-05-10T12:28:39.527Z"
   },
   {
    "duration": 88,
    "start_time": "2023-05-10T12:28:39.605Z"
   },
   {
    "duration": 94,
    "start_time": "2023-05-10T12:28:39.695Z"
   },
   {
    "duration": 305,
    "start_time": "2023-05-10T12:31:57.401Z"
   },
   {
    "duration": 12188,
    "start_time": "2023-05-10T13:45:37.801Z"
   },
   {
    "duration": 59,
    "start_time": "2023-05-10T13:45:49.991Z"
   },
   {
    "duration": 14,
    "start_time": "2023-05-10T13:45:50.052Z"
   },
   {
    "duration": 46,
    "start_time": "2023-05-10T13:45:50.069Z"
   },
   {
    "duration": 43,
    "start_time": "2023-05-10T13:45:50.117Z"
   },
   {
    "duration": 19,
    "start_time": "2023-05-10T13:45:50.161Z"
   },
   {
    "duration": 26,
    "start_time": "2023-05-10T13:45:50.183Z"
   },
   {
    "duration": 63,
    "start_time": "2023-05-10T13:45:50.211Z"
   },
   {
    "duration": 14,
    "start_time": "2023-05-10T13:45:50.277Z"
   },
   {
    "duration": 17,
    "start_time": "2023-05-10T13:45:50.295Z"
   },
   {
    "duration": 14,
    "start_time": "2023-05-10T13:45:50.314Z"
   },
   {
    "duration": 14624,
    "start_time": "2023-05-11T13:46:28.739Z"
   },
   {
    "duration": 122,
    "start_time": "2023-05-11T13:46:43.366Z"
   },
   {
    "duration": 55,
    "start_time": "2023-05-11T13:46:43.490Z"
   },
   {
    "duration": 20,
    "start_time": "2023-05-11T13:46:43.551Z"
   },
   {
    "duration": 102,
    "start_time": "2023-05-11T13:46:43.573Z"
   },
   {
    "duration": 70,
    "start_time": "2023-05-11T13:46:43.677Z"
   },
   {
    "duration": 19,
    "start_time": "2023-05-11T13:46:43.749Z"
   },
   {
    "duration": 86,
    "start_time": "2023-05-11T13:46:43.770Z"
   },
   {
    "duration": 12,
    "start_time": "2023-05-11T13:46:43.858Z"
   },
   {
    "duration": 94,
    "start_time": "2023-05-11T13:46:43.873Z"
   },
   {
    "duration": 13,
    "start_time": "2023-05-11T13:46:43.969Z"
   }
  ],
  "kernelspec": {
   "display_name": "Python 3 (ipykernel)",
   "language": "python",
   "name": "python3"
  },
  "language_info": {
   "codemirror_mode": {
    "name": "ipython",
    "version": 3
   },
   "file_extension": ".py",
   "mimetype": "text/x-python",
   "name": "python",
   "nbconvert_exporter": "python",
   "pygments_lexer": "ipython3",
   "version": "3.9.5"
  },
  "toc": {
   "base_numbering": 1,
   "nav_menu": {},
   "number_sections": true,
   "sideBar": true,
   "skip_h1_title": true,
   "title_cell": "Table of Contents",
   "title_sidebar": "Contents",
   "toc_cell": false,
   "toc_position": {},
   "toc_section_display": true,
   "toc_window_display": true
  }
 },
 "nbformat": 4,
 "nbformat_minor": 2
}
