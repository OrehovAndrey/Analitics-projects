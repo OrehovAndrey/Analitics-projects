{
 "cells": [
  {
   "cell_type": "markdown",
   "metadata": {},
   "source": [
    "# Вводная часть:\n",
    "В нашем проекте будет 2 части. В Части 1. Приоритизация гипотез, у нас будет 9 гипотез, по которым найдем ICE и RICE и посмотрим на разницу и узнаем почему гипотезы с мах ICE может быть не мах RICE. Во 2 Части проекта Анализ A/B-теста. Проанализируем A/B-тест сделаем графики: кумулятивной выручки по группам, кумулятивного среднего чека по группам, относительного изменения кумулятивного среднего чека группы B к группе A, кумулятивного среднего количества заказов на посетителя по группам, относительного изменения кумулятивного среднего количества заказов на посетителя группы B к группе A, точечный график количества заказов по пользователям, точечный график стоимостей заказов. Посчитаем 95 и 99 процентиль количества заказов на пользователя и стоимости заказов. Также посчитаем: статистическую значимость различий в среднем количестве заказов на посетителя между группами по \"сырым\" и по \"очищенным\" данным;  статистическую значимость различий в среднем чеке заказа между группами по \"сырым\" и по \"очищенным\" данным. И на основании полученных данных примем решение о результатах теста (есть различие между группами, нет различий между группами или надо продолжить тест)"
   ]
  },
  {
   "cell_type": "code",
   "execution_count": 1,
   "metadata": {},
   "outputs": [],
   "source": [
    "import pandas as pd\n",
    "import scipy.stats as stats\n",
    "import datetime as dt\n",
    "import numpy as np\n",
    "import matplotlib.pyplot as plt\n",
    "import warnings\n",
    "warnings.simplefilter('ignore')"
   ]
  },
  {
   "cell_type": "markdown",
   "metadata": {},
   "source": [
    "#   Часть 1. Приоритизация гипотез."
   ]
  },
  {
   "cell_type": "code",
   "execution_count": 2,
   "metadata": {},
   "outputs": [],
   "source": [
    "#загразку данных можно через try-except\n",
    "hypothesis = pd.read_csv('/datasets/hypothesis.csv', sep=',')"
   ]
  },
  {
   "cell_type": "code",
   "execution_count": 3,
   "metadata": {},
   "outputs": [],
   "source": [
    "#колонки к нижнему регистру\n",
    "hypothesis.columns=hypothesis.columns.str.lower()"
   ]
  },
  {
   "cell_type": "markdown",
   "metadata": {},
   "source": [
    "Hypothesis — краткое описание гипотезы;\n",
    "Reach — охват пользователей по 10-балльной шкале;\n",
    "Impact — влияние на пользователей по 10-балльной шкале;\n",
    "Confidence — уверенность в гипотезе по 10-балльной шкале;\n",
    "Efforts — затраты ресурсов на проверку гипотезы по 10-балльной шкале. Чем больше значение Efforts, тем дороже проверка гипотезы."
   ]
  },
  {
   "cell_type": "markdown",
   "metadata": {},
   "source": [
    "## Применим фреймворк ICE для приоритизации гипотез. Отсортируем их по убыванию приоритета."
   ]
  },
  {
   "cell_type": "code",
   "execution_count": 4,
   "metadata": {},
   "outputs": [
    {
     "data": {
      "text/html": [
       "<div>\n",
       "<style scoped>\n",
       "    .dataframe tbody tr th:only-of-type {\n",
       "        vertical-align: middle;\n",
       "    }\n",
       "\n",
       "    .dataframe tbody tr th {\n",
       "        vertical-align: top;\n",
       "    }\n",
       "\n",
       "    .dataframe thead th {\n",
       "        text-align: right;\n",
       "    }\n",
       "</style>\n",
       "<table border=\"1\" class=\"dataframe\">\n",
       "  <thead>\n",
       "    <tr style=\"text-align: right;\">\n",
       "      <th></th>\n",
       "      <th>hypothesis</th>\n",
       "      <th>reach</th>\n",
       "      <th>impact</th>\n",
       "      <th>confidence</th>\n",
       "      <th>efforts</th>\n",
       "      <th>ice</th>\n",
       "    </tr>\n",
       "  </thead>\n",
       "  <tbody>\n",
       "    <tr>\n",
       "      <th>0</th>\n",
       "      <td>Добавить два новых канала привлечения трафика,...</td>\n",
       "      <td>3</td>\n",
       "      <td>10</td>\n",
       "      <td>8</td>\n",
       "      <td>6</td>\n",
       "      <td>13.333333</td>\n",
       "    </tr>\n",
       "    <tr>\n",
       "      <th>1</th>\n",
       "      <td>Запустить собственную службу доставки, что сок...</td>\n",
       "      <td>2</td>\n",
       "      <td>5</td>\n",
       "      <td>4</td>\n",
       "      <td>10</td>\n",
       "      <td>2.000000</td>\n",
       "    </tr>\n",
       "    <tr>\n",
       "      <th>2</th>\n",
       "      <td>Добавить блоки рекомендаций товаров на сайт ин...</td>\n",
       "      <td>8</td>\n",
       "      <td>3</td>\n",
       "      <td>7</td>\n",
       "      <td>3</td>\n",
       "      <td>7.000000</td>\n",
       "    </tr>\n",
       "    <tr>\n",
       "      <th>3</th>\n",
       "      <td>Изменить структура категорий, что увеличит кон...</td>\n",
       "      <td>8</td>\n",
       "      <td>3</td>\n",
       "      <td>3</td>\n",
       "      <td>8</td>\n",
       "      <td>1.125000</td>\n",
       "    </tr>\n",
       "    <tr>\n",
       "      <th>4</th>\n",
       "      <td>Изменить цвет фона главной страницы, чтобы уве...</td>\n",
       "      <td>3</td>\n",
       "      <td>1</td>\n",
       "      <td>1</td>\n",
       "      <td>1</td>\n",
       "      <td>1.000000</td>\n",
       "    </tr>\n",
       "    <tr>\n",
       "      <th>5</th>\n",
       "      <td>Добавить страницу отзывов клиентов о магазине,...</td>\n",
       "      <td>3</td>\n",
       "      <td>2</td>\n",
       "      <td>2</td>\n",
       "      <td>3</td>\n",
       "      <td>1.333333</td>\n",
       "    </tr>\n",
       "    <tr>\n",
       "      <th>6</th>\n",
       "      <td>Показать на главной странице баннеры с актуаль...</td>\n",
       "      <td>5</td>\n",
       "      <td>3</td>\n",
       "      <td>8</td>\n",
       "      <td>3</td>\n",
       "      <td>8.000000</td>\n",
       "    </tr>\n",
       "    <tr>\n",
       "      <th>7</th>\n",
       "      <td>Добавить форму подписки на все основные страни...</td>\n",
       "      <td>10</td>\n",
       "      <td>7</td>\n",
       "      <td>8</td>\n",
       "      <td>5</td>\n",
       "      <td>11.200000</td>\n",
       "    </tr>\n",
       "    <tr>\n",
       "      <th>8</th>\n",
       "      <td>Запустить акцию, дающую скидку на товар в день...</td>\n",
       "      <td>1</td>\n",
       "      <td>9</td>\n",
       "      <td>9</td>\n",
       "      <td>5</td>\n",
       "      <td>16.200000</td>\n",
       "    </tr>\n",
       "  </tbody>\n",
       "</table>\n",
       "</div>"
      ],
      "text/plain": [
       "                                          hypothesis  reach  impact  \\\n",
       "0  Добавить два новых канала привлечения трафика,...      3      10   \n",
       "1  Запустить собственную службу доставки, что сок...      2       5   \n",
       "2  Добавить блоки рекомендаций товаров на сайт ин...      8       3   \n",
       "3  Изменить структура категорий, что увеличит кон...      8       3   \n",
       "4  Изменить цвет фона главной страницы, чтобы уве...      3       1   \n",
       "5  Добавить страницу отзывов клиентов о магазине,...      3       2   \n",
       "6  Показать на главной странице баннеры с актуаль...      5       3   \n",
       "7  Добавить форму подписки на все основные страни...     10       7   \n",
       "8  Запустить акцию, дающую скидку на товар в день...      1       9   \n",
       "\n",
       "   confidence  efforts        ice  \n",
       "0           8        6  13.333333  \n",
       "1           4       10   2.000000  \n",
       "2           7        3   7.000000  \n",
       "3           3        8   1.125000  \n",
       "4           1        1   1.000000  \n",
       "5           2        3   1.333333  \n",
       "6           8        3   8.000000  \n",
       "7           8        5  11.200000  \n",
       "8           9        5  16.200000  "
      ]
     },
     "execution_count": 4,
     "metadata": {},
     "output_type": "execute_result"
    }
   ],
   "source": [
    "hypothesis['ice']=hypothesis['impact']*hypothesis['confidence']/hypothesis['efforts']\n",
    "hypothesis\n"
   ]
  },
  {
   "cell_type": "code",
   "execution_count": 5,
   "metadata": {
    "scrolled": true
   },
   "outputs": [
    {
     "data": {
      "text/html": [
       "<div>\n",
       "<style scoped>\n",
       "    .dataframe tbody tr th:only-of-type {\n",
       "        vertical-align: middle;\n",
       "    }\n",
       "\n",
       "    .dataframe tbody tr th {\n",
       "        vertical-align: top;\n",
       "    }\n",
       "\n",
       "    .dataframe thead th {\n",
       "        text-align: right;\n",
       "    }\n",
       "</style>\n",
       "<table border=\"1\" class=\"dataframe\">\n",
       "  <thead>\n",
       "    <tr style=\"text-align: right;\">\n",
       "      <th></th>\n",
       "      <th>hypothesis</th>\n",
       "      <th>reach</th>\n",
       "      <th>impact</th>\n",
       "      <th>confidence</th>\n",
       "      <th>efforts</th>\n",
       "      <th>ice</th>\n",
       "    </tr>\n",
       "  </thead>\n",
       "  <tbody>\n",
       "    <tr>\n",
       "      <th>0</th>\n",
       "      <td>Добавить два новых канала привлечения трафика,...</td>\n",
       "      <td>3</td>\n",
       "      <td>10</td>\n",
       "      <td>8</td>\n",
       "      <td>6</td>\n",
       "      <td>13.333333</td>\n",
       "    </tr>\n",
       "    <tr>\n",
       "      <th>1</th>\n",
       "      <td>Запустить собственную службу доставки, что сок...</td>\n",
       "      <td>2</td>\n",
       "      <td>5</td>\n",
       "      <td>4</td>\n",
       "      <td>10</td>\n",
       "      <td>2.000000</td>\n",
       "    </tr>\n",
       "    <tr>\n",
       "      <th>2</th>\n",
       "      <td>Добавить блоки рекомендаций товаров на сайт ин...</td>\n",
       "      <td>8</td>\n",
       "      <td>3</td>\n",
       "      <td>7</td>\n",
       "      <td>3</td>\n",
       "      <td>7.000000</td>\n",
       "    </tr>\n",
       "    <tr>\n",
       "      <th>3</th>\n",
       "      <td>Изменить структура категорий, что увеличит кон...</td>\n",
       "      <td>8</td>\n",
       "      <td>3</td>\n",
       "      <td>3</td>\n",
       "      <td>8</td>\n",
       "      <td>1.125000</td>\n",
       "    </tr>\n",
       "    <tr>\n",
       "      <th>4</th>\n",
       "      <td>Изменить цвет фона главной страницы, чтобы уве...</td>\n",
       "      <td>3</td>\n",
       "      <td>1</td>\n",
       "      <td>1</td>\n",
       "      <td>1</td>\n",
       "      <td>1.000000</td>\n",
       "    </tr>\n",
       "    <tr>\n",
       "      <th>5</th>\n",
       "      <td>Добавить страницу отзывов клиентов о магазине,...</td>\n",
       "      <td>3</td>\n",
       "      <td>2</td>\n",
       "      <td>2</td>\n",
       "      <td>3</td>\n",
       "      <td>1.333333</td>\n",
       "    </tr>\n",
       "    <tr>\n",
       "      <th>6</th>\n",
       "      <td>Показать на главной странице баннеры с актуаль...</td>\n",
       "      <td>5</td>\n",
       "      <td>3</td>\n",
       "      <td>8</td>\n",
       "      <td>3</td>\n",
       "      <td>5.000000</td>\n",
       "    </tr>\n",
       "    <tr>\n",
       "      <th>7</th>\n",
       "      <td>Добавить форму подписки на все основные страни...</td>\n",
       "      <td>10</td>\n",
       "      <td>7</td>\n",
       "      <td>8</td>\n",
       "      <td>5</td>\n",
       "      <td>11.200000</td>\n",
       "    </tr>\n",
       "    <tr>\n",
       "      <th>8</th>\n",
       "      <td>Запустить акцию, дающую скидку на товар в день...</td>\n",
       "      <td>1</td>\n",
       "      <td>9</td>\n",
       "      <td>9</td>\n",
       "      <td>5</td>\n",
       "      <td>16.200000</td>\n",
       "    </tr>\n",
       "  </tbody>\n",
       "</table>\n",
       "</div>"
      ],
      "text/plain": [
       "                                          hypothesis  reach  impact  \\\n",
       "0  Добавить два новых канала привлечения трафика,...      3      10   \n",
       "1  Запустить собственную службу доставки, что сок...      2       5   \n",
       "2  Добавить блоки рекомендаций товаров на сайт ин...      8       3   \n",
       "3  Изменить структура категорий, что увеличит кон...      8       3   \n",
       "4  Изменить цвет фона главной страницы, чтобы уве...      3       1   \n",
       "5  Добавить страницу отзывов клиентов о магазине,...      3       2   \n",
       "6  Показать на главной странице баннеры с актуаль...      5       3   \n",
       "7  Добавить форму подписки на все основные страни...     10       7   \n",
       "8  Запустить акцию, дающую скидку на товар в день...      1       9   \n",
       "\n",
       "   confidence  efforts        ice  \n",
       "0           8        6  13.333333  \n",
       "1           4       10   2.000000  \n",
       "2           7        3   7.000000  \n",
       "3           3        8   1.125000  \n",
       "4           1        1   1.000000  \n",
       "5           2        3   1.333333  \n",
       "6           8        3   5.000000  \n",
       "7           8        5  11.200000  \n",
       "8           9        5  16.200000  "
      ]
     },
     "execution_count": 5,
     "metadata": {},
     "output_type": "execute_result"
    }
   ],
   "source": [
    "hypothesis.loc[hypothesis['reach']==5,'ice']=5\n",
    "hypothesis"
   ]
  },
  {
   "cell_type": "code",
   "execution_count": null,
   "metadata": {},
   "outputs": [],
   "source": []
  },
  {
   "cell_type": "markdown",
   "metadata": {},
   "source": [
    "## Применим фреймворк RICE для приоритизации гипотез. Отсортируем их по убыванию приоритета."
   ]
  },
  {
   "cell_type": "code",
   "execution_count": 6,
   "metadata": {},
   "outputs": [],
   "source": [
    "hypothesis['rice']=hypothesis['reach']*hypothesis['impact']*hypothesis['confidence']/hypothesis['efforts']"
   ]
  },
  {
   "cell_type": "code",
   "execution_count": 7,
   "metadata": {},
   "outputs": [
    {
     "data": {
      "text/html": [
       "<div>\n",
       "<style scoped>\n",
       "    .dataframe tbody tr th:only-of-type {\n",
       "        vertical-align: middle;\n",
       "    }\n",
       "\n",
       "    .dataframe tbody tr th {\n",
       "        vertical-align: top;\n",
       "    }\n",
       "\n",
       "    .dataframe thead th {\n",
       "        text-align: right;\n",
       "    }\n",
       "</style>\n",
       "<table border=\"1\" class=\"dataframe\">\n",
       "  <thead>\n",
       "    <tr style=\"text-align: right;\">\n",
       "      <th></th>\n",
       "      <th>hypothesis</th>\n",
       "      <th>reach</th>\n",
       "      <th>impact</th>\n",
       "      <th>confidence</th>\n",
       "      <th>efforts</th>\n",
       "      <th>ice</th>\n",
       "      <th>rice</th>\n",
       "    </tr>\n",
       "  </thead>\n",
       "  <tbody>\n",
       "    <tr>\n",
       "      <th>7</th>\n",
       "      <td>Добавить форму подписки на все основные страни...</td>\n",
       "      <td>10</td>\n",
       "      <td>7</td>\n",
       "      <td>8</td>\n",
       "      <td>5</td>\n",
       "      <td>11.200000</td>\n",
       "      <td>112.0</td>\n",
       "    </tr>\n",
       "    <tr>\n",
       "      <th>2</th>\n",
       "      <td>Добавить блоки рекомендаций товаров на сайт ин...</td>\n",
       "      <td>8</td>\n",
       "      <td>3</td>\n",
       "      <td>7</td>\n",
       "      <td>3</td>\n",
       "      <td>7.000000</td>\n",
       "      <td>56.0</td>\n",
       "    </tr>\n",
       "    <tr>\n",
       "      <th>0</th>\n",
       "      <td>Добавить два новых канала привлечения трафика,...</td>\n",
       "      <td>3</td>\n",
       "      <td>10</td>\n",
       "      <td>8</td>\n",
       "      <td>6</td>\n",
       "      <td>13.333333</td>\n",
       "      <td>40.0</td>\n",
       "    </tr>\n",
       "    <tr>\n",
       "      <th>6</th>\n",
       "      <td>Показать на главной странице баннеры с актуаль...</td>\n",
       "      <td>5</td>\n",
       "      <td>3</td>\n",
       "      <td>8</td>\n",
       "      <td>3</td>\n",
       "      <td>5.000000</td>\n",
       "      <td>40.0</td>\n",
       "    </tr>\n",
       "    <tr>\n",
       "      <th>8</th>\n",
       "      <td>Запустить акцию, дающую скидку на товар в день...</td>\n",
       "      <td>1</td>\n",
       "      <td>9</td>\n",
       "      <td>9</td>\n",
       "      <td>5</td>\n",
       "      <td>16.200000</td>\n",
       "      <td>16.2</td>\n",
       "    </tr>\n",
       "    <tr>\n",
       "      <th>3</th>\n",
       "      <td>Изменить структура категорий, что увеличит кон...</td>\n",
       "      <td>8</td>\n",
       "      <td>3</td>\n",
       "      <td>3</td>\n",
       "      <td>8</td>\n",
       "      <td>1.125000</td>\n",
       "      <td>9.0</td>\n",
       "    </tr>\n",
       "    <tr>\n",
       "      <th>1</th>\n",
       "      <td>Запустить собственную службу доставки, что сок...</td>\n",
       "      <td>2</td>\n",
       "      <td>5</td>\n",
       "      <td>4</td>\n",
       "      <td>10</td>\n",
       "      <td>2.000000</td>\n",
       "      <td>4.0</td>\n",
       "    </tr>\n",
       "    <tr>\n",
       "      <th>5</th>\n",
       "      <td>Добавить страницу отзывов клиентов о магазине,...</td>\n",
       "      <td>3</td>\n",
       "      <td>2</td>\n",
       "      <td>2</td>\n",
       "      <td>3</td>\n",
       "      <td>1.333333</td>\n",
       "      <td>4.0</td>\n",
       "    </tr>\n",
       "    <tr>\n",
       "      <th>4</th>\n",
       "      <td>Изменить цвет фона главной страницы, чтобы уве...</td>\n",
       "      <td>3</td>\n",
       "      <td>1</td>\n",
       "      <td>1</td>\n",
       "      <td>1</td>\n",
       "      <td>1.000000</td>\n",
       "      <td>3.0</td>\n",
       "    </tr>\n",
       "  </tbody>\n",
       "</table>\n",
       "</div>"
      ],
      "text/plain": [
       "                                          hypothesis  reach  impact  \\\n",
       "7  Добавить форму подписки на все основные страни...     10       7   \n",
       "2  Добавить блоки рекомендаций товаров на сайт ин...      8       3   \n",
       "0  Добавить два новых канала привлечения трафика,...      3      10   \n",
       "6  Показать на главной странице баннеры с актуаль...      5       3   \n",
       "8  Запустить акцию, дающую скидку на товар в день...      1       9   \n",
       "3  Изменить структура категорий, что увеличит кон...      8       3   \n",
       "1  Запустить собственную службу доставки, что сок...      2       5   \n",
       "5  Добавить страницу отзывов клиентов о магазине,...      3       2   \n",
       "4  Изменить цвет фона главной страницы, чтобы уве...      3       1   \n",
       "\n",
       "   confidence  efforts        ice   rice  \n",
       "7           8        5  11.200000  112.0  \n",
       "2           7        3   7.000000   56.0  \n",
       "0           8        6  13.333333   40.0  \n",
       "6           8        3   5.000000   40.0  \n",
       "8           9        5  16.200000   16.2  \n",
       "3           3        8   1.125000    9.0  \n",
       "1           4       10   2.000000    4.0  \n",
       "5           2        3   1.333333    4.0  \n",
       "4           1        1   1.000000    3.0  "
      ]
     },
     "execution_count": 7,
     "metadata": {},
     "output_type": "execute_result"
    }
   ],
   "source": [
    "hypothesis.sort_values(by='rice', ascending=False)"
   ]
  },
  {
   "cell_type": "markdown",
   "metadata": {},
   "source": [
    "### Вывод: \n",
    "\n",
    "приоритизация гипотез изменилась при применении RICE вместо ICE. Почему так произошло? Разница между ICE и RICE  в столбце reach этот столбец отвечает за охват пользователей, т.е. количество пользователей, которых затронет изменения. Если посмотреть на ICE максимальный, он 16,2, но reach у него всего 1 т.е. количество пользователей он затронет минимум. Так же как и у ICE = 13,3(второй по величине) у него reach = 3, а у ICE = 11,2(третий по величине), у него reach максимальный, равный 10. поэтому RICE у него самый высокий равный 112"
   ]
  },
  {
   "cell_type": "markdown",
   "metadata": {},
   "source": [
    "# Часть 2. Анализ A/B-теста"
   ]
  },
  {
   "cell_type": "markdown",
   "metadata": {},
   "source": [
    "## Открыть файл с данными и изучите общую информацию"
   ]
  },
  {
   "cell_type": "code",
   "execution_count": 8,
   "metadata": {
    "scrolled": true
   },
   "outputs": [],
   "source": [
    "#загразку данных можно через try-except\n",
    "#pd.read_csv('/datasets/orders.csv', sep=',', parse_dates=['date'])\n",
    "orders = pd.read_csv('/datasets/orders.csv', sep=',')\n"
   ]
  },
  {
   "cell_type": "code",
   "execution_count": 9,
   "metadata": {},
   "outputs": [],
   "source": [
    "#меняем название колонок, для удобства. Меняем тип данных\n",
    "orders=orders.rename(columns={'transactionId':'orderId', 'visitorId':'userId'})\n",
    "orders['date'] = orders['date'].map(lambda x: dt.datetime.strptime(x, '%Y-%m-%d'))"
   ]
  },
  {
   "cell_type": "code",
   "execution_count": 10,
   "metadata": {
    "scrolled": true
   },
   "outputs": [
    {
     "data": {
      "text/plain": [
       "503"
      ]
     },
     "execution_count": 10,
     "metadata": {},
     "output_type": "execute_result"
    }
   ],
   "source": [
    "userA=orders[orders ['group']=='A']\n",
    "userA['userId'].nunique()"
   ]
  },
  {
   "cell_type": "code",
   "execution_count": 11,
   "metadata": {},
   "outputs": [
    {
     "data": {
      "text/plain": [
       "586"
      ]
     },
     "execution_count": 11,
     "metadata": {},
     "output_type": "execute_result"
    }
   ],
   "source": [
    "userB=orders[orders ['group']=='B']\n",
    "userB['userId'].nunique()"
   ]
  },
  {
   "cell_type": "code",
   "execution_count": 12,
   "metadata": {
    "scrolled": true
   },
   "outputs": [],
   "source": [
    "userA['repit']=userA['userId'].isin(userB['userId'])"
   ]
  },
  {
   "cell_type": "code",
   "execution_count": 13,
   "metadata": {
    "scrolled": true
   },
   "outputs": [
    {
     "data": {
      "text/plain": [
       "58"
      ]
     },
     "execution_count": 13,
     "metadata": {},
     "output_type": "execute_result"
    }
   ],
   "source": [
    "orders_repit=userA[userA['repit']==True]\n",
    "orders_repit['userId'].nunique()"
   ]
  },
  {
   "cell_type": "code",
   "execution_count": 14,
   "metadata": {},
   "outputs": [
    {
     "data": {
      "text/plain": [
       "5.625606207565471"
      ]
     },
     "execution_count": 14,
     "metadata": {},
     "output_type": "execute_result"
    }
   ],
   "source": [
    "orders_repit['userId'].nunique()/orders['userId'].nunique()*100"
   ]
  },
  {
   "cell_type": "markdown",
   "metadata": {},
   "source": [
    "мы нашли пользователей, которые повторяются в обеих группах 58 человек, это 5.6% от общих данных. если оставить их, то они могут исказить данные, потому что мы не знаем какой именно вариант привел их к покупке"
   ]
  },
  {
   "cell_type": "code",
   "execution_count": 15,
   "metadata": {},
   "outputs": [],
   "source": [
    "orders['repit']=orders['userId'].isin(orders_repit['userId'])\n",
    "orders=orders[orders['repit']==False]"
   ]
  },
  {
   "cell_type": "code",
   "execution_count": 16,
   "metadata": {},
   "outputs": [
    {
     "data": {
      "text/html": [
       "<div>\n",
       "<style scoped>\n",
       "    .dataframe tbody tr th:only-of-type {\n",
       "        vertical-align: middle;\n",
       "    }\n",
       "\n",
       "    .dataframe tbody tr th {\n",
       "        vertical-align: top;\n",
       "    }\n",
       "\n",
       "    .dataframe thead th {\n",
       "        text-align: right;\n",
       "    }\n",
       "</style>\n",
       "<table border=\"1\" class=\"dataframe\">\n",
       "  <thead>\n",
       "    <tr style=\"text-align: right;\">\n",
       "      <th></th>\n",
       "      <th>date</th>\n",
       "      <th>group</th>\n",
       "      <th>visitors</th>\n",
       "    </tr>\n",
       "  </thead>\n",
       "  <tbody>\n",
       "    <tr>\n",
       "      <th>0</th>\n",
       "      <td>2019-08-01</td>\n",
       "      <td>A</td>\n",
       "      <td>719</td>\n",
       "    </tr>\n",
       "    <tr>\n",
       "      <th>1</th>\n",
       "      <td>2019-08-02</td>\n",
       "      <td>A</td>\n",
       "      <td>619</td>\n",
       "    </tr>\n",
       "    <tr>\n",
       "      <th>2</th>\n",
       "      <td>2019-08-03</td>\n",
       "      <td>A</td>\n",
       "      <td>507</td>\n",
       "    </tr>\n",
       "    <tr>\n",
       "      <th>3</th>\n",
       "      <td>2019-08-04</td>\n",
       "      <td>A</td>\n",
       "      <td>717</td>\n",
       "    </tr>\n",
       "    <tr>\n",
       "      <th>4</th>\n",
       "      <td>2019-08-05</td>\n",
       "      <td>A</td>\n",
       "      <td>756</td>\n",
       "    </tr>\n",
       "    <tr>\n",
       "      <th>...</th>\n",
       "      <td>...</td>\n",
       "      <td>...</td>\n",
       "      <td>...</td>\n",
       "    </tr>\n",
       "    <tr>\n",
       "      <th>57</th>\n",
       "      <td>2019-08-27</td>\n",
       "      <td>B</td>\n",
       "      <td>720</td>\n",
       "    </tr>\n",
       "    <tr>\n",
       "      <th>58</th>\n",
       "      <td>2019-08-28</td>\n",
       "      <td>B</td>\n",
       "      <td>654</td>\n",
       "    </tr>\n",
       "    <tr>\n",
       "      <th>59</th>\n",
       "      <td>2019-08-29</td>\n",
       "      <td>B</td>\n",
       "      <td>531</td>\n",
       "    </tr>\n",
       "    <tr>\n",
       "      <th>60</th>\n",
       "      <td>2019-08-30</td>\n",
       "      <td>B</td>\n",
       "      <td>490</td>\n",
       "    </tr>\n",
       "    <tr>\n",
       "      <th>61</th>\n",
       "      <td>2019-08-31</td>\n",
       "      <td>B</td>\n",
       "      <td>718</td>\n",
       "    </tr>\n",
       "  </tbody>\n",
       "</table>\n",
       "<p>62 rows × 3 columns</p>\n",
       "</div>"
      ],
      "text/plain": [
       "          date group  visitors\n",
       "0   2019-08-01     A       719\n",
       "1   2019-08-02     A       619\n",
       "2   2019-08-03     A       507\n",
       "3   2019-08-04     A       717\n",
       "4   2019-08-05     A       756\n",
       "..         ...   ...       ...\n",
       "57  2019-08-27     B       720\n",
       "58  2019-08-28     B       654\n",
       "59  2019-08-29     B       531\n",
       "60  2019-08-30     B       490\n",
       "61  2019-08-31     B       718\n",
       "\n",
       "[62 rows x 3 columns]"
      ]
     },
     "execution_count": 16,
     "metadata": {},
     "output_type": "execute_result"
    }
   ],
   "source": [
    "#загразку данных можно через try-except\n",
    "visitors = pd.read_csv('/datasets/visitors.csv', sep=',')\n",
    "visitors"
   ]
  },
  {
   "cell_type": "code",
   "execution_count": 17,
   "metadata": {},
   "outputs": [],
   "source": [
    "#Меняем тип данных\n",
    "visitors['date'] = visitors['date'].map(lambda x: dt.datetime.strptime(x, '%Y-%m-%d'))\n"
   ]
  },
  {
   "cell_type": "markdown",
   "metadata": {},
   "source": [
    "посмотрим есть ли дубликаты и пропуски"
   ]
  },
  {
   "cell_type": "code",
   "execution_count": 18,
   "metadata": {
    "scrolled": true
   },
   "outputs": [
    {
     "name": "stdout",
     "output_type": "stream",
     "text": [
      "<class 'pandas.core.frame.DataFrame'>\n",
      "Int64Index: 1016 entries, 0 to 1196\n",
      "Data columns (total 6 columns):\n",
      " #   Column   Non-Null Count  Dtype         \n",
      "---  ------   --------------  -----         \n",
      " 0   orderId  1016 non-null   int64         \n",
      " 1   userId   1016 non-null   int64         \n",
      " 2   date     1016 non-null   datetime64[ns]\n",
      " 3   revenue  1016 non-null   int64         \n",
      " 4   group    1016 non-null   object        \n",
      " 5   repit    1016 non-null   bool          \n",
      "dtypes: bool(1), datetime64[ns](1), int64(3), object(1)\n",
      "memory usage: 48.6+ KB\n"
     ]
    }
   ],
   "source": [
    "orders.info()"
   ]
  },
  {
   "cell_type": "code",
   "execution_count": 19,
   "metadata": {},
   "outputs": [
    {
     "data": {
      "text/plain": [
       "0"
      ]
     },
     "execution_count": 19,
     "metadata": {},
     "output_type": "execute_result"
    }
   ],
   "source": [
    "orders.duplicated().sum()"
   ]
  },
  {
   "cell_type": "code",
   "execution_count": 20,
   "metadata": {
    "scrolled": true
   },
   "outputs": [
    {
     "name": "stdout",
     "output_type": "stream",
     "text": [
      "<class 'pandas.core.frame.DataFrame'>\n",
      "RangeIndex: 62 entries, 0 to 61\n",
      "Data columns (total 3 columns):\n",
      " #   Column    Non-Null Count  Dtype         \n",
      "---  ------    --------------  -----         \n",
      " 0   date      62 non-null     datetime64[ns]\n",
      " 1   group     62 non-null     object        \n",
      " 2   visitors  62 non-null     int64         \n",
      "dtypes: datetime64[ns](1), int64(1), object(1)\n",
      "memory usage: 1.6+ KB\n"
     ]
    }
   ],
   "source": [
    "visitors.info()"
   ]
  },
  {
   "cell_type": "code",
   "execution_count": 21,
   "metadata": {},
   "outputs": [
    {
     "data": {
      "text/plain": [
       "0"
      ]
     },
     "execution_count": 21,
     "metadata": {},
     "output_type": "execute_result"
    }
   ],
   "source": [
    "visitors.duplicated().sum()"
   ]
  },
  {
   "cell_type": "markdown",
   "metadata": {},
   "source": [
    "### Вывод: у нас 2 группы теста. Длительность теста 31 день(даты: с 2019-08-01 до 2019-08-31). До удаления пользователей находившихся в обеих группах. пользователей в группе А 503, в группе В 586. после удаления в группе А 445, в группе В 528. Из каждой группы убрали по 58 пользователей. разница в группах не значительная, возможна более эффективная работа с пользователями в группе В. Дубликатов и пропусков в данных нет"
   ]
  },
  {
   "cell_type": "markdown",
   "metadata": {},
   "source": [
    "## Cобрать кумулятивные данные"
   ]
  },
  {
   "cell_type": "markdown",
   "metadata": {},
   "source": [
    "Чтобы построить графики, нужно собрать кумулятивные данные. Объявим датафрейм cumulativeData со столбцами: "
   ]
  },
  {
   "cell_type": "markdown",
   "metadata": {},
   "source": [
    "date — дата;"
   ]
  },
  {
   "cell_type": "markdown",
   "metadata": {},
   "source": [
    "group — группа A/B-теста (A или B);"
   ]
  },
  {
   "cell_type": "markdown",
   "metadata": {},
   "source": [
    "orders — кумулятивное количество заказов на указанную дату в указанной группе;"
   ]
  },
  {
   "cell_type": "markdown",
   "metadata": {},
   "source": [
    "buyers — кумулятивное количество пользователей, совершивших хотя бы один заказ, на указанную дату в указанной группе;"
   ]
  },
  {
   "cell_type": "markdown",
   "metadata": {},
   "source": [
    "revenue — кумулятивная выручка на указанную дату в указанной группе (средний чек);"
   ]
  },
  {
   "cell_type": "markdown",
   "metadata": {},
   "source": [
    "visitors — кумулятивное количество посетителей интернет-магазина на указанную дату в определённой группе."
   ]
  },
  {
   "cell_type": "code",
   "execution_count": 22,
   "metadata": {
    "scrolled": false
   },
   "outputs": [
    {
     "data": {
      "text/html": [
       "<div>\n",
       "<style scoped>\n",
       "    .dataframe tbody tr th:only-of-type {\n",
       "        vertical-align: middle;\n",
       "    }\n",
       "\n",
       "    .dataframe tbody tr th {\n",
       "        vertical-align: top;\n",
       "    }\n",
       "\n",
       "    .dataframe thead th {\n",
       "        text-align: right;\n",
       "    }\n",
       "</style>\n",
       "<table border=\"1\" class=\"dataframe\">\n",
       "  <thead>\n",
       "    <tr style=\"text-align: right;\">\n",
       "      <th></th>\n",
       "      <th>date</th>\n",
       "      <th>group</th>\n",
       "      <th>orders</th>\n",
       "      <th>buyers</th>\n",
       "      <th>revenue</th>\n",
       "      <th>visitors</th>\n",
       "    </tr>\n",
       "  </thead>\n",
       "  <tbody>\n",
       "    <tr>\n",
       "      <th>0</th>\n",
       "      <td>2019-08-01</td>\n",
       "      <td>A</td>\n",
       "      <td>23</td>\n",
       "      <td>19</td>\n",
       "      <td>142779</td>\n",
       "      <td>719</td>\n",
       "    </tr>\n",
       "    <tr>\n",
       "      <th>1</th>\n",
       "      <td>2019-08-01</td>\n",
       "      <td>B</td>\n",
       "      <td>17</td>\n",
       "      <td>17</td>\n",
       "      <td>59758</td>\n",
       "      <td>713</td>\n",
       "    </tr>\n",
       "    <tr>\n",
       "      <th>2</th>\n",
       "      <td>2019-08-02</td>\n",
       "      <td>A</td>\n",
       "      <td>42</td>\n",
       "      <td>36</td>\n",
       "      <td>234381</td>\n",
       "      <td>1338</td>\n",
       "    </tr>\n",
       "    <tr>\n",
       "      <th>3</th>\n",
       "      <td>2019-08-02</td>\n",
       "      <td>B</td>\n",
       "      <td>40</td>\n",
       "      <td>39</td>\n",
       "      <td>221801</td>\n",
       "      <td>1294</td>\n",
       "    </tr>\n",
       "    <tr>\n",
       "      <th>4</th>\n",
       "      <td>2019-08-03</td>\n",
       "      <td>A</td>\n",
       "      <td>66</td>\n",
       "      <td>60</td>\n",
       "      <td>346854</td>\n",
       "      <td>1845</td>\n",
       "    </tr>\n",
       "  </tbody>\n",
       "</table>\n",
       "</div>"
      ],
      "text/plain": [
       "        date group  orders  buyers  revenue  visitors\n",
       "0 2019-08-01     A      23      19   142779       719\n",
       "1 2019-08-01     B      17      17    59758       713\n",
       "2 2019-08-02     A      42      36   234381      1338\n",
       "3 2019-08-02     B      40      39   221801      1294\n",
       "4 2019-08-03     A      66      60   346854      1845"
      ]
     },
     "execution_count": 22,
     "metadata": {},
     "output_type": "execute_result"
    }
   ],
   "source": [
    "# создаем массив уникальных пар значений дат и групп теста\n",
    "datesGroups = orders[['date','group']].drop_duplicates()\n",
    "\n",
    "# получаем агрегированные кумулятивные по дням данные о заказах \n",
    "ordersAggregated = datesGroups.apply(lambda x: orders[np.logical_and(orders['date'] <= x['date'], orders['group'] == x['group'])].agg({'date' : 'max', 'group' : 'max', 'orderId' : 'nunique', 'userId' : 'nunique', 'revenue' : 'sum'}), axis=1).sort_values(by=['date','group'])\n",
    "\n",
    "# получаем агрегированные кумулятивные по дням данные о посетителях интернет-магазина \n",
    "visitorsAggregated = datesGroups.apply(lambda x: visitors[np.logical_and(visitors['date'] <= x['date'], visitors['group'] == x['group'])].agg({'date' : 'max', 'group' : 'max', 'visitors' : 'sum'}), axis=1).sort_values(by=['date','group'])\n",
    "\n",
    "# объединяем кумулятивные данные в одной таблице и присваиваем ее столбцам понятные названия\n",
    "cumulativeData = ordersAggregated.merge(visitorsAggregated, left_on=['date', 'group'], right_on=['date', 'group'])\n",
    "cumulativeData.columns = ['date', 'group', 'orders', 'buyers', 'revenue', 'visitors']\n",
    "\n",
    "cumulativeData.head(5) \n"
   ]
  },
  {
   "cell_type": "markdown",
   "metadata": {},
   "source": [
    " даты: с 2019-08-01 до 2019-08-31"
   ]
  },
  {
   "cell_type": "markdown",
   "metadata": {},
   "source": [
    "## Построем график кумулятивной выручки по группам. Сделаем выводы и предположения."
   ]
  },
  {
   "cell_type": "code",
   "execution_count": 23,
   "metadata": {
    "scrolled": true
   },
   "outputs": [
    {
     "data": {
      "image/png": "[encoded data removed]",
      "text/plain": [
       "<Figure size 1080x360 with 1 Axes>"
      ]
     },
     "metadata": {
      "needs_background": "light"
     },
     "output_type": "display_data"
    }
   ],
   "source": [
    "\n",
    "# датафрейм с кумулятивным количеством заказов и кумулятивной выручкой по дням в группе А\n",
    "cumulativeRevenueA = cumulativeData[cumulativeData['group']=='A'][['date','revenue', 'orders']]\n",
    "\n",
    "# датафрейм с кумулятивным количеством заказов и кумулятивной выручкой по дням в группе B\n",
    "cumulativeRevenueB = cumulativeData[cumulativeData['group']=='B'][['date','revenue', 'orders']]\n",
    "\n",
    "# Строим график выручки группы А\n",
    "fig=plt.subplots(figsize=(15,5))\n",
    "plt.plot(cumulativeRevenueA['date'], cumulativeRevenueA['revenue'], label='A')\n",
    "\n",
    "# Строим график выручки группы B\n",
    "plt.plot(cumulativeRevenueB['date'], cumulativeRevenueB['revenue'], label='B')\n",
    "#plt.ticklabel_format(style='plain', axis='y')\n",
    "plt.gca().yaxis.set_major_formatter(plt.matplotlib.ticker.StrMethodFormatter('{x:,.0f}'))\n",
    "plt.title('Кумулятивная выручка группы А и В')\n",
    "plt.ylabel('Кумулятивная выручка')\n",
    "plt.xlabel('Дата')\n",
    "plt.legend()\n",
    "\n",
    "plt.show()"
   ]
  },
  {
   "cell_type": "markdown",
   "metadata": {},
   "source": [
    "### Вывод: Выручка почти равномерно увеличивается в течение всего теста. выручка в группе В немного выше, чем в группе А. также видно резкий скачек в группе В это может сигнализировать о всплесках числа заказов, либо о появлении очень дорогих заказов в выборке. "
   ]
  },
  {
   "cell_type": "markdown",
   "metadata": {},
   "source": [
    "## Построем график кумулятивного среднего чека по группам. Сделаем выводы и предположения."
   ]
  },
  {
   "cell_type": "code",
   "execution_count": 24,
   "metadata": {
    "scrolled": true
   },
   "outputs": [
    {
     "data": {
      "image/png": "[encoded data removed]",
      "text/plain": [
       "<Figure size 1080x360 with 1 Axes>"
      ]
     },
     "metadata": {
      "needs_background": "light"
     },
     "output_type": "display_data"
    }
   ],
   "source": [
    "# разделим выручку на количество заказов по каждой группе\n",
    "fig=plt.subplots(figsize=(15,5))\n",
    "plt.plot(cumulativeRevenueA['date'], cumulativeRevenueA['revenue']/cumulativeRevenueA['orders'], label='A')\n",
    "plt.plot(cumulativeRevenueB['date'], cumulativeRevenueB['revenue']/cumulativeRevenueB['orders'], label='B')\n",
    "plt.title('Кумулятивного среднего чека по группам')\n",
    "plt.ylabel('Кумулятивная среднего чека')\n",
    "plt.xlabel('Дата')\n",
    "plt.legend()\n",
    "plt.show()"
   ]
  },
  {
   "cell_type": "markdown",
   "metadata": {},
   "source": [
    "### Вывод: Средний чек варьируется в обеих группах, видно резкий скачек в группе В. средний чек в группе В до резкого скачка был, то выше, то ниже, группы А"
   ]
  },
  {
   "cell_type": "markdown",
   "metadata": {},
   "source": [
    "## Построем график относительного изменения кумулятивного среднего чека группы B к группе A. Сделаем выводы и предположения."
   ]
  },
  {
   "cell_type": "code",
   "execution_count": 25,
   "metadata": {
    "scrolled": true
   },
   "outputs": [
    {
     "data": {
      "image/png": "[encoded data removed]",
      "text/plain": [
       "<Figure size 1080x360 with 1 Axes>"
      ]
     },
     "metadata": {
      "needs_background": "light"
     },
     "output_type": "display_data"
    }
   ],
   "source": [
    "# собираем данные в одном датафрейме\n",
    "mergedCumulativeRevenue = cumulativeRevenueA.merge(cumulativeRevenueB, left_on='date', right_on='date', how='left', suffixes=['A', 'B'])\n",
    "\n",
    "# cтроим отношение средних чеков\n",
    "fig=plt.subplots(figsize=(15,5))\n",
    "plt.plot(mergedCumulativeRevenue['date'], (mergedCumulativeRevenue['revenueB']/mergedCumulativeRevenue['ordersB'])/(mergedCumulativeRevenue['revenueA']/mergedCumulativeRevenue['ordersA'])-1)\n",
    "\n",
    "# добавляем ось X\n",
    "plt.axhline(y=0, color='black', linestyle='--')\n",
    "plt.title('Относительного изменения кумулятивного среднего чека группы B к группе A')\n",
    "plt.ylabel('Относительного изменения кумулятивного среднего')\n",
    "plt.xlabel('Дата')\n",
    "plt.show()"
   ]
  },
  {
   "cell_type": "markdown",
   "metadata": {},
   "source": [
    "### Вывод: в нескольких точках график различия между сегментами резко «скачет». Где-то есть крупные заказы и выбросы"
   ]
  },
  {
   "cell_type": "markdown",
   "metadata": {},
   "source": [
    "## Построем график кумулятивного среднего количества заказов на посетителя по группам. Сделаем выводы и предположения."
   ]
  },
  {
   "cell_type": "code",
   "execution_count": 26,
   "metadata": {
    "scrolled": false
   },
   "outputs": [
    {
     "data": {
      "image/png": "[encoded data removed]",
      "text/plain": [
       "<Figure size 1080x360 with 1 Axes>"
      ]
     },
     "metadata": {
      "needs_background": "light"
     },
     "output_type": "display_data"
    }
   ],
   "source": [
    "# считаем кумулятивную конверсию\n",
    "cumulativeData['conversion'] = cumulativeData['orders']/cumulativeData['visitors']\n",
    "\n",
    "# отделяем данные по группе A\n",
    "cumulativeDataA = cumulativeData[cumulativeData['group']=='A']\n",
    "\n",
    "# отделяем данные по группе B\n",
    "cumulativeDataB = cumulativeData[cumulativeData['group']=='B']\n",
    "\n",
    "# строим графики\n",
    "fig=plt.subplots(figsize=(15,5))\n",
    "plt.plot(cumulativeDataA['date'], cumulativeDataA['conversion'], label='A')\n",
    "plt.plot(cumulativeDataB['date'], cumulativeDataB['conversion'], label='B')\n",
    "plt.legend()\n",
    "\n",
    "# задаем масштаб осей\n",
    "\n",
    "plt.axis([dt.datetime(2019, 7, 31), dt.datetime(2019, 9, 1), 0.020, 0.04]) \n",
    "plt.title('График кумулятивного среднего количества заказов на посетителя по группам')\n",
    "plt.ylabel('Относительного изменения кумулятивной средней количества заказов на посетителя')\n",
    "plt.xlabel('Дата')\n",
    "plt.show()"
   ]
  },
  {
   "cell_type": "markdown",
   "metadata": {},
   "source": [
    "### Вывод: Симметричный график получился. Относительного изменения кумулятивной средней количества заказов на посетителя группы В находится чуть выше группы А. Зафиксировалась примерно в одном положениее"
   ]
  },
  {
   "cell_type": "markdown",
   "metadata": {},
   "source": [
    "## Построем график относительного изменения кумулятивного среднего количества заказов на посетителя группы B к группе A. Сделаем выводы и предположения."
   ]
  },
  {
   "cell_type": "code",
   "execution_count": 27,
   "metadata": {
    "scrolled": true
   },
   "outputs": [
    {
     "data": {
      "image/png": "[encoded data removed]",
      "text/plain": [
       "<Figure size 864x360 with 1 Axes>"
      ]
     },
     "metadata": {
      "needs_background": "light"
     },
     "output_type": "display_data"
    }
   ],
   "source": [
    "mergedCumulativeConversions = cumulativeDataA[['date','conversion']].merge(cumulativeDataB[['date','conversion']], left_on='date', right_on='date', how='left', suffixes=['A', 'B'])\n",
    "fig=plt.subplots(figsize=(12,5))\n",
    "\n",
    "plt.plot(mergedCumulativeConversions['date'], mergedCumulativeConversions['conversionB']/mergedCumulativeConversions['conversionA']-1, label=\"Относительный прирост кумулятивного среднего количества заказов на посетителя относительно А\")\n",
    "\n",
    "\n",
    "plt.axhline(y=0, color='black', linestyle='--')\n",
    "plt.axhline(y=-0.1, color='grey', linestyle='--')\n",
    "plt.axis([dt.datetime(2019, 7, 31), dt.datetime(2019, 9, 1), -0.4, 0.4])\n",
    "plt.title('График относительного изменения кумулятивного среднего количества заказов на посетителя')\n",
    "plt.ylabel('Относительного изменения кумулятивного среднего количества заказов на посетителя')\n",
    "plt.xlabel('Дата')\n",
    "\n",
    "plt.legend();"
   ]
  },
  {
   "cell_type": "markdown",
   "metadata": {},
   "source": [
    "### Вывод: В начале теста группа B немного проигрывала группе A, затем вырвалась вперёд. Потом В снова немного упала, но теперь постепенно растёт."
   ]
  },
  {
   "cell_type": "code",
   "execution_count": 28,
   "metadata": {
    "scrolled": false
   },
   "outputs": [
    {
     "data": {
      "text/html": [
       "<div>\n",
       "<style scoped>\n",
       "    .dataframe tbody tr th:only-of-type {\n",
       "        vertical-align: middle;\n",
       "    }\n",
       "\n",
       "    .dataframe tbody tr th {\n",
       "        vertical-align: top;\n",
       "    }\n",
       "\n",
       "    .dataframe thead th {\n",
       "        text-align: right;\n",
       "    }\n",
       "</style>\n",
       "<table border=\"1\" class=\"dataframe\">\n",
       "  <thead>\n",
       "    <tr style=\"text-align: right;\">\n",
       "      <th></th>\n",
       "      <th>orderId</th>\n",
       "      <th>userId</th>\n",
       "      <th>date</th>\n",
       "      <th>revenue</th>\n",
       "      <th>group</th>\n",
       "      <th>repit</th>\n",
       "    </tr>\n",
       "  </thead>\n",
       "  <tbody>\n",
       "    <tr>\n",
       "      <th>0</th>\n",
       "      <td>3667963787</td>\n",
       "      <td>3312258926</td>\n",
       "      <td>2019-08-15</td>\n",
       "      <td>1650</td>\n",
       "      <td>B</td>\n",
       "      <td>False</td>\n",
       "    </tr>\n",
       "    <tr>\n",
       "      <th>1</th>\n",
       "      <td>2804400009</td>\n",
       "      <td>3642806036</td>\n",
       "      <td>2019-08-15</td>\n",
       "      <td>730</td>\n",
       "      <td>B</td>\n",
       "      <td>False</td>\n",
       "    </tr>\n",
       "    <tr>\n",
       "      <th>3</th>\n",
       "      <td>3797467345</td>\n",
       "      <td>1196621759</td>\n",
       "      <td>2019-08-15</td>\n",
       "      <td>9759</td>\n",
       "      <td>B</td>\n",
       "      <td>False</td>\n",
       "    </tr>\n",
       "    <tr>\n",
       "      <th>4</th>\n",
       "      <td>2282983706</td>\n",
       "      <td>2322279887</td>\n",
       "      <td>2019-08-15</td>\n",
       "      <td>2308</td>\n",
       "      <td>B</td>\n",
       "      <td>False</td>\n",
       "    </tr>\n",
       "    <tr>\n",
       "      <th>5</th>\n",
       "      <td>182168103</td>\n",
       "      <td>935554773</td>\n",
       "      <td>2019-08-15</td>\n",
       "      <td>2210</td>\n",
       "      <td>B</td>\n",
       "      <td>False</td>\n",
       "    </tr>\n",
       "  </tbody>\n",
       "</table>\n",
       "</div>"
      ],
      "text/plain": [
       "      orderId      userId       date  revenue group  repit\n",
       "0  3667963787  3312258926 2019-08-15     1650     B  False\n",
       "1  2804400009  3642806036 2019-08-15      730     B  False\n",
       "3  3797467345  1196621759 2019-08-15     9759     B  False\n",
       "4  2282983706  2322279887 2019-08-15     2308     B  False\n",
       "5   182168103   935554773 2019-08-15     2210     B  False"
      ]
     },
     "execution_count": 28,
     "metadata": {},
     "output_type": "execute_result"
    }
   ],
   "source": [
    "df=orders.copy()\n",
    "df.head(5)"
   ]
  },
  {
   "cell_type": "markdown",
   "metadata": {},
   "source": [
    "## Построем точечный график количества заказов по пользователям. Сделаем выводы и предположения."
   ]
  },
  {
   "cell_type": "code",
   "execution_count": 29,
   "metadata": {
    "scrolled": true
   },
   "outputs": [
    {
     "data": {
      "text/html": [
       "<div>\n",
       "<style scoped>\n",
       "    .dataframe tbody tr th:only-of-type {\n",
       "        vertical-align: middle;\n",
       "    }\n",
       "\n",
       "    .dataframe tbody tr th {\n",
       "        vertical-align: top;\n",
       "    }\n",
       "\n",
       "    .dataframe thead th {\n",
       "        text-align: right;\n",
       "    }\n",
       "</style>\n",
       "<table border=\"1\" class=\"dataframe\">\n",
       "  <thead>\n",
       "    <tr style=\"text-align: right;\">\n",
       "      <th></th>\n",
       "      <th>userId</th>\n",
       "      <th>orders</th>\n",
       "    </tr>\n",
       "  </thead>\n",
       "  <tbody>\n",
       "    <tr>\n",
       "      <th>908</th>\n",
       "      <td>3967698036</td>\n",
       "      <td>3</td>\n",
       "    </tr>\n",
       "    <tr>\n",
       "      <th>55</th>\n",
       "      <td>249864742</td>\n",
       "      <td>3</td>\n",
       "    </tr>\n",
       "    <tr>\n",
       "      <th>478</th>\n",
       "      <td>2108163459</td>\n",
       "      <td>3</td>\n",
       "    </tr>\n",
       "    <tr>\n",
       "      <th>687</th>\n",
       "      <td>2988190573</td>\n",
       "      <td>3</td>\n",
       "    </tr>\n",
       "    <tr>\n",
       "      <th>890</th>\n",
       "      <td>3908431265</td>\n",
       "      <td>3</td>\n",
       "    </tr>\n",
       "  </tbody>\n",
       "</table>\n",
       "</div>"
      ],
      "text/plain": [
       "         userId  orders\n",
       "908  3967698036       3\n",
       "55    249864742       3\n",
       "478  2108163459       3\n",
       "687  2988190573       3\n",
       "890  3908431265       3"
      ]
     },
     "execution_count": 29,
     "metadata": {},
     "output_type": "execute_result"
    }
   ],
   "source": [
    "\n",
    "ordersByUsers = df.groupby('userId', as_index=False).agg({'orderId': 'nunique'})\n",
    "\n",
    "ordersByUsers.columns = ['userId', 'orders']\n",
    "\n",
    "ordersByUsers.sort_values(by='orders', ascending=False).head(5)"
   ]
  },
  {
   "cell_type": "code",
   "execution_count": 30,
   "metadata": {},
   "outputs": [
    {
     "data": {
      "image/png": "[encoded data removed]",
      "text/plain": [
       "<Figure size 1080x360 with 1 Axes>"
      ]
     },
     "metadata": {
      "needs_background": "light"
     },
     "output_type": "display_data"
    }
   ],
   "source": [
    "fig=plt.subplots( figsize=(15,5))\n",
    "plt.hist(ordersByUsers['orders'])\n",
    "plt.title('График количества заказов по пользователям')\n",
    "plt.ylabel('Количество пользователей')\n",
    "plt.xlabel('Количество заказов');"
   ]
  },
  {
   "cell_type": "code",
   "execution_count": 31,
   "metadata": {
    "scrolled": true
   },
   "outputs": [
    {
     "data": {
      "image/png": "[encoded data removed]",
      "text/plain": [
       "<Figure size 1080x360 with 1 Axes>"
      ]
     },
     "metadata": {
      "needs_background": "light"
     },
     "output_type": "display_data"
    }
   ],
   "source": [
    "x_values = pd.Series(range(0,len(ordersByUsers)))\n",
    "fig=plt.subplots( figsize=(15,5))\n",
    "plt.scatter(x_values, ordersByUsers['orders'])\n",
    "plt.title('Точечный график количества заказов по пользователям')\n",
    "plt.ylabel('Заказы')\n",
    "plt.xlabel('Пользователи');\n"
   ]
  },
  {
   "cell_type": "code",
   "execution_count": null,
   "metadata": {},
   "outputs": [],
   "source": []
  },
  {
   "cell_type": "code",
   "execution_count": null,
   "metadata": {},
   "outputs": [],
   "source": []
  },
  {
   "cell_type": "markdown",
   "metadata": {},
   "source": [
    "### Вывод: большинство пользователей делают не больше 2 заказов. "
   ]
  },
  {
   "cell_type": "markdown",
   "metadata": {},
   "source": [
    "## Посчитаем 95-й и 99-й перцентили количества заказов на пользователя. Выберем границу для определения аномальных пользователей."
   ]
  },
  {
   "cell_type": "code",
   "execution_count": 32,
   "metadata": {},
   "outputs": [
    {
     "data": {
      "text/plain": [
       "array([1., 2.])"
      ]
     },
     "execution_count": 32,
     "metadata": {},
     "output_type": "execute_result"
    }
   ],
   "source": [
    "np.percentile(ordersByUsers['orders'], [ 95, 99])"
   ]
  },
  {
   "cell_type": "markdown",
   "metadata": {},
   "source": [
    "### Вывод: возьмем границу для определения аномальных пользователей - больше 2-х заказов"
   ]
  },
  {
   "cell_type": "markdown",
   "metadata": {},
   "source": [
    "## Построем точечный график стоимостей заказов. Сделаем выводы и предположения."
   ]
  },
  {
   "cell_type": "code",
   "execution_count": 33,
   "metadata": {},
   "outputs": [
    {
     "data": {
      "image/png": "[encoded data removed]",
      "text/plain": [
       "<Figure size 1080x360 with 1 Axes>"
      ]
     },
     "metadata": {
      "needs_background": "light"
     },
     "output_type": "display_data"
    }
   ],
   "source": [
    "fig=plt.subplots( figsize=(15,5))\n",
    "plt.hist(df['revenue'])\n",
    "plt.gca().xaxis.set_major_formatter(plt.matplotlib.ticker.StrMethodFormatter('{x:,.0f}'))\n",
    "plt.title('График стоимости заказов по пользователям')\n",
    "plt.ylabel('Заказы')\n",
    "plt.xlabel('Стоимость');"
   ]
  },
  {
   "cell_type": "code",
   "execution_count": 34,
   "metadata": {
    "scrolled": true
   },
   "outputs": [
    {
     "data": {
      "image/png": "[encoded data removed]",
      "text/plain": [
       "<Figure size 1080x360 with 1 Axes>"
      ]
     },
     "metadata": {
      "needs_background": "light"
     },
     "output_type": "display_data"
    }
   ],
   "source": [
    "x_values = pd.Series(range(0,len(df['revenue'])))\n",
    "fig=plt.subplots( figsize=(15,5))\n",
    "plt.scatter(x_values, df['revenue'])\n",
    "plt.gca().yaxis.set_major_formatter(plt.matplotlib.ticker.StrMethodFormatter('{x:,.0f}'))\n",
    "plt.title('График стоимости заказов по пользователям')\n",
    "plt.ylabel('Стоимость')\n",
    "plt.xlabel('Пользователи');"
   ]
  },
  {
   "cell_type": "markdown",
   "metadata": {},
   "source": [
    "сделаем точечный график еще раз, но уже без двух точек аномалий, зададим масштаб осей"
   ]
  },
  {
   "cell_type": "code",
   "execution_count": 35,
   "metadata": {},
   "outputs": [
    {
     "data": {
      "image/png": "[encoded data removed]",
      "text/plain": [
       "<Figure size 1080x360 with 1 Axes>"
      ]
     },
     "metadata": {
      "needs_background": "light"
     },
     "output_type": "display_data"
    }
   ],
   "source": [
    "x_values = pd.Series(range(0,len(df['revenue'])))\n",
    "fig=plt.subplots( figsize=(15,5))\n",
    "plt.scatter(x_values, df['revenue'])\n",
    "plt.gca().yaxis.set_major_formatter(plt.matplotlib.ticker.StrMethodFormatter('{x:,.0f}'))\n",
    "plt.axis([0, 1100, 0, 130000])\n",
    "plt.title('График стоимости заказов по пользователям')\n",
    "plt.ylabel('Стоимость')\n",
    "plt.xlabel('Пользователи');"
   ]
  },
  {
   "cell_type": "markdown",
   "metadata": {},
   "source": [
    "### Вывод: после масштаба осей видно, что почти все заказы до 60000. Но есть и аномалии, который около 200000 и 1200000"
   ]
  },
  {
   "cell_type": "markdown",
   "metadata": {},
   "source": [
    "## Посчитаем 95-й и 99-й перцентили стоимости заказов. Выберем границу для определения аномальных заказов."
   ]
  },
  {
   "cell_type": "code",
   "execution_count": 36,
   "metadata": {},
   "outputs": [
    {
     "data": {
      "text/plain": [
       "array([26785., 53904.])"
      ]
     },
     "execution_count": 36,
     "metadata": {},
     "output_type": "execute_result"
    }
   ],
   "source": [
    "np.percentile(df['revenue'], [95, 99])"
   ]
  },
  {
   "cell_type": "markdown",
   "metadata": {},
   "source": [
    "### Вывод: возьмем между 95 и 99 процентилем до 30000"
   ]
  },
  {
   "cell_type": "markdown",
   "metadata": {},
   "source": [
    "### Сформулируем гипотезы. Нулевая(Но): различий в среднем количестве заказов между группами нет. Альтернативная(Н1)  различия в среднем между группами есть."
   ]
  },
  {
   "cell_type": "markdown",
   "metadata": {},
   "source": [
    "В случае, когда в данных есть большие (по сравнению с нормальным распределением) выбросы, алгебраические метрики работают плохо, поэтому будем использовать непараметрический тест Уилкоксона-Манна-Уитни"
   ]
  },
  {
   "cell_type": "markdown",
   "metadata": {},
   "source": [
    "Начнём с подготовки данных"
   ]
  },
  {
   "cell_type": "markdown",
   "metadata": {
    "scrolled": true
   },
   "source": [
    "убрал массивный код из \"аназила теста а/в шаг за шагом"
   ]
  },
  {
   "cell_type": "markdown",
   "metadata": {},
   "source": [
    "Создадим переменные ordersByUsersA и ordersByUsersB со столбцами ['userId', 'orders']. В них для пользователей, которые заказывали хотя бы 1 раз, укажем число совершённых заказов"
   ]
  },
  {
   "cell_type": "code",
   "execution_count": 37,
   "metadata": {},
   "outputs": [],
   "source": [
    "ordersByUsersA = (\n",
    "    orders[orders['group'] == 'A']\n",
    "    .groupby('userId', as_index=False)\n",
    "    .agg({'orderId': 'nunique'})\n",
    ")\n",
    "ordersByUsersA.columns = ['userId', 'orders']\n",
    "\n",
    "ordersByUsersB = (\n",
    "    orders[orders['group'] == 'B']\n",
    "    .groupby('userId', as_index=False)\n",
    "    .agg({'orderId': 'nunique'})\n",
    ")\n",
    "ordersByUsersB.columns = ['userId', 'orders']\n"
   ]
  },
  {
   "cell_type": "markdown",
   "metadata": {},
   "source": [
    "Объявим переменные sampleA и sampleB, в которых пользователям из разных групп будет соответствовать количество заказов. Тем, кто ничего не заказал, будут соответствовать нули. Это нужно, чтобы подготовить выборки к проверке критерием Манна-Уитни"
   ]
  },
  {
   "cell_type": "code",
   "execution_count": 38,
   "metadata": {},
   "outputs": [],
   "source": [
    "sampleA = pd.concat([ordersByUsersA['orders'],pd.Series(0, index=np.arange(visitors[visitors['group'] == 'A']['visitors'].sum() - len(ordersByUsersA['orders'])), name='orders')],axis=0)\n",
    "\n",
    "sampleB = pd.concat([ordersByUsersB['orders'],pd.Series(0, index=np.arange(visitors[visitors['group'] == 'B']['visitors'].sum() - len(ordersByUsersB['orders'])), name='orders')],axis=0)"
   ]
  },
  {
   "cell_type": "markdown",
   "metadata": {},
   "source": [
    "## Посчитаем статистическую значимость различий в среднем количестве заказов на посетителя между группами по «сырым» данным. Сделаем выводы и предположения."
   ]
  },
  {
   "cell_type": "markdown",
   "metadata": {},
   "source": [
    "Применим критерий и отформатируем p-value, округлив его до трёх знаков после запятой."
   ]
  },
  {
   "cell_type": "code",
   "execution_count": 39,
   "metadata": {
    "scrolled": true
   },
   "outputs": [
    {
     "name": "stdout",
     "output_type": "stream",
     "text": [
      "0.011  p-value\n",
      "0.160 относительная разница средних количества заказов на посетителя\n"
     ]
    }
   ],
   "source": [
    "\n",
    "print('{0:.3f}'.format(stats.mannwhitneyu(sampleA, sampleB)[1]),' p-value')\n",
    "\n",
    "print(\"{0:.3f}\".format(sampleB.mean()/sampleA.mean()-1), 'относительная разница средних количества заказов на посетителя')\n"
   ]
  },
  {
   "cell_type": "markdown",
   "metadata": {},
   "source": [
    "### Вывод: По «сырым» данным различия в среднем числе заказов групп A и B есть. Первое число — p-value = 0.011 меньше 0.05. Значит, нулевую гипотезу о том, что статистически значимых различий в среднем числе заказов между группами нет, принять не можем. Относительный проигрыш группы А равен 16% — второе число в выводе."
   ]
  },
  {
   "cell_type": "markdown",
   "metadata": {},
   "source": [
    "## Посчитаем статистическую значимость различий в среднем чеке заказа между группами по «сырым» данным. Сделаем выводы и предположения."
   ]
  },
  {
   "cell_type": "markdown",
   "metadata": {},
   "source": [
    "Чтобы рассчитать статистическую значимость различий в среднем чеке, передадим критерию mannwhitneyu() данные о выручке с заказов. "
   ]
  },
  {
   "cell_type": "code",
   "execution_count": 40,
   "metadata": {
    "scrolled": true
   },
   "outputs": [
    {
     "name": "stdout",
     "output_type": "stream",
     "text": [
      "0.829 p-value\n",
      "0.287 относительная разница в среднем чеке\n"
     ]
    }
   ],
   "source": [
    "print('{0:.3f}'.format(stats.mannwhitneyu(orders[orders['group']=='A']['revenue'], orders[orders['group']=='B']['revenue'])[1]), 'p-value')\n",
    "print('{0:.3f}'.format(orders[orders['group']=='B']['revenue'].mean()/orders[orders['group']=='A']['revenue'].mean()-1), 'относительная разница в среднем чеке')"
   ]
  },
  {
   "cell_type": "code",
   "execution_count": 41,
   "metadata": {},
   "outputs": [
    {
     "data": {
      "text/plain": [
       "0.8294908998149533"
      ]
     },
     "execution_count": 41,
     "metadata": {},
     "output_type": "execute_result"
    }
   ],
   "source": [
    "stats.mannwhitneyu(orders[orders['group']=='A']['revenue'], orders[orders['group']=='B']['revenue'])[1]"
   ]
  },
  {
   "cell_type": "markdown",
   "metadata": {},
   "source": [
    "### Вывод: P-value значительно больше 0.05. Значит, причин отвергать нулевую гипотезу и считать, что в среднем чеке есть различия, нет. Впрочем, средний чек группы B значительно выше среднего чека группы A на 28,7%"
   ]
  },
  {
   "cell_type": "markdown",
   "metadata": {},
   "source": [
    "Примем за аномальных пользователей тех, кто совершил от 3 заказов или совершил заказ дороже 30 000 рублей. Так мы уберём от 1 до  5% пользователей с дорогими заказами и  1%  пользователей с наибольшим числом заказов. "
   ]
  },
  {
   "cell_type": "code",
   "execution_count": 42,
   "metadata": {
    "scrolled": true
   },
   "outputs": [
    {
     "name": "stdout",
     "output_type": "stream",
     "text": [
      "1099    148427295\n",
      "928     204675465\n",
      "33      249864742\n",
      "684     358944393\n",
      "648     382846391\n",
      "Name: userId, dtype: int64\n",
      "49\n"
     ]
    }
   ],
   "source": [
    "usersWithManyOrders = pd.concat(\n",
    "    [\n",
    "        ordersByUsersA[ordersByUsersA['orders'] > np.percentile(ordersByUsers['orders'], 99)]['userId'],\n",
    "        ordersByUsersB[ordersByUsersB['orders'] > np.percentile(ordersByUsers['orders'], 99)]['userId'],\n",
    "    ],\n",
    "    axis=0,\n",
    ")\n",
    "usersWithExpensiveOrders = orders[orders['revenue'] > 30000]['userId']\n",
    "abnormalUsers = (\n",
    "    pd.concat([usersWithManyOrders, usersWithExpensiveOrders], axis=0)\n",
    "    .drop_duplicates()\n",
    "    .sort_values()\n",
    ")\n",
    "print(abnormalUsers.head(5))\n",
    "print(abnormalUsers.shape[0]) "
   ]
  },
  {
   "cell_type": "markdown",
   "metadata": {},
   "source": [
    "Всего 49 аномальных пользователей. \n",
    "Узнаем, как их действия повлияли на результаты теста. Посчитаем статистическую значимость различий в среднем количестве заказов между группами теста по очищенным данным. Сначала подготовим выборки количества заказов по пользователям по группам теста:"
   ]
  },
  {
   "cell_type": "markdown",
   "metadata": {},
   "source": [
    "найдем % потерь аномальных пользователей от общего количества"
   ]
  },
  {
   "cell_type": "code",
   "execution_count": 43,
   "metadata": {},
   "outputs": [
    {
     "data": {
      "text/plain": [
       "5.0359712230215825"
      ]
     },
     "execution_count": 43,
     "metadata": {},
     "output_type": "execute_result"
    }
   ],
   "source": [
    "abnormalUsers.nunique()/orders['userId'].nunique()*100"
   ]
  },
  {
   "cell_type": "markdown",
   "metadata": {},
   "source": [
    "5% пользователей с аномальными значениями"
   ]
  },
  {
   "cell_type": "code",
   "execution_count": 44,
   "metadata": {},
   "outputs": [],
   "source": [
    "sampleAFiltered = pd.concat(\n",
    "    [\n",
    "        ordersByUsersA[\n",
    "            np.logical_not(ordersByUsersA['userId'].isin(abnormalUsers))\n",
    "        ]['orders'],\n",
    "        pd.Series(\n",
    "            0,\n",
    "            index=np.arange(\n",
    "                visitors[visitors['group'] == 'A']['visitors'].sum() - len(ordersByUsersA['orders'])\n",
    "            ),\n",
    "            name='orders',\n",
    "        ),\n",
    "    ],\n",
    "    axis=0,\n",
    ")\n",
    "\n",
    "sampleBFiltered = pd.concat(\n",
    "    [\n",
    "        ordersByUsersB[\n",
    "            np.logical_not(ordersByUsersB['userId'].isin(abnormalUsers))\n",
    "        ]['orders'],\n",
    "        pd.Series(\n",
    "            0,\n",
    "            index=np.arange(\n",
    "                visitors[visitors['group'] == 'B']['visitors'].sum() - len(ordersByUsersB['orders'])\n",
    "            ),\n",
    "            name='orders',\n",
    "        ),\n",
    "    ],\n",
    "    axis=0,\n",
    ")\n",
    "\n",
    "\n"
   ]
  },
  {
   "cell_type": "markdown",
   "metadata": {},
   "source": [
    "## Посчитаем статистическую значимость различий в среднем количестве заказов на посетителя между группами по «очищенным» данным. Сделаем выводы и предположения."
   ]
  },
  {
   "cell_type": "markdown",
   "metadata": {},
   "source": [
    "Применим статистический критерий Манна-Уитни к полученным выборкам:"
   ]
  },
  {
   "cell_type": "code",
   "execution_count": 45,
   "metadata": {
    "scrolled": true
   },
   "outputs": [
    {
     "name": "stdout",
     "output_type": "stream",
     "text": [
      "0.010 p-value\n",
      "0.187 относительная разница средних количества заказов на посетителя\n"
     ]
    }
   ],
   "source": [
    "print('{0:.3f}'.format(stats.mannwhitneyu(sampleAFiltered, sampleBFiltered)[1]), 'p-value')\n",
    "print('{0:.3f}'.format(sampleBFiltered.mean()/sampleAFiltered.mean()-1), 'относительная разница средних количества заказов на посетителя')"
   ]
  },
  {
   "cell_type": "markdown",
   "metadata": {},
   "source": [
    "### Вывод: Результаты по среднему количеству заказов практически не изменились значит Но принять не можем. Группа А так же проигрывает группе В, только теперь 16.2%"
   ]
  },
  {
   "cell_type": "markdown",
   "metadata": {},
   "source": [
    "## Посчитаем статистическую значимость различий в среднем чеке заказа между группами по «очищенным» данным. Сделаем выводы и предположения"
   ]
  },
  {
   "cell_type": "code",
   "execution_count": 46,
   "metadata": {
    "scrolled": true
   },
   "outputs": [
    {
     "name": "stdout",
     "output_type": "stream",
     "text": [
      "p-value 0.741\n",
      "относительная разница в среднем чеке -0.027\n"
     ]
    }
   ],
   "source": [
    "print('p-value '\n",
    "    '{0:.3f}'.format(\n",
    "        stats.mannwhitneyu(\n",
    "            orders[\n",
    "                np.logical_and(\n",
    "                    orders['group'] == 'A',\n",
    "                    np.logical_not(orders['userId'].isin(abnormalUsers)),\n",
    "                )\n",
    "            ]['revenue'],\n",
    "            orders[\n",
    "                np.logical_and(\n",
    "                    orders['group'] == 'B',\n",
    "                    np.logical_not(orders['userId'].isin(abnormalUsers)),\n",
    "                )\n",
    "            ]['revenue'],\n",
    "        )[1]\n",
    "    )\n",
    ")\n",
    "\n",
    "print('относительная разница в среднем чеке '\n",
    "    \"{0:.3f}\".format(\n",
    "        orders[\n",
    "            np.logical_and(\n",
    "                orders['group'] == 'B',\n",
    "                np.logical_not(orders['userId'].isin(abnormalUsers)),\n",
    "            )\n",
    "        ]['revenue'].mean()\n",
    "        / orders[\n",
    "            np.logical_and(\n",
    "                orders['group'] == 'A',\n",
    "                np.logical_not(orders['userId'].isin(abnormalUsers)),\n",
    "            )\n",
    "        ]['revenue'].mean()\n",
    "        - 1\n",
    "     )\n",
    ")"
   ]
  },
  {
   "cell_type": "markdown",
   "metadata": {},
   "source": [
    "### Вывод: P-value уменьшился, но и разница между сегментами сократилась и изменилась с 28,7% до -2,7% (т.е. средний чек в группа В меньше группы А).\n"
   ]
  },
  {
   "cell_type": "markdown",
   "metadata": {},
   "source": [
    "## Вывод: На основании статистических тестов по части средней количества заказов на посетителей группа В лучше группы А (отношение В/А = 16%), что по сырым данным, что по очищенным, который более менее стабилизировался. Что не скажешь про средний чек и судя по графику, к этому нет предпосылок, но согласно закона больших чисел рано или поздно он стабилизируется, но ждать его стабилизации приведет к большим затратам для бизнеса. На основании проведенного исследования предлагаю принять решение о остановке А/В теста и зафиксировать победу одной из групп - это группа В"
   ]
  }
 ],
 "metadata": {
  "ExecuteTimeLog": [
   {
    "duration": 883,
    "start_time": "2023-02-23T07:50:11.510Z"
   },
   {
    "duration": 2,
    "start_time": "2023-02-23T07:51:32.421Z"
   },
   {
    "duration": 64,
    "start_time": "2023-02-23T07:51:32.994Z"
   },
   {
    "duration": 34,
    "start_time": "2023-02-23T07:51:38.914Z"
   },
   {
    "duration": 3,
    "start_time": "2023-02-23T07:57:07.704Z"
   },
   {
    "duration": 8,
    "start_time": "2023-02-23T07:57:19.018Z"
   },
   {
    "duration": 5,
    "start_time": "2023-02-23T07:59:39.241Z"
   },
   {
    "duration": 4,
    "start_time": "2023-02-23T07:59:39.517Z"
   },
   {
    "duration": 9,
    "start_time": "2023-02-23T07:59:47.648Z"
   },
   {
    "duration": 11,
    "start_time": "2023-02-23T08:01:00.470Z"
   },
   {
    "duration": 96,
    "start_time": "2023-02-23T08:01:31.551Z"
   },
   {
    "duration": 11,
    "start_time": "2023-02-23T08:02:13.982Z"
   },
   {
    "duration": 8,
    "start_time": "2023-02-23T08:03:33.490Z"
   },
   {
    "duration": 9,
    "start_time": "2023-02-23T08:03:58.966Z"
   },
   {
    "duration": 2,
    "start_time": "2023-02-23T08:05:04.996Z"
   },
   {
    "duration": 22,
    "start_time": "2023-02-23T08:05:48.155Z"
   },
   {
    "duration": 802,
    "start_time": "2023-02-23T08:07:41.929Z"
   },
   {
    "duration": 23,
    "start_time": "2023-02-23T08:07:42.733Z"
   },
   {
    "duration": 3,
    "start_time": "2023-02-23T08:07:42.757Z"
   },
   {
    "duration": 5,
    "start_time": "2023-02-23T08:07:42.762Z"
   },
   {
    "duration": 15,
    "start_time": "2023-02-23T08:07:42.768Z"
   },
   {
    "duration": 4,
    "start_time": "2023-02-23T08:07:42.784Z"
   },
   {
    "duration": 10,
    "start_time": "2023-02-23T08:07:42.789Z"
   },
   {
    "duration": 14,
    "start_time": "2023-02-23T08:10:46.175Z"
   },
   {
    "duration": 9,
    "start_time": "2023-02-23T08:11:07.086Z"
   },
   {
    "duration": 11,
    "start_time": "2023-02-23T08:11:19.999Z"
   },
   {
    "duration": 10,
    "start_time": "2023-02-23T08:11:29.158Z"
   },
   {
    "duration": 91,
    "start_time": "2023-02-23T08:23:37.994Z"
   },
   {
    "duration": 64,
    "start_time": "2023-02-23T08:23:38.280Z"
   },
   {
    "duration": 43,
    "start_time": "2023-02-23T08:26:23.846Z"
   },
   {
    "duration": 8,
    "start_time": "2023-02-23T08:38:07.688Z"
   },
   {
    "duration": 15,
    "start_time": "2023-02-23T08:38:11.311Z"
   },
   {
    "duration": 4,
    "start_time": "2023-02-23T08:40:36.087Z"
   },
   {
    "duration": 51,
    "start_time": "2023-02-23T08:40:39.424Z"
   },
   {
    "duration": 5,
    "start_time": "2023-02-23T08:40:47.969Z"
   },
   {
    "duration": 12,
    "start_time": "2023-02-23T08:40:55.034Z"
   },
   {
    "duration": 40,
    "start_time": "2023-02-23T08:41:13.621Z"
   },
   {
    "duration": 4,
    "start_time": "2023-02-23T08:41:19.535Z"
   },
   {
    "duration": 40,
    "start_time": "2023-02-23T08:42:35.105Z"
   },
   {
    "duration": 49,
    "start_time": "2023-02-23T08:42:35.483Z"
   },
   {
    "duration": 13,
    "start_time": "2023-02-23T08:42:43.826Z"
   },
   {
    "duration": 10,
    "start_time": "2023-02-23T08:42:44.829Z"
   },
   {
    "duration": 32,
    "start_time": "2023-02-23T08:42:49.504Z"
   },
   {
    "duration": 10,
    "start_time": "2023-02-23T08:43:00.858Z"
   },
   {
    "duration": 25,
    "start_time": "2023-02-23T08:43:28.413Z"
   },
   {
    "duration": 1172,
    "start_time": "2023-02-23T08:45:32.146Z"
   },
   {
    "duration": 72,
    "start_time": "2023-02-23T08:45:33.320Z"
   },
   {
    "duration": 4,
    "start_time": "2023-02-23T08:45:33.394Z"
   },
   {
    "duration": 9,
    "start_time": "2023-02-23T08:45:33.400Z"
   },
   {
    "duration": 14,
    "start_time": "2023-02-23T08:45:33.411Z"
   },
   {
    "duration": 4,
    "start_time": "2023-02-23T08:45:33.426Z"
   },
   {
    "duration": 12,
    "start_time": "2023-02-23T08:45:33.431Z"
   },
   {
    "duration": 33,
    "start_time": "2023-02-23T08:45:33.444Z"
   },
   {
    "duration": 24,
    "start_time": "2023-02-23T08:45:33.479Z"
   },
   {
    "duration": 15,
    "start_time": "2023-02-23T08:45:33.505Z"
   },
   {
    "duration": 4,
    "start_time": "2023-02-23T08:45:33.521Z"
   },
   {
    "duration": 5,
    "start_time": "2023-02-23T08:45:45.042Z"
   },
   {
    "duration": 14,
    "start_time": "2023-02-23T08:45:53.745Z"
   },
   {
    "duration": 299,
    "start_time": "2023-02-23T08:46:26.320Z"
   },
   {
    "duration": 1035,
    "start_time": "2023-02-23T08:48:19.371Z"
   },
   {
    "duration": 66,
    "start_time": "2023-02-23T08:48:20.408Z"
   },
   {
    "duration": 3,
    "start_time": "2023-02-23T08:48:20.475Z"
   },
   {
    "duration": 7,
    "start_time": "2023-02-23T08:48:20.480Z"
   },
   {
    "duration": 15,
    "start_time": "2023-02-23T08:48:20.489Z"
   },
   {
    "duration": 11,
    "start_time": "2023-02-23T08:48:20.506Z"
   },
   {
    "duration": 12,
    "start_time": "2023-02-23T08:48:20.518Z"
   },
   {
    "duration": 36,
    "start_time": "2023-02-23T08:48:20.531Z"
   },
   {
    "duration": 13,
    "start_time": "2023-02-23T08:48:20.569Z"
   },
   {
    "duration": 24,
    "start_time": "2023-02-23T08:48:20.584Z"
   },
   {
    "duration": 6,
    "start_time": "2023-02-23T08:48:20.610Z"
   },
   {
    "duration": 275,
    "start_time": "2023-02-23T08:48:20.617Z"
   },
   {
    "duration": 244,
    "start_time": "2023-02-23T08:48:20.894Z"
   },
   {
    "duration": 173,
    "start_time": "2023-02-23T08:48:21.140Z"
   },
   {
    "duration": 267,
    "start_time": "2023-02-23T08:48:21.315Z"
   },
   {
    "duration": 300,
    "start_time": "2023-02-23T08:48:21.584Z"
   },
   {
    "duration": 0,
    "start_time": "2023-02-23T08:48:21.886Z"
   },
   {
    "duration": 157,
    "start_time": "2023-02-23T08:49:59.860Z"
   },
   {
    "duration": 153,
    "start_time": "2023-02-23T08:50:08.578Z"
   },
   {
    "duration": 271,
    "start_time": "2023-02-23T08:50:14.403Z"
   },
   {
    "duration": 274,
    "start_time": "2023-02-23T08:56:09.767Z"
   },
   {
    "duration": 183,
    "start_time": "2023-02-23T08:56:28.145Z"
   },
   {
    "duration": 169,
    "start_time": "2023-02-23T08:57:07.743Z"
   },
   {
    "duration": 210,
    "start_time": "2023-02-23T08:58:43.230Z"
   },
   {
    "duration": 145,
    "start_time": "2023-02-23T08:58:50.892Z"
   },
   {
    "duration": 169,
    "start_time": "2023-02-23T08:59:09.328Z"
   },
   {
    "duration": 147,
    "start_time": "2023-02-23T09:01:11.069Z"
   },
   {
    "duration": 152,
    "start_time": "2023-02-23T09:08:05.093Z"
   },
   {
    "duration": 152,
    "start_time": "2023-02-23T09:12:42.096Z"
   },
   {
    "duration": 297,
    "start_time": "2023-02-23T09:25:08.304Z"
   },
   {
    "duration": 182,
    "start_time": "2023-02-23T09:31:47.171Z"
   },
   {
    "duration": 183,
    "start_time": "2023-02-23T09:32:07.999Z"
   },
   {
    "duration": 188,
    "start_time": "2023-02-23T09:32:33.019Z"
   },
   {
    "duration": 4,
    "start_time": "2023-02-23T09:34:17.577Z"
   },
   {
    "duration": 230,
    "start_time": "2023-02-23T09:34:30.979Z"
   },
   {
    "duration": 147,
    "start_time": "2023-02-23T09:34:42.256Z"
   },
   {
    "duration": 168,
    "start_time": "2023-02-23T09:34:58.091Z"
   },
   {
    "duration": 150,
    "start_time": "2023-02-23T09:36:42.263Z"
   },
   {
    "duration": 306,
    "start_time": "2023-02-23T09:42:36.105Z"
   },
   {
    "duration": 293,
    "start_time": "2023-02-23T09:43:22.880Z"
   },
   {
    "duration": 282,
    "start_time": "2023-02-23T09:45:23.687Z"
   },
   {
    "duration": 13,
    "start_time": "2023-02-23T09:57:05.449Z"
   },
   {
    "duration": 8,
    "start_time": "2023-02-23T09:59:00.923Z"
   },
   {
    "duration": 3,
    "start_time": "2023-02-23T10:01:56.660Z"
   },
   {
    "duration": 8,
    "start_time": "2023-02-23T10:02:38.477Z"
   },
   {
    "duration": 9,
    "start_time": "2023-02-23T10:03:00.135Z"
   },
   {
    "duration": 9,
    "start_time": "2023-02-23T10:03:12.964Z"
   },
   {
    "duration": 8,
    "start_time": "2023-02-23T10:03:48.642Z"
   },
   {
    "duration": 11,
    "start_time": "2023-02-23T10:04:03.689Z"
   },
   {
    "duration": 7,
    "start_time": "2023-02-23T10:04:19.085Z"
   },
   {
    "duration": 11,
    "start_time": "2023-02-23T10:04:27.225Z"
   },
   {
    "duration": 12,
    "start_time": "2023-02-23T10:04:44.686Z"
   },
   {
    "duration": 11,
    "start_time": "2023-02-23T10:04:51.644Z"
   },
   {
    "duration": 110,
    "start_time": "2023-02-23T10:05:39.410Z"
   },
   {
    "duration": 101,
    "start_time": "2023-02-23T10:06:59.600Z"
   },
   {
    "duration": 104,
    "start_time": "2023-02-23T10:07:04.110Z"
   },
   {
    "duration": 102,
    "start_time": "2023-02-23T10:07:21.043Z"
   },
   {
    "duration": 41,
    "start_time": "2023-02-23T10:09:25.446Z"
   },
   {
    "duration": 8,
    "start_time": "2023-02-23T10:10:00.903Z"
   },
   {
    "duration": 5,
    "start_time": "2023-02-23T10:10:54.846Z"
   },
   {
    "duration": 6,
    "start_time": "2023-02-23T10:11:02.686Z"
   },
   {
    "duration": 138,
    "start_time": "2023-02-23T10:17:04.614Z"
   },
   {
    "duration": 124,
    "start_time": "2023-02-23T10:17:16.493Z"
   },
   {
    "duration": 114,
    "start_time": "2023-02-23T10:17:22.687Z"
   },
   {
    "duration": 118,
    "start_time": "2023-02-23T10:17:36.992Z"
   },
   {
    "duration": 5,
    "start_time": "2023-02-23T10:19:50.790Z"
   },
   {
    "duration": 134,
    "start_time": "2023-02-23T10:25:13.994Z"
   },
   {
    "duration": 162,
    "start_time": "2023-02-23T10:25:37.375Z"
   },
   {
    "duration": 147,
    "start_time": "2023-02-23T10:26:18.410Z"
   },
   {
    "duration": 1045,
    "start_time": "2023-02-23T10:29:24.116Z"
   },
   {
    "duration": 71,
    "start_time": "2023-02-23T10:29:25.163Z"
   },
   {
    "duration": 3,
    "start_time": "2023-02-23T10:29:25.236Z"
   },
   {
    "duration": 9,
    "start_time": "2023-02-23T10:29:25.241Z"
   },
   {
    "duration": 15,
    "start_time": "2023-02-23T10:29:25.251Z"
   },
   {
    "duration": 9,
    "start_time": "2023-02-23T10:29:25.268Z"
   },
   {
    "duration": 31,
    "start_time": "2023-02-23T10:29:25.279Z"
   },
   {
    "duration": 40,
    "start_time": "2023-02-23T10:29:25.312Z"
   },
   {
    "duration": 21,
    "start_time": "2023-02-23T10:29:25.354Z"
   },
   {
    "duration": 16,
    "start_time": "2023-02-23T10:29:25.378Z"
   },
   {
    "duration": 5,
    "start_time": "2023-02-23T10:29:25.396Z"
   },
   {
    "duration": 304,
    "start_time": "2023-02-23T10:29:25.403Z"
   },
   {
    "duration": 255,
    "start_time": "2023-02-23T10:29:25.708Z"
   },
   {
    "duration": 180,
    "start_time": "2023-02-23T10:29:25.965Z"
   },
   {
    "duration": 245,
    "start_time": "2023-02-23T10:29:26.147Z"
   },
   {
    "duration": 159,
    "start_time": "2023-02-23T10:29:26.394Z"
   },
   {
    "duration": 313,
    "start_time": "2023-02-23T10:29:26.554Z"
   },
   {
    "duration": 12,
    "start_time": "2023-02-23T10:29:26.869Z"
   },
   {
    "duration": 28,
    "start_time": "2023-02-23T10:29:26.883Z"
   },
   {
    "duration": 113,
    "start_time": "2023-02-23T10:29:26.912Z"
   },
   {
    "duration": 107,
    "start_time": "2023-02-23T10:29:27.027Z"
   },
   {
    "duration": 4,
    "start_time": "2023-02-23T10:29:27.136Z"
   },
   {
    "duration": 126,
    "start_time": "2023-02-23T10:29:27.141Z"
   },
   {
    "duration": 122,
    "start_time": "2023-02-23T10:29:27.268Z"
   },
   {
    "duration": 0,
    "start_time": "2023-02-23T10:29:27.392Z"
   },
   {
    "duration": 0,
    "start_time": "2023-02-23T10:29:27.393Z"
   },
   {
    "duration": 0,
    "start_time": "2023-02-23T10:29:27.394Z"
   },
   {
    "duration": 0,
    "start_time": "2023-02-23T10:29:27.395Z"
   },
   {
    "duration": 0,
    "start_time": "2023-02-23T10:29:27.410Z"
   },
   {
    "duration": 128,
    "start_time": "2023-02-23T10:29:40.447Z"
   },
   {
    "duration": 5,
    "start_time": "2023-02-23T10:29:43.667Z"
   },
   {
    "duration": 270,
    "start_time": "2023-02-23T10:29:47.814Z"
   },
   {
    "duration": 132,
    "start_time": "2023-02-23T10:29:48.792Z"
   },
   {
    "duration": 7,
    "start_time": "2023-02-23T10:29:49.920Z"
   },
   {
    "duration": 177,
    "start_time": "2023-02-23T10:29:50.868Z"
   },
   {
    "duration": 10,
    "start_time": "2023-02-23T10:32:45.552Z"
   },
   {
    "duration": 11,
    "start_time": "2023-02-23T10:34:04.532Z"
   },
   {
    "duration": 8,
    "start_time": "2023-02-23T10:34:28.309Z"
   },
   {
    "duration": 7,
    "start_time": "2023-02-23T10:34:28.931Z"
   },
   {
    "duration": 13,
    "start_time": "2023-02-23T10:36:06.168Z"
   },
   {
    "duration": 984,
    "start_time": "2023-02-23T10:37:38.349Z"
   },
   {
    "duration": 71,
    "start_time": "2023-02-23T10:37:39.335Z"
   },
   {
    "duration": 3,
    "start_time": "2023-02-23T10:37:39.407Z"
   },
   {
    "duration": 9,
    "start_time": "2023-02-23T10:37:39.412Z"
   },
   {
    "duration": 13,
    "start_time": "2023-02-23T10:37:39.423Z"
   },
   {
    "duration": 3,
    "start_time": "2023-02-23T10:37:39.438Z"
   },
   {
    "duration": 11,
    "start_time": "2023-02-23T10:37:39.443Z"
   },
   {
    "duration": 33,
    "start_time": "2023-02-23T10:37:39.455Z"
   },
   {
    "duration": 13,
    "start_time": "2023-02-23T10:37:39.490Z"
   },
   {
    "duration": 20,
    "start_time": "2023-02-23T10:37:39.505Z"
   },
   {
    "duration": 5,
    "start_time": "2023-02-23T10:37:39.526Z"
   },
   {
    "duration": 278,
    "start_time": "2023-02-23T10:37:39.532Z"
   },
   {
    "duration": 251,
    "start_time": "2023-02-23T10:37:39.812Z"
   },
   {
    "duration": 162,
    "start_time": "2023-02-23T10:37:40.066Z"
   },
   {
    "duration": 267,
    "start_time": "2023-02-23T10:37:40.230Z"
   },
   {
    "duration": 160,
    "start_time": "2023-02-23T10:37:40.498Z"
   },
   {
    "duration": 274,
    "start_time": "2023-02-23T10:37:40.659Z"
   },
   {
    "duration": 8,
    "start_time": "2023-02-23T10:37:40.934Z"
   },
   {
    "duration": 13,
    "start_time": "2023-02-23T10:37:40.944Z"
   },
   {
    "duration": 112,
    "start_time": "2023-02-23T10:37:40.958Z"
   },
   {
    "duration": 110,
    "start_time": "2023-02-23T10:37:41.071Z"
   },
   {
    "duration": 5,
    "start_time": "2023-02-23T10:37:41.182Z"
   },
   {
    "duration": 129,
    "start_time": "2023-02-23T10:37:41.188Z"
   },
   {
    "duration": 126,
    "start_time": "2023-02-23T10:37:41.318Z"
   },
   {
    "duration": 4,
    "start_time": "2023-02-23T10:37:41.446Z"
   },
   {
    "duration": 286,
    "start_time": "2023-02-23T10:37:41.451Z"
   },
   {
    "duration": 149,
    "start_time": "2023-02-23T10:37:41.739Z"
   },
   {
    "duration": 6,
    "start_time": "2023-02-23T10:37:41.889Z"
   },
   {
    "duration": 158,
    "start_time": "2023-02-23T10:37:41.909Z"
   },
   {
    "duration": 9,
    "start_time": "2023-02-23T10:37:42.069Z"
   },
   {
    "duration": 7,
    "start_time": "2023-02-23T10:37:42.079Z"
   },
   {
    "duration": 28,
    "start_time": "2023-02-23T10:37:42.087Z"
   },
   {
    "duration": 13,
    "start_time": "2023-02-23T10:37:42.117Z"
   },
   {
    "duration": 64,
    "start_time": "2023-02-24T15:32:22.869Z"
   },
   {
    "duration": 1243,
    "start_time": "2023-02-24T15:32:31.159Z"
   },
   {
    "duration": 127,
    "start_time": "2023-02-24T15:32:32.404Z"
   },
   {
    "duration": 8,
    "start_time": "2023-02-24T15:32:32.532Z"
   },
   {
    "duration": 8,
    "start_time": "2023-02-24T15:32:32.542Z"
   },
   {
    "duration": 13,
    "start_time": "2023-02-24T15:32:32.551Z"
   },
   {
    "duration": 3,
    "start_time": "2023-02-24T15:32:32.566Z"
   },
   {
    "duration": 11,
    "start_time": "2023-02-24T15:32:32.571Z"
   },
   {
    "duration": 87,
    "start_time": "2023-02-24T15:32:32.584Z"
   },
   {
    "duration": 14,
    "start_time": "2023-02-24T15:32:32.672Z"
   },
   {
    "duration": 74,
    "start_time": "2023-02-24T15:32:32.690Z"
   },
   {
    "duration": 4,
    "start_time": "2023-02-24T15:32:32.766Z"
   },
   {
    "duration": 306,
    "start_time": "2023-02-24T15:32:32.771Z"
   },
   {
    "duration": 273,
    "start_time": "2023-02-24T15:32:33.080Z"
   },
   {
    "duration": 183,
    "start_time": "2023-02-24T15:32:33.355Z"
   },
   {
    "duration": 296,
    "start_time": "2023-02-24T15:32:33.539Z"
   },
   {
    "duration": 163,
    "start_time": "2023-02-24T15:32:33.837Z"
   },
   {
    "duration": 286,
    "start_time": "2023-02-24T15:32:34.002Z"
   },
   {
    "duration": 8,
    "start_time": "2023-02-24T15:32:34.289Z"
   },
   {
    "duration": 17,
    "start_time": "2023-02-24T15:32:34.315Z"
   },
   {
    "duration": 103,
    "start_time": "2023-02-24T15:32:34.335Z"
   },
   {
    "duration": 112,
    "start_time": "2023-02-24T15:32:34.439Z"
   },
   {
    "duration": 5,
    "start_time": "2023-02-24T15:32:34.552Z"
   },
   {
    "duration": 131,
    "start_time": "2023-02-24T15:32:34.558Z"
   },
   {
    "duration": 147,
    "start_time": "2023-02-24T15:32:34.691Z"
   },
   {
    "duration": 5,
    "start_time": "2023-02-24T15:32:34.839Z"
   },
   {
    "duration": 294,
    "start_time": "2023-02-24T15:32:34.846Z"
   },
   {
    "duration": 162,
    "start_time": "2023-02-24T15:32:35.141Z"
   },
   {
    "duration": 7,
    "start_time": "2023-02-24T15:32:35.309Z"
   },
   {
    "duration": 199,
    "start_time": "2023-02-24T15:32:35.317Z"
   },
   {
    "duration": 10,
    "start_time": "2023-02-24T15:32:35.535Z"
   },
   {
    "duration": 8,
    "start_time": "2023-02-24T15:32:35.546Z"
   },
   {
    "duration": 12,
    "start_time": "2023-02-24T15:32:35.555Z"
   },
   {
    "duration": 13,
    "start_time": "2023-02-24T15:32:35.568Z"
   },
   {
    "duration": 233,
    "start_time": "2023-02-24T15:32:57.046Z"
   },
   {
    "duration": 299,
    "start_time": "2023-02-24T15:33:03.773Z"
   },
   {
    "duration": 188,
    "start_time": "2023-02-24T15:33:10.009Z"
   },
   {
    "duration": 336,
    "start_time": "2023-02-24T15:33:43.609Z"
   },
   {
    "duration": 182,
    "start_time": "2023-02-24T15:33:54.566Z"
   },
   {
    "duration": 200,
    "start_time": "2023-02-24T15:34:03.080Z"
   },
   {
    "duration": 198,
    "start_time": "2023-02-24T15:34:35.437Z"
   },
   {
    "duration": 165,
    "start_time": "2023-02-24T15:34:41.688Z"
   },
   {
    "duration": 183,
    "start_time": "2023-02-24T15:34:56.467Z"
   },
   {
    "duration": 199,
    "start_time": "2023-02-24T15:35:03.940Z"
   },
   {
    "duration": 191,
    "start_time": "2023-02-24T15:35:12.234Z"
   },
   {
    "duration": 234,
    "start_time": "2023-02-24T15:35:15.545Z"
   },
   {
    "duration": 196,
    "start_time": "2023-02-24T15:35:20.205Z"
   },
   {
    "duration": 173,
    "start_time": "2023-02-24T15:35:23.872Z"
   },
   {
    "duration": 204,
    "start_time": "2023-02-24T15:37:07.536Z"
   },
   {
    "duration": 268,
    "start_time": "2023-02-24T15:37:15.729Z"
   },
   {
    "duration": 213,
    "start_time": "2023-02-24T15:37:23.170Z"
   },
   {
    "duration": 189,
    "start_time": "2023-02-24T15:37:30.977Z"
   },
   {
    "duration": 205,
    "start_time": "2023-02-24T15:37:39.131Z"
   },
   {
    "duration": 211,
    "start_time": "2023-02-24T15:37:46.343Z"
   },
   {
    "duration": 218,
    "start_time": "2023-02-24T15:37:53.245Z"
   },
   {
    "duration": 226,
    "start_time": "2023-02-24T15:38:01.968Z"
   },
   {
    "duration": 296,
    "start_time": "2023-02-24T15:38:08.562Z"
   },
   {
    "duration": 193,
    "start_time": "2023-02-24T15:38:18.154Z"
   },
   {
    "duration": 190,
    "start_time": "2023-02-24T15:38:23.478Z"
   },
   {
    "duration": 231,
    "start_time": "2023-02-24T15:40:02.940Z"
   },
   {
    "duration": 211,
    "start_time": "2023-02-24T15:40:17.136Z"
   },
   {
    "duration": 246,
    "start_time": "2023-02-24T15:44:22.689Z"
   },
   {
    "duration": 209,
    "start_time": "2023-02-24T15:44:36.033Z"
   },
   {
    "duration": 210,
    "start_time": "2023-02-24T15:44:39.099Z"
   },
   {
    "duration": 207,
    "start_time": "2023-02-24T15:44:55.295Z"
   },
   {
    "duration": 35,
    "start_time": "2023-02-24T15:48:52.205Z"
   },
   {
    "duration": 238,
    "start_time": "2023-02-24T15:50:24.956Z"
   },
   {
    "duration": 225,
    "start_time": "2023-02-24T15:51:06.436Z"
   },
   {
    "duration": 300,
    "start_time": "2023-02-24T15:51:14.101Z"
   },
   {
    "duration": 175,
    "start_time": "2023-02-24T15:51:59.308Z"
   },
   {
    "duration": 262,
    "start_time": "2023-02-24T15:52:11.834Z"
   },
   {
    "duration": 324,
    "start_time": "2023-02-24T15:52:22.890Z"
   },
   {
    "duration": 303,
    "start_time": "2023-02-24T15:52:38.024Z"
   },
   {
    "duration": 281,
    "start_time": "2023-02-24T15:53:10.963Z"
   },
   {
    "duration": 206,
    "start_time": "2023-02-24T15:53:32.863Z"
   },
   {
    "duration": 154,
    "start_time": "2023-02-24T15:53:43.563Z"
   },
   {
    "duration": 166,
    "start_time": "2023-02-24T15:53:49.623Z"
   },
   {
    "duration": 225,
    "start_time": "2023-02-24T15:55:07.464Z"
   },
   {
    "duration": 341,
    "start_time": "2023-02-24T15:55:33.282Z"
   },
   {
    "duration": 404,
    "start_time": "2023-02-24T15:55:46.146Z"
   },
   {
    "duration": 350,
    "start_time": "2023-02-24T15:55:53.751Z"
   },
   {
    "duration": 343,
    "start_time": "2023-02-24T15:55:58.605Z"
   },
   {
    "duration": 382,
    "start_time": "2023-02-24T15:56:05.584Z"
   },
   {
    "duration": 311,
    "start_time": "2023-02-24T15:56:10.127Z"
   },
   {
    "duration": 280,
    "start_time": "2023-02-24T15:56:31.025Z"
   },
   {
    "duration": 1065,
    "start_time": "2023-02-24T15:57:04.758Z"
   },
   {
    "duration": 73,
    "start_time": "2023-02-24T15:57:05.829Z"
   },
   {
    "duration": 3,
    "start_time": "2023-02-24T15:57:05.903Z"
   },
   {
    "duration": 26,
    "start_time": "2023-02-24T15:57:05.907Z"
   },
   {
    "duration": 13,
    "start_time": "2023-02-24T15:57:05.936Z"
   },
   {
    "duration": 4,
    "start_time": "2023-02-24T15:57:05.951Z"
   },
   {
    "duration": 16,
    "start_time": "2023-02-24T15:57:05.956Z"
   },
   {
    "duration": 49,
    "start_time": "2023-02-24T15:57:05.974Z"
   },
   {
    "duration": 15,
    "start_time": "2023-02-24T15:57:06.025Z"
   },
   {
    "duration": 18,
    "start_time": "2023-02-24T15:57:06.041Z"
   },
   {
    "duration": 4,
    "start_time": "2023-02-24T15:57:06.060Z"
   },
   {
    "duration": 296,
    "start_time": "2023-02-24T15:57:06.065Z"
   },
   {
    "duration": 300,
    "start_time": "2023-02-24T15:57:06.362Z"
   },
   {
    "duration": 266,
    "start_time": "2023-02-24T15:57:06.665Z"
   },
   {
    "duration": 316,
    "start_time": "2023-02-24T15:57:06.933Z"
   },
   {
    "duration": 213,
    "start_time": "2023-02-24T15:57:07.251Z"
   },
   {
    "duration": 291,
    "start_time": "2023-02-24T15:57:07.466Z"
   },
   {
    "duration": 10,
    "start_time": "2023-02-24T15:57:07.758Z"
   },
   {
    "duration": 30,
    "start_time": "2023-02-24T15:57:07.769Z"
   },
   {
    "duration": 130,
    "start_time": "2023-02-24T15:57:07.801Z"
   },
   {
    "duration": 122,
    "start_time": "2023-02-24T15:57:07.933Z"
   },
   {
    "duration": 5,
    "start_time": "2023-02-24T15:57:08.057Z"
   },
   {
    "duration": 181,
    "start_time": "2023-02-24T15:57:08.064Z"
   },
   {
    "duration": 128,
    "start_time": "2023-02-24T15:57:08.247Z"
   },
   {
    "duration": 5,
    "start_time": "2023-02-24T15:57:08.377Z"
   },
   {
    "duration": 297,
    "start_time": "2023-02-24T15:57:08.384Z"
   },
   {
    "duration": 177,
    "start_time": "2023-02-24T15:57:08.682Z"
   },
   {
    "duration": 6,
    "start_time": "2023-02-24T15:57:08.861Z"
   },
   {
    "duration": 176,
    "start_time": "2023-02-24T15:57:08.868Z"
   },
   {
    "duration": 11,
    "start_time": "2023-02-24T15:57:09.046Z"
   },
   {
    "duration": 12,
    "start_time": "2023-02-24T15:57:09.058Z"
   },
   {
    "duration": 13,
    "start_time": "2023-02-24T15:57:09.071Z"
   },
   {
    "duration": 37,
    "start_time": "2023-02-24T15:57:09.086Z"
   },
   {
    "duration": 279,
    "start_time": "2023-02-24T15:57:27.046Z"
   },
   {
    "duration": 271,
    "start_time": "2023-02-24T15:57:44.648Z"
   },
   {
    "duration": 290,
    "start_time": "2023-02-24T15:58:05.637Z"
   },
   {
    "duration": 301,
    "start_time": "2023-02-24T15:58:10.770Z"
   },
   {
    "duration": 345,
    "start_time": "2023-02-24T15:58:17.887Z"
   },
   {
    "duration": 313,
    "start_time": "2023-02-24T15:58:31.434Z"
   },
   {
    "duration": 407,
    "start_time": "2023-02-24T15:59:32.674Z"
   },
   {
    "duration": 390,
    "start_time": "2023-02-24T16:00:07.288Z"
   },
   {
    "duration": 249,
    "start_time": "2023-02-24T16:00:32.287Z"
   },
   {
    "duration": 167,
    "start_time": "2023-02-24T16:00:40.876Z"
   },
   {
    "duration": 183,
    "start_time": "2023-02-24T16:02:09.362Z"
   },
   {
    "duration": 250,
    "start_time": "2023-02-24T16:02:29.003Z"
   },
   {
    "duration": 203,
    "start_time": "2023-02-24T16:02:46.932Z"
   },
   {
    "duration": 149,
    "start_time": "2023-02-24T16:03:09.587Z"
   },
   {
    "duration": 235,
    "start_time": "2023-02-24T16:03:25.303Z"
   },
   {
    "duration": 146,
    "start_time": "2023-02-24T16:03:52.629Z"
   },
   {
    "duration": 143,
    "start_time": "2023-02-24T16:04:23.699Z"
   },
   {
    "duration": 181,
    "start_time": "2023-02-24T16:04:36.694Z"
   },
   {
    "duration": 241,
    "start_time": "2023-02-24T16:04:56.261Z"
   },
   {
    "duration": 134,
    "start_time": "2023-02-24T16:05:03.655Z"
   },
   {
    "duration": 260,
    "start_time": "2023-02-24T16:05:12.829Z"
   },
   {
    "duration": 152,
    "start_time": "2023-02-24T16:05:26.838Z"
   },
   {
    "duration": 161,
    "start_time": "2023-02-24T16:05:56.274Z"
   },
   {
    "duration": 271,
    "start_time": "2023-02-24T16:06:02.812Z"
   },
   {
    "duration": 133,
    "start_time": "2023-02-24T16:06:43.793Z"
   },
   {
    "duration": 131,
    "start_time": "2023-02-24T16:07:33.736Z"
   },
   {
    "duration": 155,
    "start_time": "2023-02-24T16:07:43.308Z"
   },
   {
    "duration": 161,
    "start_time": "2023-02-24T16:07:53.038Z"
   },
   {
    "duration": 201,
    "start_time": "2023-02-24T16:08:03.471Z"
   },
   {
    "duration": 140,
    "start_time": "2023-02-24T16:11:37.503Z"
   },
   {
    "duration": 126,
    "start_time": "2023-02-24T16:12:21.345Z"
   },
   {
    "duration": 216,
    "start_time": "2023-02-24T16:12:59.444Z"
   },
   {
    "duration": 140,
    "start_time": "2023-02-24T16:13:12.739Z"
   },
   {
    "duration": 151,
    "start_time": "2023-02-24T16:13:21.840Z"
   },
   {
    "duration": 12,
    "start_time": "2023-02-24T16:30:24.556Z"
   },
   {
    "duration": 10,
    "start_time": "2023-02-24T16:30:35.153Z"
   },
   {
    "duration": 28,
    "start_time": "2023-02-24T16:31:42.037Z"
   },
   {
    "duration": 43,
    "start_time": "2023-02-24T16:32:15.105Z"
   },
   {
    "duration": 8,
    "start_time": "2023-02-24T16:57:04.983Z"
   },
   {
    "duration": 6,
    "start_time": "2023-02-24T16:57:11.688Z"
   },
   {
    "duration": 12,
    "start_time": "2023-02-24T17:20:29.163Z"
   },
   {
    "duration": 9,
    "start_time": "2023-02-24T17:20:31.256Z"
   },
   {
    "duration": 46,
    "start_time": "2023-02-24T17:20:32.789Z"
   },
   {
    "duration": 17,
    "start_time": "2023-02-24T17:20:34.072Z"
   },
   {
    "duration": 9,
    "start_time": "2023-02-24T17:21:24.767Z"
   },
   {
    "duration": 24,
    "start_time": "2023-02-24T17:21:25.436Z"
   },
   {
    "duration": 29,
    "start_time": "2023-02-24T17:21:26.150Z"
   },
   {
    "duration": 46,
    "start_time": "2023-02-24T17:21:26.831Z"
   },
   {
    "duration": 22,
    "start_time": "2023-02-24T17:22:16.201Z"
   },
   {
    "duration": 15,
    "start_time": "2023-02-24T17:22:18.312Z"
   },
   {
    "duration": 30,
    "start_time": "2023-02-24T17:22:18.803Z"
   },
   {
    "duration": 48,
    "start_time": "2023-02-24T17:22:19.595Z"
   },
   {
    "duration": 8,
    "start_time": "2023-02-24T17:28:24.473Z"
   },
   {
    "duration": 8,
    "start_time": "2023-02-24T17:28:47.568Z"
   },
   {
    "duration": 360,
    "start_time": "2023-02-24T17:32:17.438Z"
   },
   {
    "duration": 333,
    "start_time": "2023-02-24T17:32:37.167Z"
   },
   {
    "duration": 13,
    "start_time": "2023-02-24T17:33:45.667Z"
   },
   {
    "duration": 4,
    "start_time": "2023-02-24T17:34:34.772Z"
   },
   {
    "duration": 6,
    "start_time": "2023-02-24T17:34:42.538Z"
   },
   {
    "duration": 24,
    "start_time": "2023-02-24T17:35:31.661Z"
   },
   {
    "duration": 9,
    "start_time": "2023-02-24T17:37:17.978Z"
   },
   {
    "duration": 63,
    "start_time": "2023-02-24T17:38:37.545Z"
   },
   {
    "duration": 52,
    "start_time": "2023-02-24T17:38:49.253Z"
   },
   {
    "duration": 1322,
    "start_time": "2023-02-24T17:39:08.868Z"
   },
   {
    "duration": 62,
    "start_time": "2023-02-24T17:39:27.177Z"
   },
   {
    "duration": 13,
    "start_time": "2023-02-24T17:39:27.569Z"
   },
   {
    "duration": 25,
    "start_time": "2023-02-24T17:39:28.106Z"
   },
   {
    "duration": 6,
    "start_time": "2023-02-24T17:39:38.668Z"
   },
   {
    "duration": 14,
    "start_time": "2023-02-24T17:40:00.903Z"
   },
   {
    "duration": 79,
    "start_time": "2023-02-24T17:40:20.999Z"
   },
   {
    "duration": 13,
    "start_time": "2023-02-24T17:40:21.376Z"
   },
   {
    "duration": 6,
    "start_time": "2023-02-24T17:40:21.770Z"
   },
   {
    "duration": 7,
    "start_time": "2023-02-24T17:40:22.171Z"
   },
   {
    "duration": 18,
    "start_time": "2023-02-24T17:40:56.756Z"
   },
   {
    "duration": 9,
    "start_time": "2023-02-24T17:40:57.589Z"
   },
   {
    "duration": 6,
    "start_time": "2023-02-24T17:44:38.384Z"
   },
   {
    "duration": 5,
    "start_time": "2023-02-24T17:45:39.387Z"
   },
   {
    "duration": 4,
    "start_time": "2023-02-24T17:46:19.977Z"
   },
   {
    "duration": 5,
    "start_time": "2023-02-24T17:46:31.467Z"
   },
   {
    "duration": 9,
    "start_time": "2023-02-24T17:47:34.766Z"
   },
   {
    "duration": 12,
    "start_time": "2023-02-24T17:47:41.335Z"
   },
   {
    "duration": 15,
    "start_time": "2023-02-24T17:47:53.446Z"
   },
   {
    "duration": 16,
    "start_time": "2023-02-24T17:48:29.990Z"
   },
   {
    "duration": 1070,
    "start_time": "2023-02-24T17:48:46.249Z"
   },
   {
    "duration": 119,
    "start_time": "2023-02-24T17:48:47.320Z"
   },
   {
    "duration": 3,
    "start_time": "2023-02-24T17:48:47.448Z"
   },
   {
    "duration": 6,
    "start_time": "2023-02-24T17:48:47.453Z"
   },
   {
    "duration": 13,
    "start_time": "2023-02-24T17:48:47.461Z"
   },
   {
    "duration": 4,
    "start_time": "2023-02-24T17:48:47.475Z"
   },
   {
    "duration": 13,
    "start_time": "2023-02-24T17:48:47.480Z"
   },
   {
    "duration": 58,
    "start_time": "2023-02-24T17:48:47.495Z"
   },
   {
    "duration": 12,
    "start_time": "2023-02-24T17:48:47.554Z"
   },
   {
    "duration": 12,
    "start_time": "2023-02-24T17:48:47.568Z"
   },
   {
    "duration": 8,
    "start_time": "2023-02-24T17:48:47.581Z"
   },
   {
    "duration": 3,
    "start_time": "2023-02-24T17:48:47.590Z"
   },
   {
    "duration": 32,
    "start_time": "2023-02-24T17:48:47.595Z"
   },
   {
    "duration": 33,
    "start_time": "2023-02-24T17:48:47.629Z"
   },
   {
    "duration": 4,
    "start_time": "2023-02-24T17:48:47.664Z"
   },
   {
    "duration": 298,
    "start_time": "2023-02-24T17:48:47.669Z"
   },
   {
    "duration": 315,
    "start_time": "2023-02-24T17:48:47.969Z"
   },
   {
    "duration": 208,
    "start_time": "2023-02-24T17:48:48.285Z"
   },
   {
    "duration": 333,
    "start_time": "2023-02-24T17:48:48.494Z"
   },
   {
    "duration": 214,
    "start_time": "2023-02-24T17:48:48.828Z"
   },
   {
    "duration": 330,
    "start_time": "2023-02-24T17:48:49.045Z"
   },
   {
    "duration": 9,
    "start_time": "2023-02-24T17:48:49.376Z"
   },
   {
    "duration": 11,
    "start_time": "2023-02-24T17:48:49.387Z"
   },
   {
    "duration": 139,
    "start_time": "2023-02-24T17:48:49.400Z"
   },
   {
    "duration": 127,
    "start_time": "2023-02-24T17:48:49.544Z"
   },
   {
    "duration": 4,
    "start_time": "2023-02-24T17:48:49.672Z"
   },
   {
    "duration": 161,
    "start_time": "2023-02-24T17:48:49.678Z"
   },
   {
    "duration": 153,
    "start_time": "2023-02-24T17:48:49.840Z"
   },
   {
    "duration": 4,
    "start_time": "2023-02-24T17:48:49.995Z"
   },
   {
    "duration": 335,
    "start_time": "2023-02-24T17:48:50.000Z"
   },
   {
    "duration": 155,
    "start_time": "2023-02-24T17:48:50.344Z"
   },
   {
    "duration": 6,
    "start_time": "2023-02-24T17:48:50.500Z"
   },
   {
    "duration": 240,
    "start_time": "2023-02-24T17:48:50.508Z"
   },
   {
    "duration": 11,
    "start_time": "2023-02-24T17:48:50.750Z"
   },
   {
    "duration": 8,
    "start_time": "2023-02-24T17:48:50.762Z"
   },
   {
    "duration": 7,
    "start_time": "2023-02-24T17:48:50.772Z"
   },
   {
    "duration": 47,
    "start_time": "2023-02-24T17:48:50.780Z"
   },
   {
    "duration": 19,
    "start_time": "2023-02-24T17:48:50.828Z"
   },
   {
    "duration": 3,
    "start_time": "2023-02-24T17:53:30.430Z"
   },
   {
    "duration": 156,
    "start_time": "2023-02-24T17:53:35.191Z"
   },
   {
    "duration": 11,
    "start_time": "2023-02-24T17:53:39.287Z"
   },
   {
    "duration": 10,
    "start_time": "2023-02-24T17:53:39.673Z"
   },
   {
    "duration": 7,
    "start_time": "2023-02-24T17:53:40.057Z"
   },
   {
    "duration": 1108,
    "start_time": "2023-02-24T17:54:11.563Z"
   },
   {
    "duration": 72,
    "start_time": "2023-02-24T17:54:12.673Z"
   },
   {
    "duration": 10,
    "start_time": "2023-02-24T17:54:12.756Z"
   },
   {
    "duration": 6,
    "start_time": "2023-02-24T17:54:12.768Z"
   },
   {
    "duration": 13,
    "start_time": "2023-02-24T17:54:12.776Z"
   },
   {
    "duration": 3,
    "start_time": "2023-02-24T17:54:12.790Z"
   },
   {
    "duration": 27,
    "start_time": "2023-02-24T17:54:12.795Z"
   },
   {
    "duration": 69,
    "start_time": "2023-02-24T17:54:12.828Z"
   },
   {
    "duration": 37,
    "start_time": "2023-02-24T17:54:12.898Z"
   },
   {
    "duration": 42,
    "start_time": "2023-02-24T17:54:12.937Z"
   },
   {
    "duration": 8,
    "start_time": "2023-02-24T17:54:12.981Z"
   },
   {
    "duration": 5,
    "start_time": "2023-02-24T17:54:12.991Z"
   },
   {
    "duration": 27,
    "start_time": "2023-02-24T17:54:12.998Z"
   },
   {
    "duration": 59,
    "start_time": "2023-02-24T17:54:13.027Z"
   },
   {
    "duration": 5,
    "start_time": "2023-02-24T17:54:13.088Z"
   },
   {
    "duration": 361,
    "start_time": "2023-02-24T17:54:13.095Z"
   },
   {
    "duration": 321,
    "start_time": "2023-02-24T17:54:13.458Z"
   },
   {
    "duration": 219,
    "start_time": "2023-02-24T17:54:13.780Z"
   },
   {
    "duration": 305,
    "start_time": "2023-02-24T17:54:14.001Z"
   },
   {
    "duration": 232,
    "start_time": "2023-02-24T17:54:14.315Z"
   },
   {
    "duration": 310,
    "start_time": "2023-02-24T17:54:14.549Z"
   },
   {
    "duration": 10,
    "start_time": "2023-02-24T17:54:14.860Z"
   },
   {
    "duration": 12,
    "start_time": "2023-02-24T17:54:14.872Z"
   },
   {
    "duration": 173,
    "start_time": "2023-02-24T17:54:14.886Z"
   },
   {
    "duration": 138,
    "start_time": "2023-02-24T17:54:15.064Z"
   },
   {
    "duration": 14,
    "start_time": "2023-02-24T17:54:15.204Z"
   },
   {
    "duration": 183,
    "start_time": "2023-02-24T17:54:15.220Z"
   },
   {
    "duration": 183,
    "start_time": "2023-02-24T17:54:15.406Z"
   },
   {
    "duration": 5,
    "start_time": "2023-02-24T17:54:15.591Z"
   },
   {
    "duration": 350,
    "start_time": "2023-02-24T17:54:15.597Z"
   },
   {
    "duration": 178,
    "start_time": "2023-02-24T17:54:15.948Z"
   },
   {
    "duration": 24,
    "start_time": "2023-02-24T17:54:16.139Z"
   },
   {
    "duration": 195,
    "start_time": "2023-02-24T17:54:16.164Z"
   },
   {
    "duration": 14,
    "start_time": "2023-02-24T17:54:16.360Z"
   },
   {
    "duration": 9,
    "start_time": "2023-02-24T17:54:16.376Z"
   },
   {
    "duration": 12,
    "start_time": "2023-02-24T17:54:16.386Z"
   },
   {
    "duration": 47,
    "start_time": "2023-02-24T17:54:16.400Z"
   },
   {
    "duration": 29,
    "start_time": "2023-02-24T17:54:16.448Z"
   },
   {
    "duration": 42,
    "start_time": "2023-02-24T17:58:55.959Z"
   },
   {
    "duration": 20,
    "start_time": "2023-02-24T17:58:56.368Z"
   },
   {
    "duration": 28,
    "start_time": "2023-02-24T17:58:57.135Z"
   },
   {
    "duration": 23,
    "start_time": "2023-02-24T17:58:58.000Z"
   },
   {
    "duration": 11,
    "start_time": "2023-02-24T17:59:00.440Z"
   },
   {
    "duration": 15,
    "start_time": "2023-02-24T17:59:00.976Z"
   },
   {
    "duration": 70,
    "start_time": "2023-02-24T18:05:31.115Z"
   },
   {
    "duration": 41,
    "start_time": "2023-02-24T18:05:31.507Z"
   },
   {
    "duration": 461,
    "start_time": "2023-02-24T18:05:48.808Z"
   },
   {
    "duration": 6,
    "start_time": "2023-02-24T18:06:03.263Z"
   },
   {
    "duration": 397,
    "start_time": "2023-02-24T18:06:07.992Z"
   },
   {
    "duration": 54,
    "start_time": "2023-02-24T18:06:17.838Z"
   },
   {
    "duration": 13,
    "start_time": "2023-02-24T18:06:18.468Z"
   },
   {
    "duration": 11,
    "start_time": "2023-02-24T18:06:27.944Z"
   },
   {
    "duration": 6,
    "start_time": "2023-02-24T18:06:54.594Z"
   },
   {
    "duration": 373,
    "start_time": "2023-02-24T18:07:05.408Z"
   },
   {
    "duration": 1235,
    "start_time": "2023-02-24T18:07:22.836Z"
   },
   {
    "duration": 83,
    "start_time": "2023-02-24T18:07:24.072Z"
   },
   {
    "duration": 14,
    "start_time": "2023-02-24T18:07:24.156Z"
   },
   {
    "duration": 16,
    "start_time": "2023-02-24T18:07:24.171Z"
   },
   {
    "duration": 65,
    "start_time": "2023-02-24T18:07:24.189Z"
   },
   {
    "duration": 18,
    "start_time": "2023-02-24T18:07:24.255Z"
   },
   {
    "duration": 25,
    "start_time": "2023-02-24T18:07:24.275Z"
   },
   {
    "duration": 75,
    "start_time": "2023-02-24T18:07:24.302Z"
   },
   {
    "duration": 14,
    "start_time": "2023-02-24T18:07:24.378Z"
   },
   {
    "duration": 46,
    "start_time": "2023-02-24T18:07:24.393Z"
   },
   {
    "duration": 32,
    "start_time": "2023-02-24T18:07:24.444Z"
   },
   {
    "duration": 3,
    "start_time": "2023-02-24T18:07:24.478Z"
   },
   {
    "duration": 24,
    "start_time": "2023-02-24T18:07:24.483Z"
   },
   {
    "duration": 67,
    "start_time": "2023-02-24T18:07:24.510Z"
   },
   {
    "duration": 11,
    "start_time": "2023-02-24T18:07:24.579Z"
   },
   {
    "duration": 370,
    "start_time": "2023-02-24T18:07:24.591Z"
   },
   {
    "duration": 377,
    "start_time": "2023-02-24T18:07:24.963Z"
   },
   {
    "duration": 236,
    "start_time": "2023-02-24T18:07:25.342Z"
   },
   {
    "duration": 321,
    "start_time": "2023-02-24T18:07:25.580Z"
   },
   {
    "duration": 265,
    "start_time": "2023-02-24T18:07:25.902Z"
   },
   {
    "duration": 323,
    "start_time": "2023-02-24T18:07:26.172Z"
   },
   {
    "duration": 9,
    "start_time": "2023-02-24T18:07:26.497Z"
   },
   {
    "duration": 76,
    "start_time": "2023-02-24T18:07:26.507Z"
   },
   {
    "duration": 152,
    "start_time": "2023-02-24T18:07:26.585Z"
   },
   {
    "duration": 249,
    "start_time": "2023-02-24T18:07:26.738Z"
   },
   {
    "duration": 7,
    "start_time": "2023-02-24T18:07:26.999Z"
   },
   {
    "duration": 299,
    "start_time": "2023-02-24T18:07:27.008Z"
   },
   {
    "duration": 191,
    "start_time": "2023-02-24T18:07:27.309Z"
   },
   {
    "duration": 28,
    "start_time": "2023-02-24T18:07:27.502Z"
   },
   {
    "duration": 368,
    "start_time": "2023-02-24T18:07:27.532Z"
   },
   {
    "duration": 187,
    "start_time": "2023-02-24T18:07:27.902Z"
   },
   {
    "duration": 8,
    "start_time": "2023-02-24T18:07:28.091Z"
   },
   {
    "duration": 242,
    "start_time": "2023-02-24T18:07:28.101Z"
   },
   {
    "duration": 15,
    "start_time": "2023-02-24T18:07:28.344Z"
   },
   {
    "duration": 31,
    "start_time": "2023-02-24T18:07:28.360Z"
   },
   {
    "duration": 9,
    "start_time": "2023-02-24T18:07:28.393Z"
   },
   {
    "duration": 52,
    "start_time": "2023-02-24T18:07:28.403Z"
   },
   {
    "duration": 21,
    "start_time": "2023-02-24T18:07:28.457Z"
   },
   {
    "duration": 459,
    "start_time": "2023-02-24T18:07:39.432Z"
   },
   {
    "duration": 1133,
    "start_time": "2023-02-24T18:07:53.638Z"
   },
   {
    "duration": 92,
    "start_time": "2023-02-24T18:07:54.775Z"
   },
   {
    "duration": 4,
    "start_time": "2023-02-24T18:07:54.872Z"
   },
   {
    "duration": 10,
    "start_time": "2023-02-24T18:07:54.877Z"
   },
   {
    "duration": 19,
    "start_time": "2023-02-24T18:07:54.889Z"
   },
   {
    "duration": 52,
    "start_time": "2023-02-24T18:07:54.919Z"
   },
   {
    "duration": 22,
    "start_time": "2023-02-24T18:07:54.973Z"
   },
   {
    "duration": 74,
    "start_time": "2023-02-24T18:07:54.996Z"
   },
   {
    "duration": 19,
    "start_time": "2023-02-24T18:07:55.071Z"
   },
   {
    "duration": 11,
    "start_time": "2023-02-24T18:07:55.092Z"
   },
   {
    "duration": 17,
    "start_time": "2023-02-24T18:07:55.105Z"
   },
   {
    "duration": 54,
    "start_time": "2023-02-24T18:07:55.123Z"
   },
   {
    "duration": 16,
    "start_time": "2023-02-24T18:07:55.179Z"
   },
   {
    "duration": 40,
    "start_time": "2023-02-24T18:07:55.199Z"
   },
   {
    "duration": 23,
    "start_time": "2023-02-24T18:07:55.240Z"
   },
   {
    "duration": 381,
    "start_time": "2023-02-24T18:07:55.267Z"
   },
   {
    "duration": 345,
    "start_time": "2023-02-24T18:07:55.650Z"
   },
   {
    "duration": 278,
    "start_time": "2023-02-24T18:07:55.997Z"
   },
   {
    "duration": 323,
    "start_time": "2023-02-24T18:07:56.284Z"
   },
   {
    "duration": 278,
    "start_time": "2023-02-24T18:07:56.609Z"
   },
   {
    "duration": 374,
    "start_time": "2023-02-24T18:07:56.889Z"
   },
   {
    "duration": 11,
    "start_time": "2023-02-24T18:07:57.271Z"
   },
   {
    "duration": 19,
    "start_time": "2023-02-24T18:07:57.284Z"
   },
   {
    "duration": 213,
    "start_time": "2023-02-24T18:07:57.305Z"
   },
   {
    "duration": 170,
    "start_time": "2023-02-24T18:07:57.519Z"
   },
   {
    "duration": 6,
    "start_time": "2023-02-24T18:07:57.690Z"
   },
   {
    "duration": 180,
    "start_time": "2023-02-24T18:07:57.697Z"
   },
   {
    "duration": 170,
    "start_time": "2023-02-24T18:07:57.879Z"
   },
   {
    "duration": 13,
    "start_time": "2023-02-24T18:07:58.050Z"
   },
   {
    "duration": 336,
    "start_time": "2023-02-24T18:07:58.064Z"
   },
   {
    "duration": 200,
    "start_time": "2023-02-24T18:07:58.402Z"
   },
   {
    "duration": 6,
    "start_time": "2023-02-24T18:07:58.603Z"
   },
   {
    "duration": 243,
    "start_time": "2023-02-24T18:07:58.620Z"
   },
   {
    "duration": 16,
    "start_time": "2023-02-24T18:07:58.865Z"
   },
   {
    "duration": 10,
    "start_time": "2023-02-24T18:07:58.882Z"
   },
   {
    "duration": 8,
    "start_time": "2023-02-24T18:07:58.893Z"
   },
   {
    "duration": 69,
    "start_time": "2023-02-24T18:07:58.903Z"
   },
   {
    "duration": 14,
    "start_time": "2023-02-24T18:07:58.973Z"
   },
   {
    "duration": 49,
    "start_time": "2023-02-25T09:28:05.932Z"
   },
   {
    "duration": 1157,
    "start_time": "2023-02-25T09:28:21.703Z"
   },
   {
    "duration": 125,
    "start_time": "2023-02-25T09:28:22.863Z"
   },
   {
    "duration": 3,
    "start_time": "2023-02-25T09:28:22.990Z"
   },
   {
    "duration": 14,
    "start_time": "2023-02-25T09:28:22.995Z"
   },
   {
    "duration": 16,
    "start_time": "2023-02-25T09:28:23.011Z"
   },
   {
    "duration": 4,
    "start_time": "2023-02-25T09:28:23.029Z"
   },
   {
    "duration": 19,
    "start_time": "2023-02-25T09:28:23.034Z"
   },
   {
    "duration": 77,
    "start_time": "2023-02-25T09:28:23.055Z"
   },
   {
    "duration": 13,
    "start_time": "2023-02-25T09:28:23.134Z"
   },
   {
    "duration": 12,
    "start_time": "2023-02-25T09:28:23.148Z"
   },
   {
    "duration": 7,
    "start_time": "2023-02-25T09:28:23.162Z"
   },
   {
    "duration": 4,
    "start_time": "2023-02-25T09:28:23.170Z"
   },
   {
    "duration": 15,
    "start_time": "2023-02-25T09:28:23.175Z"
   },
   {
    "duration": 62,
    "start_time": "2023-02-25T09:28:23.193Z"
   },
   {
    "duration": 5,
    "start_time": "2023-02-25T09:28:23.256Z"
   },
   {
    "duration": 284,
    "start_time": "2023-02-25T09:28:23.263Z"
   },
   {
    "duration": 290,
    "start_time": "2023-02-25T09:28:23.552Z"
   },
   {
    "duration": 203,
    "start_time": "2023-02-25T09:28:23.844Z"
   },
   {
    "duration": 354,
    "start_time": "2023-02-25T09:28:24.052Z"
   },
   {
    "duration": 199,
    "start_time": "2023-02-25T09:28:24.408Z"
   },
   {
    "duration": 325,
    "start_time": "2023-02-25T09:28:24.609Z"
   },
   {
    "duration": 9,
    "start_time": "2023-02-25T09:28:24.936Z"
   },
   {
    "duration": 12,
    "start_time": "2023-02-25T09:28:24.954Z"
   },
   {
    "duration": 153,
    "start_time": "2023-02-25T09:28:24.968Z"
   },
   {
    "duration": 138,
    "start_time": "2023-02-25T09:28:25.123Z"
   },
   {
    "duration": 5,
    "start_time": "2023-02-25T09:28:25.263Z"
   },
   {
    "duration": 160,
    "start_time": "2023-02-25T09:28:25.270Z"
   },
   {
    "duration": 161,
    "start_time": "2023-02-25T09:28:25.432Z"
   },
   {
    "duration": 4,
    "start_time": "2023-02-25T09:28:25.595Z"
   },
   {
    "duration": 321,
    "start_time": "2023-02-25T09:28:25.602Z"
   },
   {
    "duration": 169,
    "start_time": "2023-02-25T09:28:25.925Z"
   },
   {
    "duration": 8,
    "start_time": "2023-02-25T09:28:26.095Z"
   },
   {
    "duration": 173,
    "start_time": "2023-02-25T09:28:26.105Z"
   },
   {
    "duration": 12,
    "start_time": "2023-02-25T09:28:26.281Z"
   },
   {
    "duration": 10,
    "start_time": "2023-02-25T09:28:26.294Z"
   },
   {
    "duration": 8,
    "start_time": "2023-02-25T09:28:26.306Z"
   },
   {
    "duration": 52,
    "start_time": "2023-02-25T09:28:26.316Z"
   },
   {
    "duration": 16,
    "start_time": "2023-02-25T09:28:26.370Z"
   },
   {
    "duration": 13,
    "start_time": "2023-02-25T09:28:41.307Z"
   },
   {
    "duration": 7,
    "start_time": "2023-02-25T09:31:11.529Z"
   },
   {
    "duration": 16,
    "start_time": "2023-02-25T09:31:30.910Z"
   },
   {
    "duration": 6,
    "start_time": "2023-02-25T09:31:59.161Z"
   },
   {
    "duration": 6,
    "start_time": "2023-02-25T09:33:29.696Z"
   },
   {
    "duration": 6,
    "start_time": "2023-02-25T09:33:37.102Z"
   },
   {
    "duration": 8,
    "start_time": "2023-02-25T09:38:57.345Z"
   },
   {
    "duration": 9,
    "start_time": "2023-02-25T09:39:23.122Z"
   },
   {
    "duration": 9,
    "start_time": "2023-02-25T09:39:23.944Z"
   },
   {
    "duration": 4,
    "start_time": "2023-02-25T09:39:24.797Z"
   },
   {
    "duration": 6,
    "start_time": "2023-02-25T09:39:25.287Z"
   },
   {
    "duration": 13,
    "start_time": "2023-02-25T09:39:36.005Z"
   },
   {
    "duration": 6,
    "start_time": "2023-02-25T09:40:21.194Z"
   },
   {
    "duration": 6,
    "start_time": "2023-02-25T09:44:53.689Z"
   },
   {
    "duration": 3,
    "start_time": "2023-02-25T09:44:55.003Z"
   },
   {
    "duration": 100,
    "start_time": "2023-02-25T09:45:02.280Z"
   },
   {
    "duration": 13,
    "start_time": "2023-02-25T09:45:19.482Z"
   },
   {
    "duration": 11,
    "start_time": "2023-02-25T09:45:23.404Z"
   },
   {
    "duration": 12,
    "start_time": "2023-02-25T09:45:45.818Z"
   },
   {
    "duration": 1048,
    "start_time": "2023-02-25T09:46:05.489Z"
   },
   {
    "duration": 84,
    "start_time": "2023-02-25T09:46:06.539Z"
   },
   {
    "duration": 3,
    "start_time": "2023-02-25T09:46:06.625Z"
   },
   {
    "duration": 15,
    "start_time": "2023-02-25T09:46:06.630Z"
   },
   {
    "duration": 23,
    "start_time": "2023-02-25T09:46:06.647Z"
   },
   {
    "duration": 4,
    "start_time": "2023-02-25T09:46:06.672Z"
   },
   {
    "duration": 31,
    "start_time": "2023-02-25T09:46:06.678Z"
   },
   {
    "duration": 42,
    "start_time": "2023-02-25T09:46:06.711Z"
   },
   {
    "duration": 14,
    "start_time": "2023-02-25T09:46:06.755Z"
   },
   {
    "duration": 39,
    "start_time": "2023-02-25T09:46:06.772Z"
   },
   {
    "duration": 18,
    "start_time": "2023-02-25T09:46:06.813Z"
   },
   {
    "duration": 10,
    "start_time": "2023-02-25T09:46:06.833Z"
   },
   {
    "duration": 15,
    "start_time": "2023-02-25T09:46:06.845Z"
   },
   {
    "duration": 14,
    "start_time": "2023-02-25T09:46:06.861Z"
   },
   {
    "duration": 28,
    "start_time": "2023-02-25T09:46:06.876Z"
   },
   {
    "duration": 5,
    "start_time": "2023-02-25T09:46:06.906Z"
   },
   {
    "duration": 302,
    "start_time": "2023-02-25T09:46:06.913Z"
   },
   {
    "duration": 409,
    "start_time": "2023-02-25T09:46:07.217Z"
   },
   {
    "duration": 233,
    "start_time": "2023-02-25T09:46:07.628Z"
   },
   {
    "duration": 347,
    "start_time": "2023-02-25T09:46:07.863Z"
   },
   {
    "duration": 215,
    "start_time": "2023-02-25T09:46:08.212Z"
   },
   {
    "duration": 350,
    "start_time": "2023-02-25T09:46:08.429Z"
   },
   {
    "duration": 8,
    "start_time": "2023-02-25T09:46:08.781Z"
   },
   {
    "duration": 19,
    "start_time": "2023-02-25T09:46:08.791Z"
   },
   {
    "duration": 148,
    "start_time": "2023-02-25T09:46:08.812Z"
   },
   {
    "duration": 135,
    "start_time": "2023-02-25T09:46:08.962Z"
   },
   {
    "duration": 5,
    "start_time": "2023-02-25T09:46:09.099Z"
   },
   {
    "duration": 158,
    "start_time": "2023-02-25T09:46:09.107Z"
   },
   {
    "duration": 152,
    "start_time": "2023-02-25T09:46:09.267Z"
   },
   {
    "duration": 5,
    "start_time": "2023-02-25T09:46:09.420Z"
   },
   {
    "duration": 339,
    "start_time": "2023-02-25T09:46:09.426Z"
   },
   {
    "duration": 13,
    "start_time": "2023-02-25T09:46:09.767Z"
   },
   {
    "duration": 7,
    "start_time": "2023-02-25T09:46:09.782Z"
   },
   {
    "duration": 64,
    "start_time": "2023-02-25T09:46:09.791Z"
   },
   {
    "duration": 12,
    "start_time": "2023-02-25T09:46:09.856Z"
   },
   {
    "duration": 10,
    "start_time": "2023-02-25T09:46:09.871Z"
   },
   {
    "duration": 17,
    "start_time": "2023-02-25T09:46:09.884Z"
   },
   {
    "duration": 32,
    "start_time": "2023-02-25T09:46:09.903Z"
   },
   {
    "duration": 130,
    "start_time": "2023-02-25T09:46:09.937Z"
   },
   {
    "duration": 13,
    "start_time": "2023-02-25T09:46:28.481Z"
   },
   {
    "duration": 49,
    "start_time": "2023-02-25T09:46:46.284Z"
   },
   {
    "duration": 1042,
    "start_time": "2023-02-25T09:47:33.482Z"
   },
   {
    "duration": 79,
    "start_time": "2023-02-25T09:47:34.526Z"
   },
   {
    "duration": 4,
    "start_time": "2023-02-25T09:47:34.607Z"
   },
   {
    "duration": 15,
    "start_time": "2023-02-25T09:47:34.612Z"
   },
   {
    "duration": 18,
    "start_time": "2023-02-25T09:47:34.630Z"
   },
   {
    "duration": 15,
    "start_time": "2023-02-25T09:47:34.652Z"
   },
   {
    "duration": 19,
    "start_time": "2023-02-25T09:47:34.669Z"
   },
   {
    "duration": 43,
    "start_time": "2023-02-25T09:47:34.690Z"
   },
   {
    "duration": 13,
    "start_time": "2023-02-25T09:47:34.734Z"
   },
   {
    "duration": 15,
    "start_time": "2023-02-25T09:47:34.748Z"
   },
   {
    "duration": 7,
    "start_time": "2023-02-25T09:47:34.765Z"
   },
   {
    "duration": 3,
    "start_time": "2023-02-25T09:47:34.773Z"
   },
   {
    "duration": 10,
    "start_time": "2023-02-25T09:47:34.778Z"
   },
   {
    "duration": 6,
    "start_time": "2023-02-25T09:47:34.791Z"
   },
   {
    "duration": 8,
    "start_time": "2023-02-25T09:47:34.799Z"
   },
   {
    "duration": 17,
    "start_time": "2023-02-25T09:47:34.809Z"
   },
   {
    "duration": 4,
    "start_time": "2023-02-25T09:47:34.828Z"
   },
   {
    "duration": 112,
    "start_time": "2023-02-25T09:47:34.852Z"
   },
   {
    "duration": 0,
    "start_time": "2023-02-25T09:47:34.966Z"
   },
   {
    "duration": 0,
    "start_time": "2023-02-25T09:47:34.968Z"
   },
   {
    "duration": 0,
    "start_time": "2023-02-25T09:47:34.969Z"
   },
   {
    "duration": 0,
    "start_time": "2023-02-25T09:47:34.970Z"
   },
   {
    "duration": 0,
    "start_time": "2023-02-25T09:47:34.972Z"
   },
   {
    "duration": 0,
    "start_time": "2023-02-25T09:47:34.973Z"
   },
   {
    "duration": 0,
    "start_time": "2023-02-25T09:47:34.975Z"
   },
   {
    "duration": 0,
    "start_time": "2023-02-25T09:47:34.977Z"
   },
   {
    "duration": 0,
    "start_time": "2023-02-25T09:47:34.978Z"
   },
   {
    "duration": 0,
    "start_time": "2023-02-25T09:47:34.980Z"
   },
   {
    "duration": 0,
    "start_time": "2023-02-25T09:47:34.981Z"
   },
   {
    "duration": 0,
    "start_time": "2023-02-25T09:47:34.982Z"
   },
   {
    "duration": 0,
    "start_time": "2023-02-25T09:47:34.982Z"
   },
   {
    "duration": 0,
    "start_time": "2023-02-25T09:47:34.984Z"
   },
   {
    "duration": 0,
    "start_time": "2023-02-25T09:47:34.985Z"
   },
   {
    "duration": 0,
    "start_time": "2023-02-25T09:47:34.985Z"
   },
   {
    "duration": 0,
    "start_time": "2023-02-25T09:47:34.986Z"
   },
   {
    "duration": 0,
    "start_time": "2023-02-25T09:47:34.987Z"
   },
   {
    "duration": 1,
    "start_time": "2023-02-25T09:47:34.988Z"
   },
   {
    "duration": 0,
    "start_time": "2023-02-25T09:47:34.990Z"
   },
   {
    "duration": 0,
    "start_time": "2023-02-25T09:47:34.991Z"
   },
   {
    "duration": 0,
    "start_time": "2023-02-25T09:47:34.992Z"
   },
   {
    "duration": 16,
    "start_time": "2023-02-25T09:49:20.680Z"
   },
   {
    "duration": 1106,
    "start_time": "2023-02-25T09:49:36.780Z"
   },
   {
    "duration": 76,
    "start_time": "2023-02-25T09:49:37.888Z"
   },
   {
    "duration": 3,
    "start_time": "2023-02-25T09:49:37.966Z"
   },
   {
    "duration": 9,
    "start_time": "2023-02-25T09:49:37.970Z"
   },
   {
    "duration": 15,
    "start_time": "2023-02-25T09:49:37.981Z"
   },
   {
    "duration": 7,
    "start_time": "2023-02-25T09:49:37.998Z"
   },
   {
    "duration": 38,
    "start_time": "2023-02-25T09:49:38.007Z"
   },
   {
    "duration": 47,
    "start_time": "2023-02-25T09:49:38.046Z"
   },
   {
    "duration": 13,
    "start_time": "2023-02-25T09:49:38.095Z"
   },
   {
    "duration": 12,
    "start_time": "2023-02-25T09:49:38.110Z"
   },
   {
    "duration": 7,
    "start_time": "2023-02-25T09:49:38.124Z"
   },
   {
    "duration": 5,
    "start_time": "2023-02-25T09:49:38.132Z"
   },
   {
    "duration": 21,
    "start_time": "2023-02-25T09:49:38.138Z"
   },
   {
    "duration": 8,
    "start_time": "2023-02-25T09:49:38.162Z"
   },
   {
    "duration": 14,
    "start_time": "2023-02-25T09:49:38.172Z"
   },
   {
    "duration": 14,
    "start_time": "2023-02-25T09:49:38.188Z"
   },
   {
    "duration": 4,
    "start_time": "2023-02-25T09:49:38.204Z"
   },
   {
    "duration": 282,
    "start_time": "2023-02-25T09:49:38.209Z"
   },
   {
    "duration": 285,
    "start_time": "2023-02-25T09:49:38.493Z"
   },
   {
    "duration": 215,
    "start_time": "2023-02-25T09:49:38.780Z"
   },
   {
    "duration": 293,
    "start_time": "2023-02-25T09:49:38.998Z"
   },
   {
    "duration": 220,
    "start_time": "2023-02-25T09:49:39.293Z"
   },
   {
    "duration": 375,
    "start_time": "2023-02-25T09:49:39.514Z"
   },
   {
    "duration": 9,
    "start_time": "2023-02-25T09:49:39.891Z"
   },
   {
    "duration": 14,
    "start_time": "2023-02-25T09:49:39.902Z"
   },
   {
    "duration": 135,
    "start_time": "2023-02-25T09:49:39.918Z"
   },
   {
    "duration": 123,
    "start_time": "2023-02-25T09:49:40.054Z"
   },
   {
    "duration": 5,
    "start_time": "2023-02-25T09:49:40.179Z"
   },
   {
    "duration": 157,
    "start_time": "2023-02-25T09:49:40.185Z"
   },
   {
    "duration": 157,
    "start_time": "2023-02-25T09:49:40.343Z"
   },
   {
    "duration": 5,
    "start_time": "2023-02-25T09:49:40.502Z"
   },
   {
    "duration": 307,
    "start_time": "2023-02-25T09:49:40.508Z"
   },
   {
    "duration": 181,
    "start_time": "2023-02-25T09:49:40.816Z"
   },
   {
    "duration": 18,
    "start_time": "2023-02-25T09:49:40.999Z"
   },
   {
    "duration": 203,
    "start_time": "2023-02-25T09:49:41.019Z"
   },
   {
    "duration": 10,
    "start_time": "2023-02-25T09:49:41.224Z"
   },
   {
    "duration": 23,
    "start_time": "2023-02-25T09:49:41.235Z"
   },
   {
    "duration": 8,
    "start_time": "2023-02-25T09:49:41.259Z"
   },
   {
    "duration": 28,
    "start_time": "2023-02-25T09:49:41.269Z"
   },
   {
    "duration": 13,
    "start_time": "2023-02-25T09:49:41.299Z"
   },
   {
    "duration": 1083,
    "start_time": "2023-02-25T09:50:33.720Z"
   },
   {
    "duration": 78,
    "start_time": "2023-02-25T09:50:34.805Z"
   },
   {
    "duration": 3,
    "start_time": "2023-02-25T09:50:34.885Z"
   },
   {
    "duration": 12,
    "start_time": "2023-02-25T09:50:34.889Z"
   },
   {
    "duration": 17,
    "start_time": "2023-02-25T09:50:34.902Z"
   },
   {
    "duration": 4,
    "start_time": "2023-02-25T09:50:34.921Z"
   },
   {
    "duration": 30,
    "start_time": "2023-02-25T09:50:34.926Z"
   },
   {
    "duration": 41,
    "start_time": "2023-02-25T09:50:34.958Z"
   },
   {
    "duration": 13,
    "start_time": "2023-02-25T09:50:35.000Z"
   },
   {
    "duration": 16,
    "start_time": "2023-02-25T09:50:35.015Z"
   },
   {
    "duration": 8,
    "start_time": "2023-02-25T09:50:35.033Z"
   },
   {
    "duration": 8,
    "start_time": "2023-02-25T09:50:35.043Z"
   },
   {
    "duration": 8,
    "start_time": "2023-02-25T09:50:35.053Z"
   },
   {
    "duration": 7,
    "start_time": "2023-02-25T09:50:35.063Z"
   },
   {
    "duration": 23,
    "start_time": "2023-02-25T09:50:35.071Z"
   },
   {
    "duration": 4,
    "start_time": "2023-02-25T09:50:35.095Z"
   },
   {
    "duration": 298,
    "start_time": "2023-02-25T09:50:35.100Z"
   },
   {
    "duration": 323,
    "start_time": "2023-02-25T09:50:35.400Z"
   },
   {
    "duration": 228,
    "start_time": "2023-02-25T09:50:35.725Z"
   },
   {
    "duration": 328,
    "start_time": "2023-02-25T09:50:35.955Z"
   },
   {
    "duration": 255,
    "start_time": "2023-02-25T09:50:36.285Z"
   },
   {
    "duration": 353,
    "start_time": "2023-02-25T09:50:36.542Z"
   },
   {
    "duration": 10,
    "start_time": "2023-02-25T09:50:36.896Z"
   },
   {
    "duration": 14,
    "start_time": "2023-02-25T09:50:36.908Z"
   },
   {
    "duration": 199,
    "start_time": "2023-02-25T09:50:36.925Z"
   },
   {
    "duration": 166,
    "start_time": "2023-02-25T09:50:37.126Z"
   },
   {
    "duration": 7,
    "start_time": "2023-02-25T09:50:37.295Z"
   },
   {
    "duration": 206,
    "start_time": "2023-02-25T09:50:37.307Z"
   },
   {
    "duration": 169,
    "start_time": "2023-02-25T09:50:37.515Z"
   },
   {
    "duration": 6,
    "start_time": "2023-02-25T09:50:37.686Z"
   },
   {
    "duration": 328,
    "start_time": "2023-02-25T09:50:37.695Z"
   },
   {
    "duration": 139,
    "start_time": "2023-02-25T09:50:38.025Z"
   },
   {
    "duration": 8,
    "start_time": "2023-02-25T09:50:38.165Z"
   },
   {
    "duration": 169,
    "start_time": "2023-02-25T09:50:38.174Z"
   },
   {
    "duration": 15,
    "start_time": "2023-02-25T09:50:38.345Z"
   },
   {
    "duration": 10,
    "start_time": "2023-02-25T09:50:38.361Z"
   },
   {
    "duration": 8,
    "start_time": "2023-02-25T09:50:38.373Z"
   },
   {
    "duration": 27,
    "start_time": "2023-02-25T09:50:38.383Z"
   },
   {
    "duration": 42,
    "start_time": "2023-02-25T09:50:38.412Z"
   },
   {
    "duration": 13,
    "start_time": "2023-02-25T09:50:52.271Z"
   },
   {
    "duration": 9,
    "start_time": "2023-02-25T09:51:13.193Z"
   },
   {
    "duration": 14,
    "start_time": "2023-02-25T09:51:41.286Z"
   },
   {
    "duration": 13,
    "start_time": "2023-02-25T09:53:21.772Z"
   },
   {
    "duration": 9,
    "start_time": "2023-02-25T09:57:50.175Z"
   },
   {
    "duration": 8,
    "start_time": "2023-02-25T09:58:05.225Z"
   },
   {
    "duration": 12,
    "start_time": "2023-02-25T10:01:52.363Z"
   },
   {
    "duration": 13,
    "start_time": "2023-02-25T10:01:59.833Z"
   },
   {
    "duration": 191,
    "start_time": "2023-02-25T10:02:52.321Z"
   },
   {
    "duration": 8,
    "start_time": "2023-02-25T10:02:59.405Z"
   },
   {
    "duration": 5,
    "start_time": "2023-02-25T10:03:14.338Z"
   },
   {
    "duration": 221,
    "start_time": "2023-02-25T10:07:20.597Z"
   },
   {
    "duration": 210,
    "start_time": "2023-02-25T10:08:50.230Z"
   },
   {
    "duration": 213,
    "start_time": "2023-02-25T10:09:18.783Z"
   },
   {
    "duration": 257,
    "start_time": "2023-02-25T10:09:36.743Z"
   },
   {
    "duration": 236,
    "start_time": "2023-02-25T10:09:51.140Z"
   },
   {
    "duration": 223,
    "start_time": "2023-02-25T10:10:34.379Z"
   },
   {
    "duration": 227,
    "start_time": "2023-02-25T10:10:58.963Z"
   },
   {
    "duration": 275,
    "start_time": "2023-02-25T10:11:04.588Z"
   },
   {
    "duration": 361,
    "start_time": "2023-02-25T10:12:01.564Z"
   },
   {
    "duration": 379,
    "start_time": "2023-02-25T10:12:18.122Z"
   },
   {
    "duration": 1007,
    "start_time": "2023-02-25T10:14:13.694Z"
   },
   {
    "duration": 77,
    "start_time": "2023-02-25T10:14:14.703Z"
   },
   {
    "duration": 3,
    "start_time": "2023-02-25T10:14:14.782Z"
   },
   {
    "duration": 12,
    "start_time": "2023-02-25T10:14:14.787Z"
   },
   {
    "duration": 16,
    "start_time": "2023-02-25T10:14:14.800Z"
   },
   {
    "duration": 4,
    "start_time": "2023-02-25T10:14:14.817Z"
   },
   {
    "duration": 13,
    "start_time": "2023-02-25T10:14:14.823Z"
   },
   {
    "duration": 57,
    "start_time": "2023-02-25T10:14:14.837Z"
   },
   {
    "duration": 12,
    "start_time": "2023-02-25T10:14:14.897Z"
   },
   {
    "duration": 11,
    "start_time": "2023-02-25T10:14:14.912Z"
   },
   {
    "duration": 7,
    "start_time": "2023-02-25T10:14:14.924Z"
   },
   {
    "duration": 6,
    "start_time": "2023-02-25T10:14:14.933Z"
   },
   {
    "duration": 8,
    "start_time": "2023-02-25T10:14:14.940Z"
   },
   {
    "duration": 6,
    "start_time": "2023-02-25T10:14:14.950Z"
   },
   {
    "duration": 16,
    "start_time": "2023-02-25T10:14:14.958Z"
   },
   {
    "duration": 14,
    "start_time": "2023-02-25T10:14:14.975Z"
   },
   {
    "duration": 4,
    "start_time": "2023-02-25T10:14:14.991Z"
   },
   {
    "duration": 31,
    "start_time": "2023-02-25T10:14:14.997Z"
   },
   {
    "duration": 10,
    "start_time": "2023-02-25T10:14:15.030Z"
   },
   {
    "duration": 12,
    "start_time": "2023-02-25T10:14:15.042Z"
   },
   {
    "duration": 13,
    "start_time": "2023-02-25T10:14:15.056Z"
   },
   {
    "duration": 322,
    "start_time": "2023-02-25T10:14:15.071Z"
   },
   {
    "duration": 310,
    "start_time": "2023-02-25T10:14:15.395Z"
   },
   {
    "duration": 230,
    "start_time": "2023-02-25T10:14:15.707Z"
   },
   {
    "duration": 334,
    "start_time": "2023-02-25T10:14:15.939Z"
   },
   {
    "duration": 273,
    "start_time": "2023-02-25T10:14:16.274Z"
   },
   {
    "duration": 383,
    "start_time": "2023-02-25T10:14:16.549Z"
   },
   {
    "duration": 9,
    "start_time": "2023-02-25T10:14:16.936Z"
   },
   {
    "duration": 13,
    "start_time": "2023-02-25T10:14:16.954Z"
   },
   {
    "duration": 169,
    "start_time": "2023-02-25T10:14:16.969Z"
   },
   {
    "duration": 165,
    "start_time": "2023-02-25T10:14:17.140Z"
   },
   {
    "duration": 5,
    "start_time": "2023-02-25T10:14:17.306Z"
   },
   {
    "duration": 178,
    "start_time": "2023-02-25T10:14:17.313Z"
   },
   {
    "duration": 199,
    "start_time": "2023-02-25T10:14:17.493Z"
   },
   {
    "duration": 5,
    "start_time": "2023-02-25T10:14:17.694Z"
   },
   {
    "duration": 322,
    "start_time": "2023-02-25T10:14:17.701Z"
   },
   {
    "duration": 144,
    "start_time": "2023-02-25T10:14:18.024Z"
   },
   {
    "duration": 5,
    "start_time": "2023-02-25T10:14:18.170Z"
   },
   {
    "duration": 159,
    "start_time": "2023-02-25T10:14:18.177Z"
   },
   {
    "duration": 18,
    "start_time": "2023-02-25T10:14:18.338Z"
   },
   {
    "duration": 8,
    "start_time": "2023-02-25T10:14:18.358Z"
   },
   {
    "duration": 10,
    "start_time": "2023-02-25T10:14:18.368Z"
   },
   {
    "duration": 24,
    "start_time": "2023-02-25T10:14:18.379Z"
   },
   {
    "duration": 13,
    "start_time": "2023-02-25T10:14:18.405Z"
   },
   {
    "duration": 133,
    "start_time": "2023-02-25T10:22:48.870Z"
   },
   {
    "duration": 165,
    "start_time": "2023-02-25T10:23:11.206Z"
   },
   {
    "duration": 135,
    "start_time": "2023-02-25T10:23:18.497Z"
   },
   {
    "duration": 130,
    "start_time": "2023-02-25T10:23:23.091Z"
   },
   {
    "duration": 143,
    "start_time": "2023-02-25T10:23:37.938Z"
   },
   {
    "duration": 131,
    "start_time": "2023-02-25T10:23:49.910Z"
   },
   {
    "duration": 139,
    "start_time": "2023-02-25T10:23:58.358Z"
   },
   {
    "duration": 145,
    "start_time": "2023-02-25T10:24:25.563Z"
   },
   {
    "duration": 132,
    "start_time": "2023-02-25T10:26:29.009Z"
   },
   {
    "duration": 133,
    "start_time": "2023-02-25T10:26:32.566Z"
   },
   {
    "duration": 47,
    "start_time": "2023-02-25T10:39:50.379Z"
   },
   {
    "duration": 169,
    "start_time": "2023-02-25T10:39:57.839Z"
   },
   {
    "duration": 171,
    "start_time": "2023-02-25T10:41:59.246Z"
   },
   {
    "duration": 44,
    "start_time": "2023-02-25T10:43:38.871Z"
   },
   {
    "duration": 12,
    "start_time": "2023-02-25T10:43:52.583Z"
   },
   {
    "duration": 105,
    "start_time": "2023-02-25T10:46:55.999Z"
   },
   {
    "duration": 11,
    "start_time": "2023-02-25T10:48:19.270Z"
   },
   {
    "duration": 11,
    "start_time": "2023-02-25T10:49:06.795Z"
   },
   {
    "duration": 10,
    "start_time": "2023-02-25T10:49:25.103Z"
   },
   {
    "duration": 10,
    "start_time": "2023-02-25T10:52:05.379Z"
   },
   {
    "duration": 6,
    "start_time": "2023-02-25T10:53:43.950Z"
   },
   {
    "duration": 13,
    "start_time": "2023-02-25T10:54:16.939Z"
   },
   {
    "duration": 6,
    "start_time": "2023-02-25T10:54:25.252Z"
   },
   {
    "duration": 4,
    "start_time": "2023-02-25T10:54:53.069Z"
   },
   {
    "duration": 5,
    "start_time": "2023-02-25T10:56:42.925Z"
   },
   {
    "duration": 7,
    "start_time": "2023-02-25T10:57:11.008Z"
   },
   {
    "duration": 6,
    "start_time": "2023-02-25T10:57:15.568Z"
   },
   {
    "duration": 6,
    "start_time": "2023-02-25T10:57:46.261Z"
   },
   {
    "duration": 15,
    "start_time": "2023-02-25T11:04:01.394Z"
   },
   {
    "duration": 12,
    "start_time": "2023-02-25T11:04:23.875Z"
   },
   {
    "duration": 13,
    "start_time": "2023-02-25T11:04:30.586Z"
   },
   {
    "duration": 16,
    "start_time": "2023-02-25T11:04:35.576Z"
   },
   {
    "duration": 14,
    "start_time": "2023-02-25T11:04:40.685Z"
   },
   {
    "duration": 23,
    "start_time": "2023-02-25T11:05:13.667Z"
   },
   {
    "duration": 25,
    "start_time": "2023-02-25T11:05:20.312Z"
   },
   {
    "duration": 26,
    "start_time": "2023-02-25T11:05:36.391Z"
   },
   {
    "duration": 15,
    "start_time": "2023-02-25T11:05:43.779Z"
   },
   {
    "duration": 20,
    "start_time": "2023-02-25T11:05:49.096Z"
   },
   {
    "duration": 5,
    "start_time": "2023-02-25T11:33:09.454Z"
   },
   {
    "duration": 11,
    "start_time": "2023-02-25T11:33:51.711Z"
   },
   {
    "duration": 5,
    "start_time": "2023-02-25T11:34:03.467Z"
   },
   {
    "duration": 141,
    "start_time": "2023-02-25T11:35:10.404Z"
   },
   {
    "duration": 4,
    "start_time": "2023-02-25T11:35:15.463Z"
   },
   {
    "duration": 3,
    "start_time": "2023-02-25T11:35:28.893Z"
   },
   {
    "duration": 5,
    "start_time": "2023-02-25T11:35:29.367Z"
   },
   {
    "duration": 1035,
    "start_time": "2023-02-25T11:35:42.663Z"
   },
   {
    "duration": 78,
    "start_time": "2023-02-25T11:35:43.700Z"
   },
   {
    "duration": 3,
    "start_time": "2023-02-25T11:35:43.779Z"
   },
   {
    "duration": 7,
    "start_time": "2023-02-25T11:35:43.785Z"
   },
   {
    "duration": 18,
    "start_time": "2023-02-25T11:35:43.794Z"
   },
   {
    "duration": 19,
    "start_time": "2023-02-25T11:35:43.814Z"
   },
   {
    "duration": 14,
    "start_time": "2023-02-25T11:35:43.834Z"
   },
   {
    "duration": 40,
    "start_time": "2023-02-25T11:35:43.853Z"
   },
   {
    "duration": 12,
    "start_time": "2023-02-25T11:35:43.894Z"
   },
   {
    "duration": 6,
    "start_time": "2023-02-25T11:35:43.909Z"
   },
   {
    "duration": 13,
    "start_time": "2023-02-25T11:35:43.916Z"
   },
   {
    "duration": 92,
    "start_time": "2023-02-25T11:35:43.931Z"
   },
   {
    "duration": 0,
    "start_time": "2023-02-25T11:35:44.025Z"
   },
   {
    "duration": 0,
    "start_time": "2023-02-25T11:35:44.026Z"
   },
   {
    "duration": 0,
    "start_time": "2023-02-25T11:35:44.027Z"
   },
   {
    "duration": 0,
    "start_time": "2023-02-25T11:35:44.028Z"
   },
   {
    "duration": 0,
    "start_time": "2023-02-25T11:35:44.029Z"
   },
   {
    "duration": 0,
    "start_time": "2023-02-25T11:35:44.029Z"
   },
   {
    "duration": 0,
    "start_time": "2023-02-25T11:35:44.030Z"
   },
   {
    "duration": 0,
    "start_time": "2023-02-25T11:35:44.031Z"
   },
   {
    "duration": 0,
    "start_time": "2023-02-25T11:35:44.032Z"
   },
   {
    "duration": 0,
    "start_time": "2023-02-25T11:35:44.033Z"
   },
   {
    "duration": 0,
    "start_time": "2023-02-25T11:35:44.034Z"
   },
   {
    "duration": 0,
    "start_time": "2023-02-25T11:35:44.035Z"
   },
   {
    "duration": 0,
    "start_time": "2023-02-25T11:35:44.053Z"
   },
   {
    "duration": 0,
    "start_time": "2023-02-25T11:35:44.054Z"
   },
   {
    "duration": 0,
    "start_time": "2023-02-25T11:35:44.055Z"
   },
   {
    "duration": 0,
    "start_time": "2023-02-25T11:35:44.056Z"
   },
   {
    "duration": 0,
    "start_time": "2023-02-25T11:35:44.057Z"
   },
   {
    "duration": 0,
    "start_time": "2023-02-25T11:35:44.058Z"
   },
   {
    "duration": 0,
    "start_time": "2023-02-25T11:35:44.059Z"
   },
   {
    "duration": 0,
    "start_time": "2023-02-25T11:35:44.060Z"
   },
   {
    "duration": 0,
    "start_time": "2023-02-25T11:35:44.061Z"
   },
   {
    "duration": 0,
    "start_time": "2023-02-25T11:35:44.062Z"
   },
   {
    "duration": 0,
    "start_time": "2023-02-25T11:35:44.063Z"
   },
   {
    "duration": 0,
    "start_time": "2023-02-25T11:35:44.064Z"
   },
   {
    "duration": 0,
    "start_time": "2023-02-25T11:35:44.065Z"
   },
   {
    "duration": 0,
    "start_time": "2023-02-25T11:35:44.065Z"
   },
   {
    "duration": 0,
    "start_time": "2023-02-25T11:35:44.066Z"
   },
   {
    "duration": 0,
    "start_time": "2023-02-25T11:35:44.067Z"
   },
   {
    "duration": 0,
    "start_time": "2023-02-25T11:35:44.068Z"
   },
   {
    "duration": 0,
    "start_time": "2023-02-25T11:35:44.069Z"
   },
   {
    "duration": 0,
    "start_time": "2023-02-25T11:35:44.070Z"
   },
   {
    "duration": 0,
    "start_time": "2023-02-25T11:35:44.071Z"
   },
   {
    "duration": 0,
    "start_time": "2023-02-25T11:35:44.072Z"
   },
   {
    "duration": 0,
    "start_time": "2023-02-25T11:35:44.073Z"
   },
   {
    "duration": 1104,
    "start_time": "2023-02-25T11:36:27.269Z"
   },
   {
    "duration": 80,
    "start_time": "2023-02-25T11:36:28.375Z"
   },
   {
    "duration": 3,
    "start_time": "2023-02-25T11:36:28.457Z"
   },
   {
    "duration": 11,
    "start_time": "2023-02-25T11:36:28.461Z"
   },
   {
    "duration": 18,
    "start_time": "2023-02-25T11:36:28.475Z"
   },
   {
    "duration": 5,
    "start_time": "2023-02-25T11:36:28.495Z"
   },
   {
    "duration": 16,
    "start_time": "2023-02-25T11:36:28.501Z"
   },
   {
    "duration": 46,
    "start_time": "2023-02-25T11:36:28.519Z"
   },
   {
    "duration": 13,
    "start_time": "2023-02-25T11:36:28.566Z"
   },
   {
    "duration": 13,
    "start_time": "2023-02-25T11:36:28.581Z"
   },
   {
    "duration": 7,
    "start_time": "2023-02-25T11:36:28.596Z"
   },
   {
    "duration": 95,
    "start_time": "2023-02-25T11:36:28.604Z"
   },
   {
    "duration": 0,
    "start_time": "2023-02-25T11:36:28.702Z"
   },
   {
    "duration": 0,
    "start_time": "2023-02-25T11:36:28.704Z"
   },
   {
    "duration": 0,
    "start_time": "2023-02-25T11:36:28.705Z"
   },
   {
    "duration": 0,
    "start_time": "2023-02-25T11:36:28.706Z"
   },
   {
    "duration": 0,
    "start_time": "2023-02-25T11:36:28.708Z"
   },
   {
    "duration": 0,
    "start_time": "2023-02-25T11:36:28.709Z"
   },
   {
    "duration": 0,
    "start_time": "2023-02-25T11:36:28.710Z"
   },
   {
    "duration": 0,
    "start_time": "2023-02-25T11:36:28.711Z"
   },
   {
    "duration": 0,
    "start_time": "2023-02-25T11:36:28.712Z"
   },
   {
    "duration": 0,
    "start_time": "2023-02-25T11:36:28.713Z"
   },
   {
    "duration": 0,
    "start_time": "2023-02-25T11:36:28.714Z"
   },
   {
    "duration": 0,
    "start_time": "2023-02-25T11:36:28.715Z"
   },
   {
    "duration": 0,
    "start_time": "2023-02-25T11:36:28.717Z"
   },
   {
    "duration": 0,
    "start_time": "2023-02-25T11:36:28.718Z"
   },
   {
    "duration": 0,
    "start_time": "2023-02-25T11:36:28.719Z"
   },
   {
    "duration": 0,
    "start_time": "2023-02-25T11:36:28.720Z"
   },
   {
    "duration": 0,
    "start_time": "2023-02-25T11:36:28.721Z"
   },
   {
    "duration": 0,
    "start_time": "2023-02-25T11:36:28.753Z"
   },
   {
    "duration": 0,
    "start_time": "2023-02-25T11:36:28.755Z"
   },
   {
    "duration": 0,
    "start_time": "2023-02-25T11:36:28.755Z"
   },
   {
    "duration": 0,
    "start_time": "2023-02-25T11:36:28.757Z"
   },
   {
    "duration": 0,
    "start_time": "2023-02-25T11:36:28.758Z"
   },
   {
    "duration": 0,
    "start_time": "2023-02-25T11:36:28.759Z"
   },
   {
    "duration": 0,
    "start_time": "2023-02-25T11:36:28.760Z"
   },
   {
    "duration": 0,
    "start_time": "2023-02-25T11:36:28.761Z"
   },
   {
    "duration": 0,
    "start_time": "2023-02-25T11:36:28.762Z"
   },
   {
    "duration": 0,
    "start_time": "2023-02-25T11:36:28.763Z"
   },
   {
    "duration": 0,
    "start_time": "2023-02-25T11:36:28.765Z"
   },
   {
    "duration": 0,
    "start_time": "2023-02-25T11:36:28.766Z"
   },
   {
    "duration": 0,
    "start_time": "2023-02-25T11:36:28.767Z"
   },
   {
    "duration": 0,
    "start_time": "2023-02-25T11:36:28.768Z"
   },
   {
    "duration": 0,
    "start_time": "2023-02-25T11:36:28.769Z"
   },
   {
    "duration": 0,
    "start_time": "2023-02-25T11:36:28.770Z"
   },
   {
    "duration": 0,
    "start_time": "2023-02-25T11:36:28.771Z"
   },
   {
    "duration": 10,
    "start_time": "2023-02-25T11:37:16.266Z"
   },
   {
    "duration": 11,
    "start_time": "2023-02-25T11:37:17.138Z"
   },
   {
    "duration": 7,
    "start_time": "2023-02-25T11:37:18.619Z"
   },
   {
    "duration": 6,
    "start_time": "2023-02-25T11:37:22.505Z"
   },
   {
    "duration": 12,
    "start_time": "2023-02-25T11:37:26.877Z"
   },
   {
    "duration": 8,
    "start_time": "2023-02-25T11:37:43.998Z"
   },
   {
    "duration": 6,
    "start_time": "2023-02-25T11:38:15.398Z"
   },
   {
    "duration": 7,
    "start_time": "2023-02-25T11:38:16.207Z"
   },
   {
    "duration": 5,
    "start_time": "2023-02-25T11:39:00.661Z"
   },
   {
    "duration": 12,
    "start_time": "2023-02-25T11:40:04.272Z"
   },
   {
    "duration": 5,
    "start_time": "2023-02-25T11:40:32.708Z"
   },
   {
    "duration": 5,
    "start_time": "2023-02-25T11:40:38.142Z"
   },
   {
    "duration": 6,
    "start_time": "2023-02-25T11:40:58.763Z"
   },
   {
    "duration": 5,
    "start_time": "2023-02-25T11:41:19.817Z"
   },
   {
    "duration": 5,
    "start_time": "2023-02-25T11:42:02.563Z"
   },
   {
    "duration": 13,
    "start_time": "2023-02-25T11:42:03.084Z"
   },
   {
    "duration": 1008,
    "start_time": "2023-02-25T11:42:18.508Z"
   },
   {
    "duration": 86,
    "start_time": "2023-02-25T11:42:19.518Z"
   },
   {
    "duration": 3,
    "start_time": "2023-02-25T11:42:19.606Z"
   },
   {
    "duration": 13,
    "start_time": "2023-02-25T11:42:19.611Z"
   },
   {
    "duration": 84,
    "start_time": "2023-02-25T11:42:19.626Z"
   },
   {
    "duration": 4,
    "start_time": "2023-02-25T11:42:19.712Z"
   },
   {
    "duration": 14,
    "start_time": "2023-02-25T11:42:19.717Z"
   },
   {
    "duration": 43,
    "start_time": "2023-02-25T11:42:19.733Z"
   },
   {
    "duration": 14,
    "start_time": "2023-02-25T11:42:19.778Z"
   },
   {
    "duration": 13,
    "start_time": "2023-02-25T11:42:19.795Z"
   },
   {
    "duration": 7,
    "start_time": "2023-02-25T11:42:19.810Z"
   },
   {
    "duration": 8,
    "start_time": "2023-02-25T11:42:19.819Z"
   },
   {
    "duration": 5,
    "start_time": "2023-02-25T11:42:19.829Z"
   },
   {
    "duration": 27,
    "start_time": "2023-02-25T11:42:19.836Z"
   },
   {
    "duration": 8,
    "start_time": "2023-02-25T11:42:19.864Z"
   },
   {
    "duration": 7,
    "start_time": "2023-02-25T11:42:19.874Z"
   },
   {
    "duration": 19,
    "start_time": "2023-02-25T11:42:19.882Z"
   },
   {
    "duration": 15,
    "start_time": "2023-02-25T11:42:19.903Z"
   },
   {
    "duration": 5,
    "start_time": "2023-02-25T11:42:19.920Z"
   },
   {
    "duration": 27,
    "start_time": "2023-02-25T11:42:19.927Z"
   },
   {
    "duration": 7,
    "start_time": "2023-02-25T11:42:19.956Z"
   },
   {
    "duration": 14,
    "start_time": "2023-02-25T11:42:19.964Z"
   },
   {
    "duration": 10,
    "start_time": "2023-02-25T11:42:19.980Z"
   },
   {
    "duration": 313,
    "start_time": "2023-02-25T11:42:19.992Z"
   },
   {
    "duration": 301,
    "start_time": "2023-02-25T11:42:20.307Z"
   },
   {
    "duration": 217,
    "start_time": "2023-02-25T11:42:20.610Z"
   },
   {
    "duration": 332,
    "start_time": "2023-02-25T11:42:20.829Z"
   },
   {
    "duration": 263,
    "start_time": "2023-02-25T11:42:21.165Z"
   },
   {
    "duration": 383,
    "start_time": "2023-02-25T11:42:21.430Z"
   },
   {
    "duration": 9,
    "start_time": "2023-02-25T11:42:21.815Z"
   },
   {
    "duration": 15,
    "start_time": "2023-02-25T11:42:21.825Z"
   },
   {
    "duration": 139,
    "start_time": "2023-02-25T11:42:21.853Z"
   },
   {
    "duration": 156,
    "start_time": "2023-02-25T11:42:21.993Z"
   },
   {
    "duration": 4,
    "start_time": "2023-02-25T11:42:22.153Z"
   },
   {
    "duration": 145,
    "start_time": "2023-02-25T11:42:22.159Z"
   },
   {
    "duration": 151,
    "start_time": "2023-02-25T11:42:22.305Z"
   },
   {
    "duration": 225,
    "start_time": "2023-02-25T11:42:22.458Z"
   },
   {
    "duration": 5,
    "start_time": "2023-02-25T11:42:22.684Z"
   },
   {
    "duration": 232,
    "start_time": "2023-02-25T11:42:22.690Z"
   },
   {
    "duration": 142,
    "start_time": "2023-02-25T11:42:22.924Z"
   },
   {
    "duration": 5,
    "start_time": "2023-02-25T11:42:23.068Z"
   },
   {
    "duration": 144,
    "start_time": "2023-02-25T11:42:23.075Z"
   },
   {
    "duration": 12,
    "start_time": "2023-02-25T11:42:23.221Z"
   },
   {
    "duration": 22,
    "start_time": "2023-02-25T11:42:23.234Z"
   },
   {
    "duration": 9,
    "start_time": "2023-02-25T11:42:23.258Z"
   },
   {
    "duration": 7,
    "start_time": "2023-02-25T11:42:23.269Z"
   },
   {
    "duration": 24,
    "start_time": "2023-02-25T11:42:23.278Z"
   },
   {
    "duration": 13,
    "start_time": "2023-02-25T11:42:23.304Z"
   },
   {
    "duration": 431,
    "start_time": "2023-02-25T11:50:45.554Z"
   },
   {
    "duration": 345,
    "start_time": "2023-02-25T11:51:05.394Z"
   },
   {
    "duration": 1144,
    "start_time": "2023-02-25T12:08:33.085Z"
   },
   {
    "duration": 82,
    "start_time": "2023-02-25T12:08:34.231Z"
   },
   {
    "duration": 3,
    "start_time": "2023-02-25T12:08:34.315Z"
   },
   {
    "duration": 8,
    "start_time": "2023-02-25T12:08:34.321Z"
   },
   {
    "duration": 28,
    "start_time": "2023-02-25T12:08:34.331Z"
   },
   {
    "duration": 5,
    "start_time": "2023-02-25T12:08:34.360Z"
   },
   {
    "duration": 25,
    "start_time": "2023-02-25T12:08:34.366Z"
   },
   {
    "duration": 57,
    "start_time": "2023-02-25T12:08:34.393Z"
   },
   {
    "duration": 14,
    "start_time": "2023-02-25T12:08:34.452Z"
   },
   {
    "duration": 18,
    "start_time": "2023-02-25T12:08:34.470Z"
   },
   {
    "duration": 15,
    "start_time": "2023-02-25T12:08:34.490Z"
   },
   {
    "duration": 7,
    "start_time": "2023-02-25T12:08:34.507Z"
   },
   {
    "duration": 5,
    "start_time": "2023-02-25T12:08:34.515Z"
   },
   {
    "duration": 37,
    "start_time": "2023-02-25T12:08:34.522Z"
   },
   {
    "duration": 10,
    "start_time": "2023-02-25T12:08:34.561Z"
   },
   {
    "duration": 19,
    "start_time": "2023-02-25T12:08:34.572Z"
   },
   {
    "duration": 22,
    "start_time": "2023-02-25T12:08:34.593Z"
   },
   {
    "duration": 5,
    "start_time": "2023-02-25T12:08:34.617Z"
   },
   {
    "duration": 20,
    "start_time": "2023-02-25T12:08:34.623Z"
   },
   {
    "duration": 8,
    "start_time": "2023-02-25T12:08:34.645Z"
   },
   {
    "duration": 12,
    "start_time": "2023-02-25T12:08:34.655Z"
   },
   {
    "duration": 10,
    "start_time": "2023-02-25T12:08:34.669Z"
   },
   {
    "duration": 326,
    "start_time": "2023-02-25T12:08:34.681Z"
   },
   {
    "duration": 333,
    "start_time": "2023-02-25T12:08:35.009Z"
   },
   {
    "duration": 241,
    "start_time": "2023-02-25T12:08:35.344Z"
   },
   {
    "duration": 314,
    "start_time": "2023-02-25T12:08:35.587Z"
   },
   {
    "duration": 270,
    "start_time": "2023-02-25T12:08:35.903Z"
   },
   {
    "duration": 378,
    "start_time": "2023-02-25T12:08:36.176Z"
   },
   {
    "duration": 11,
    "start_time": "2023-02-25T12:08:36.556Z"
   },
   {
    "duration": 17,
    "start_time": "2023-02-25T12:08:36.568Z"
   },
   {
    "duration": 175,
    "start_time": "2023-02-25T12:08:36.586Z"
   },
   {
    "duration": 170,
    "start_time": "2023-02-25T12:08:36.763Z"
   },
   {
    "duration": 6,
    "start_time": "2023-02-25T12:08:36.935Z"
   },
   {
    "duration": 331,
    "start_time": "2023-02-25T12:08:36.954Z"
   },
   {
    "duration": 370,
    "start_time": "2023-02-25T12:08:37.286Z"
   },
   {
    "duration": 510,
    "start_time": "2023-02-25T12:08:37.658Z"
   },
   {
    "duration": 5,
    "start_time": "2023-02-25T12:08:38.170Z"
   },
   {
    "duration": 490,
    "start_time": "2023-02-25T12:08:38.177Z"
   },
   {
    "duration": 302,
    "start_time": "2023-02-25T12:08:38.669Z"
   },
   {
    "duration": 7,
    "start_time": "2023-02-25T12:08:38.973Z"
   },
   {
    "duration": 293,
    "start_time": "2023-02-25T12:08:38.981Z"
   },
   {
    "duration": 10,
    "start_time": "2023-02-25T12:08:39.276Z"
   },
   {
    "duration": 16,
    "start_time": "2023-02-25T12:08:39.288Z"
   },
   {
    "duration": 16,
    "start_time": "2023-02-25T12:08:39.306Z"
   },
   {
    "duration": 22,
    "start_time": "2023-02-25T12:08:39.323Z"
   },
   {
    "duration": 41,
    "start_time": "2023-02-25T12:08:39.346Z"
   },
   {
    "duration": 13,
    "start_time": "2023-02-25T12:08:39.389Z"
   },
   {
    "duration": 32,
    "start_time": "2023-02-25T12:09:03.461Z"
   },
   {
    "duration": 57,
    "start_time": "2023-02-25T12:15:15.552Z"
   },
   {
    "duration": 16,
    "start_time": "2023-02-25T12:15:35.458Z"
   },
   {
    "duration": 128,
    "start_time": "2023-02-25T12:16:06.904Z"
   },
   {
    "duration": 62,
    "start_time": "2023-02-25T12:16:20.676Z"
   },
   {
    "duration": 11,
    "start_time": "2023-02-25T12:16:25.977Z"
   },
   {
    "duration": 258,
    "start_time": "2023-02-25T12:16:56.070Z"
   },
   {
    "duration": 56,
    "start_time": "2023-02-25T12:18:07.238Z"
   },
   {
    "duration": 1779,
    "start_time": "2023-02-25T12:18:23.483Z"
   },
   {
    "duration": 87,
    "start_time": "2023-02-25T12:18:25.266Z"
   },
   {
    "duration": 4,
    "start_time": "2023-02-25T12:18:25.356Z"
   },
   {
    "duration": 8,
    "start_time": "2023-02-25T12:18:25.362Z"
   },
   {
    "duration": 20,
    "start_time": "2023-02-25T12:18:25.372Z"
   },
   {
    "duration": 5,
    "start_time": "2023-02-25T12:18:25.394Z"
   },
   {
    "duration": 15,
    "start_time": "2023-02-25T12:18:25.400Z"
   },
   {
    "duration": 37,
    "start_time": "2023-02-25T12:18:25.417Z"
   },
   {
    "duration": 22,
    "start_time": "2023-02-25T12:18:25.456Z"
   },
   {
    "duration": 12,
    "start_time": "2023-02-25T12:18:25.482Z"
   },
   {
    "duration": 19,
    "start_time": "2023-02-25T12:18:25.496Z"
   },
   {
    "duration": 7,
    "start_time": "2023-02-25T12:18:25.517Z"
   },
   {
    "duration": 9,
    "start_time": "2023-02-25T12:18:25.526Z"
   },
   {
    "duration": 19,
    "start_time": "2023-02-25T12:18:25.537Z"
   },
   {
    "duration": 8,
    "start_time": "2023-02-25T12:18:25.557Z"
   },
   {
    "duration": 26,
    "start_time": "2023-02-25T12:18:25.567Z"
   },
   {
    "duration": 4,
    "start_time": "2023-02-25T12:18:25.594Z"
   },
   {
    "duration": 18,
    "start_time": "2023-02-25T12:18:25.600Z"
   },
   {
    "duration": 9,
    "start_time": "2023-02-25T12:18:25.619Z"
   },
   {
    "duration": 24,
    "start_time": "2023-02-25T12:18:25.630Z"
   },
   {
    "duration": 9,
    "start_time": "2023-02-25T12:18:25.656Z"
   },
   {
    "duration": 302,
    "start_time": "2023-02-25T12:18:25.667Z"
   },
   {
    "duration": 319,
    "start_time": "2023-02-25T12:18:25.971Z"
   },
   {
    "duration": 231,
    "start_time": "2023-02-25T12:18:26.291Z"
   },
   {
    "duration": 347,
    "start_time": "2023-02-25T12:18:26.524Z"
   },
   {
    "duration": 404,
    "start_time": "2023-02-25T12:18:26.873Z"
   },
   {
    "duration": 797,
    "start_time": "2023-02-25T12:18:27.279Z"
   },
   {
    "duration": 12,
    "start_time": "2023-02-25T12:18:28.081Z"
   },
   {
    "duration": 69,
    "start_time": "2023-02-25T12:18:28.095Z"
   },
   {
    "duration": 314,
    "start_time": "2023-02-25T12:18:28.166Z"
   },
   {
    "duration": 381,
    "start_time": "2023-02-25T12:18:28.483Z"
   },
   {
    "duration": 6,
    "start_time": "2023-02-25T12:18:28.866Z"
   },
   {
    "duration": 320,
    "start_time": "2023-02-25T12:18:28.874Z"
   },
   {
    "duration": 364,
    "start_time": "2023-02-25T12:18:29.196Z"
   },
   {
    "duration": 512,
    "start_time": "2023-02-25T12:18:29.563Z"
   },
   {
    "duration": 5,
    "start_time": "2023-02-25T12:18:30.077Z"
   },
   {
    "duration": 585,
    "start_time": "2023-02-25T12:18:30.084Z"
   },
   {
    "duration": 292,
    "start_time": "2023-02-25T12:18:30.671Z"
   },
   {
    "duration": 9,
    "start_time": "2023-02-25T12:18:30.965Z"
   },
   {
    "duration": 354,
    "start_time": "2023-02-25T12:18:30.975Z"
   },
   {
    "duration": 24,
    "start_time": "2023-02-25T12:18:31.330Z"
   },
   {
    "duration": 14,
    "start_time": "2023-02-25T12:18:31.357Z"
   },
   {
    "duration": 47,
    "start_time": "2023-02-25T12:18:31.373Z"
   },
   {
    "duration": 29,
    "start_time": "2023-02-25T12:18:31.422Z"
   },
   {
    "duration": 48,
    "start_time": "2023-02-25T12:18:31.453Z"
   },
   {
    "duration": 43,
    "start_time": "2023-02-25T12:18:31.503Z"
   },
   {
    "duration": 1368,
    "start_time": "2023-02-26T11:57:02.047Z"
   },
   {
    "duration": 125,
    "start_time": "2023-02-26T11:57:03.418Z"
   },
   {
    "duration": 4,
    "start_time": "2023-02-26T11:57:03.544Z"
   },
   {
    "duration": 14,
    "start_time": "2023-02-26T11:57:03.551Z"
   },
   {
    "duration": 25,
    "start_time": "2023-02-26T11:57:03.568Z"
   },
   {
    "duration": 9,
    "start_time": "2023-02-26T11:57:03.595Z"
   },
   {
    "duration": 17,
    "start_time": "2023-02-26T11:57:03.605Z"
   },
   {
    "duration": 71,
    "start_time": "2023-02-26T11:57:03.641Z"
   },
   {
    "duration": 14,
    "start_time": "2023-02-26T11:57:03.714Z"
   },
   {
    "duration": 14,
    "start_time": "2023-02-26T11:57:03.730Z"
   },
   {
    "duration": 19,
    "start_time": "2023-02-26T11:57:03.746Z"
   },
   {
    "duration": 10,
    "start_time": "2023-02-26T11:57:03.767Z"
   },
   {
    "duration": 17,
    "start_time": "2023-02-26T11:57:03.780Z"
   },
   {
    "duration": 10,
    "start_time": "2023-02-26T11:57:03.799Z"
   },
   {
    "duration": 9,
    "start_time": "2023-02-26T11:57:03.811Z"
   },
   {
    "duration": 74,
    "start_time": "2023-02-26T11:57:03.822Z"
   },
   {
    "duration": 5,
    "start_time": "2023-02-26T11:57:03.897Z"
   },
   {
    "duration": 18,
    "start_time": "2023-02-26T11:57:03.904Z"
   },
   {
    "duration": 14,
    "start_time": "2023-02-26T11:57:03.924Z"
   },
   {
    "duration": 16,
    "start_time": "2023-02-26T11:57:03.940Z"
   },
   {
    "duration": 12,
    "start_time": "2023-02-26T11:57:03.958Z"
   },
   {
    "duration": 324,
    "start_time": "2023-02-26T11:57:03.972Z"
   },
   {
    "duration": 316,
    "start_time": "2023-02-26T11:57:04.299Z"
   },
   {
    "duration": 223,
    "start_time": "2023-02-26T11:57:04.617Z"
   },
   {
    "duration": 374,
    "start_time": "2023-02-26T11:57:04.842Z"
   },
   {
    "duration": 255,
    "start_time": "2023-02-26T11:57:05.218Z"
   },
   {
    "duration": 360,
    "start_time": "2023-02-26T11:57:05.475Z"
   },
   {
    "duration": 10,
    "start_time": "2023-02-26T11:57:05.839Z"
   },
   {
    "duration": 48,
    "start_time": "2023-02-26T11:57:05.850Z"
   },
   {
    "duration": 168,
    "start_time": "2023-02-26T11:57:05.900Z"
   },
   {
    "duration": 181,
    "start_time": "2023-02-26T11:57:06.071Z"
   },
   {
    "duration": 5,
    "start_time": "2023-02-26T11:57:06.254Z"
   },
   {
    "duration": 163,
    "start_time": "2023-02-26T11:57:06.261Z"
   },
   {
    "duration": 154,
    "start_time": "2023-02-26T11:57:06.425Z"
   },
   {
    "duration": 215,
    "start_time": "2023-02-26T11:57:06.580Z"
   },
   {
    "duration": 5,
    "start_time": "2023-02-26T11:57:06.797Z"
   },
   {
    "duration": 245,
    "start_time": "2023-02-26T11:57:06.804Z"
   },
   {
    "duration": 235,
    "start_time": "2023-02-26T11:57:07.051Z"
   },
   {
    "duration": 57,
    "start_time": "2023-02-26T11:57:07.287Z"
   },
   {
    "duration": 316,
    "start_time": "2023-02-26T11:57:07.346Z"
   },
   {
    "duration": 11,
    "start_time": "2023-02-26T11:57:07.664Z"
   },
   {
    "duration": 67,
    "start_time": "2023-02-26T11:57:07.677Z"
   },
   {
    "duration": 7,
    "start_time": "2023-02-26T11:57:07.746Z"
   },
   {
    "duration": 9,
    "start_time": "2023-02-26T11:57:07.755Z"
   },
   {
    "duration": 78,
    "start_time": "2023-02-26T11:57:07.765Z"
   },
   {
    "duration": 20,
    "start_time": "2023-02-26T11:57:07.845Z"
   },
   {
    "duration": 26,
    "start_time": "2023-02-26T11:59:47.471Z"
   },
   {
    "duration": 6,
    "start_time": "2023-02-26T12:00:49.857Z"
   },
   {
    "duration": 10,
    "start_time": "2023-02-26T12:01:18.952Z"
   },
   {
    "duration": 8,
    "start_time": "2023-02-26T12:01:34.519Z"
   },
   {
    "duration": 5,
    "start_time": "2023-02-26T12:04:19.769Z"
   },
   {
    "duration": 6,
    "start_time": "2023-02-26T12:04:58.048Z"
   },
   {
    "duration": 6,
    "start_time": "2023-02-26T12:06:33.303Z"
   },
   {
    "duration": 14,
    "start_time": "2023-02-26T12:07:09.799Z"
   },
   {
    "duration": 5,
    "start_time": "2023-02-26T12:08:49.506Z"
   },
   {
    "duration": 13,
    "start_time": "2023-02-26T12:09:51.768Z"
   },
   {
    "duration": 1120,
    "start_time": "2023-02-26T12:11:32.991Z"
   },
   {
    "duration": 86,
    "start_time": "2023-02-26T12:11:34.113Z"
   },
   {
    "duration": 3,
    "start_time": "2023-02-26T12:11:34.201Z"
   },
   {
    "duration": 20,
    "start_time": "2023-02-26T12:11:34.206Z"
   },
   {
    "duration": 24,
    "start_time": "2023-02-26T12:11:34.229Z"
   },
   {
    "duration": 9,
    "start_time": "2023-02-26T12:11:34.255Z"
   },
   {
    "duration": 14,
    "start_time": "2023-02-26T12:11:34.266Z"
   },
   {
    "duration": 36,
    "start_time": "2023-02-26T12:11:34.281Z"
   },
   {
    "duration": 14,
    "start_time": "2023-02-26T12:11:34.319Z"
   },
   {
    "duration": 33,
    "start_time": "2023-02-26T12:11:34.335Z"
   },
   {
    "duration": 6,
    "start_time": "2023-02-26T12:11:34.370Z"
   },
   {
    "duration": 4,
    "start_time": "2023-02-26T12:11:34.378Z"
   },
   {
    "duration": 12,
    "start_time": "2023-02-26T12:11:34.383Z"
   },
   {
    "duration": 7,
    "start_time": "2023-02-26T12:11:34.398Z"
   },
   {
    "duration": 7,
    "start_time": "2023-02-26T12:11:34.406Z"
   },
   {
    "duration": 23,
    "start_time": "2023-02-26T12:11:34.414Z"
   },
   {
    "duration": 5,
    "start_time": "2023-02-26T12:11:34.438Z"
   },
   {
    "duration": 15,
    "start_time": "2023-02-26T12:11:34.444Z"
   },
   {
    "duration": 7,
    "start_time": "2023-02-26T12:11:34.461Z"
   },
   {
    "duration": 12,
    "start_time": "2023-02-26T12:11:34.470Z"
   },
   {
    "duration": 12,
    "start_time": "2023-02-26T12:11:34.484Z"
   },
   {
    "duration": 324,
    "start_time": "2023-02-26T12:11:34.498Z"
   },
   {
    "duration": 306,
    "start_time": "2023-02-26T12:11:34.823Z"
   },
   {
    "duration": 223,
    "start_time": "2023-02-26T12:11:35.131Z"
   },
   {
    "duration": 308,
    "start_time": "2023-02-26T12:11:35.356Z"
   },
   {
    "duration": 288,
    "start_time": "2023-02-26T12:11:35.666Z"
   },
   {
    "duration": 396,
    "start_time": "2023-02-26T12:11:35.956Z"
   },
   {
    "duration": 12,
    "start_time": "2023-02-26T12:11:36.354Z"
   },
   {
    "duration": 20,
    "start_time": "2023-02-26T12:11:36.368Z"
   },
   {
    "duration": 199,
    "start_time": "2023-02-26T12:11:36.390Z"
   },
   {
    "duration": 172,
    "start_time": "2023-02-26T12:11:36.591Z"
   },
   {
    "duration": 6,
    "start_time": "2023-02-26T12:11:36.765Z"
   },
   {
    "duration": 165,
    "start_time": "2023-02-26T12:11:36.772Z"
   },
   {
    "duration": 181,
    "start_time": "2023-02-26T12:11:36.940Z"
   },
   {
    "duration": 247,
    "start_time": "2023-02-26T12:11:37.123Z"
   },
   {
    "duration": 5,
    "start_time": "2023-02-26T12:11:37.372Z"
   },
   {
    "duration": 144,
    "start_time": "2023-02-26T12:11:37.378Z"
   },
   {
    "duration": 16,
    "start_time": "2023-02-26T12:11:37.524Z"
   },
   {
    "duration": 11,
    "start_time": "2023-02-26T12:11:37.542Z"
   },
   {
    "duration": 5,
    "start_time": "2023-02-26T12:11:37.555Z"
   },
   {
    "duration": 27,
    "start_time": "2023-02-26T12:11:37.563Z"
   },
   {
    "duration": 12,
    "start_time": "2023-02-26T12:11:37.592Z"
   },
   {
    "duration": 41,
    "start_time": "2023-02-26T12:11:37.605Z"
   },
   {
    "duration": 5,
    "start_time": "2023-02-26T12:11:37.648Z"
   },
   {
    "duration": 117,
    "start_time": "2023-02-26T12:11:37.655Z"
   },
   {
    "duration": 0,
    "start_time": "2023-02-26T12:11:37.774Z"
   },
   {
    "duration": 0,
    "start_time": "2023-02-26T12:11:37.775Z"
   },
   {
    "duration": 15,
    "start_time": "2023-02-26T12:14:40.884Z"
   },
   {
    "duration": 10,
    "start_time": "2023-02-26T12:16:06.292Z"
   },
   {
    "duration": 26,
    "start_time": "2023-02-26T12:16:12.103Z"
   },
   {
    "duration": 6,
    "start_time": "2023-02-26T12:19:16.474Z"
   },
   {
    "duration": 9,
    "start_time": "2023-02-26T12:21:30.599Z"
   },
   {
    "duration": 79,
    "start_time": "2023-02-26T12:22:22.262Z"
   },
   {
    "duration": 9,
    "start_time": "2023-02-26T12:22:23.989Z"
   },
   {
    "duration": 8,
    "start_time": "2023-02-26T12:22:29.762Z"
   },
   {
    "duration": 10,
    "start_time": "2023-02-26T12:22:31.180Z"
   },
   {
    "duration": 14,
    "start_time": "2023-02-26T12:22:45.886Z"
   },
   {
    "duration": 9,
    "start_time": "2023-02-26T12:22:46.702Z"
   },
   {
    "duration": 13,
    "start_time": "2023-02-26T12:22:47.134Z"
   },
   {
    "duration": 25,
    "start_time": "2023-02-26T12:22:49.614Z"
   },
   {
    "duration": 1189,
    "start_time": "2023-02-26T12:23:25.037Z"
   },
   {
    "duration": 83,
    "start_time": "2023-02-26T12:23:26.229Z"
   },
   {
    "duration": 3,
    "start_time": "2023-02-26T12:23:26.314Z"
   },
   {
    "duration": 13,
    "start_time": "2023-02-26T12:23:26.319Z"
   },
   {
    "duration": 37,
    "start_time": "2023-02-26T12:23:26.333Z"
   },
   {
    "duration": 5,
    "start_time": "2023-02-26T12:23:26.372Z"
   },
   {
    "duration": 24,
    "start_time": "2023-02-26T12:23:26.379Z"
   },
   {
    "duration": 37,
    "start_time": "2023-02-26T12:23:26.405Z"
   },
   {
    "duration": 21,
    "start_time": "2023-02-26T12:23:26.444Z"
   },
   {
    "duration": 9,
    "start_time": "2023-02-26T12:23:26.469Z"
   },
   {
    "duration": 9,
    "start_time": "2023-02-26T12:23:26.480Z"
   },
   {
    "duration": 14,
    "start_time": "2023-02-26T12:23:26.491Z"
   },
   {
    "duration": 11,
    "start_time": "2023-02-26T12:23:26.508Z"
   },
   {
    "duration": 7,
    "start_time": "2023-02-26T12:23:26.541Z"
   },
   {
    "duration": 8,
    "start_time": "2023-02-26T12:23:26.550Z"
   },
   {
    "duration": 32,
    "start_time": "2023-02-26T12:23:26.560Z"
   },
   {
    "duration": 4,
    "start_time": "2023-02-26T12:23:26.594Z"
   },
   {
    "duration": 19,
    "start_time": "2023-02-26T12:23:26.599Z"
   },
   {
    "duration": 40,
    "start_time": "2023-02-26T12:23:26.620Z"
   },
   {
    "duration": 11,
    "start_time": "2023-02-26T12:23:26.662Z"
   },
   {
    "duration": 8,
    "start_time": "2023-02-26T12:23:26.674Z"
   },
   {
    "duration": 323,
    "start_time": "2023-02-26T12:23:26.684Z"
   },
   {
    "duration": 389,
    "start_time": "2023-02-26T12:23:27.010Z"
   },
   {
    "duration": 241,
    "start_time": "2023-02-26T12:23:27.401Z"
   },
   {
    "duration": 380,
    "start_time": "2023-02-26T12:23:27.644Z"
   },
   {
    "duration": 296,
    "start_time": "2023-02-26T12:23:28.026Z"
   },
   {
    "duration": 481,
    "start_time": "2023-02-26T12:23:28.324Z"
   },
   {
    "duration": 11,
    "start_time": "2023-02-26T12:23:28.809Z"
   },
   {
    "duration": 35,
    "start_time": "2023-02-26T12:23:28.822Z"
   },
   {
    "duration": 213,
    "start_time": "2023-02-26T12:23:28.860Z"
   },
   {
    "duration": 197,
    "start_time": "2023-02-26T12:23:29.076Z"
   },
   {
    "duration": 7,
    "start_time": "2023-02-26T12:23:29.275Z"
   },
   {
    "duration": 167,
    "start_time": "2023-02-26T12:23:29.284Z"
   },
   {
    "duration": 160,
    "start_time": "2023-02-26T12:23:29.452Z"
   },
   {
    "duration": 235,
    "start_time": "2023-02-26T12:23:29.613Z"
   },
   {
    "duration": 5,
    "start_time": "2023-02-26T12:23:29.850Z"
   },
   {
    "duration": 32,
    "start_time": "2023-02-26T12:23:29.857Z"
   },
   {
    "duration": 32,
    "start_time": "2023-02-26T12:23:29.891Z"
   },
   {
    "duration": 18,
    "start_time": "2023-02-26T12:23:29.925Z"
   },
   {
    "duration": 40,
    "start_time": "2023-02-26T12:23:29.945Z"
   },
   {
    "duration": 13,
    "start_time": "2023-02-26T12:23:29.987Z"
   },
   {
    "duration": 42,
    "start_time": "2023-02-26T12:23:30.002Z"
   },
   {
    "duration": 24,
    "start_time": "2023-02-26T12:23:30.046Z"
   },
   {
    "duration": 29,
    "start_time": "2023-02-26T12:23:30.071Z"
   },
   {
    "duration": 53,
    "start_time": "2023-02-26T12:23:30.103Z"
   },
   {
    "duration": 18,
    "start_time": "2023-02-26T12:23:30.158Z"
   },
   {
    "duration": 9,
    "start_time": "2023-02-26T12:24:09.591Z"
   },
   {
    "duration": 50,
    "start_time": "2023-02-26T12:24:53.258Z"
   },
   {
    "duration": 7,
    "start_time": "2023-02-26T12:25:13.638Z"
   },
   {
    "duration": 5,
    "start_time": "2023-02-26T12:48:30.375Z"
   },
   {
    "duration": 4,
    "start_time": "2023-02-26T12:48:39.488Z"
   },
   {
    "duration": 8,
    "start_time": "2023-02-26T13:00:11.739Z"
   },
   {
    "duration": 28,
    "start_time": "2023-02-26T13:00:15.066Z"
   },
   {
    "duration": 1385,
    "start_time": "2023-03-04T15:38:52.227Z"
   },
   {
    "duration": 142,
    "start_time": "2023-03-04T15:38:53.614Z"
   },
   {
    "duration": 3,
    "start_time": "2023-03-04T15:38:53.758Z"
   },
   {
    "duration": 12,
    "start_time": "2023-03-04T15:38:53.764Z"
   },
   {
    "duration": 29,
    "start_time": "2023-03-04T15:38:53.778Z"
   },
   {
    "duration": 30,
    "start_time": "2023-03-04T15:38:53.809Z"
   },
   {
    "duration": 45,
    "start_time": "2023-03-04T15:38:53.842Z"
   },
   {
    "duration": 97,
    "start_time": "2023-03-04T15:38:53.889Z"
   },
   {
    "duration": 14,
    "start_time": "2023-03-04T15:38:53.989Z"
   },
   {
    "duration": 19,
    "start_time": "2023-03-04T15:38:54.006Z"
   },
   {
    "duration": 31,
    "start_time": "2023-03-04T15:38:54.027Z"
   },
   {
    "duration": 19,
    "start_time": "2023-03-04T15:38:54.060Z"
   },
   {
    "duration": 15,
    "start_time": "2023-03-04T15:38:54.081Z"
   },
   {
    "duration": 16,
    "start_time": "2023-03-04T15:38:54.097Z"
   },
   {
    "duration": 10,
    "start_time": "2023-03-04T15:38:54.114Z"
   },
   {
    "duration": 76,
    "start_time": "2023-03-04T15:38:54.126Z"
   },
   {
    "duration": 5,
    "start_time": "2023-03-04T15:38:54.204Z"
   },
   {
    "duration": 31,
    "start_time": "2023-03-04T15:38:54.211Z"
   },
   {
    "duration": 48,
    "start_time": "2023-03-04T15:38:54.246Z"
   },
   {
    "duration": 32,
    "start_time": "2023-03-04T15:38:54.296Z"
   },
   {
    "duration": 32,
    "start_time": "2023-03-04T15:38:54.330Z"
   },
   {
    "duration": 325,
    "start_time": "2023-03-04T15:38:54.364Z"
   },
   {
    "duration": 441,
    "start_time": "2023-03-04T15:38:54.691Z"
   },
   {
    "duration": 260,
    "start_time": "2023-03-04T15:38:55.134Z"
   },
   {
    "duration": 371,
    "start_time": "2023-03-04T15:38:55.396Z"
   },
   {
    "duration": 300,
    "start_time": "2023-03-04T15:38:55.769Z"
   },
   {
    "duration": 409,
    "start_time": "2023-03-04T15:38:56.075Z"
   },
   {
    "duration": 12,
    "start_time": "2023-03-04T15:38:56.488Z"
   },
   {
    "duration": 17,
    "start_time": "2023-03-04T15:38:56.501Z"
   },
   {
    "duration": 234,
    "start_time": "2023-03-04T15:38:56.520Z"
   },
   {
    "duration": 164,
    "start_time": "2023-03-04T15:38:56.756Z"
   },
   {
    "duration": 6,
    "start_time": "2023-03-04T15:38:56.922Z"
   },
   {
    "duration": 164,
    "start_time": "2023-03-04T15:38:56.940Z"
   },
   {
    "duration": 183,
    "start_time": "2023-03-04T15:38:57.107Z"
   },
   {
    "duration": 269,
    "start_time": "2023-03-04T15:38:57.292Z"
   },
   {
    "duration": 6,
    "start_time": "2023-03-04T15:38:57.563Z"
   },
   {
    "duration": 24,
    "start_time": "2023-03-04T15:38:57.570Z"
   },
   {
    "duration": 13,
    "start_time": "2023-03-04T15:38:57.595Z"
   },
   {
    "duration": 48,
    "start_time": "2023-03-04T15:38:57.610Z"
   },
   {
    "duration": 19,
    "start_time": "2023-03-04T15:38:57.663Z"
   },
   {
    "duration": 24,
    "start_time": "2023-03-04T15:38:57.684Z"
   },
   {
    "duration": 13,
    "start_time": "2023-03-04T15:38:57.710Z"
   },
   {
    "duration": 20,
    "start_time": "2023-03-04T15:38:57.725Z"
   },
   {
    "duration": 31,
    "start_time": "2023-03-04T15:38:57.747Z"
   },
   {
    "duration": 41,
    "start_time": "2023-03-04T15:38:57.780Z"
   },
   {
    "duration": 27,
    "start_time": "2023-03-04T15:38:57.823Z"
   },
   {
    "duration": 878,
    "start_time": "2023-03-04T15:39:30.166Z"
   },
   {
    "duration": 10,
    "start_time": "2023-03-04T15:39:50.157Z"
   },
   {
    "duration": 9,
    "start_time": "2023-03-04T15:40:09.577Z"
   },
   {
    "duration": 6,
    "start_time": "2023-03-04T15:41:10.304Z"
   },
   {
    "duration": 5,
    "start_time": "2023-03-04T15:41:21.589Z"
   },
   {
    "duration": 5,
    "start_time": "2023-03-04T15:42:50.308Z"
   },
   {
    "duration": 16,
    "start_time": "2023-03-04T15:44:34.348Z"
   },
   {
    "duration": 12,
    "start_time": "2023-03-04T15:50:42.956Z"
   },
   {
    "duration": 3,
    "start_time": "2023-03-04T15:50:46.716Z"
   },
   {
    "duration": 8,
    "start_time": "2023-03-04T15:50:47.228Z"
   },
   {
    "duration": 76,
    "start_time": "2023-03-04T15:50:59.066Z"
   },
   {
    "duration": 4,
    "start_time": "2023-03-04T15:51:04.873Z"
   },
   {
    "duration": 5,
    "start_time": "2023-03-04T15:51:11.259Z"
   },
   {
    "duration": 4,
    "start_time": "2023-03-04T15:51:40.702Z"
   },
   {
    "duration": 7,
    "start_time": "2023-03-04T15:51:41.259Z"
   },
   {
    "duration": 84,
    "start_time": "2023-03-04T15:52:13.531Z"
   },
   {
    "duration": 9,
    "start_time": "2023-03-04T15:52:17.213Z"
   },
   {
    "duration": 13,
    "start_time": "2023-03-04T15:52:22.811Z"
   },
   {
    "duration": 11,
    "start_time": "2023-03-04T15:52:32.143Z"
   },
   {
    "duration": 5,
    "start_time": "2023-03-04T15:52:36.056Z"
   },
   {
    "duration": 3,
    "start_time": "2023-03-04T15:52:44.678Z"
   },
   {
    "duration": 4,
    "start_time": "2023-03-04T15:52:45.082Z"
   },
   {
    "duration": 18,
    "start_time": "2023-03-04T15:53:27.434Z"
   },
   {
    "duration": 5,
    "start_time": "2023-03-04T15:53:41.008Z"
   },
   {
    "duration": 4,
    "start_time": "2023-03-04T15:54:11.122Z"
   },
   {
    "duration": 5,
    "start_time": "2023-03-04T15:54:53.776Z"
   },
   {
    "duration": 6,
    "start_time": "2023-03-04T15:55:12.052Z"
   },
   {
    "duration": 4,
    "start_time": "2023-03-04T15:55:51.381Z"
   },
   {
    "duration": 4,
    "start_time": "2023-03-04T15:56:03.410Z"
   },
   {
    "duration": 4,
    "start_time": "2023-03-04T15:56:07.914Z"
   },
   {
    "duration": 5,
    "start_time": "2023-03-04T15:56:13.609Z"
   },
   {
    "duration": 5,
    "start_time": "2023-03-04T15:56:18.756Z"
   },
   {
    "duration": 3,
    "start_time": "2023-03-04T15:57:19.588Z"
   },
   {
    "duration": 89,
    "start_time": "2023-03-04T15:57:20.198Z"
   },
   {
    "duration": 98,
    "start_time": "2023-03-04T15:57:26.134Z"
   },
   {
    "duration": 9,
    "start_time": "2023-03-04T15:57:34.791Z"
   },
   {
    "duration": 2,
    "start_time": "2023-03-04T15:57:42.060Z"
   },
   {
    "duration": 5,
    "start_time": "2023-03-04T15:57:42.480Z"
   },
   {
    "duration": 4,
    "start_time": "2023-03-04T15:57:48.788Z"
   },
   {
    "duration": 101,
    "start_time": "2023-03-04T15:57:58.353Z"
   },
   {
    "duration": 6,
    "start_time": "2023-03-04T15:58:25.990Z"
   },
   {
    "duration": 103,
    "start_time": "2023-03-04T15:59:10.992Z"
   },
   {
    "duration": 4,
    "start_time": "2023-03-04T15:59:36.027Z"
   },
   {
    "duration": 4,
    "start_time": "2023-03-04T15:59:44.977Z"
   },
   {
    "duration": 5,
    "start_time": "2023-03-04T16:04:50.024Z"
   },
   {
    "duration": 5,
    "start_time": "2023-03-04T16:05:23.540Z"
   },
   {
    "duration": 5,
    "start_time": "2023-03-04T16:05:38.486Z"
   },
   {
    "duration": 3,
    "start_time": "2023-03-04T16:07:45.988Z"
   },
   {
    "duration": 4,
    "start_time": "2023-03-04T16:07:46.468Z"
   },
   {
    "duration": 13,
    "start_time": "2023-03-04T16:09:14.666Z"
   },
   {
    "duration": 6,
    "start_time": "2023-03-04T16:09:17.493Z"
   },
   {
    "duration": 6,
    "start_time": "2023-03-04T16:09:28.106Z"
   },
   {
    "duration": 11,
    "start_time": "2023-03-04T16:09:58.390Z"
   },
   {
    "duration": 5,
    "start_time": "2023-03-04T16:10:29.129Z"
   },
   {
    "duration": 6,
    "start_time": "2023-03-04T16:10:35.344Z"
   },
   {
    "duration": 5,
    "start_time": "2023-03-04T16:10:45.315Z"
   },
   {
    "duration": 5,
    "start_time": "2023-03-04T16:12:28.597Z"
   },
   {
    "duration": 4,
    "start_time": "2023-03-04T16:12:35.424Z"
   },
   {
    "duration": 5,
    "start_time": "2023-03-04T16:12:52.319Z"
   },
   {
    "duration": 3,
    "start_time": "2023-03-04T16:12:56.813Z"
   },
   {
    "duration": 3,
    "start_time": "2023-03-04T16:13:03.379Z"
   },
   {
    "duration": 14,
    "start_time": "2023-03-04T16:13:17.954Z"
   },
   {
    "duration": 3,
    "start_time": "2023-03-04T16:13:31.219Z"
   },
   {
    "duration": 5,
    "start_time": "2023-03-04T16:13:35.851Z"
   },
   {
    "duration": 4,
    "start_time": "2023-03-04T16:13:42.219Z"
   },
   {
    "duration": 68,
    "start_time": "2023-03-04T16:13:58.755Z"
   },
   {
    "duration": 4,
    "start_time": "2023-03-04T16:14:02.566Z"
   },
   {
    "duration": 3,
    "start_time": "2023-03-04T16:14:08.249Z"
   },
   {
    "duration": 3,
    "start_time": "2023-03-04T16:14:11.467Z"
   },
   {
    "duration": 3,
    "start_time": "2023-03-04T16:14:19.233Z"
   },
   {
    "duration": 6,
    "start_time": "2023-03-04T16:14:19.574Z"
   },
   {
    "duration": 4,
    "start_time": "2023-03-04T16:14:28.648Z"
   },
   {
    "duration": 4,
    "start_time": "2023-03-04T16:14:56.801Z"
   },
   {
    "duration": 4,
    "start_time": "2023-03-04T16:15:01.687Z"
   },
   {
    "duration": 4,
    "start_time": "2023-03-04T16:15:12.203Z"
   },
   {
    "duration": 4,
    "start_time": "2023-03-04T16:15:23.891Z"
   },
   {
    "duration": 3,
    "start_time": "2023-03-04T16:15:32.521Z"
   },
   {
    "duration": 6,
    "start_time": "2023-03-04T16:15:35.761Z"
   },
   {
    "duration": 8,
    "start_time": "2023-03-04T16:17:57.661Z"
   },
   {
    "duration": 12,
    "start_time": "2023-03-04T16:18:33.302Z"
   },
   {
    "duration": 12,
    "start_time": "2023-03-04T16:18:43.379Z"
   },
   {
    "duration": 6,
    "start_time": "2023-03-04T16:54:27.915Z"
   },
   {
    "duration": 105,
    "start_time": "2023-03-04T16:54:28.617Z"
   },
   {
    "duration": 31,
    "start_time": "2023-03-04T16:54:32.715Z"
   },
   {
    "duration": 4,
    "start_time": "2023-03-04T16:54:35.129Z"
   },
   {
    "duration": 6,
    "start_time": "2023-03-04T16:54:37.269Z"
   },
   {
    "duration": 83,
    "start_time": "2023-03-04T16:54:37.684Z"
   },
   {
    "duration": 95,
    "start_time": "2023-03-04T16:54:43.416Z"
   },
   {
    "duration": 14,
    "start_time": "2023-03-04T16:54:57.996Z"
   },
   {
    "duration": 10,
    "start_time": "2023-03-04T16:58:19.265Z"
   },
   {
    "duration": 8,
    "start_time": "2023-03-04T16:58:27.937Z"
   },
   {
    "duration": 13,
    "start_time": "2023-03-04T16:58:37.509Z"
   },
   {
    "duration": 19,
    "start_time": "2023-03-04T16:59:29.675Z"
   },
   {
    "duration": 14,
    "start_time": "2023-03-04T17:00:09.501Z"
   },
   {
    "duration": 12,
    "start_time": "2023-03-04T17:01:27.887Z"
   },
   {
    "duration": 13,
    "start_time": "2023-03-04T17:02:21.102Z"
   },
   {
    "duration": 53,
    "start_time": "2023-03-04T17:02:33.166Z"
   },
   {
    "duration": 4,
    "start_time": "2023-03-04T17:02:37.133Z"
   },
   {
    "duration": 16,
    "start_time": "2023-03-04T17:02:39.271Z"
   },
   {
    "duration": 12,
    "start_time": "2023-03-04T17:03:04.879Z"
   },
   {
    "duration": 10,
    "start_time": "2023-03-04T17:03:20.321Z"
   },
   {
    "duration": 30,
    "start_time": "2023-03-04T17:04:05.238Z"
   },
   {
    "duration": 18,
    "start_time": "2023-03-04T17:04:32.835Z"
   },
   {
    "duration": 17,
    "start_time": "2023-03-04T17:04:38.378Z"
   },
   {
    "duration": 13,
    "start_time": "2023-03-04T17:04:52.287Z"
   },
   {
    "duration": 32,
    "start_time": "2023-03-04T17:04:56.585Z"
   },
   {
    "duration": 5,
    "start_time": "2023-03-04T17:05:00.210Z"
   },
   {
    "duration": 20,
    "start_time": "2023-03-04T17:05:01.391Z"
   },
   {
    "duration": 14,
    "start_time": "2023-03-04T17:05:18.432Z"
   },
   {
    "duration": 16,
    "start_time": "2023-03-04T17:05:26.363Z"
   },
   {
    "duration": 6,
    "start_time": "2023-03-04T17:05:29.166Z"
   },
   {
    "duration": 14,
    "start_time": "2023-03-04T17:05:48.617Z"
   },
   {
    "duration": 6,
    "start_time": "2023-03-04T17:05:50.894Z"
   },
   {
    "duration": 27,
    "start_time": "2023-03-04T17:05:54.067Z"
   },
   {
    "duration": 4,
    "start_time": "2023-03-04T17:05:56.299Z"
   },
   {
    "duration": 16,
    "start_time": "2023-03-04T17:05:57.417Z"
   },
   {
    "duration": 5,
    "start_time": "2023-03-04T17:05:59.394Z"
   },
   {
    "duration": 9,
    "start_time": "2023-03-04T17:06:00.865Z"
   },
   {
    "duration": 5,
    "start_time": "2023-03-04T17:08:35.514Z"
   },
   {
    "duration": 13,
    "start_time": "2023-03-04T17:08:35.917Z"
   },
   {
    "duration": 1411,
    "start_time": "2023-03-04T19:04:21.283Z"
   },
   {
    "duration": 169,
    "start_time": "2023-03-04T19:04:22.697Z"
   },
   {
    "duration": 5,
    "start_time": "2023-03-04T19:04:22.868Z"
   },
   {
    "duration": 29,
    "start_time": "2023-03-04T19:04:22.876Z"
   },
   {
    "duration": 14,
    "start_time": "2023-03-04T19:04:22.907Z"
   },
   {
    "duration": 112,
    "start_time": "2023-03-04T19:04:22.922Z"
   },
   {
    "duration": 0,
    "start_time": "2023-03-04T19:04:23.038Z"
   },
   {
    "duration": 0,
    "start_time": "2023-03-04T19:04:23.040Z"
   },
   {
    "duration": 0,
    "start_time": "2023-03-04T19:04:23.054Z"
   },
   {
    "duration": 0,
    "start_time": "2023-03-04T19:04:23.057Z"
   },
   {
    "duration": 0,
    "start_time": "2023-03-04T19:04:23.061Z"
   },
   {
    "duration": 0,
    "start_time": "2023-03-04T19:04:23.062Z"
   },
   {
    "duration": 0,
    "start_time": "2023-03-04T19:04:23.063Z"
   },
   {
    "duration": 0,
    "start_time": "2023-03-04T19:04:23.064Z"
   },
   {
    "duration": 0,
    "start_time": "2023-03-04T19:04:23.064Z"
   },
   {
    "duration": 0,
    "start_time": "2023-03-04T19:04:23.070Z"
   },
   {
    "duration": 0,
    "start_time": "2023-03-04T19:04:23.071Z"
   },
   {
    "duration": 0,
    "start_time": "2023-03-04T19:04:23.078Z"
   },
   {
    "duration": 0,
    "start_time": "2023-03-04T19:04:23.079Z"
   },
   {
    "duration": 0,
    "start_time": "2023-03-04T19:04:23.080Z"
   },
   {
    "duration": 0,
    "start_time": "2023-03-04T19:04:23.082Z"
   },
   {
    "duration": 0,
    "start_time": "2023-03-04T19:04:23.084Z"
   },
   {
    "duration": 0,
    "start_time": "2023-03-04T19:04:23.086Z"
   },
   {
    "duration": 0,
    "start_time": "2023-03-04T19:04:23.088Z"
   },
   {
    "duration": 0,
    "start_time": "2023-03-04T19:04:23.089Z"
   },
   {
    "duration": 0,
    "start_time": "2023-03-04T19:04:23.091Z"
   },
   {
    "duration": 0,
    "start_time": "2023-03-04T19:04:23.092Z"
   },
   {
    "duration": 0,
    "start_time": "2023-03-04T19:04:23.094Z"
   },
   {
    "duration": 0,
    "start_time": "2023-03-04T19:04:23.095Z"
   },
   {
    "duration": 0,
    "start_time": "2023-03-04T19:04:23.097Z"
   },
   {
    "duration": 0,
    "start_time": "2023-03-04T19:04:23.098Z"
   },
   {
    "duration": 0,
    "start_time": "2023-03-04T19:04:23.100Z"
   },
   {
    "duration": 0,
    "start_time": "2023-03-04T19:04:23.101Z"
   },
   {
    "duration": 0,
    "start_time": "2023-03-04T19:04:23.150Z"
   },
   {
    "duration": 0,
    "start_time": "2023-03-04T19:04:23.151Z"
   },
   {
    "duration": 0,
    "start_time": "2023-03-04T19:04:23.152Z"
   },
   {
    "duration": 0,
    "start_time": "2023-03-04T19:04:23.153Z"
   },
   {
    "duration": 0,
    "start_time": "2023-03-04T19:04:23.157Z"
   },
   {
    "duration": 0,
    "start_time": "2023-03-04T19:04:23.158Z"
   },
   {
    "duration": 0,
    "start_time": "2023-03-04T19:04:23.158Z"
   },
   {
    "duration": 0,
    "start_time": "2023-03-04T19:04:23.162Z"
   },
   {
    "duration": 0,
    "start_time": "2023-03-04T19:04:23.163Z"
   },
   {
    "duration": 0,
    "start_time": "2023-03-04T19:04:23.163Z"
   },
   {
    "duration": 0,
    "start_time": "2023-03-04T19:04:23.164Z"
   },
   {
    "duration": 0,
    "start_time": "2023-03-04T19:04:23.168Z"
   },
   {
    "duration": 0,
    "start_time": "2023-03-04T19:04:23.169Z"
   },
   {
    "duration": 0,
    "start_time": "2023-03-04T19:04:23.170Z"
   },
   {
    "duration": 0,
    "start_time": "2023-03-04T19:04:23.172Z"
   },
   {
    "duration": 0,
    "start_time": "2023-03-04T19:04:23.173Z"
   },
   {
    "duration": 0,
    "start_time": "2023-03-04T19:04:23.175Z"
   },
   {
    "duration": 0,
    "start_time": "2023-03-04T19:04:23.177Z"
   },
   {
    "duration": 0,
    "start_time": "2023-03-04T19:04:23.179Z"
   },
   {
    "duration": 0,
    "start_time": "2023-03-04T19:04:23.180Z"
   },
   {
    "duration": 0,
    "start_time": "2023-03-04T19:04:23.182Z"
   },
   {
    "duration": 0,
    "start_time": "2023-03-04T19:04:23.183Z"
   },
   {
    "duration": 0,
    "start_time": "2023-03-04T19:04:23.185Z"
   },
   {
    "duration": 0,
    "start_time": "2023-03-04T19:04:23.187Z"
   },
   {
    "duration": 0,
    "start_time": "2023-03-04T19:04:23.188Z"
   },
   {
    "duration": 0,
    "start_time": "2023-03-04T19:04:23.189Z"
   },
   {
    "duration": 7,
    "start_time": "2023-03-04T19:04:44.242Z"
   },
   {
    "duration": 13,
    "start_time": "2023-03-04T19:04:54.520Z"
   },
   {
    "duration": 5,
    "start_time": "2023-03-04T19:05:12.089Z"
   },
   {
    "duration": 4,
    "start_time": "2023-03-04T19:05:21.734Z"
   },
   {
    "duration": 15,
    "start_time": "2023-03-04T19:05:33.664Z"
   },
   {
    "duration": 1105,
    "start_time": "2023-03-05T08:23:53.163Z"
   },
   {
    "duration": 115,
    "start_time": "2023-03-05T08:23:54.270Z"
   },
   {
    "duration": 3,
    "start_time": "2023-03-05T08:23:54.387Z"
   },
   {
    "duration": 18,
    "start_time": "2023-03-05T08:23:54.392Z"
   },
   {
    "duration": 9,
    "start_time": "2023-03-05T08:23:54.411Z"
   },
   {
    "duration": 115,
    "start_time": "2023-03-05T08:23:54.422Z"
   },
   {
    "duration": 0,
    "start_time": "2023-03-05T08:23:54.540Z"
   },
   {
    "duration": 0,
    "start_time": "2023-03-05T08:23:54.541Z"
   },
   {
    "duration": 0,
    "start_time": "2023-03-05T08:23:54.542Z"
   },
   {
    "duration": 0,
    "start_time": "2023-03-05T08:23:54.548Z"
   },
   {
    "duration": 0,
    "start_time": "2023-03-05T08:23:54.548Z"
   },
   {
    "duration": 0,
    "start_time": "2023-03-05T08:23:54.549Z"
   },
   {
    "duration": 0,
    "start_time": "2023-03-05T08:23:54.550Z"
   },
   {
    "duration": 0,
    "start_time": "2023-03-05T08:23:54.550Z"
   },
   {
    "duration": 0,
    "start_time": "2023-03-05T08:23:54.551Z"
   },
   {
    "duration": 0,
    "start_time": "2023-03-05T08:23:54.552Z"
   },
   {
    "duration": 0,
    "start_time": "2023-03-05T08:23:54.552Z"
   },
   {
    "duration": 0,
    "start_time": "2023-03-05T08:23:54.553Z"
   },
   {
    "duration": 0,
    "start_time": "2023-03-05T08:23:54.554Z"
   },
   {
    "duration": 0,
    "start_time": "2023-03-05T08:23:54.554Z"
   },
   {
    "duration": 0,
    "start_time": "2023-03-05T08:23:54.555Z"
   },
   {
    "duration": 0,
    "start_time": "2023-03-05T08:23:54.555Z"
   },
   {
    "duration": 0,
    "start_time": "2023-03-05T08:23:54.556Z"
   },
   {
    "duration": 0,
    "start_time": "2023-03-05T08:23:54.556Z"
   },
   {
    "duration": 0,
    "start_time": "2023-03-05T08:23:54.557Z"
   },
   {
    "duration": 0,
    "start_time": "2023-03-05T08:23:54.567Z"
   },
   {
    "duration": 0,
    "start_time": "2023-03-05T08:23:54.568Z"
   },
   {
    "duration": 0,
    "start_time": "2023-03-05T08:23:54.569Z"
   },
   {
    "duration": 0,
    "start_time": "2023-03-05T08:23:54.570Z"
   },
   {
    "duration": 0,
    "start_time": "2023-03-05T08:23:54.571Z"
   },
   {
    "duration": 0,
    "start_time": "2023-03-05T08:23:54.572Z"
   },
   {
    "duration": 0,
    "start_time": "2023-03-05T08:23:54.573Z"
   },
   {
    "duration": 0,
    "start_time": "2023-03-05T08:23:54.574Z"
   },
   {
    "duration": 0,
    "start_time": "2023-03-05T08:23:54.575Z"
   },
   {
    "duration": 0,
    "start_time": "2023-03-05T08:23:54.577Z"
   },
   {
    "duration": 0,
    "start_time": "2023-03-05T08:23:54.578Z"
   },
   {
    "duration": 0,
    "start_time": "2023-03-05T08:23:54.579Z"
   },
   {
    "duration": 0,
    "start_time": "2023-03-05T08:23:54.580Z"
   },
   {
    "duration": 0,
    "start_time": "2023-03-05T08:23:54.581Z"
   },
   {
    "duration": 0,
    "start_time": "2023-03-05T08:23:54.582Z"
   },
   {
    "duration": 0,
    "start_time": "2023-03-05T08:23:54.583Z"
   },
   {
    "duration": 0,
    "start_time": "2023-03-05T08:23:54.584Z"
   },
   {
    "duration": 0,
    "start_time": "2023-03-05T08:23:54.585Z"
   },
   {
    "duration": 0,
    "start_time": "2023-03-05T08:23:54.586Z"
   },
   {
    "duration": 0,
    "start_time": "2023-03-05T08:23:54.587Z"
   },
   {
    "duration": 0,
    "start_time": "2023-03-05T08:23:54.588Z"
   },
   {
    "duration": 0,
    "start_time": "2023-03-05T08:23:54.589Z"
   },
   {
    "duration": 0,
    "start_time": "2023-03-05T08:23:54.650Z"
   },
   {
    "duration": 0,
    "start_time": "2023-03-05T08:23:54.651Z"
   },
   {
    "duration": 0,
    "start_time": "2023-03-05T08:23:54.651Z"
   },
   {
    "duration": 0,
    "start_time": "2023-03-05T08:23:54.652Z"
   },
   {
    "duration": 0,
    "start_time": "2023-03-05T08:23:54.652Z"
   },
   {
    "duration": 0,
    "start_time": "2023-03-05T08:23:54.653Z"
   },
   {
    "duration": 0,
    "start_time": "2023-03-05T08:23:54.657Z"
   },
   {
    "duration": 0,
    "start_time": "2023-03-05T08:23:54.658Z"
   },
   {
    "duration": 0,
    "start_time": "2023-03-05T08:23:54.658Z"
   },
   {
    "duration": 0,
    "start_time": "2023-03-05T08:23:54.659Z"
   },
   {
    "duration": 0,
    "start_time": "2023-03-05T08:23:54.659Z"
   },
   {
    "duration": 0,
    "start_time": "2023-03-05T08:23:54.660Z"
   },
   {
    "duration": 1105,
    "start_time": "2023-03-05T08:24:26.206Z"
   },
   {
    "duration": 87,
    "start_time": "2023-03-05T08:24:27.313Z"
   },
   {
    "duration": 3,
    "start_time": "2023-03-05T08:24:27.402Z"
   },
   {
    "duration": 18,
    "start_time": "2023-03-05T08:24:27.407Z"
   },
   {
    "duration": 10,
    "start_time": "2023-03-05T08:24:27.426Z"
   },
   {
    "duration": 15,
    "start_time": "2023-03-05T08:24:27.448Z"
   },
   {
    "duration": 13,
    "start_time": "2023-03-05T08:24:27.464Z"
   },
   {
    "duration": 99,
    "start_time": "2023-03-05T08:24:27.479Z"
   },
   {
    "duration": 13,
    "start_time": "2023-03-05T08:24:27.579Z"
   },
   {
    "duration": 17,
    "start_time": "2023-03-05T08:24:27.595Z"
   },
   {
    "duration": 11,
    "start_time": "2023-03-05T08:24:27.613Z"
   },
   {
    "duration": 15,
    "start_time": "2023-03-05T08:24:27.626Z"
   },
   {
    "duration": 28,
    "start_time": "2023-03-05T08:24:27.643Z"
   },
   {
    "duration": 11,
    "start_time": "2023-03-05T08:24:27.673Z"
   },
   {
    "duration": 22,
    "start_time": "2023-03-05T08:24:27.686Z"
   },
   {
    "duration": 81,
    "start_time": "2023-03-05T08:24:27.710Z"
   },
   {
    "duration": 5,
    "start_time": "2023-03-05T08:24:27.792Z"
   },
   {
    "duration": 13,
    "start_time": "2023-03-05T08:24:27.799Z"
   },
   {
    "duration": 20,
    "start_time": "2023-03-05T08:24:27.814Z"
   },
   {
    "duration": 10,
    "start_time": "2023-03-05T08:24:27.835Z"
   },
   {
    "duration": 28,
    "start_time": "2023-03-05T08:24:27.847Z"
   },
   {
    "duration": 15,
    "start_time": "2023-03-05T08:24:27.877Z"
   },
   {
    "duration": 345,
    "start_time": "2023-03-05T08:24:27.894Z"
   },
   {
    "duration": 322,
    "start_time": "2023-03-05T08:24:28.242Z"
   },
   {
    "duration": 238,
    "start_time": "2023-03-05T08:24:28.568Z"
   },
   {
    "duration": 371,
    "start_time": "2023-03-05T08:24:28.809Z"
   },
   {
    "duration": 252,
    "start_time": "2023-03-05T08:24:29.182Z"
   },
   {
    "duration": 387,
    "start_time": "2023-03-05T08:24:29.438Z"
   },
   {
    "duration": 10,
    "start_time": "2023-03-05T08:24:29.826Z"
   },
   {
    "duration": 37,
    "start_time": "2023-03-05T08:24:29.837Z"
   },
   {
    "duration": 156,
    "start_time": "2023-03-05T08:24:29.876Z"
   },
   {
    "duration": 175,
    "start_time": "2023-03-05T08:24:30.034Z"
   },
   {
    "duration": 6,
    "start_time": "2023-03-05T08:24:30.211Z"
   },
   {
    "duration": 161,
    "start_time": "2023-03-05T08:24:30.219Z"
   },
   {
    "duration": 148,
    "start_time": "2023-03-05T08:24:30.381Z"
   },
   {
    "duration": 235,
    "start_time": "2023-03-05T08:24:30.531Z"
   },
   {
    "duration": 5,
    "start_time": "2023-03-05T08:24:30.767Z"
   },
   {
    "duration": 44,
    "start_time": "2023-03-05T08:24:30.774Z"
   },
   {
    "duration": 43,
    "start_time": "2023-03-05T08:24:30.819Z"
   },
   {
    "duration": 131,
    "start_time": "2023-03-05T08:24:30.864Z"
   },
   {
    "duration": 0,
    "start_time": "2023-03-05T08:24:30.996Z"
   },
   {
    "duration": 0,
    "start_time": "2023-03-05T08:24:30.998Z"
   },
   {
    "duration": 0,
    "start_time": "2023-03-05T08:24:30.999Z"
   },
   {
    "duration": 0,
    "start_time": "2023-03-05T08:24:31.000Z"
   },
   {
    "duration": 0,
    "start_time": "2023-03-05T08:24:31.001Z"
   },
   {
    "duration": 1,
    "start_time": "2023-03-05T08:24:31.002Z"
   },
   {
    "duration": 0,
    "start_time": "2023-03-05T08:24:31.003Z"
   },
   {
    "duration": 9,
    "start_time": "2023-03-05T08:25:47.336Z"
   },
   {
    "duration": 4,
    "start_time": "2023-03-05T08:25:52.519Z"
   },
   {
    "duration": 24,
    "start_time": "2023-03-05T08:26:00.679Z"
   },
   {
    "duration": 136,
    "start_time": "2023-03-05T08:26:48.144Z"
   },
   {
    "duration": 82,
    "start_time": "2023-03-05T08:26:51.728Z"
   },
   {
    "duration": 22,
    "start_time": "2023-03-05T08:26:55.748Z"
   },
   {
    "duration": 15,
    "start_time": "2023-03-05T08:32:57.801Z"
   },
   {
    "duration": 17,
    "start_time": "2023-03-05T08:33:28.557Z"
   },
   {
    "duration": 9,
    "start_time": "2023-03-05T08:47:45.889Z"
   },
   {
    "duration": 20,
    "start_time": "2023-03-05T08:48:05.544Z"
   },
   {
    "duration": 28,
    "start_time": "2023-03-05T08:51:44.163Z"
   },
   {
    "duration": 1034,
    "start_time": "2023-03-10T14:33:20.095Z"
   },
   {
    "duration": 102,
    "start_time": "2023-03-10T14:33:21.130Z"
   },
   {
    "duration": 3,
    "start_time": "2023-03-10T14:33:21.234Z"
   },
   {
    "duration": 26,
    "start_time": "2023-03-10T14:33:21.238Z"
   },
   {
    "duration": 8,
    "start_time": "2023-03-10T14:33:21.266Z"
   },
   {
    "duration": 7,
    "start_time": "2023-03-10T14:33:21.275Z"
   },
   {
    "duration": 31,
    "start_time": "2023-03-10T14:33:21.283Z"
   },
   {
    "duration": 96,
    "start_time": "2023-03-10T14:33:21.316Z"
   },
   {
    "duration": 13,
    "start_time": "2023-03-10T14:33:21.413Z"
   },
   {
    "duration": 13,
    "start_time": "2023-03-10T14:33:21.430Z"
   },
   {
    "duration": 6,
    "start_time": "2023-03-10T14:33:21.445Z"
   },
   {
    "duration": 7,
    "start_time": "2023-03-10T14:33:21.452Z"
   },
   {
    "duration": 16,
    "start_time": "2023-03-10T14:33:21.461Z"
   },
   {
    "duration": 27,
    "start_time": "2023-03-10T14:33:21.479Z"
   },
   {
    "duration": 7,
    "start_time": "2023-03-10T14:33:21.508Z"
   },
   {
    "duration": 8,
    "start_time": "2023-03-10T14:33:21.516Z"
   },
   {
    "duration": 75,
    "start_time": "2023-03-10T14:33:21.525Z"
   },
   {
    "duration": 4,
    "start_time": "2023-03-10T14:33:21.602Z"
   },
   {
    "duration": 11,
    "start_time": "2023-03-10T14:33:21.608Z"
   },
   {
    "duration": 16,
    "start_time": "2023-03-10T14:33:21.621Z"
   },
   {
    "duration": 6,
    "start_time": "2023-03-10T14:33:21.639Z"
   },
   {
    "duration": 13,
    "start_time": "2023-03-10T14:33:21.647Z"
   },
   {
    "duration": 9,
    "start_time": "2023-03-10T14:33:21.661Z"
   },
   {
    "duration": 293,
    "start_time": "2023-03-10T14:33:21.671Z"
   },
   {
    "duration": 291,
    "start_time": "2023-03-10T14:33:21.966Z"
   },
   {
    "duration": 195,
    "start_time": "2023-03-10T14:33:22.259Z"
   },
   {
    "duration": 324,
    "start_time": "2023-03-10T14:33:22.456Z"
   },
   {
    "duration": 229,
    "start_time": "2023-03-10T14:33:22.784Z"
   },
   {
    "duration": 347,
    "start_time": "2023-03-10T14:33:23.015Z"
   },
   {
    "duration": 23,
    "start_time": "2023-03-10T14:33:23.365Z"
   },
   {
    "duration": 10,
    "start_time": "2023-03-10T14:33:23.398Z"
   },
   {
    "duration": 130,
    "start_time": "2023-03-10T14:33:23.410Z"
   },
   {
    "duration": 173,
    "start_time": "2023-03-10T14:33:23.542Z"
   },
   {
    "duration": 6,
    "start_time": "2023-03-10T14:33:23.717Z"
   },
   {
    "duration": 144,
    "start_time": "2023-03-10T14:33:23.724Z"
   },
   {
    "duration": 137,
    "start_time": "2023-03-10T14:33:23.870Z"
   },
   {
    "duration": 175,
    "start_time": "2023-03-10T14:33:24.008Z"
   },
   {
    "duration": 8,
    "start_time": "2023-03-10T14:33:24.184Z"
   },
   {
    "duration": 17,
    "start_time": "2023-03-10T14:33:24.195Z"
   },
   {
    "duration": 7,
    "start_time": "2023-03-10T14:33:24.214Z"
   },
   {
    "duration": 113,
    "start_time": "2023-03-10T14:33:24.222Z"
   },
   {
    "duration": 0,
    "start_time": "2023-03-10T14:33:24.337Z"
   },
   {
    "duration": 0,
    "start_time": "2023-03-10T14:33:24.338Z"
   },
   {
    "duration": 0,
    "start_time": "2023-03-10T14:33:24.339Z"
   },
   {
    "duration": 0,
    "start_time": "2023-03-10T14:33:24.339Z"
   },
   {
    "duration": 0,
    "start_time": "2023-03-10T14:33:24.340Z"
   },
   {
    "duration": 0,
    "start_time": "2023-03-10T14:33:24.341Z"
   },
   {
    "duration": 0,
    "start_time": "2023-03-10T14:33:24.342Z"
   },
   {
    "duration": 176,
    "start_time": "2023-03-10T14:34:32.194Z"
   },
   {
    "duration": 136,
    "start_time": "2023-03-10T14:34:54.960Z"
   },
   {
    "duration": 108,
    "start_time": "2023-03-10T14:36:24.294Z"
   },
   {
    "duration": 315,
    "start_time": "2023-03-10T14:36:57.308Z"
   },
   {
    "duration": 203,
    "start_time": "2023-03-10T14:37:17.004Z"
   },
   {
    "duration": 189,
    "start_time": "2023-03-10T14:37:32.068Z"
   },
   {
    "duration": 43,
    "start_time": "2023-03-10T14:39:48.471Z"
   },
   {
    "duration": 12,
    "start_time": "2023-03-10T14:40:02.207Z"
   },
   {
    "duration": 20,
    "start_time": "2023-03-10T14:40:08.075Z"
   },
   {
    "duration": 24,
    "start_time": "2023-03-10T14:40:20.468Z"
   },
   {
    "duration": 13,
    "start_time": "2023-03-10T14:40:58.600Z"
   },
   {
    "duration": 15,
    "start_time": "2023-03-10T14:41:13.063Z"
   },
   {
    "duration": 16,
    "start_time": "2023-03-10T14:41:23.772Z"
   },
   {
    "duration": 30,
    "start_time": "2023-03-10T14:43:26.159Z"
   },
   {
    "duration": 89,
    "start_time": "2023-03-10T14:44:56.425Z"
   },
   {
    "duration": 79,
    "start_time": "2023-03-10T14:45:41.114Z"
   },
   {
    "duration": 2963,
    "start_time": "2023-03-10T14:46:26.464Z"
   },
   {
    "duration": 3134,
    "start_time": "2023-03-10T14:47:25.271Z"
   },
   {
    "duration": 2833,
    "start_time": "2023-03-10T14:49:11.560Z"
   },
   {
    "duration": 2553,
    "start_time": "2023-03-10T14:50:39.002Z"
   },
   {
    "duration": 2494,
    "start_time": "2023-03-10T14:50:58.000Z"
   },
   {
    "duration": 510,
    "start_time": "2023-03-10T14:52:09.740Z"
   },
   {
    "duration": 1623,
    "start_time": "2023-03-10T14:53:13.368Z"
   },
   {
    "duration": 194,
    "start_time": "2023-03-10T14:54:29.152Z"
   },
   {
    "duration": 347,
    "start_time": "2023-03-10T14:54:42.972Z"
   },
   {
    "duration": 1157,
    "start_time": "2023-03-11T08:47:42.210Z"
   },
   {
    "duration": 115,
    "start_time": "2023-03-11T08:47:43.369Z"
   },
   {
    "duration": 6,
    "start_time": "2023-03-11T08:47:43.486Z"
   },
   {
    "duration": 18,
    "start_time": "2023-03-11T08:47:43.502Z"
   },
   {
    "duration": 9,
    "start_time": "2023-03-11T08:47:43.522Z"
   },
   {
    "duration": 23,
    "start_time": "2023-03-11T08:47:43.533Z"
   },
   {
    "duration": 15,
    "start_time": "2023-03-11T08:47:43.557Z"
   },
   {
    "duration": 99,
    "start_time": "2023-03-11T08:47:43.573Z"
   },
   {
    "duration": 13,
    "start_time": "2023-03-11T08:47:43.674Z"
   },
   {
    "duration": 27,
    "start_time": "2023-03-11T08:47:43.689Z"
   },
   {
    "duration": 9,
    "start_time": "2023-03-11T08:47:43.718Z"
   },
   {
    "duration": 15,
    "start_time": "2023-03-11T08:47:43.729Z"
   },
   {
    "duration": 13,
    "start_time": "2023-03-11T08:47:43.746Z"
   },
   {
    "duration": 12,
    "start_time": "2023-03-11T08:47:43.760Z"
   },
   {
    "duration": 13,
    "start_time": "2023-03-11T08:47:43.774Z"
   },
   {
    "duration": 19,
    "start_time": "2023-03-11T08:47:43.792Z"
   },
   {
    "duration": 66,
    "start_time": "2023-03-11T08:47:43.813Z"
   },
   {
    "duration": 3,
    "start_time": "2023-03-11T08:47:43.881Z"
   },
   {
    "duration": 20,
    "start_time": "2023-03-11T08:47:43.886Z"
   },
   {
    "duration": 16,
    "start_time": "2023-03-11T08:47:43.908Z"
   },
   {
    "duration": 12,
    "start_time": "2023-03-11T08:47:43.925Z"
   },
   {
    "duration": 11,
    "start_time": "2023-03-11T08:47:43.938Z"
   },
   {
    "duration": 16,
    "start_time": "2023-03-11T08:47:43.950Z"
   },
   {
    "duration": 310,
    "start_time": "2023-03-11T08:47:43.967Z"
   },
   {
    "duration": 350,
    "start_time": "2023-03-11T08:47:44.279Z"
   },
   {
    "duration": 236,
    "start_time": "2023-03-11T08:47:44.630Z"
   },
   {
    "duration": 334,
    "start_time": "2023-03-11T08:47:44.869Z"
   },
   {
    "duration": 260,
    "start_time": "2023-03-11T08:47:45.208Z"
   },
   {
    "duration": 409,
    "start_time": "2023-03-11T08:47:45.470Z"
   },
   {
    "duration": 2148,
    "start_time": "2023-03-11T08:47:45.881Z"
   },
   {
    "duration": 74,
    "start_time": "2023-03-11T08:47:48.030Z"
   },
   {
    "duration": 14,
    "start_time": "2023-03-11T08:47:48.106Z"
   },
   {
    "duration": 152,
    "start_time": "2023-03-11T08:47:48.122Z"
   },
   {
    "duration": 238,
    "start_time": "2023-03-11T08:47:48.276Z"
   },
   {
    "duration": 113,
    "start_time": "2023-03-11T08:47:48.516Z"
   },
   {
    "duration": 0,
    "start_time": "2023-03-11T08:47:48.630Z"
   },
   {
    "duration": 0,
    "start_time": "2023-03-11T08:47:48.632Z"
   },
   {
    "duration": 0,
    "start_time": "2023-03-11T08:47:48.633Z"
   },
   {
    "duration": 0,
    "start_time": "2023-03-11T08:47:48.634Z"
   },
   {
    "duration": 0,
    "start_time": "2023-03-11T08:47:48.635Z"
   },
   {
    "duration": 0,
    "start_time": "2023-03-11T08:47:48.636Z"
   },
   {
    "duration": 0,
    "start_time": "2023-03-11T08:47:48.636Z"
   },
   {
    "duration": 0,
    "start_time": "2023-03-11T08:47:48.637Z"
   },
   {
    "duration": 0,
    "start_time": "2023-03-11T08:47:48.638Z"
   },
   {
    "duration": 0,
    "start_time": "2023-03-11T08:47:48.639Z"
   },
   {
    "duration": 0,
    "start_time": "2023-03-11T08:47:48.640Z"
   },
   {
    "duration": 0,
    "start_time": "2023-03-11T08:47:48.641Z"
   },
   {
    "duration": 0,
    "start_time": "2023-03-11T08:47:48.642Z"
   },
   {
    "duration": 0,
    "start_time": "2023-03-11T08:47:48.643Z"
   },
   {
    "duration": 0,
    "start_time": "2023-03-11T08:47:48.643Z"
   },
   {
    "duration": 78,
    "start_time": "2023-03-11T08:48:27.469Z"
   },
   {
    "duration": 9,
    "start_time": "2023-03-11T08:48:32.753Z"
   },
   {
    "duration": 373,
    "start_time": "2023-03-11T08:48:41.848Z"
   },
   {
    "duration": 373,
    "start_time": "2023-03-11T08:48:49.689Z"
   },
   {
    "duration": 1090,
    "start_time": "2023-03-11T08:49:21.765Z"
   },
   {
    "duration": 80,
    "start_time": "2023-03-11T08:49:22.856Z"
   },
   {
    "duration": 3,
    "start_time": "2023-03-11T08:49:22.938Z"
   },
   {
    "duration": 32,
    "start_time": "2023-03-11T08:49:22.943Z"
   },
   {
    "duration": 45,
    "start_time": "2023-03-11T08:49:22.977Z"
   },
   {
    "duration": 20,
    "start_time": "2023-03-11T08:49:23.024Z"
   },
   {
    "duration": 41,
    "start_time": "2023-03-11T08:49:23.045Z"
   },
   {
    "duration": 63,
    "start_time": "2023-03-11T08:49:23.088Z"
   },
   {
    "duration": 14,
    "start_time": "2023-03-11T08:49:23.153Z"
   },
   {
    "duration": 65,
    "start_time": "2023-03-11T08:49:23.170Z"
   },
   {
    "duration": 42,
    "start_time": "2023-03-11T08:49:23.236Z"
   },
   {
    "duration": 53,
    "start_time": "2023-03-11T08:49:23.279Z"
   },
   {
    "duration": 19,
    "start_time": "2023-03-11T08:49:23.334Z"
   },
   {
    "duration": 53,
    "start_time": "2023-03-11T08:49:23.354Z"
   },
   {
    "duration": 28,
    "start_time": "2023-03-11T08:49:23.409Z"
   },
   {
    "duration": 25,
    "start_time": "2023-03-11T08:49:23.439Z"
   },
   {
    "duration": 45,
    "start_time": "2023-03-11T08:49:23.466Z"
   },
   {
    "duration": 7,
    "start_time": "2023-03-11T08:49:23.513Z"
   },
   {
    "duration": 18,
    "start_time": "2023-03-11T08:49:23.521Z"
   },
   {
    "duration": 20,
    "start_time": "2023-03-11T08:49:23.541Z"
   },
   {
    "duration": 26,
    "start_time": "2023-03-11T08:49:23.563Z"
   },
   {
    "duration": 23,
    "start_time": "2023-03-11T08:49:23.598Z"
   },
   {
    "duration": 19,
    "start_time": "2023-03-11T08:49:23.623Z"
   },
   {
    "duration": 403,
    "start_time": "2023-03-11T08:49:23.644Z"
   },
   {
    "duration": 0,
    "start_time": "2023-03-11T08:49:24.050Z"
   },
   {
    "duration": 0,
    "start_time": "2023-03-11T08:49:24.052Z"
   },
   {
    "duration": 0,
    "start_time": "2023-03-11T08:49:24.053Z"
   },
   {
    "duration": 0,
    "start_time": "2023-03-11T08:49:24.054Z"
   },
   {
    "duration": 0,
    "start_time": "2023-03-11T08:49:24.056Z"
   },
   {
    "duration": 0,
    "start_time": "2023-03-11T08:49:24.057Z"
   },
   {
    "duration": 0,
    "start_time": "2023-03-11T08:49:24.058Z"
   },
   {
    "duration": 0,
    "start_time": "2023-03-11T08:49:24.059Z"
   },
   {
    "duration": 0,
    "start_time": "2023-03-11T08:49:24.060Z"
   },
   {
    "duration": 0,
    "start_time": "2023-03-11T08:49:24.061Z"
   },
   {
    "duration": 0,
    "start_time": "2023-03-11T08:49:24.062Z"
   },
   {
    "duration": 0,
    "start_time": "2023-03-11T08:49:24.063Z"
   },
   {
    "duration": 0,
    "start_time": "2023-03-11T08:49:24.064Z"
   },
   {
    "duration": 0,
    "start_time": "2023-03-11T08:49:24.065Z"
   },
   {
    "duration": 0,
    "start_time": "2023-03-11T08:49:24.091Z"
   },
   {
    "duration": 0,
    "start_time": "2023-03-11T08:49:24.092Z"
   },
   {
    "duration": 0,
    "start_time": "2023-03-11T08:49:24.093Z"
   },
   {
    "duration": 0,
    "start_time": "2023-03-11T08:49:24.093Z"
   },
   {
    "duration": 0,
    "start_time": "2023-03-11T08:49:24.094Z"
   },
   {
    "duration": 0,
    "start_time": "2023-03-11T08:49:24.095Z"
   },
   {
    "duration": 0,
    "start_time": "2023-03-11T08:49:24.096Z"
   },
   {
    "duration": 0,
    "start_time": "2023-03-11T08:49:24.096Z"
   },
   {
    "duration": 0,
    "start_time": "2023-03-11T08:49:24.097Z"
   },
   {
    "duration": 0,
    "start_time": "2023-03-11T08:49:24.098Z"
   },
   {
    "duration": 0,
    "start_time": "2023-03-11T08:49:24.099Z"
   },
   {
    "duration": 0,
    "start_time": "2023-03-11T08:49:24.100Z"
   },
   {
    "duration": 8,
    "start_time": "2023-03-11T08:49:44.212Z"
   },
   {
    "duration": 26,
    "start_time": "2023-03-11T08:49:51.739Z"
   },
   {
    "duration": 26,
    "start_time": "2023-03-11T08:50:05.650Z"
   },
   {
    "duration": 1136,
    "start_time": "2023-03-11T08:52:43.449Z"
   },
   {
    "duration": 78,
    "start_time": "2023-03-11T08:52:44.587Z"
   },
   {
    "duration": 3,
    "start_time": "2023-03-11T08:52:44.667Z"
   },
   {
    "duration": 34,
    "start_time": "2023-03-11T08:52:44.672Z"
   },
   {
    "duration": 10,
    "start_time": "2023-03-11T08:52:44.707Z"
   },
   {
    "duration": 8,
    "start_time": "2023-03-11T08:52:44.719Z"
   },
   {
    "duration": 13,
    "start_time": "2023-03-11T08:52:44.728Z"
   },
   {
    "duration": 60,
    "start_time": "2023-03-11T08:52:44.742Z"
   },
   {
    "duration": 14,
    "start_time": "2023-03-11T08:52:44.804Z"
   },
   {
    "duration": 23,
    "start_time": "2023-03-11T08:52:44.821Z"
   },
   {
    "duration": 5,
    "start_time": "2023-03-11T08:52:44.846Z"
   },
   {
    "duration": 20,
    "start_time": "2023-03-11T08:52:44.853Z"
   },
   {
    "duration": 9,
    "start_time": "2023-03-11T08:52:44.874Z"
   },
   {
    "duration": 24,
    "start_time": "2023-03-11T08:52:44.885Z"
   },
   {
    "duration": 6,
    "start_time": "2023-03-11T08:52:44.911Z"
   },
   {
    "duration": 24,
    "start_time": "2023-03-11T08:52:44.919Z"
   },
   {
    "duration": 4,
    "start_time": "2023-03-11T08:52:44.945Z"
   },
   {
    "duration": 9,
    "start_time": "2023-03-11T08:52:44.951Z"
   },
   {
    "duration": 13,
    "start_time": "2023-03-11T08:52:44.962Z"
   },
   {
    "duration": 10,
    "start_time": "2023-03-11T08:52:44.977Z"
   },
   {
    "duration": 12,
    "start_time": "2023-03-11T08:52:44.997Z"
   },
   {
    "duration": 27,
    "start_time": "2023-03-11T08:52:45.011Z"
   },
   {
    "duration": 322,
    "start_time": "2023-03-11T08:52:45.039Z"
   },
   {
    "duration": 307,
    "start_time": "2023-03-11T08:52:45.363Z"
   },
   {
    "duration": 244,
    "start_time": "2023-03-11T08:52:45.671Z"
   },
   {
    "duration": 316,
    "start_time": "2023-03-11T08:52:45.916Z"
   },
   {
    "duration": 338,
    "start_time": "2023-03-11T08:52:46.233Z"
   },
   {
    "duration": 398,
    "start_time": "2023-03-11T08:52:46.576Z"
   },
   {
    "duration": 2133,
    "start_time": "2023-03-11T08:52:46.976Z"
   },
   {
    "duration": 10,
    "start_time": "2023-03-11T08:52:49.111Z"
   },
   {
    "duration": 22,
    "start_time": "2023-03-11T08:52:49.123Z"
   },
   {
    "duration": 160,
    "start_time": "2023-03-11T08:52:49.147Z"
   },
   {
    "duration": 250,
    "start_time": "2023-03-11T08:52:49.309Z"
   },
   {
    "duration": 115,
    "start_time": "2023-03-11T08:52:49.561Z"
   },
   {
    "duration": 0,
    "start_time": "2023-03-11T08:52:49.678Z"
   },
   {
    "duration": 0,
    "start_time": "2023-03-11T08:52:49.679Z"
   },
   {
    "duration": 0,
    "start_time": "2023-03-11T08:52:49.681Z"
   },
   {
    "duration": 0,
    "start_time": "2023-03-11T08:52:49.690Z"
   },
   {
    "duration": 0,
    "start_time": "2023-03-11T08:52:49.691Z"
   },
   {
    "duration": 0,
    "start_time": "2023-03-11T08:52:49.694Z"
   },
   {
    "duration": 0,
    "start_time": "2023-03-11T08:52:49.695Z"
   },
   {
    "duration": 0,
    "start_time": "2023-03-11T08:52:49.699Z"
   },
   {
    "duration": 0,
    "start_time": "2023-03-11T08:52:49.700Z"
   },
   {
    "duration": 0,
    "start_time": "2023-03-11T08:52:49.701Z"
   },
   {
    "duration": 0,
    "start_time": "2023-03-11T08:52:49.702Z"
   },
   {
    "duration": 0,
    "start_time": "2023-03-11T08:52:49.702Z"
   },
   {
    "duration": 0,
    "start_time": "2023-03-11T08:52:49.703Z"
   },
   {
    "duration": 0,
    "start_time": "2023-03-11T08:52:49.704Z"
   },
   {
    "duration": 0,
    "start_time": "2023-03-11T08:52:49.705Z"
   },
   {
    "duration": 1112,
    "start_time": "2023-03-11T08:53:06.667Z"
   },
   {
    "duration": 84,
    "start_time": "2023-03-11T08:53:07.781Z"
   },
   {
    "duration": 2,
    "start_time": "2023-03-11T08:53:07.867Z"
   },
   {
    "duration": 31,
    "start_time": "2023-03-11T08:53:07.871Z"
   },
   {
    "duration": 10,
    "start_time": "2023-03-11T08:53:07.904Z"
   },
   {
    "duration": 9,
    "start_time": "2023-03-11T08:53:07.915Z"
   },
   {
    "duration": 14,
    "start_time": "2023-03-11T08:53:07.926Z"
   },
   {
    "duration": 61,
    "start_time": "2023-03-11T08:53:07.941Z"
   },
   {
    "duration": 12,
    "start_time": "2023-03-11T08:53:08.004Z"
   },
   {
    "duration": 16,
    "start_time": "2023-03-11T08:53:08.019Z"
   },
   {
    "duration": 31,
    "start_time": "2023-03-11T08:53:08.037Z"
   },
   {
    "duration": 17,
    "start_time": "2023-03-11T08:53:08.069Z"
   },
   {
    "duration": 31,
    "start_time": "2023-03-11T08:53:08.087Z"
   },
   {
    "duration": 18,
    "start_time": "2023-03-11T08:53:08.120Z"
   },
   {
    "duration": 7,
    "start_time": "2023-03-11T08:53:08.139Z"
   },
   {
    "duration": 39,
    "start_time": "2023-03-11T08:53:08.148Z"
   },
   {
    "duration": 17,
    "start_time": "2023-03-11T08:53:08.188Z"
   },
   {
    "duration": 18,
    "start_time": "2023-03-11T08:53:08.207Z"
   },
   {
    "duration": 16,
    "start_time": "2023-03-11T08:53:08.227Z"
   },
   {
    "duration": 17,
    "start_time": "2023-03-11T08:53:08.245Z"
   },
   {
    "duration": 15,
    "start_time": "2023-03-11T08:53:08.264Z"
   },
   {
    "duration": 26,
    "start_time": "2023-03-11T08:53:08.281Z"
   },
   {
    "duration": 317,
    "start_time": "2023-03-11T08:53:08.309Z"
   },
   {
    "duration": 318,
    "start_time": "2023-03-11T08:53:08.628Z"
   },
   {
    "duration": 214,
    "start_time": "2023-03-11T08:53:08.947Z"
   },
   {
    "duration": 366,
    "start_time": "2023-03-11T08:53:09.162Z"
   },
   {
    "duration": 248,
    "start_time": "2023-03-11T08:53:09.529Z"
   },
   {
    "duration": 384,
    "start_time": "2023-03-11T08:53:09.780Z"
   },
   {
    "duration": 2051,
    "start_time": "2023-03-11T08:53:10.166Z"
   },
   {
    "duration": 9,
    "start_time": "2023-03-11T08:53:12.219Z"
   },
   {
    "duration": 30,
    "start_time": "2023-03-11T08:53:12.229Z"
   },
   {
    "duration": 199,
    "start_time": "2023-03-11T08:53:12.261Z"
   },
   {
    "duration": 219,
    "start_time": "2023-03-11T08:53:12.463Z"
   },
   {
    "duration": 14,
    "start_time": "2023-03-11T08:53:12.684Z"
   },
   {
    "duration": 168,
    "start_time": "2023-03-11T08:53:12.700Z"
   },
   {
    "duration": 144,
    "start_time": "2023-03-11T08:53:12.869Z"
   },
   {
    "duration": 149,
    "start_time": "2023-03-11T08:53:13.015Z"
   },
   {
    "duration": 5,
    "start_time": "2023-03-11T08:53:13.166Z"
   },
   {
    "duration": 22,
    "start_time": "2023-03-11T08:53:13.173Z"
   },
   {
    "duration": 22,
    "start_time": "2023-03-11T08:53:13.197Z"
   },
   {
    "duration": 112,
    "start_time": "2023-03-11T08:53:13.222Z"
   },
   {
    "duration": 0,
    "start_time": "2023-03-11T08:53:13.336Z"
   },
   {
    "duration": 0,
    "start_time": "2023-03-11T08:53:13.337Z"
   },
   {
    "duration": 0,
    "start_time": "2023-03-11T08:53:13.338Z"
   },
   {
    "duration": 0,
    "start_time": "2023-03-11T08:53:13.339Z"
   },
   {
    "duration": 0,
    "start_time": "2023-03-11T08:53:13.340Z"
   },
   {
    "duration": 0,
    "start_time": "2023-03-11T08:53:13.341Z"
   },
   {
    "duration": 0,
    "start_time": "2023-03-11T08:53:13.342Z"
   },
   {
    "duration": 5,
    "start_time": "2023-03-11T08:55:45.718Z"
   },
   {
    "duration": 1106,
    "start_time": "2023-03-11T08:56:15.607Z"
   },
   {
    "duration": 89,
    "start_time": "2023-03-11T08:56:16.715Z"
   },
   {
    "duration": 3,
    "start_time": "2023-03-11T08:56:16.806Z"
   },
   {
    "duration": 20,
    "start_time": "2023-03-11T08:56:16.811Z"
   },
   {
    "duration": 10,
    "start_time": "2023-03-11T08:56:16.832Z"
   },
   {
    "duration": 7,
    "start_time": "2023-03-11T08:56:16.844Z"
   },
   {
    "duration": 13,
    "start_time": "2023-03-11T08:56:16.853Z"
   },
   {
    "duration": 50,
    "start_time": "2023-03-11T08:56:16.868Z"
   },
   {
    "duration": 12,
    "start_time": "2023-03-11T08:56:16.920Z"
   },
   {
    "duration": 11,
    "start_time": "2023-03-11T08:56:16.935Z"
   },
   {
    "duration": 7,
    "start_time": "2023-03-11T08:56:16.948Z"
   },
   {
    "duration": 13,
    "start_time": "2023-03-11T08:56:16.957Z"
   },
   {
    "duration": 12,
    "start_time": "2023-03-11T08:56:16.971Z"
   },
   {
    "duration": 18,
    "start_time": "2023-03-11T08:56:16.984Z"
   },
   {
    "duration": 8,
    "start_time": "2023-03-11T08:56:17.004Z"
   },
   {
    "duration": 28,
    "start_time": "2023-03-11T08:56:17.014Z"
   },
   {
    "duration": 4,
    "start_time": "2023-03-11T08:56:17.043Z"
   },
   {
    "duration": 10,
    "start_time": "2023-03-11T08:56:17.049Z"
   },
   {
    "duration": 15,
    "start_time": "2023-03-11T08:56:17.061Z"
   },
   {
    "duration": 11,
    "start_time": "2023-03-11T08:56:17.077Z"
   },
   {
    "duration": 25,
    "start_time": "2023-03-11T08:56:17.090Z"
   },
   {
    "duration": 10,
    "start_time": "2023-03-11T08:56:17.117Z"
   },
   {
    "duration": 299,
    "start_time": "2023-03-11T08:56:17.128Z"
   },
   {
    "duration": 316,
    "start_time": "2023-03-11T08:56:17.428Z"
   },
   {
    "duration": 218,
    "start_time": "2023-03-11T08:56:17.746Z"
   },
   {
    "duration": 346,
    "start_time": "2023-03-11T08:56:17.966Z"
   },
   {
    "duration": 258,
    "start_time": "2023-03-11T08:56:18.313Z"
   },
   {
    "duration": 398,
    "start_time": "2023-03-11T08:56:18.574Z"
   },
   {
    "duration": 2039,
    "start_time": "2023-03-11T08:56:18.974Z"
   },
   {
    "duration": 10,
    "start_time": "2023-03-11T08:56:21.015Z"
   },
   {
    "duration": 15,
    "start_time": "2023-03-11T08:56:21.026Z"
   },
   {
    "duration": 175,
    "start_time": "2023-03-11T08:56:21.043Z"
   },
   {
    "duration": 222,
    "start_time": "2023-03-11T08:56:21.219Z"
   },
   {
    "duration": 6,
    "start_time": "2023-03-11T08:56:21.442Z"
   },
   {
    "duration": 163,
    "start_time": "2023-03-11T08:56:21.449Z"
   },
   {
    "duration": 160,
    "start_time": "2023-03-11T08:56:21.614Z"
   },
   {
    "duration": 152,
    "start_time": "2023-03-11T08:56:21.776Z"
   },
   {
    "duration": 5,
    "start_time": "2023-03-11T08:56:21.930Z"
   },
   {
    "duration": 15,
    "start_time": "2023-03-11T08:56:21.936Z"
   },
   {
    "duration": 7,
    "start_time": "2023-03-11T08:56:21.952Z"
   },
   {
    "duration": 5,
    "start_time": "2023-03-11T08:56:21.961Z"
   },
   {
    "duration": 32,
    "start_time": "2023-03-11T08:56:21.968Z"
   },
   {
    "duration": 9,
    "start_time": "2023-03-11T08:56:22.004Z"
   },
   {
    "duration": 9,
    "start_time": "2023-03-11T08:56:22.016Z"
   },
   {
    "duration": 7,
    "start_time": "2023-03-11T08:56:22.026Z"
   },
   {
    "duration": 10,
    "start_time": "2023-03-11T08:56:22.034Z"
   },
   {
    "duration": 58,
    "start_time": "2023-03-11T08:56:22.046Z"
   },
   {
    "duration": 16,
    "start_time": "2023-03-11T08:56:22.106Z"
   },
   {
    "duration": 92,
    "start_time": "2023-03-11T08:57:00.711Z"
   },
   {
    "duration": 70,
    "start_time": "2023-03-11T08:57:26.215Z"
   },
   {
    "duration": 24,
    "start_time": "2023-03-11T08:57:51.848Z"
   },
   {
    "duration": 1239,
    "start_time": "2023-05-10T09:28:34.355Z"
   },
   {
    "duration": 172,
    "start_time": "2023-05-10T09:28:35.596Z"
   },
   {
    "duration": 4,
    "start_time": "2023-05-10T09:28:35.771Z"
   },
   {
    "duration": 28,
    "start_time": "2023-05-10T09:28:35.778Z"
   },
   {
    "duration": 11,
    "start_time": "2023-05-10T09:28:35.807Z"
   },
   {
    "duration": 17,
    "start_time": "2023-05-10T09:28:35.819Z"
   },
   {
    "duration": 31,
    "start_time": "2023-05-10T09:28:35.838Z"
   },
   {
    "duration": 109,
    "start_time": "2023-05-10T09:28:35.871Z"
   },
   {
    "duration": 22,
    "start_time": "2023-05-10T09:28:35.983Z"
   },
   {
    "duration": 26,
    "start_time": "2023-05-10T09:28:36.010Z"
   },
   {
    "duration": 38,
    "start_time": "2023-05-10T09:28:36.039Z"
   },
   {
    "duration": 27,
    "start_time": "2023-05-10T09:28:36.080Z"
   },
   {
    "duration": 27,
    "start_time": "2023-05-10T09:28:36.110Z"
   },
   {
    "duration": 32,
    "start_time": "2023-05-10T09:28:36.139Z"
   },
   {
    "duration": 39,
    "start_time": "2023-05-10T09:28:36.174Z"
   },
   {
    "duration": 113,
    "start_time": "2023-05-10T09:28:36.216Z"
   },
   {
    "duration": 5,
    "start_time": "2023-05-10T09:28:36.332Z"
   },
   {
    "duration": 68,
    "start_time": "2023-05-10T09:28:36.339Z"
   },
   {
    "duration": 64,
    "start_time": "2023-05-10T09:28:36.409Z"
   },
   {
    "duration": 15,
    "start_time": "2023-05-10T09:28:36.475Z"
   },
   {
    "duration": 18,
    "start_time": "2023-05-10T09:28:36.492Z"
   },
   {
    "duration": 377,
    "start_time": "2023-05-10T09:28:36.512Z"
   },
   {
    "duration": 388,
    "start_time": "2023-05-10T09:28:36.891Z"
   },
   {
    "duration": 277,
    "start_time": "2023-05-10T09:28:37.281Z"
   },
   {
    "duration": 332,
    "start_time": "2023-05-10T09:28:37.567Z"
   },
   {
    "duration": 309,
    "start_time": "2023-05-10T09:28:37.903Z"
   },
   {
    "duration": 441,
    "start_time": "2023-05-10T09:28:38.214Z"
   },
   {
    "duration": 2306,
    "start_time": "2023-05-10T09:28:38.660Z"
   },
   {
    "duration": 12,
    "start_time": "2023-05-10T09:28:40.968Z"
   },
   {
    "duration": 17,
    "start_time": "2023-05-10T09:28:40.982Z"
   },
   {
    "duration": 195,
    "start_time": "2023-05-10T09:28:41.002Z"
   },
   {
    "duration": 295,
    "start_time": "2023-05-10T09:28:41.199Z"
   },
   {
    "duration": 6,
    "start_time": "2023-05-10T09:28:41.496Z"
   },
   {
    "duration": 180,
    "start_time": "2023-05-10T09:28:41.504Z"
   },
   {
    "duration": 185,
    "start_time": "2023-05-10T09:28:41.687Z"
   },
   {
    "duration": 191,
    "start_time": "2023-05-10T09:28:41.874Z"
   },
   {
    "duration": 7,
    "start_time": "2023-05-10T09:28:42.066Z"
   },
   {
    "duration": 23,
    "start_time": "2023-05-10T09:28:42.075Z"
   },
   {
    "duration": 9,
    "start_time": "2023-05-10T09:28:42.100Z"
   },
   {
    "duration": 33,
    "start_time": "2023-05-10T09:28:42.111Z"
   },
   {
    "duration": 32,
    "start_time": "2023-05-10T09:28:42.149Z"
   },
   {
    "duration": 19,
    "start_time": "2023-05-10T09:28:42.183Z"
   },
   {
    "duration": 18,
    "start_time": "2023-05-10T09:28:42.204Z"
   },
   {
    "duration": 13,
    "start_time": "2023-05-10T09:28:42.224Z"
   },
   {
    "duration": 54,
    "start_time": "2023-05-10T09:28:42.239Z"
   },
   {
    "duration": 32,
    "start_time": "2023-05-10T09:28:42.295Z"
   },
   {
    "duration": 22,
    "start_time": "2023-05-10T09:28:42.329Z"
   },
   {
    "duration": 45,
    "start_time": "2023-05-10T14:28:48.579Z"
   },
   {
    "duration": 976,
    "start_time": "2023-05-10T14:28:59.535Z"
   },
   {
    "duration": 108,
    "start_time": "2023-05-10T14:29:00.513Z"
   },
   {
    "duration": 4,
    "start_time": "2023-05-10T14:29:00.622Z"
   },
   {
    "duration": 49,
    "start_time": "2023-05-10T14:29:00.627Z"
   },
   {
    "duration": 31,
    "start_time": "2023-05-10T14:29:00.679Z"
   },
   {
    "duration": 55,
    "start_time": "2023-05-10T14:29:00.712Z"
   },
   {
    "duration": 60,
    "start_time": "2023-05-10T14:29:00.769Z"
   },
   {
    "duration": 114,
    "start_time": "2023-05-10T14:29:00.830Z"
   },
   {
    "duration": 12,
    "start_time": "2023-05-10T14:29:00.946Z"
   },
   {
    "duration": 54,
    "start_time": "2023-05-10T14:29:00.959Z"
   },
   {
    "duration": 68,
    "start_time": "2023-05-10T14:29:01.015Z"
   },
   {
    "duration": 41,
    "start_time": "2023-05-10T14:29:01.085Z"
   },
   {
    "duration": 43,
    "start_time": "2023-05-10T14:29:01.127Z"
   },
   {
    "duration": 34,
    "start_time": "2023-05-10T14:29:01.172Z"
   },
   {
    "duration": 43,
    "start_time": "2023-05-10T14:29:01.207Z"
   },
   {
    "duration": 97,
    "start_time": "2023-05-10T14:29:01.252Z"
   },
   {
    "duration": 3,
    "start_time": "2023-05-10T14:29:01.351Z"
   },
   {
    "duration": 34,
    "start_time": "2023-05-10T14:29:01.356Z"
   },
   {
    "duration": 38,
    "start_time": "2023-05-10T14:29:01.392Z"
   },
   {
    "duration": 40,
    "start_time": "2023-05-10T14:29:01.431Z"
   },
   {
    "duration": 36,
    "start_time": "2023-05-10T14:29:01.473Z"
   },
   {
    "duration": 285,
    "start_time": "2023-05-10T14:29:01.510Z"
   },
   {
    "duration": 255,
    "start_time": "2023-05-10T14:29:01.796Z"
   },
   {
    "duration": 185,
    "start_time": "2023-05-10T14:29:02.053Z"
   },
   {
    "duration": 306,
    "start_time": "2023-05-10T14:29:02.239Z"
   },
   {
    "duration": 238,
    "start_time": "2023-05-10T14:29:02.547Z"
   },
   {
    "duration": 302,
    "start_time": "2023-05-10T14:29:02.787Z"
   },
   {
    "duration": 8,
    "start_time": "2023-05-10T14:29:03.090Z"
   },
   {
    "duration": 17,
    "start_time": "2023-05-10T14:29:03.099Z"
   },
   {
    "duration": 132,
    "start_time": "2023-05-10T14:29:03.117Z"
   },
   {
    "duration": 126,
    "start_time": "2023-05-10T14:29:03.251Z"
   },
   {
    "duration": 5,
    "start_time": "2023-05-10T14:29:03.378Z"
   },
   {
    "duration": 128,
    "start_time": "2023-05-10T14:29:03.384Z"
   },
   {
    "duration": 122,
    "start_time": "2023-05-10T14:29:03.514Z"
   },
   {
    "duration": 193,
    "start_time": "2023-05-10T14:29:03.638Z"
   },
   {
    "duration": 5,
    "start_time": "2023-05-10T14:29:03.835Z"
   },
   {
    "duration": 11,
    "start_time": "2023-05-10T14:29:03.841Z"
   },
   {
    "duration": 6,
    "start_time": "2023-05-10T14:29:03.854Z"
   },
   {
    "duration": 21,
    "start_time": "2023-05-10T14:29:03.861Z"
   },
   {
    "duration": 10,
    "start_time": "2023-05-10T14:29:03.883Z"
   },
   {
    "duration": 37,
    "start_time": "2023-05-10T14:29:03.898Z"
   },
   {
    "duration": 11,
    "start_time": "2023-05-10T14:29:03.937Z"
   },
   {
    "duration": 7,
    "start_time": "2023-05-10T14:29:03.949Z"
   },
   {
    "duration": 8,
    "start_time": "2023-05-10T14:29:03.957Z"
   },
   {
    "duration": 30,
    "start_time": "2023-05-10T14:29:03.966Z"
   },
   {
    "duration": 14,
    "start_time": "2023-05-10T14:29:03.998Z"
   },
   {
    "duration": 176,
    "start_time": "2023-05-10T14:29:44.222Z"
   },
   {
    "duration": 152,
    "start_time": "2023-05-10T14:29:50.116Z"
   },
   {
    "duration": 112,
    "start_time": "2023-05-10T14:30:13.794Z"
   },
   {
    "duration": 118,
    "start_time": "2023-05-10T14:30:26.960Z"
   },
   {
    "duration": 151,
    "start_time": "2023-05-10T14:30:42.583Z"
   },
   {
    "duration": 137,
    "start_time": "2023-05-10T14:30:55.603Z"
   },
   {
    "duration": 137,
    "start_time": "2023-05-10T14:31:01.416Z"
   },
   {
    "duration": 142,
    "start_time": "2023-05-10T14:31:10.818Z"
   },
   {
    "duration": 169,
    "start_time": "2023-05-10T14:31:19.591Z"
   },
   {
    "duration": 414,
    "start_time": "2023-05-10T14:31:33.313Z"
   },
   {
    "duration": 218,
    "start_time": "2023-05-10T14:31:43.953Z"
   },
   {
    "duration": 339,
    "start_time": "2023-05-10T14:31:49.449Z"
   },
   {
    "duration": 257,
    "start_time": "2023-05-10T14:31:57.972Z"
   },
   {
    "duration": 212,
    "start_time": "2023-05-10T14:32:02.258Z"
   },
   {
    "duration": 174,
    "start_time": "2023-05-10T14:32:07.590Z"
   },
   {
    "duration": 3204,
    "start_time": "2023-05-11T13:44:25.147Z"
   },
   {
    "duration": 222,
    "start_time": "2023-05-11T13:44:28.353Z"
   },
   {
    "duration": 10,
    "start_time": "2023-05-11T13:44:28.638Z"
   },
   {
    "duration": 86,
    "start_time": "2023-05-11T13:44:28.657Z"
   },
   {
    "duration": 14,
    "start_time": "2023-05-11T13:44:28.747Z"
   },
   {
    "duration": 5,
    "start_time": "2023-05-11T13:44:28.763Z"
   },
   {
    "duration": 76,
    "start_time": "2023-05-11T13:44:28.769Z"
   },
   {
    "duration": 90,
    "start_time": "2023-05-11T13:44:28.849Z"
   },
   {
    "duration": 17,
    "start_time": "2023-05-11T13:44:28.947Z"
   },
   {
    "duration": 18,
    "start_time": "2023-05-11T13:44:28.967Z"
   },
   {
    "duration": 51,
    "start_time": "2023-05-11T13:44:28.987Z"
   },
   {
    "duration": 6,
    "start_time": "2023-05-11T13:44:29.041Z"
   },
   {
    "duration": 12,
    "start_time": "2023-05-11T13:44:29.053Z"
   },
   {
    "duration": 8,
    "start_time": "2023-05-11T13:44:29.067Z"
   },
   {
    "duration": 10,
    "start_time": "2023-05-11T13:44:29.136Z"
   },
   {
    "duration": 97,
    "start_time": "2023-05-11T13:44:29.150Z"
   },
   {
    "duration": 5,
    "start_time": "2023-05-11T13:44:29.249Z"
   },
   {
    "duration": 28,
    "start_time": "2023-05-11T13:44:29.256Z"
   },
   {
    "duration": 60,
    "start_time": "2023-05-11T13:44:29.286Z"
   },
   {
    "duration": 14,
    "start_time": "2023-05-11T13:44:29.348Z"
   },
   {
    "duration": 7,
    "start_time": "2023-05-11T13:44:29.365Z"
   },
   {
    "duration": 890,
    "start_time": "2023-05-11T13:44:29.373Z"
   },
   {
    "duration": 699,
    "start_time": "2023-05-11T13:44:30.269Z"
   },
   {
    "duration": 780,
    "start_time": "2023-05-11T13:44:30.970Z"
   },
   {
    "duration": 991,
    "start_time": "2023-05-11T13:44:31.752Z"
   },
   {
    "duration": 1116,
    "start_time": "2023-05-11T13:44:32.746Z"
   },
   {
    "duration": 1297,
    "start_time": "2023-05-11T13:44:33.864Z"
   },
   {
    "duration": 23,
    "start_time": "2023-05-11T13:44:35.237Z"
   },
   {
    "duration": 91,
    "start_time": "2023-05-11T13:44:35.262Z"
   },
   {
    "duration": 784,
    "start_time": "2023-05-11T13:44:35.357Z"
   },
   {
    "duration": 601,
    "start_time": "2023-05-11T13:44:36.143Z"
   },
   {
    "duration": 10,
    "start_time": "2023-05-11T13:44:36.749Z"
   },
   {
    "duration": 782,
    "start_time": "2023-05-11T13:44:36.761Z"
   },
   {
    "duration": 502,
    "start_time": "2023-05-11T13:44:37.545Z"
   },
   {
    "duration": 692,
    "start_time": "2023-05-11T13:44:38.058Z"
   },
   {
    "duration": 6,
    "start_time": "2023-05-11T13:44:38.757Z"
   },
   {
    "duration": 80,
    "start_time": "2023-05-11T13:44:38.765Z"
   },
   {
    "duration": 11,
    "start_time": "2023-05-11T13:44:38.847Z"
   },
   {
    "duration": 83,
    "start_time": "2023-05-11T13:44:38.860Z"
   },
   {
    "duration": 18,
    "start_time": "2023-05-11T13:44:38.944Z"
   },
   {
    "duration": 74,
    "start_time": "2023-05-11T13:44:38.965Z"
   },
   {
    "duration": 14,
    "start_time": "2023-05-11T13:44:39.041Z"
   },
   {
    "duration": 6,
    "start_time": "2023-05-11T13:44:39.058Z"
   },
   {
    "duration": 71,
    "start_time": "2023-05-11T13:44:39.066Z"
   },
   {
    "duration": 36,
    "start_time": "2023-05-11T13:44:39.139Z"
   },
   {
    "duration": 166,
    "start_time": "2023-05-11T13:44:39.177Z"
   }
  ],
  "kernelspec": {
   "display_name": "Python 3 (ipykernel)",
   "language": "python",
   "name": "python3"
  },
  "language_info": {
   "codemirror_mode": {
    "name": "ipython",
    "version": 3
   },
   "file_extension": ".py",
   "mimetype": "text/x-python",
   "name": "python",
   "nbconvert_exporter": "python",
   "pygments_lexer": "ipython3",
   "version": "3.9.5"
  },
  "toc": {
   "base_numbering": 1,
   "nav_menu": {},
   "number_sections": true,
   "sideBar": true,
   "skip_h1_title": true,
   "title_cell": "Table of Contents",
   "title_sidebar": "Contents",
   "toc_cell": false,
   "toc_position": {},
   "toc_section_display": true,
   "toc_window_display": true
  }
 },
 "nbformat": 4,
 "nbformat_minor": 2
}
