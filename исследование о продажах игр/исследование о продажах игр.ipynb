{
 "cells": [
  {
   "cell_type": "markdown",
   "metadata": {},
   "source": [
    "# Вводная часть: исследование о продажах игр \n",
    "В нашем распоряжении данные создания игр по годам,  сумме полученной прибыли от проданных игр на различных платформах с 1980 по 2016 года. Наша задача — найти самые популярные платформы, определить среднюю продолжительность жизни платформ. Посмотреть, как менялась их прибыть по годам, выбрать актуальный период и построить прогноз на 2017 год. Посмотреть зависимость покупки игр от рейтинга критиков и пользователей. Так же найдем самые популярные жанры, платформы, рейтинг в зависимости от места проживания. Найдем игр с какими жанрами выходят более всего. Выдвинем гипотезы о сравнении двух платформ и сравнении двух жанров игр\n",
    "\n"
   ]
  },
  {
   "cell_type": "code",
   "execution_count": 1,
   "metadata": {},
   "outputs": [],
   "source": [
    "import pandas as pd\n",
    "from scipy import stats as st\n",
    "import matplotlib.pyplot as plt\n",
    "import warnings\n",
    "warnings.filterwarnings('ignore')"
   ]
  },
  {
   "cell_type": "markdown",
   "metadata": {},
   "source": [
    "# Шаг 1. Откроем файл с данными и изучите общую информацию"
   ]
  },
  {
   "cell_type": "code",
   "execution_count": 2,
   "metadata": {},
   "outputs": [],
   "source": [
    "try:\n",
    "    data = pd.read_csv('/datasets/games.csv')\n",
    "except:\n",
    "    data = pd.read_csv('https://code.s3.yandex.net/datasets/games.csv')"
   ]
  },
  {
   "cell_type": "code",
   "execution_count": 3,
   "metadata": {},
   "outputs": [
    {
     "data": {
      "text/html": [
       "<div>\n",
       "<style scoped>\n",
       "    .dataframe tbody tr th:only-of-type {\n",
       "        vertical-align: middle;\n",
       "    }\n",
       "\n",
       "    .dataframe tbody tr th {\n",
       "        vertical-align: top;\n",
       "    }\n",
       "\n",
       "    .dataframe thead th {\n",
       "        text-align: right;\n",
       "    }\n",
       "</style>\n",
       "<table border=\"1\" class=\"dataframe\">\n",
       "  <thead>\n",
       "    <tr style=\"text-align: right;\">\n",
       "      <th></th>\n",
       "      <th>Name</th>\n",
       "      <th>Platform</th>\n",
       "      <th>Year_of_Release</th>\n",
       "      <th>Genre</th>\n",
       "      <th>NA_sales</th>\n",
       "      <th>EU_sales</th>\n",
       "      <th>JP_sales</th>\n",
       "      <th>Other_sales</th>\n",
       "      <th>Critic_Score</th>\n",
       "      <th>User_Score</th>\n",
       "      <th>Rating</th>\n",
       "    </tr>\n",
       "  </thead>\n",
       "  <tbody>\n",
       "    <tr>\n",
       "      <th>0</th>\n",
       "      <td>Wii Sports</td>\n",
       "      <td>Wii</td>\n",
       "      <td>2006.0</td>\n",
       "      <td>Sports</td>\n",
       "      <td>41.36</td>\n",
       "      <td>28.96</td>\n",
       "      <td>3.77</td>\n",
       "      <td>8.45</td>\n",
       "      <td>76.0</td>\n",
       "      <td>8</td>\n",
       "      <td>E</td>\n",
       "    </tr>\n",
       "    <tr>\n",
       "      <th>1</th>\n",
       "      <td>Super Mario Bros.</td>\n",
       "      <td>NES</td>\n",
       "      <td>1985.0</td>\n",
       "      <td>Platform</td>\n",
       "      <td>29.08</td>\n",
       "      <td>3.58</td>\n",
       "      <td>6.81</td>\n",
       "      <td>0.77</td>\n",
       "      <td>NaN</td>\n",
       "      <td>NaN</td>\n",
       "      <td>NaN</td>\n",
       "    </tr>\n",
       "    <tr>\n",
       "      <th>2</th>\n",
       "      <td>Mario Kart Wii</td>\n",
       "      <td>Wii</td>\n",
       "      <td>2008.0</td>\n",
       "      <td>Racing</td>\n",
       "      <td>15.68</td>\n",
       "      <td>12.76</td>\n",
       "      <td>3.79</td>\n",
       "      <td>3.29</td>\n",
       "      <td>82.0</td>\n",
       "      <td>8.3</td>\n",
       "      <td>E</td>\n",
       "    </tr>\n",
       "    <tr>\n",
       "      <th>3</th>\n",
       "      <td>Wii Sports Resort</td>\n",
       "      <td>Wii</td>\n",
       "      <td>2009.0</td>\n",
       "      <td>Sports</td>\n",
       "      <td>15.61</td>\n",
       "      <td>10.93</td>\n",
       "      <td>3.28</td>\n",
       "      <td>2.95</td>\n",
       "      <td>80.0</td>\n",
       "      <td>8</td>\n",
       "      <td>E</td>\n",
       "    </tr>\n",
       "    <tr>\n",
       "      <th>4</th>\n",
       "      <td>Pokemon Red/Pokemon Blue</td>\n",
       "      <td>GB</td>\n",
       "      <td>1996.0</td>\n",
       "      <td>Role-Playing</td>\n",
       "      <td>11.27</td>\n",
       "      <td>8.89</td>\n",
       "      <td>10.22</td>\n",
       "      <td>1.00</td>\n",
       "      <td>NaN</td>\n",
       "      <td>NaN</td>\n",
       "      <td>NaN</td>\n",
       "    </tr>\n",
       "    <tr>\n",
       "      <th>5</th>\n",
       "      <td>Tetris</td>\n",
       "      <td>GB</td>\n",
       "      <td>1989.0</td>\n",
       "      <td>Puzzle</td>\n",
       "      <td>23.20</td>\n",
       "      <td>2.26</td>\n",
       "      <td>4.22</td>\n",
       "      <td>0.58</td>\n",
       "      <td>NaN</td>\n",
       "      <td>NaN</td>\n",
       "      <td>NaN</td>\n",
       "    </tr>\n",
       "    <tr>\n",
       "      <th>6</th>\n",
       "      <td>New Super Mario Bros.</td>\n",
       "      <td>DS</td>\n",
       "      <td>2006.0</td>\n",
       "      <td>Platform</td>\n",
       "      <td>11.28</td>\n",
       "      <td>9.14</td>\n",
       "      <td>6.50</td>\n",
       "      <td>2.88</td>\n",
       "      <td>89.0</td>\n",
       "      <td>8.5</td>\n",
       "      <td>E</td>\n",
       "    </tr>\n",
       "    <tr>\n",
       "      <th>7</th>\n",
       "      <td>Wii Play</td>\n",
       "      <td>Wii</td>\n",
       "      <td>2006.0</td>\n",
       "      <td>Misc</td>\n",
       "      <td>13.96</td>\n",
       "      <td>9.18</td>\n",
       "      <td>2.93</td>\n",
       "      <td>2.84</td>\n",
       "      <td>58.0</td>\n",
       "      <td>6.6</td>\n",
       "      <td>E</td>\n",
       "    </tr>\n",
       "    <tr>\n",
       "      <th>8</th>\n",
       "      <td>New Super Mario Bros. Wii</td>\n",
       "      <td>Wii</td>\n",
       "      <td>2009.0</td>\n",
       "      <td>Platform</td>\n",
       "      <td>14.44</td>\n",
       "      <td>6.94</td>\n",
       "      <td>4.70</td>\n",
       "      <td>2.24</td>\n",
       "      <td>87.0</td>\n",
       "      <td>8.4</td>\n",
       "      <td>E</td>\n",
       "    </tr>\n",
       "    <tr>\n",
       "      <th>9</th>\n",
       "      <td>Duck Hunt</td>\n",
       "      <td>NES</td>\n",
       "      <td>1984.0</td>\n",
       "      <td>Shooter</td>\n",
       "      <td>26.93</td>\n",
       "      <td>0.63</td>\n",
       "      <td>0.28</td>\n",
       "      <td>0.47</td>\n",
       "      <td>NaN</td>\n",
       "      <td>NaN</td>\n",
       "      <td>NaN</td>\n",
       "    </tr>\n",
       "  </tbody>\n",
       "</table>\n",
       "</div>"
      ],
      "text/plain": [
       "                        Name Platform  Year_of_Release         Genre  \\\n",
       "0                 Wii Sports      Wii           2006.0        Sports   \n",
       "1          Super Mario Bros.      NES           1985.0      Platform   \n",
       "2             Mario Kart Wii      Wii           2008.0        Racing   \n",
       "3          Wii Sports Resort      Wii           2009.0        Sports   \n",
       "4   Pokemon Red/Pokemon Blue       GB           1996.0  Role-Playing   \n",
       "5                     Tetris       GB           1989.0        Puzzle   \n",
       "6      New Super Mario Bros.       DS           2006.0      Platform   \n",
       "7                   Wii Play      Wii           2006.0          Misc   \n",
       "8  New Super Mario Bros. Wii      Wii           2009.0      Platform   \n",
       "9                  Duck Hunt      NES           1984.0       Shooter   \n",
       "\n",
       "   NA_sales  EU_sales  JP_sales  Other_sales  Critic_Score User_Score Rating  \n",
       "0     41.36     28.96      3.77         8.45          76.0          8      E  \n",
       "1     29.08      3.58      6.81         0.77           NaN        NaN    NaN  \n",
       "2     15.68     12.76      3.79         3.29          82.0        8.3      E  \n",
       "3     15.61     10.93      3.28         2.95          80.0          8      E  \n",
       "4     11.27      8.89     10.22         1.00           NaN        NaN    NaN  \n",
       "5     23.20      2.26      4.22         0.58           NaN        NaN    NaN  \n",
       "6     11.28      9.14      6.50         2.88          89.0        8.5      E  \n",
       "7     13.96      9.18      2.93         2.84          58.0        6.6      E  \n",
       "8     14.44      6.94      4.70         2.24          87.0        8.4      E  \n",
       "9     26.93      0.63      0.28         0.47           NaN        NaN    NaN  "
      ]
     },
     "execution_count": 3,
     "metadata": {},
     "output_type": "execute_result"
    }
   ],
   "source": [
    "data.head(10)"
   ]
  },
  {
   "cell_type": "code",
   "execution_count": 4,
   "metadata": {
    "scrolled": true
   },
   "outputs": [
    {
     "name": "stdout",
     "output_type": "stream",
     "text": [
      "<class 'pandas.core.frame.DataFrame'>\n",
      "RangeIndex: 16715 entries, 0 to 16714\n",
      "Data columns (total 11 columns):\n",
      " #   Column           Non-Null Count  Dtype  \n",
      "---  ------           --------------  -----  \n",
      " 0   Name             16713 non-null  object \n",
      " 1   Platform         16715 non-null  object \n",
      " 2   Year_of_Release  16446 non-null  float64\n",
      " 3   Genre            16713 non-null  object \n",
      " 4   NA_sales         16715 non-null  float64\n",
      " 5   EU_sales         16715 non-null  float64\n",
      " 6   JP_sales         16715 non-null  float64\n",
      " 7   Other_sales      16715 non-null  float64\n",
      " 8   Critic_Score     8137 non-null   float64\n",
      " 9   User_Score       10014 non-null  object \n",
      " 10  Rating           9949 non-null   object \n",
      "dtypes: float64(6), object(5)\n",
      "memory usage: 1.4+ MB\n"
     ]
    }
   ],
   "source": [
    "data.info()"
   ]
  },
  {
   "cell_type": "code",
   "execution_count": 5,
   "metadata": {
    "scrolled": true
   },
   "outputs": [
    {
     "data": {
      "image/png": "[encoded data removed]",
      "text/plain": [
       "<Figure size 1008x1008 with 6 Axes>"
      ]
     },
     "metadata": {
      "needs_background": "light"
     },
     "output_type": "display_data"
    }
   ],
   "source": [
    "data.hist(figsize=(14,14));"
   ]
  },
  {
   "cell_type": "markdown",
   "metadata": {},
   "source": [
    "Перед нами данные по играм. посмотрим какие платформы самые популярные, составим прогноз на 2017 год. какие жанры в играх предпочтительнее в зависимости от своего региона. составим гипотезы"
   ]
  },
  {
   "cell_type": "markdown",
   "metadata": {},
   "source": [
    "# Шаг 2. Подготовим данные"
   ]
  },
  {
   "cell_type": "code",
   "execution_count": 6,
   "metadata": {},
   "outputs": [
    {
     "data": {
      "text/plain": [
       "Index(['Name', 'Platform', 'Year_of_Release', 'Genre', 'NA_sales', 'EU_sales',\n",
       "       'JP_sales', 'Other_sales', 'Critic_Score', 'User_Score', 'Rating'],\n",
       "      dtype='object')"
      ]
     },
     "execution_count": 6,
     "metadata": {},
     "output_type": "execute_result"
    }
   ],
   "source": [
    "data.columns"
   ]
  },
  {
   "cell_type": "code",
   "execution_count": 7,
   "metadata": {},
   "outputs": [],
   "source": [
    "#приведем название колонок к нижнему регистру\n",
    "\n",
    "data.columns = data.columns.str.lower() \n",
    "\n",
    "#в колонках приведем данные к нижнему регистру\n",
    "\n",
    "data['platform']=data['platform'].str.lower()\n",
    "\n",
    "data['name']=data['name'].str.lower()\n",
    "\n",
    "data['genre']=data['genre'].str.lower()"
   ]
  },
  {
   "cell_type": "code",
   "execution_count": 8,
   "metadata": {},
   "outputs": [
    {
     "data": {
      "text/plain": [
       "0"
      ]
     },
     "execution_count": 8,
     "metadata": {},
     "output_type": "execute_result"
    }
   ],
   "source": [
    "#явные дубликаты\n",
    "data.duplicated().sum()"
   ]
  },
  {
   "cell_type": "code",
   "execution_count": 9,
   "metadata": {
    "scrolled": true
   },
   "outputs": [
    {
     "data": {
      "text/plain": [
       "name                  2\n",
       "platform              0\n",
       "year_of_release     269\n",
       "genre                 2\n",
       "na_sales              0\n",
       "eu_sales              0\n",
       "jp_sales              0\n",
       "other_sales           0\n",
       "critic_score       8578\n",
       "user_score         6701\n",
       "rating             6766\n",
       "dtype: int64"
      ]
     },
     "execution_count": 9,
     "metadata": {},
     "output_type": "execute_result"
    }
   ],
   "source": [
    "#найдем пропуски. \n",
    "data.isna().sum()"
   ]
  },
  {
   "cell_type": "code",
   "execution_count": 10,
   "metadata": {},
   "outputs": [
    {
     "data": {
      "text/html": [
       "<div>\n",
       "<style scoped>\n",
       "    .dataframe tbody tr th:only-of-type {\n",
       "        vertical-align: middle;\n",
       "    }\n",
       "\n",
       "    .dataframe tbody tr th {\n",
       "        vertical-align: top;\n",
       "    }\n",
       "\n",
       "    .dataframe thead th {\n",
       "        text-align: right;\n",
       "    }\n",
       "</style>\n",
       "<table border=\"1\" class=\"dataframe\">\n",
       "  <thead>\n",
       "    <tr style=\"text-align: right;\">\n",
       "      <th></th>\n",
       "      <th>name</th>\n",
       "      <th>platform</th>\n",
       "      <th>year_of_release</th>\n",
       "      <th>genre</th>\n",
       "      <th>na_sales</th>\n",
       "      <th>eu_sales</th>\n",
       "      <th>jp_sales</th>\n",
       "      <th>other_sales</th>\n",
       "      <th>critic_score</th>\n",
       "      <th>user_score</th>\n",
       "      <th>rating</th>\n",
       "    </tr>\n",
       "  </thead>\n",
       "  <tbody>\n",
       "    <tr>\n",
       "      <th>659</th>\n",
       "      <td>True</td>\n",
       "      <td>False</td>\n",
       "      <td>False</td>\n",
       "      <td>True</td>\n",
       "      <td>False</td>\n",
       "      <td>False</td>\n",
       "      <td>False</td>\n",
       "      <td>False</td>\n",
       "      <td>True</td>\n",
       "      <td>True</td>\n",
       "      <td>True</td>\n",
       "    </tr>\n",
       "    <tr>\n",
       "      <th>14244</th>\n",
       "      <td>True</td>\n",
       "      <td>False</td>\n",
       "      <td>False</td>\n",
       "      <td>True</td>\n",
       "      <td>False</td>\n",
       "      <td>False</td>\n",
       "      <td>False</td>\n",
       "      <td>False</td>\n",
       "      <td>True</td>\n",
       "      <td>True</td>\n",
       "      <td>True</td>\n",
       "    </tr>\n",
       "  </tbody>\n",
       "</table>\n",
       "</div>"
      ],
      "text/plain": [
       "       name  platform  year_of_release  genre  na_sales  eu_sales  jp_sales  \\\n",
       "659    True     False            False   True     False     False     False   \n",
       "14244  True     False            False   True     False     False     False   \n",
       "\n",
       "       other_sales  critic_score  user_score  rating  \n",
       "659          False          True        True    True  \n",
       "14244        False          True        True    True  "
      ]
     },
     "execution_count": 10,
     "metadata": {},
     "output_type": "execute_result"
    }
   ],
   "source": [
    "#найдем пропуски в названии игр\n",
    "data.isna().query('name==True')"
   ]
  },
  {
   "cell_type": "code",
   "execution_count": 11,
   "metadata": {},
   "outputs": [
    {
     "data": {
      "text/html": [
       "<div>\n",
       "<style scoped>\n",
       "    .dataframe tbody tr th:only-of-type {\n",
       "        vertical-align: middle;\n",
       "    }\n",
       "\n",
       "    .dataframe tbody tr th {\n",
       "        vertical-align: top;\n",
       "    }\n",
       "\n",
       "    .dataframe thead th {\n",
       "        text-align: right;\n",
       "    }\n",
       "</style>\n",
       "<table border=\"1\" class=\"dataframe\">\n",
       "  <thead>\n",
       "    <tr style=\"text-align: right;\">\n",
       "      <th></th>\n",
       "      <th>name</th>\n",
       "      <th>platform</th>\n",
       "      <th>year_of_release</th>\n",
       "      <th>genre</th>\n",
       "      <th>na_sales</th>\n",
       "      <th>eu_sales</th>\n",
       "      <th>jp_sales</th>\n",
       "      <th>other_sales</th>\n",
       "      <th>critic_score</th>\n",
       "      <th>user_score</th>\n",
       "      <th>rating</th>\n",
       "    </tr>\n",
       "  </thead>\n",
       "  <tbody>\n",
       "    <tr>\n",
       "      <th>659</th>\n",
       "      <td>NaN</td>\n",
       "      <td>gen</td>\n",
       "      <td>1993.0</td>\n",
       "      <td>NaN</td>\n",
       "      <td>1.78</td>\n",
       "      <td>0.53</td>\n",
       "      <td>0.00</td>\n",
       "      <td>0.08</td>\n",
       "      <td>NaN</td>\n",
       "      <td>NaN</td>\n",
       "      <td>NaN</td>\n",
       "    </tr>\n",
       "    <tr>\n",
       "      <th>14244</th>\n",
       "      <td>NaN</td>\n",
       "      <td>gen</td>\n",
       "      <td>1993.0</td>\n",
       "      <td>NaN</td>\n",
       "      <td>0.00</td>\n",
       "      <td>0.00</td>\n",
       "      <td>0.03</td>\n",
       "      <td>0.00</td>\n",
       "      <td>NaN</td>\n",
       "      <td>NaN</td>\n",
       "      <td>NaN</td>\n",
       "    </tr>\n",
       "  </tbody>\n",
       "</table>\n",
       "</div>"
      ],
      "text/plain": [
       "      name platform  year_of_release genre  na_sales  eu_sales  jp_sales  \\\n",
       "659    NaN      gen           1993.0   NaN      1.78      0.53      0.00   \n",
       "14244  NaN      gen           1993.0   NaN      0.00      0.00      0.03   \n",
       "\n",
       "       other_sales  critic_score user_score rating  \n",
       "659           0.08           NaN        NaN    NaN  \n",
       "14244         0.00           NaN        NaN    NaN  "
      ]
     },
     "execution_count": 11,
     "metadata": {},
     "output_type": "execute_result"
    }
   ],
   "source": [
    "#выведем строки с пропусками\n",
    "data.loc[[659,14244],:]"
   ]
  },
  {
   "cell_type": "markdown",
   "metadata": {},
   "source": [
    "по этим двум строчкам мы не знаем название игр, жанр, пропуски на месте рейтинга. если игра с индексом 14244 почти не принесли прибыли. то игра с индексом 659 принесла прибыль, которая превышает среднюю в 5 раз. но из-за пропусков почти по всех столбцах для анализа они нам бесполезны"
   ]
  },
  {
   "cell_type": "code",
   "execution_count": 12,
   "metadata": {},
   "outputs": [],
   "source": [
    "#удалили пропуски в названии игр и жанре\n",
    "data=data.dropna(subset=['name'])\n",
    "data=data.reset_index(drop=True)"
   ]
  },
  {
   "cell_type": "markdown",
   "metadata": {},
   "source": [
    "Пропуски в годах можно заменить медийным значение с зависимости от типа игровой платформы.\n"
   ]
  },
  {
   "cell_type": "markdown",
   "metadata": {},
   "source": [
    "\n"
   ]
  },
  {
   "cell_type": "code",
   "execution_count": 13,
   "metadata": {},
   "outputs": [],
   "source": [
    "#пропуски в годах замениv медийным значениеv с зависимости от типа игровой платформы\n",
    "for i in data['platform'].unique():\n",
    "    data.loc[(data['platform']==i) & (data['year_of_release'].isna()),'year_of_release'] = data.loc[(data['platform']==i),'year_of_release'].median()\n"
   ]
  },
  {
   "cell_type": "code",
   "execution_count": 14,
   "metadata": {},
   "outputs": [],
   "source": [
    "#в столбще rating пропуски заменим на not_raning\n",
    "data['rating']=data['rating'].fillna('not_rating')"
   ]
  },
  {
   "cell_type": "code",
   "execution_count": 15,
   "metadata": {},
   "outputs": [],
   "source": [
    "# столбец года меняем на тип int\n",
    "# столбцы platform, genre, name меняем на string\n",
    "data['name']=data['name'].astype('string')\n",
    "data['platform']=data['platform'].astype('string')\n",
    "data['genre']=data['genre'].astype('string')\n",
    "data['year_of_release']=data['year_of_release'].astype('int32')"
   ]
  },
  {
   "cell_type": "code",
   "execution_count": 16,
   "metadata": {},
   "outputs": [
    {
     "data": {
      "text/plain": [
       "name                0.000000\n",
       "platform            0.000000\n",
       "year_of_release     0.000000\n",
       "genre               0.000000\n",
       "na_sales            0.000000\n",
       "eu_sales            0.000000\n",
       "jp_sales            0.000000\n",
       "other_sales         0.000000\n",
       "critic_score       51.313349\n",
       "user_score         40.082570\n",
       "rating              0.000000\n",
       "dtype: float64"
      ]
     },
     "execution_count": 16,
     "metadata": {},
     "output_type": "execute_result"
    }
   ],
   "source": [
    "#найдем процент пропусков\n",
    "data.isna().mean()*100"
   ]
  },
  {
   "cell_type": "markdown",
   "metadata": {},
   "source": [
    "Вывод: в столбцах с рейтингом игр в поливине значений пропуски, заменять их нельзя т.к. количество пропусков очень большое, даже если их было бы меньше рейтинг у игр может быть абсолютно разный для замены средним или медийным значение. так же если удалить данные с пропусками, то мы потеряем больше половины данных. Оставляем пропуски без изменений"
   ]
  },
  {
   "cell_type": "markdown",
   "metadata": {},
   "source": [
    "# Шаг 3. Анализ данных"
   ]
  },
  {
   "cell_type": "markdown",
   "metadata": {},
   "source": [
    "### добавим столбец суммарных продаж"
   ]
  },
  {
   "cell_type": "code",
   "execution_count": 17,
   "metadata": {},
   "outputs": [],
   "source": [
    "data['sum_sales']=data['na_sales']+data['eu_sales']+data['jp_sales']+data['other_sales']"
   ]
  },
  {
   "cell_type": "markdown",
   "metadata": {},
   "source": [
    "### найдем топ самых прибыльных платформ, посмотрим сколько игр выходило ежегодно, найдем года,когда начали выходить игры на топ платформ"
   ]
  },
  {
   "cell_type": "code",
   "execution_count": 18,
   "metadata": {
    "scrolled": true
   },
   "outputs": [
    {
     "data": {
      "text/html": [
       "<div>\n",
       "<style scoped>\n",
       "    .dataframe tbody tr th:only-of-type {\n",
       "        vertical-align: middle;\n",
       "    }\n",
       "\n",
       "    .dataframe tbody tr th {\n",
       "        vertical-align: top;\n",
       "    }\n",
       "\n",
       "    .dataframe thead th {\n",
       "        text-align: right;\n",
       "    }\n",
       "</style>\n",
       "<table border=\"1\" class=\"dataframe\">\n",
       "  <thead>\n",
       "    <tr style=\"text-align: right;\">\n",
       "      <th></th>\n",
       "      <th>sum_sales</th>\n",
       "    </tr>\n",
       "    <tr>\n",
       "      <th>platform</th>\n",
       "      <th></th>\n",
       "    </tr>\n",
       "  </thead>\n",
       "  <tbody>\n",
       "    <tr>\n",
       "      <th>ps2</th>\n",
       "      <td>1255.77</td>\n",
       "    </tr>\n",
       "    <tr>\n",
       "      <th>x360</th>\n",
       "      <td>971.42</td>\n",
       "    </tr>\n",
       "    <tr>\n",
       "      <th>ps3</th>\n",
       "      <td>939.65</td>\n",
       "    </tr>\n",
       "    <tr>\n",
       "      <th>wii</th>\n",
       "      <td>907.51</td>\n",
       "    </tr>\n",
       "    <tr>\n",
       "      <th>ds</th>\n",
       "      <td>806.12</td>\n",
       "    </tr>\n",
       "    <tr>\n",
       "      <th>ps</th>\n",
       "      <td>730.86</td>\n",
       "    </tr>\n",
       "    <tr>\n",
       "      <th>gba</th>\n",
       "      <td>317.85</td>\n",
       "    </tr>\n",
       "    <tr>\n",
       "      <th>ps4</th>\n",
       "      <td>314.14</td>\n",
       "    </tr>\n",
       "    <tr>\n",
       "      <th>psp</th>\n",
       "      <td>294.05</td>\n",
       "    </tr>\n",
       "    <tr>\n",
       "      <th>pc</th>\n",
       "      <td>259.52</td>\n",
       "    </tr>\n",
       "  </tbody>\n",
       "</table>\n",
       "</div>"
      ],
      "text/plain": [
       "          sum_sales\n",
       "platform           \n",
       "ps2         1255.77\n",
       "x360         971.42\n",
       "ps3          939.65\n",
       "wii          907.51\n",
       "ds           806.12\n",
       "ps           730.86\n",
       "gba          317.85\n",
       "ps4          314.14\n",
       "psp          294.05\n",
       "pc           259.52"
      ]
     },
     "execution_count": 18,
     "metadata": {},
     "output_type": "execute_result"
    }
   ],
   "source": [
    "#найдем платформы на которых было продано больше всего игр\n",
    "data.pivot_table(index='platform', values='sum_sales',aggfunc='sum').sort_values(by='sum_sales',ascending=False).head(10)"
   ]
  },
  {
   "cell_type": "code",
   "execution_count": 19,
   "metadata": {
    "scrolled": true
   },
   "outputs": [
    {
     "data": {
      "text/html": [
       "<div>\n",
       "<style scoped>\n",
       "    .dataframe tbody tr th:only-of-type {\n",
       "        vertical-align: middle;\n",
       "    }\n",
       "\n",
       "    .dataframe tbody tr th {\n",
       "        vertical-align: top;\n",
       "    }\n",
       "\n",
       "    .dataframe thead th {\n",
       "        text-align: right;\n",
       "    }\n",
       "</style>\n",
       "<table border=\"1\" class=\"dataframe\">\n",
       "  <thead>\n",
       "    <tr style=\"text-align: right;\">\n",
       "      <th>genre</th>\n",
       "      <th>action</th>\n",
       "      <th>adventure</th>\n",
       "      <th>fighting</th>\n",
       "      <th>misc</th>\n",
       "      <th>platform</th>\n",
       "      <th>puzzle</th>\n",
       "      <th>racing</th>\n",
       "      <th>role-playing</th>\n",
       "      <th>shooter</th>\n",
       "      <th>simulation</th>\n",
       "      <th>sports</th>\n",
       "      <th>strategy</th>\n",
       "    </tr>\n",
       "    <tr>\n",
       "      <th>year_of_release</th>\n",
       "      <th></th>\n",
       "      <th></th>\n",
       "      <th></th>\n",
       "      <th></th>\n",
       "      <th></th>\n",
       "      <th></th>\n",
       "      <th></th>\n",
       "      <th></th>\n",
       "      <th></th>\n",
       "      <th></th>\n",
       "      <th></th>\n",
       "      <th></th>\n",
       "    </tr>\n",
       "  </thead>\n",
       "  <tbody>\n",
       "    <tr>\n",
       "      <th>1980</th>\n",
       "      <td>1.0</td>\n",
       "      <td>NaN</td>\n",
       "      <td>1.0</td>\n",
       "      <td>4.0</td>\n",
       "      <td>NaN</td>\n",
       "      <td>NaN</td>\n",
       "      <td>NaN</td>\n",
       "      <td>NaN</td>\n",
       "      <td>2.0</td>\n",
       "      <td>NaN</td>\n",
       "      <td>1.0</td>\n",
       "      <td>NaN</td>\n",
       "    </tr>\n",
       "    <tr>\n",
       "      <th>1981</th>\n",
       "      <td>25.0</td>\n",
       "      <td>NaN</td>\n",
       "      <td>NaN</td>\n",
       "      <td>NaN</td>\n",
       "      <td>3.0</td>\n",
       "      <td>2.0</td>\n",
       "      <td>1.0</td>\n",
       "      <td>NaN</td>\n",
       "      <td>10.0</td>\n",
       "      <td>1.0</td>\n",
       "      <td>4.0</td>\n",
       "      <td>NaN</td>\n",
       "    </tr>\n",
       "    <tr>\n",
       "      <th>1982</th>\n",
       "      <td>24.0</td>\n",
       "      <td>1.0</td>\n",
       "      <td>1.0</td>\n",
       "      <td>1.0</td>\n",
       "      <td>5.0</td>\n",
       "      <td>6.0</td>\n",
       "      <td>4.0</td>\n",
       "      <td>NaN</td>\n",
       "      <td>7.0</td>\n",
       "      <td>NaN</td>\n",
       "      <td>4.0</td>\n",
       "      <td>NaN</td>\n",
       "    </tr>\n",
       "    <tr>\n",
       "      <th>1983</th>\n",
       "      <td>7.0</td>\n",
       "      <td>1.0</td>\n",
       "      <td>NaN</td>\n",
       "      <td>1.0</td>\n",
       "      <td>5.0</td>\n",
       "      <td>1.0</td>\n",
       "      <td>NaN</td>\n",
       "      <td>NaN</td>\n",
       "      <td>1.0</td>\n",
       "      <td>NaN</td>\n",
       "      <td>1.0</td>\n",
       "      <td>NaN</td>\n",
       "    </tr>\n",
       "    <tr>\n",
       "      <th>1984</th>\n",
       "      <td>1.0</td>\n",
       "      <td>NaN</td>\n",
       "      <td>NaN</td>\n",
       "      <td>1.0</td>\n",
       "      <td>1.0</td>\n",
       "      <td>3.0</td>\n",
       "      <td>3.0</td>\n",
       "      <td>NaN</td>\n",
       "      <td>3.0</td>\n",
       "      <td>NaN</td>\n",
       "      <td>2.0</td>\n",
       "      <td>NaN</td>\n",
       "    </tr>\n",
       "    <tr>\n",
       "      <th>1985</th>\n",
       "      <td>2.0</td>\n",
       "      <td>NaN</td>\n",
       "      <td>1.0</td>\n",
       "      <td>NaN</td>\n",
       "      <td>4.0</td>\n",
       "      <td>4.0</td>\n",
       "      <td>NaN</td>\n",
       "      <td>NaN</td>\n",
       "      <td>1.0</td>\n",
       "      <td>1.0</td>\n",
       "      <td>1.0</td>\n",
       "      <td>NaN</td>\n",
       "    </tr>\n",
       "    <tr>\n",
       "      <th>1986</th>\n",
       "      <td>6.0</td>\n",
       "      <td>NaN</td>\n",
       "      <td>NaN</td>\n",
       "      <td>NaN</td>\n",
       "      <td>6.0</td>\n",
       "      <td>NaN</td>\n",
       "      <td>1.0</td>\n",
       "      <td>1.0</td>\n",
       "      <td>4.0</td>\n",
       "      <td>NaN</td>\n",
       "      <td>3.0</td>\n",
       "      <td>NaN</td>\n",
       "    </tr>\n",
       "    <tr>\n",
       "      <th>1987</th>\n",
       "      <td>2.0</td>\n",
       "      <td>1.0</td>\n",
       "      <td>2.0</td>\n",
       "      <td>NaN</td>\n",
       "      <td>2.0</td>\n",
       "      <td>NaN</td>\n",
       "      <td>NaN</td>\n",
       "      <td>3.0</td>\n",
       "      <td>2.0</td>\n",
       "      <td>NaN</td>\n",
       "      <td>4.0</td>\n",
       "      <td>NaN</td>\n",
       "    </tr>\n",
       "    <tr>\n",
       "      <th>1988</th>\n",
       "      <td>2.0</td>\n",
       "      <td>NaN</td>\n",
       "      <td>NaN</td>\n",
       "      <td>NaN</td>\n",
       "      <td>4.0</td>\n",
       "      <td>1.0</td>\n",
       "      <td>1.0</td>\n",
       "      <td>3.0</td>\n",
       "      <td>1.0</td>\n",
       "      <td>1.0</td>\n",
       "      <td>2.0</td>\n",
       "      <td>NaN</td>\n",
       "    </tr>\n",
       "    <tr>\n",
       "      <th>1989</th>\n",
       "      <td>2.0</td>\n",
       "      <td>NaN</td>\n",
       "      <td>NaN</td>\n",
       "      <td>1.0</td>\n",
       "      <td>3.0</td>\n",
       "      <td>5.0</td>\n",
       "      <td>NaN</td>\n",
       "      <td>2.0</td>\n",
       "      <td>1.0</td>\n",
       "      <td>NaN</td>\n",
       "      <td>3.0</td>\n",
       "      <td>NaN</td>\n",
       "    </tr>\n",
       "    <tr>\n",
       "      <th>1990</th>\n",
       "      <td>3.0</td>\n",
       "      <td>NaN</td>\n",
       "      <td>NaN</td>\n",
       "      <td>NaN</td>\n",
       "      <td>3.0</td>\n",
       "      <td>2.0</td>\n",
       "      <td>2.0</td>\n",
       "      <td>2.0</td>\n",
       "      <td>NaN</td>\n",
       "      <td>1.0</td>\n",
       "      <td>3.0</td>\n",
       "      <td>NaN</td>\n",
       "    </tr>\n",
       "    <tr>\n",
       "      <th>1991</th>\n",
       "      <td>5.0</td>\n",
       "      <td>2.0</td>\n",
       "      <td>1.0</td>\n",
       "      <td>1.0</td>\n",
       "      <td>6.0</td>\n",
       "      <td>4.0</td>\n",
       "      <td>1.0</td>\n",
       "      <td>5.0</td>\n",
       "      <td>3.0</td>\n",
       "      <td>2.0</td>\n",
       "      <td>7.0</td>\n",
       "      <td>4.0</td>\n",
       "    </tr>\n",
       "    <tr>\n",
       "      <th>1992</th>\n",
       "      <td>1.0</td>\n",
       "      <td>4.0</td>\n",
       "      <td>7.0</td>\n",
       "      <td>2.0</td>\n",
       "      <td>6.0</td>\n",
       "      <td>5.0</td>\n",
       "      <td>2.0</td>\n",
       "      <td>5.0</td>\n",
       "      <td>3.0</td>\n",
       "      <td>1.0</td>\n",
       "      <td>4.0</td>\n",
       "      <td>3.0</td>\n",
       "    </tr>\n",
       "    <tr>\n",
       "      <th>1993</th>\n",
       "      <td>6.0</td>\n",
       "      <td>1.0</td>\n",
       "      <td>11.0</td>\n",
       "      <td>3.0</td>\n",
       "      <td>11.0</td>\n",
       "      <td>3.0</td>\n",
       "      <td>2.0</td>\n",
       "      <td>9.0</td>\n",
       "      <td>2.0</td>\n",
       "      <td>1.0</td>\n",
       "      <td>9.0</td>\n",
       "      <td>2.0</td>\n",
       "    </tr>\n",
       "    <tr>\n",
       "      <th>1994</th>\n",
       "      <td>4.0</td>\n",
       "      <td>4.0</td>\n",
       "      <td>22.0</td>\n",
       "      <td>6.0</td>\n",
       "      <td>11.0</td>\n",
       "      <td>3.0</td>\n",
       "      <td>8.0</td>\n",
       "      <td>17.0</td>\n",
       "      <td>11.0</td>\n",
       "      <td>7.0</td>\n",
       "      <td>22.0</td>\n",
       "      <td>6.0</td>\n",
       "    </tr>\n",
       "    <tr>\n",
       "      <th>1995</th>\n",
       "      <td>8.0</td>\n",
       "      <td>13.0</td>\n",
       "      <td>29.0</td>\n",
       "      <td>22.0</td>\n",
       "      <td>13.0</td>\n",
       "      <td>12.0</td>\n",
       "      <td>12.0</td>\n",
       "      <td>24.0</td>\n",
       "      <td>29.0</td>\n",
       "      <td>14.0</td>\n",
       "      <td>29.0</td>\n",
       "      <td>14.0</td>\n",
       "    </tr>\n",
       "    <tr>\n",
       "      <th>1996</th>\n",
       "      <td>20.0</td>\n",
       "      <td>17.0</td>\n",
       "      <td>30.0</td>\n",
       "      <td>23.0</td>\n",
       "      <td>14.0</td>\n",
       "      <td>9.0</td>\n",
       "      <td>22.0</td>\n",
       "      <td>28.0</td>\n",
       "      <td>23.0</td>\n",
       "      <td>13.0</td>\n",
       "      <td>52.0</td>\n",
       "      <td>12.0</td>\n",
       "    </tr>\n",
       "    <tr>\n",
       "      <th>1997</th>\n",
       "      <td>31.0</td>\n",
       "      <td>14.0</td>\n",
       "      <td>28.0</td>\n",
       "      <td>12.0</td>\n",
       "      <td>19.0</td>\n",
       "      <td>14.0</td>\n",
       "      <td>36.0</td>\n",
       "      <td>23.0</td>\n",
       "      <td>27.0</td>\n",
       "      <td>19.0</td>\n",
       "      <td>46.0</td>\n",
       "      <td>21.0</td>\n",
       "    </tr>\n",
       "    <tr>\n",
       "      <th>1998</th>\n",
       "      <td>47.0</td>\n",
       "      <td>25.0</td>\n",
       "      <td>41.0</td>\n",
       "      <td>22.0</td>\n",
       "      <td>25.0</td>\n",
       "      <td>13.0</td>\n",
       "      <td>50.0</td>\n",
       "      <td>26.0</td>\n",
       "      <td>23.0</td>\n",
       "      <td>8.0</td>\n",
       "      <td>71.0</td>\n",
       "      <td>35.0</td>\n",
       "    </tr>\n",
       "    <tr>\n",
       "      <th>1999</th>\n",
       "      <td>41.0</td>\n",
       "      <td>19.0</td>\n",
       "      <td>24.0</td>\n",
       "      <td>25.0</td>\n",
       "      <td>18.0</td>\n",
       "      <td>6.0</td>\n",
       "      <td>49.0</td>\n",
       "      <td>34.0</td>\n",
       "      <td>16.0</td>\n",
       "      <td>20.0</td>\n",
       "      <td>63.0</td>\n",
       "      <td>26.0</td>\n",
       "    </tr>\n",
       "    <tr>\n",
       "      <th>2000</th>\n",
       "      <td>44.0</td>\n",
       "      <td>16.0</td>\n",
       "      <td>29.0</td>\n",
       "      <td>20.0</td>\n",
       "      <td>24.0</td>\n",
       "      <td>12.0</td>\n",
       "      <td>43.0</td>\n",
       "      <td>29.0</td>\n",
       "      <td>20.0</td>\n",
       "      <td>15.0</td>\n",
       "      <td>81.0</td>\n",
       "      <td>17.0</td>\n",
       "    </tr>\n",
       "    <tr>\n",
       "      <th>2001</th>\n",
       "      <td>67.0</td>\n",
       "      <td>21.0</td>\n",
       "      <td>18.0</td>\n",
       "      <td>26.0</td>\n",
       "      <td>43.0</td>\n",
       "      <td>15.0</td>\n",
       "      <td>71.0</td>\n",
       "      <td>41.0</td>\n",
       "      <td>36.0</td>\n",
       "      <td>28.0</td>\n",
       "      <td>96.0</td>\n",
       "      <td>20.0</td>\n",
       "    </tr>\n",
       "    <tr>\n",
       "      <th>2002</th>\n",
       "      <td>125.0</td>\n",
       "      <td>42.0</td>\n",
       "      <td>54.0</td>\n",
       "      <td>45.0</td>\n",
       "      <td>77.0</td>\n",
       "      <td>20.0</td>\n",
       "      <td>103.0</td>\n",
       "      <td>55.0</td>\n",
       "      <td>79.0</td>\n",
       "      <td>19.0</td>\n",
       "      <td>188.0</td>\n",
       "      <td>22.0</td>\n",
       "    </tr>\n",
       "    <tr>\n",
       "      <th>2003</th>\n",
       "      <td>152.0</td>\n",
       "      <td>13.0</td>\n",
       "      <td>44.0</td>\n",
       "      <td>54.0</td>\n",
       "      <td>90.0</td>\n",
       "      <td>11.0</td>\n",
       "      <td>112.0</td>\n",
       "      <td>50.0</td>\n",
       "      <td>73.0</td>\n",
       "      <td>35.0</td>\n",
       "      <td>129.0</td>\n",
       "      <td>37.0</td>\n",
       "    </tr>\n",
       "    <tr>\n",
       "      <th>2004</th>\n",
       "      <td>128.0</td>\n",
       "      <td>38.0</td>\n",
       "      <td>43.0</td>\n",
       "      <td>86.0</td>\n",
       "      <td>66.0</td>\n",
       "      <td>25.0</td>\n",
       "      <td>72.0</td>\n",
       "      <td>60.0</td>\n",
       "      <td>96.0</td>\n",
       "      <td>27.0</td>\n",
       "      <td>110.0</td>\n",
       "      <td>32.0</td>\n",
       "    </tr>\n",
       "    <tr>\n",
       "      <th>2005</th>\n",
       "      <td>195.0</td>\n",
       "      <td>42.0</td>\n",
       "      <td>47.0</td>\n",
       "      <td>119.0</td>\n",
       "      <td>85.0</td>\n",
       "      <td>33.0</td>\n",
       "      <td>80.0</td>\n",
       "      <td>75.0</td>\n",
       "      <td>98.0</td>\n",
       "      <td>39.0</td>\n",
       "      <td>130.0</td>\n",
       "      <td>30.0</td>\n",
       "    </tr>\n",
       "    <tr>\n",
       "      <th>2006</th>\n",
       "      <td>184.0</td>\n",
       "      <td>71.0</td>\n",
       "      <td>55.0</td>\n",
       "      <td>108.0</td>\n",
       "      <td>54.0</td>\n",
       "      <td>43.0</td>\n",
       "      <td>75.0</td>\n",
       "      <td>110.0</td>\n",
       "      <td>69.0</td>\n",
       "      <td>57.0</td>\n",
       "      <td>138.0</td>\n",
       "      <td>42.0</td>\n",
       "    </tr>\n",
       "    <tr>\n",
       "      <th>2007</th>\n",
       "      <td>210.0</td>\n",
       "      <td>83.0</td>\n",
       "      <td>50.0</td>\n",
       "      <td>151.0</td>\n",
       "      <td>42.0</td>\n",
       "      <td>66.0</td>\n",
       "      <td>84.0</td>\n",
       "      <td>103.0</td>\n",
       "      <td>85.0</td>\n",
       "      <td>90.0</td>\n",
       "      <td>166.0</td>\n",
       "      <td>67.0</td>\n",
       "    </tr>\n",
       "    <tr>\n",
       "      <th>2008</th>\n",
       "      <td>228.0</td>\n",
       "      <td>168.0</td>\n",
       "      <td>56.0</td>\n",
       "      <td>216.0</td>\n",
       "      <td>64.0</td>\n",
       "      <td>66.0</td>\n",
       "      <td>83.0</td>\n",
       "      <td>116.0</td>\n",
       "      <td>83.0</td>\n",
       "      <td>124.0</td>\n",
       "      <td>202.0</td>\n",
       "      <td>51.0</td>\n",
       "    </tr>\n",
       "    <tr>\n",
       "      <th>2009</th>\n",
       "      <td>285.0</td>\n",
       "      <td>141.0</td>\n",
       "      <td>55.0</td>\n",
       "      <td>216.0</td>\n",
       "      <td>30.0</td>\n",
       "      <td>80.0</td>\n",
       "      <td>86.0</td>\n",
       "      <td>104.0</td>\n",
       "      <td>94.0</td>\n",
       "      <td>126.0</td>\n",
       "      <td>193.0</td>\n",
       "      <td>66.0</td>\n",
       "    </tr>\n",
       "    <tr>\n",
       "      <th>2010</th>\n",
       "      <td>236.0</td>\n",
       "      <td>153.0</td>\n",
       "      <td>41.0</td>\n",
       "      <td>207.0</td>\n",
       "      <td>31.0</td>\n",
       "      <td>44.0</td>\n",
       "      <td>63.0</td>\n",
       "      <td>104.0</td>\n",
       "      <td>90.0</td>\n",
       "      <td>85.0</td>\n",
       "      <td>191.0</td>\n",
       "      <td>57.0</td>\n",
       "    </tr>\n",
       "    <tr>\n",
       "      <th>2011</th>\n",
       "      <td>245.0</td>\n",
       "      <td>110.0</td>\n",
       "      <td>50.0</td>\n",
       "      <td>186.0</td>\n",
       "      <td>38.0</td>\n",
       "      <td>44.0</td>\n",
       "      <td>67.0</td>\n",
       "      <td>97.0</td>\n",
       "      <td>95.0</td>\n",
       "      <td>57.0</td>\n",
       "      <td>124.0</td>\n",
       "      <td>48.0</td>\n",
       "    </tr>\n",
       "    <tr>\n",
       "      <th>2012</th>\n",
       "      <td>265.0</td>\n",
       "      <td>57.0</td>\n",
       "      <td>29.0</td>\n",
       "      <td>37.0</td>\n",
       "      <td>11.0</td>\n",
       "      <td>11.0</td>\n",
       "      <td>30.0</td>\n",
       "      <td>78.0</td>\n",
       "      <td>48.0</td>\n",
       "      <td>18.0</td>\n",
       "      <td>54.0</td>\n",
       "      <td>15.0</td>\n",
       "    </tr>\n",
       "    <tr>\n",
       "      <th>2013</th>\n",
       "      <td>148.0</td>\n",
       "      <td>61.0</td>\n",
       "      <td>20.0</td>\n",
       "      <td>42.0</td>\n",
       "      <td>36.0</td>\n",
       "      <td>3.0</td>\n",
       "      <td>17.0</td>\n",
       "      <td>72.0</td>\n",
       "      <td>60.0</td>\n",
       "      <td>20.0</td>\n",
       "      <td>54.0</td>\n",
       "      <td>19.0</td>\n",
       "    </tr>\n",
       "    <tr>\n",
       "      <th>2014</th>\n",
       "      <td>188.0</td>\n",
       "      <td>75.0</td>\n",
       "      <td>23.0</td>\n",
       "      <td>42.0</td>\n",
       "      <td>10.0</td>\n",
       "      <td>7.0</td>\n",
       "      <td>27.0</td>\n",
       "      <td>90.0</td>\n",
       "      <td>47.0</td>\n",
       "      <td>11.0</td>\n",
       "      <td>54.0</td>\n",
       "      <td>8.0</td>\n",
       "    </tr>\n",
       "    <tr>\n",
       "      <th>2015</th>\n",
       "      <td>253.0</td>\n",
       "      <td>54.0</td>\n",
       "      <td>21.0</td>\n",
       "      <td>39.0</td>\n",
       "      <td>13.0</td>\n",
       "      <td>6.0</td>\n",
       "      <td>18.0</td>\n",
       "      <td>78.0</td>\n",
       "      <td>34.0</td>\n",
       "      <td>15.0</td>\n",
       "      <td>59.0</td>\n",
       "      <td>16.0</td>\n",
       "    </tr>\n",
       "    <tr>\n",
       "      <th>2016</th>\n",
       "      <td>178.0</td>\n",
       "      <td>56.0</td>\n",
       "      <td>16.0</td>\n",
       "      <td>32.0</td>\n",
       "      <td>15.0</td>\n",
       "      <td>1.0</td>\n",
       "      <td>24.0</td>\n",
       "      <td>54.0</td>\n",
       "      <td>47.0</td>\n",
       "      <td>18.0</td>\n",
       "      <td>48.0</td>\n",
       "      <td>13.0</td>\n",
       "    </tr>\n",
       "  </tbody>\n",
       "</table>\n",
       "</div>"
      ],
      "text/plain": [
       "genre            action  adventure  fighting   misc  platform  puzzle  racing  \\\n",
       "year_of_release                                                                 \n",
       "1980                1.0        NaN       1.0    4.0       NaN     NaN     NaN   \n",
       "1981               25.0        NaN       NaN    NaN       3.0     2.0     1.0   \n",
       "1982               24.0        1.0       1.0    1.0       5.0     6.0     4.0   \n",
       "1983                7.0        1.0       NaN    1.0       5.0     1.0     NaN   \n",
       "1984                1.0        NaN       NaN    1.0       1.0     3.0     3.0   \n",
       "1985                2.0        NaN       1.0    NaN       4.0     4.0     NaN   \n",
       "1986                6.0        NaN       NaN    NaN       6.0     NaN     1.0   \n",
       "1987                2.0        1.0       2.0    NaN       2.0     NaN     NaN   \n",
       "1988                2.0        NaN       NaN    NaN       4.0     1.0     1.0   \n",
       "1989                2.0        NaN       NaN    1.0       3.0     5.0     NaN   \n",
       "1990                3.0        NaN       NaN    NaN       3.0     2.0     2.0   \n",
       "1991                5.0        2.0       1.0    1.0       6.0     4.0     1.0   \n",
       "1992                1.0        4.0       7.0    2.0       6.0     5.0     2.0   \n",
       "1993                6.0        1.0      11.0    3.0      11.0     3.0     2.0   \n",
       "1994                4.0        4.0      22.0    6.0      11.0     3.0     8.0   \n",
       "1995                8.0       13.0      29.0   22.0      13.0    12.0    12.0   \n",
       "1996               20.0       17.0      30.0   23.0      14.0     9.0    22.0   \n",
       "1997               31.0       14.0      28.0   12.0      19.0    14.0    36.0   \n",
       "1998               47.0       25.0      41.0   22.0      25.0    13.0    50.0   \n",
       "1999               41.0       19.0      24.0   25.0      18.0     6.0    49.0   \n",
       "2000               44.0       16.0      29.0   20.0      24.0    12.0    43.0   \n",
       "2001               67.0       21.0      18.0   26.0      43.0    15.0    71.0   \n",
       "2002              125.0       42.0      54.0   45.0      77.0    20.0   103.0   \n",
       "2003              152.0       13.0      44.0   54.0      90.0    11.0   112.0   \n",
       "2004              128.0       38.0      43.0   86.0      66.0    25.0    72.0   \n",
       "2005              195.0       42.0      47.0  119.0      85.0    33.0    80.0   \n",
       "2006              184.0       71.0      55.0  108.0      54.0    43.0    75.0   \n",
       "2007              210.0       83.0      50.0  151.0      42.0    66.0    84.0   \n",
       "2008              228.0      168.0      56.0  216.0      64.0    66.0    83.0   \n",
       "2009              285.0      141.0      55.0  216.0      30.0    80.0    86.0   \n",
       "2010              236.0      153.0      41.0  207.0      31.0    44.0    63.0   \n",
       "2011              245.0      110.0      50.0  186.0      38.0    44.0    67.0   \n",
       "2012              265.0       57.0      29.0   37.0      11.0    11.0    30.0   \n",
       "2013              148.0       61.0      20.0   42.0      36.0     3.0    17.0   \n",
       "2014              188.0       75.0      23.0   42.0      10.0     7.0    27.0   \n",
       "2015              253.0       54.0      21.0   39.0      13.0     6.0    18.0   \n",
       "2016              178.0       56.0      16.0   32.0      15.0     1.0    24.0   \n",
       "\n",
       "genre            role-playing  shooter  simulation  sports  strategy  \n",
       "year_of_release                                                       \n",
       "1980                      NaN      2.0         NaN     1.0       NaN  \n",
       "1981                      NaN     10.0         1.0     4.0       NaN  \n",
       "1982                      NaN      7.0         NaN     4.0       NaN  \n",
       "1983                      NaN      1.0         NaN     1.0       NaN  \n",
       "1984                      NaN      3.0         NaN     2.0       NaN  \n",
       "1985                      NaN      1.0         1.0     1.0       NaN  \n",
       "1986                      1.0      4.0         NaN     3.0       NaN  \n",
       "1987                      3.0      2.0         NaN     4.0       NaN  \n",
       "1988                      3.0      1.0         1.0     2.0       NaN  \n",
       "1989                      2.0      1.0         NaN     3.0       NaN  \n",
       "1990                      2.0      NaN         1.0     3.0       NaN  \n",
       "1991                      5.0      3.0         2.0     7.0       4.0  \n",
       "1992                      5.0      3.0         1.0     4.0       3.0  \n",
       "1993                      9.0      2.0         1.0     9.0       2.0  \n",
       "1994                     17.0     11.0         7.0    22.0       6.0  \n",
       "1995                     24.0     29.0        14.0    29.0      14.0  \n",
       "1996                     28.0     23.0        13.0    52.0      12.0  \n",
       "1997                     23.0     27.0        19.0    46.0      21.0  \n",
       "1998                     26.0     23.0         8.0    71.0      35.0  \n",
       "1999                     34.0     16.0        20.0    63.0      26.0  \n",
       "2000                     29.0     20.0        15.0    81.0      17.0  \n",
       "2001                     41.0     36.0        28.0    96.0      20.0  \n",
       "2002                     55.0     79.0        19.0   188.0      22.0  \n",
       "2003                     50.0     73.0        35.0   129.0      37.0  \n",
       "2004                     60.0     96.0        27.0   110.0      32.0  \n",
       "2005                     75.0     98.0        39.0   130.0      30.0  \n",
       "2006                    110.0     69.0        57.0   138.0      42.0  \n",
       "2007                    103.0     85.0        90.0   166.0      67.0  \n",
       "2008                    116.0     83.0       124.0   202.0      51.0  \n",
       "2009                    104.0     94.0       126.0   193.0      66.0  \n",
       "2010                    104.0     90.0        85.0   191.0      57.0  \n",
       "2011                     97.0     95.0        57.0   124.0      48.0  \n",
       "2012                     78.0     48.0        18.0    54.0      15.0  \n",
       "2013                     72.0     60.0        20.0    54.0      19.0  \n",
       "2014                     90.0     47.0        11.0    54.0       8.0  \n",
       "2015                     78.0     34.0        15.0    59.0      16.0  \n",
       "2016                     54.0     47.0        18.0    48.0      13.0  "
      ]
     },
     "execution_count": 19,
     "metadata": {},
     "output_type": "execute_result"
    }
   ],
   "source": [
    "# посмотрим сколько игр выходило в каждый год по жанрам\n",
    "data.pivot_table(index='year_of_release',columns='genre', values='name',aggfunc='count')"
   ]
  },
  {
   "cell_type": "code",
   "execution_count": 20,
   "metadata": {
    "scrolled": true
   },
   "outputs": [
    {
     "data": {
      "text/plain": [
       "need for speed: most wanted                                  12\n",
       "lego marvel super heroes                                      9\n",
       "fifa 14                                                       9\n",
       "ratatouille                                                   9\n",
       "madden nfl 07                                                 9\n",
       "                                                             ..\n",
       "my fitness coach 2: exercise and nutrition                    1\n",
       "foster's home for imaginary friends: imagination invaders     1\n",
       "ro-kyu-bu! lost secret                                        1\n",
       "gex                                                           1\n",
       "battle of giants: mutant insects                              1\n",
       "Name: name, Length: 11559, dtype: Int64"
      ]
     },
     "execution_count": 20,
     "metadata": {},
     "output_type": "execute_result"
    }
   ],
   "source": [
    "data['name'].value_counts()"
   ]
  },
  {
   "cell_type": "code",
   "execution_count": 21,
   "metadata": {},
   "outputs": [
    {
     "data": {
      "image/png": "[encoded data removed]",
      "text/plain": [
       "<Figure size 1080x432 with 1 Axes>"
      ]
     },
     "metadata": {
      "needs_background": "light"
     },
     "output_type": "display_data"
    }
   ],
   "source": [
    "data.groupby(by='year_of_release')['name'].nunique().plot(figsize=(15,6))\n",
    "plt.title('Динамика выпуска игр по годам')\n",
    "plt.xlabel('Года')\n",
    "plt.xlabel('Количество')\n",
    "plt.show()"
   ]
  },
  {
   "cell_type": "code",
   "execution_count": 22,
   "metadata": {
    "scrolled": true
   },
   "outputs": [
    {
     "data": {
      "text/html": [
       "<div>\n",
       "<style scoped>\n",
       "    .dataframe tbody tr th:only-of-type {\n",
       "        vertical-align: middle;\n",
       "    }\n",
       "\n",
       "    .dataframe tbody tr th {\n",
       "        vertical-align: top;\n",
       "    }\n",
       "\n",
       "    .dataframe thead th {\n",
       "        text-align: right;\n",
       "    }\n",
       "</style>\n",
       "<table border=\"1\" class=\"dataframe\">\n",
       "  <thead>\n",
       "    <tr style=\"text-align: right;\">\n",
       "      <th>platform</th>\n",
       "      <th>ps2</th>\n",
       "      <th>x360</th>\n",
       "      <th>ps3</th>\n",
       "      <th>wii</th>\n",
       "      <th>ds</th>\n",
       "      <th>ps</th>\n",
       "    </tr>\n",
       "    <tr>\n",
       "      <th>year_of_release</th>\n",
       "      <th></th>\n",
       "      <th></th>\n",
       "      <th></th>\n",
       "      <th></th>\n",
       "      <th></th>\n",
       "      <th></th>\n",
       "    </tr>\n",
       "  </thead>\n",
       "  <tbody>\n",
       "    <tr>\n",
       "      <th>1980</th>\n",
       "      <td>NaN</td>\n",
       "      <td>NaN</td>\n",
       "      <td>NaN</td>\n",
       "      <td>NaN</td>\n",
       "      <td>NaN</td>\n",
       "      <td>NaN</td>\n",
       "    </tr>\n",
       "    <tr>\n",
       "      <th>1981</th>\n",
       "      <td>NaN</td>\n",
       "      <td>NaN</td>\n",
       "      <td>NaN</td>\n",
       "      <td>NaN</td>\n",
       "      <td>NaN</td>\n",
       "      <td>NaN</td>\n",
       "    </tr>\n",
       "    <tr>\n",
       "      <th>1982</th>\n",
       "      <td>NaN</td>\n",
       "      <td>NaN</td>\n",
       "      <td>NaN</td>\n",
       "      <td>NaN</td>\n",
       "      <td>NaN</td>\n",
       "      <td>NaN</td>\n",
       "    </tr>\n",
       "    <tr>\n",
       "      <th>1983</th>\n",
       "      <td>NaN</td>\n",
       "      <td>NaN</td>\n",
       "      <td>NaN</td>\n",
       "      <td>NaN</td>\n",
       "      <td>NaN</td>\n",
       "      <td>NaN</td>\n",
       "    </tr>\n",
       "    <tr>\n",
       "      <th>1984</th>\n",
       "      <td>NaN</td>\n",
       "      <td>NaN</td>\n",
       "      <td>NaN</td>\n",
       "      <td>NaN</td>\n",
       "      <td>NaN</td>\n",
       "      <td>NaN</td>\n",
       "    </tr>\n",
       "    <tr>\n",
       "      <th>1985</th>\n",
       "      <td>NaN</td>\n",
       "      <td>NaN</td>\n",
       "      <td>NaN</td>\n",
       "      <td>NaN</td>\n",
       "      <td>0.02</td>\n",
       "      <td>NaN</td>\n",
       "    </tr>\n",
       "    <tr>\n",
       "      <th>1986</th>\n",
       "      <td>NaN</td>\n",
       "      <td>NaN</td>\n",
       "      <td>NaN</td>\n",
       "      <td>NaN</td>\n",
       "      <td>NaN</td>\n",
       "      <td>NaN</td>\n",
       "    </tr>\n",
       "    <tr>\n",
       "      <th>1987</th>\n",
       "      <td>NaN</td>\n",
       "      <td>NaN</td>\n",
       "      <td>NaN</td>\n",
       "      <td>NaN</td>\n",
       "      <td>NaN</td>\n",
       "      <td>NaN</td>\n",
       "    </tr>\n",
       "    <tr>\n",
       "      <th>1988</th>\n",
       "      <td>NaN</td>\n",
       "      <td>NaN</td>\n",
       "      <td>NaN</td>\n",
       "      <td>NaN</td>\n",
       "      <td>NaN</td>\n",
       "      <td>NaN</td>\n",
       "    </tr>\n",
       "    <tr>\n",
       "      <th>1989</th>\n",
       "      <td>NaN</td>\n",
       "      <td>NaN</td>\n",
       "      <td>NaN</td>\n",
       "      <td>NaN</td>\n",
       "      <td>NaN</td>\n",
       "      <td>NaN</td>\n",
       "    </tr>\n",
       "    <tr>\n",
       "      <th>1990</th>\n",
       "      <td>NaN</td>\n",
       "      <td>NaN</td>\n",
       "      <td>NaN</td>\n",
       "      <td>NaN</td>\n",
       "      <td>NaN</td>\n",
       "      <td>NaN</td>\n",
       "    </tr>\n",
       "    <tr>\n",
       "      <th>1991</th>\n",
       "      <td>NaN</td>\n",
       "      <td>NaN</td>\n",
       "      <td>NaN</td>\n",
       "      <td>NaN</td>\n",
       "      <td>NaN</td>\n",
       "      <td>NaN</td>\n",
       "    </tr>\n",
       "    <tr>\n",
       "      <th>1992</th>\n",
       "      <td>NaN</td>\n",
       "      <td>NaN</td>\n",
       "      <td>NaN</td>\n",
       "      <td>NaN</td>\n",
       "      <td>NaN</td>\n",
       "      <td>NaN</td>\n",
       "    </tr>\n",
       "    <tr>\n",
       "      <th>1993</th>\n",
       "      <td>NaN</td>\n",
       "      <td>NaN</td>\n",
       "      <td>NaN</td>\n",
       "      <td>NaN</td>\n",
       "      <td>NaN</td>\n",
       "      <td>NaN</td>\n",
       "    </tr>\n",
       "    <tr>\n",
       "      <th>1994</th>\n",
       "      <td>NaN</td>\n",
       "      <td>NaN</td>\n",
       "      <td>NaN</td>\n",
       "      <td>NaN</td>\n",
       "      <td>NaN</td>\n",
       "      <td>6.03</td>\n",
       "    </tr>\n",
       "    <tr>\n",
       "      <th>1995</th>\n",
       "      <td>NaN</td>\n",
       "      <td>NaN</td>\n",
       "      <td>NaN</td>\n",
       "      <td>NaN</td>\n",
       "      <td>NaN</td>\n",
       "      <td>35.96</td>\n",
       "    </tr>\n",
       "    <tr>\n",
       "      <th>1996</th>\n",
       "      <td>NaN</td>\n",
       "      <td>NaN</td>\n",
       "      <td>NaN</td>\n",
       "      <td>NaN</td>\n",
       "      <td>NaN</td>\n",
       "      <td>94.70</td>\n",
       "    </tr>\n",
       "    <tr>\n",
       "      <th>1997</th>\n",
       "      <td>NaN</td>\n",
       "      <td>NaN</td>\n",
       "      <td>NaN</td>\n",
       "      <td>NaN</td>\n",
       "      <td>NaN</td>\n",
       "      <td>136.17</td>\n",
       "    </tr>\n",
       "    <tr>\n",
       "      <th>1998</th>\n",
       "      <td>NaN</td>\n",
       "      <td>NaN</td>\n",
       "      <td>NaN</td>\n",
       "      <td>NaN</td>\n",
       "      <td>NaN</td>\n",
       "      <td>172.77</td>\n",
       "    </tr>\n",
       "    <tr>\n",
       "      <th>1999</th>\n",
       "      <td>NaN</td>\n",
       "      <td>NaN</td>\n",
       "      <td>NaN</td>\n",
       "      <td>NaN</td>\n",
       "      <td>NaN</td>\n",
       "      <td>144.53</td>\n",
       "    </tr>\n",
       "    <tr>\n",
       "      <th>2000</th>\n",
       "      <td>39.17</td>\n",
       "      <td>NaN</td>\n",
       "      <td>NaN</td>\n",
       "      <td>NaN</td>\n",
       "      <td>NaN</td>\n",
       "      <td>96.37</td>\n",
       "    </tr>\n",
       "    <tr>\n",
       "      <th>2001</th>\n",
       "      <td>166.43</td>\n",
       "      <td>NaN</td>\n",
       "      <td>NaN</td>\n",
       "      <td>NaN</td>\n",
       "      <td>NaN</td>\n",
       "      <td>35.59</td>\n",
       "    </tr>\n",
       "    <tr>\n",
       "      <th>2002</th>\n",
       "      <td>205.38</td>\n",
       "      <td>NaN</td>\n",
       "      <td>NaN</td>\n",
       "      <td>NaN</td>\n",
       "      <td>NaN</td>\n",
       "      <td>6.67</td>\n",
       "    </tr>\n",
       "    <tr>\n",
       "      <th>2003</th>\n",
       "      <td>184.31</td>\n",
       "      <td>NaN</td>\n",
       "      <td>NaN</td>\n",
       "      <td>NaN</td>\n",
       "      <td>NaN</td>\n",
       "      <td>2.07</td>\n",
       "    </tr>\n",
       "    <tr>\n",
       "      <th>2004</th>\n",
       "      <td>211.81</td>\n",
       "      <td>NaN</td>\n",
       "      <td>NaN</td>\n",
       "      <td>NaN</td>\n",
       "      <td>17.27</td>\n",
       "      <td>NaN</td>\n",
       "    </tr>\n",
       "    <tr>\n",
       "      <th>2005</th>\n",
       "      <td>182.87</td>\n",
       "      <td>8.25</td>\n",
       "      <td>NaN</td>\n",
       "      <td>NaN</td>\n",
       "      <td>130.14</td>\n",
       "      <td>NaN</td>\n",
       "    </tr>\n",
       "    <tr>\n",
       "      <th>2006</th>\n",
       "      <td>103.42</td>\n",
       "      <td>51.62</td>\n",
       "      <td>20.96</td>\n",
       "      <td>137.15</td>\n",
       "      <td>119.81</td>\n",
       "      <td>NaN</td>\n",
       "    </tr>\n",
       "    <tr>\n",
       "      <th>2007</th>\n",
       "      <td>75.99</td>\n",
       "      <td>95.41</td>\n",
       "      <td>73.19</td>\n",
       "      <td>152.77</td>\n",
       "      <td>146.94</td>\n",
       "      <td>NaN</td>\n",
       "    </tr>\n",
       "    <tr>\n",
       "      <th>2008</th>\n",
       "      <td>53.90</td>\n",
       "      <td>135.26</td>\n",
       "      <td>118.52</td>\n",
       "      <td>171.32</td>\n",
       "      <td>148.65</td>\n",
       "      <td>NaN</td>\n",
       "    </tr>\n",
       "    <tr>\n",
       "      <th>2009</th>\n",
       "      <td>26.40</td>\n",
       "      <td>120.29</td>\n",
       "      <td>130.93</td>\n",
       "      <td>223.30</td>\n",
       "      <td>119.54</td>\n",
       "      <td>NaN</td>\n",
       "    </tr>\n",
       "    <tr>\n",
       "      <th>2010</th>\n",
       "      <td>5.64</td>\n",
       "      <td>180.21</td>\n",
       "      <td>142.17</td>\n",
       "      <td>127.95</td>\n",
       "      <td>85.02</td>\n",
       "      <td>NaN</td>\n",
       "    </tr>\n",
       "    <tr>\n",
       "      <th>2011</th>\n",
       "      <td>0.45</td>\n",
       "      <td>143.84</td>\n",
       "      <td>165.09</td>\n",
       "      <td>59.65</td>\n",
       "      <td>26.18</td>\n",
       "      <td>NaN</td>\n",
       "    </tr>\n",
       "    <tr>\n",
       "      <th>2012</th>\n",
       "      <td>NaN</td>\n",
       "      <td>99.74</td>\n",
       "      <td>107.36</td>\n",
       "      <td>21.71</td>\n",
       "      <td>11.01</td>\n",
       "      <td>NaN</td>\n",
       "    </tr>\n",
       "    <tr>\n",
       "      <th>2013</th>\n",
       "      <td>NaN</td>\n",
       "      <td>88.58</td>\n",
       "      <td>113.25</td>\n",
       "      <td>8.59</td>\n",
       "      <td>1.54</td>\n",
       "      <td>NaN</td>\n",
       "    </tr>\n",
       "    <tr>\n",
       "      <th>2014</th>\n",
       "      <td>NaN</td>\n",
       "      <td>34.74</td>\n",
       "      <td>47.76</td>\n",
       "      <td>3.75</td>\n",
       "      <td>NaN</td>\n",
       "      <td>NaN</td>\n",
       "    </tr>\n",
       "    <tr>\n",
       "      <th>2015</th>\n",
       "      <td>NaN</td>\n",
       "      <td>11.96</td>\n",
       "      <td>16.82</td>\n",
       "      <td>1.14</td>\n",
       "      <td>NaN</td>\n",
       "      <td>NaN</td>\n",
       "    </tr>\n",
       "    <tr>\n",
       "      <th>2016</th>\n",
       "      <td>NaN</td>\n",
       "      <td>1.52</td>\n",
       "      <td>3.60</td>\n",
       "      <td>0.18</td>\n",
       "      <td>NaN</td>\n",
       "      <td>NaN</td>\n",
       "    </tr>\n",
       "  </tbody>\n",
       "</table>\n",
       "</div>"
      ],
      "text/plain": [
       "platform            ps2    x360     ps3     wii      ds      ps\n",
       "year_of_release                                                \n",
       "1980                NaN     NaN     NaN     NaN     NaN     NaN\n",
       "1981                NaN     NaN     NaN     NaN     NaN     NaN\n",
       "1982                NaN     NaN     NaN     NaN     NaN     NaN\n",
       "1983                NaN     NaN     NaN     NaN     NaN     NaN\n",
       "1984                NaN     NaN     NaN     NaN     NaN     NaN\n",
       "1985                NaN     NaN     NaN     NaN    0.02     NaN\n",
       "1986                NaN     NaN     NaN     NaN     NaN     NaN\n",
       "1987                NaN     NaN     NaN     NaN     NaN     NaN\n",
       "1988                NaN     NaN     NaN     NaN     NaN     NaN\n",
       "1989                NaN     NaN     NaN     NaN     NaN     NaN\n",
       "1990                NaN     NaN     NaN     NaN     NaN     NaN\n",
       "1991                NaN     NaN     NaN     NaN     NaN     NaN\n",
       "1992                NaN     NaN     NaN     NaN     NaN     NaN\n",
       "1993                NaN     NaN     NaN     NaN     NaN     NaN\n",
       "1994                NaN     NaN     NaN     NaN     NaN    6.03\n",
       "1995                NaN     NaN     NaN     NaN     NaN   35.96\n",
       "1996                NaN     NaN     NaN     NaN     NaN   94.70\n",
       "1997                NaN     NaN     NaN     NaN     NaN  136.17\n",
       "1998                NaN     NaN     NaN     NaN     NaN  172.77\n",
       "1999                NaN     NaN     NaN     NaN     NaN  144.53\n",
       "2000              39.17     NaN     NaN     NaN     NaN   96.37\n",
       "2001             166.43     NaN     NaN     NaN     NaN   35.59\n",
       "2002             205.38     NaN     NaN     NaN     NaN    6.67\n",
       "2003             184.31     NaN     NaN     NaN     NaN    2.07\n",
       "2004             211.81     NaN     NaN     NaN   17.27     NaN\n",
       "2005             182.87    8.25     NaN     NaN  130.14     NaN\n",
       "2006             103.42   51.62   20.96  137.15  119.81     NaN\n",
       "2007              75.99   95.41   73.19  152.77  146.94     NaN\n",
       "2008              53.90  135.26  118.52  171.32  148.65     NaN\n",
       "2009              26.40  120.29  130.93  223.30  119.54     NaN\n",
       "2010               5.64  180.21  142.17  127.95   85.02     NaN\n",
       "2011               0.45  143.84  165.09   59.65   26.18     NaN\n",
       "2012                NaN   99.74  107.36   21.71   11.01     NaN\n",
       "2013                NaN   88.58  113.25    8.59    1.54     NaN\n",
       "2014                NaN   34.74   47.76    3.75     NaN     NaN\n",
       "2015                NaN   11.96   16.82    1.14     NaN     NaN\n",
       "2016                NaN    1.52    3.60    0.18     NaN     NaN"
      ]
     },
     "execution_count": 22,
     "metadata": {},
     "output_type": "execute_result"
    }
   ],
   "source": [
    "#посмотрим, когда начали выходить игры на самых популярных платформах\n",
    "data.pivot_table(index='year_of_release',columns=['platform'],values='sum_sales',aggfunc='sum')[['ps2','x360','ps3','wii','ds','ps']]"
   ]
  },
  {
   "cell_type": "markdown",
   "metadata": {},
   "source": [
    "Вывод: игры на самых популярных платформах начали выходить с начала 1994 годов. сильный скачек по играм начался с 1994 года. оставим данные начиная с 1994 года. Больше всего игр выходило в промежутке с 2005 по 2011 года. ps2, x360, ps3, wii, ds, ps - самые популярные платформы. В 1985 году вышло несколько игр на ds, для анализа нам эти данные не нужны"
   ]
  },
  {
   "cell_type": "code",
   "execution_count": 23,
   "metadata": {},
   "outputs": [],
   "source": [
    "data_after_1993=data.query('year_of_release>1993')"
   ]
  },
  {
   "cell_type": "markdown",
   "metadata": {},
   "source": [
    "### посмотрим, как менялись продажи по платформам их рост и падение"
   ]
  },
  {
   "cell_type": "code",
   "execution_count": 24,
   "metadata": {},
   "outputs": [
    {
     "data": {
      "text/html": [
       "<div>\n",
       "<style scoped>\n",
       "    .dataframe tbody tr th:only-of-type {\n",
       "        vertical-align: middle;\n",
       "    }\n",
       "\n",
       "    .dataframe tbody tr th {\n",
       "        vertical-align: top;\n",
       "    }\n",
       "\n",
       "    .dataframe thead th {\n",
       "        text-align: right;\n",
       "    }\n",
       "</style>\n",
       "<table border=\"1\" class=\"dataframe\">\n",
       "  <thead>\n",
       "    <tr style=\"text-align: right;\">\n",
       "      <th>year_of_release</th>\n",
       "      <th>1994</th>\n",
       "      <th>1995</th>\n",
       "      <th>1996</th>\n",
       "      <th>1997</th>\n",
       "      <th>1998</th>\n",
       "      <th>1999</th>\n",
       "      <th>2000</th>\n",
       "      <th>2001</th>\n",
       "      <th>2002</th>\n",
       "      <th>2003</th>\n",
       "      <th>...</th>\n",
       "      <th>2007</th>\n",
       "      <th>2008</th>\n",
       "      <th>2009</th>\n",
       "      <th>2010</th>\n",
       "      <th>2011</th>\n",
       "      <th>2012</th>\n",
       "      <th>2013</th>\n",
       "      <th>2014</th>\n",
       "      <th>2015</th>\n",
       "      <th>2016</th>\n",
       "    </tr>\n",
       "    <tr>\n",
       "      <th>platform</th>\n",
       "      <th></th>\n",
       "      <th></th>\n",
       "      <th></th>\n",
       "      <th></th>\n",
       "      <th></th>\n",
       "      <th></th>\n",
       "      <th></th>\n",
       "      <th></th>\n",
       "      <th></th>\n",
       "      <th></th>\n",
       "      <th></th>\n",
       "      <th></th>\n",
       "      <th></th>\n",
       "      <th></th>\n",
       "      <th></th>\n",
       "      <th></th>\n",
       "      <th></th>\n",
       "      <th></th>\n",
       "      <th></th>\n",
       "      <th></th>\n",
       "      <th></th>\n",
       "    </tr>\n",
       "  </thead>\n",
       "  <tbody>\n",
       "    <tr>\n",
       "      <th>3do</th>\n",
       "      <td>0.02</td>\n",
       "      <td>0.08</td>\n",
       "      <td>NaN</td>\n",
       "      <td>NaN</td>\n",
       "      <td>NaN</td>\n",
       "      <td>NaN</td>\n",
       "      <td>NaN</td>\n",
       "      <td>NaN</td>\n",
       "      <td>NaN</td>\n",
       "      <td>NaN</td>\n",
       "      <td>...</td>\n",
       "      <td>NaN</td>\n",
       "      <td>NaN</td>\n",
       "      <td>NaN</td>\n",
       "      <td>NaN</td>\n",
       "      <td>NaN</td>\n",
       "      <td>NaN</td>\n",
       "      <td>NaN</td>\n",
       "      <td>NaN</td>\n",
       "      <td>NaN</td>\n",
       "      <td>NaN</td>\n",
       "    </tr>\n",
       "    <tr>\n",
       "      <th>3ds</th>\n",
       "      <td>NaN</td>\n",
       "      <td>NaN</td>\n",
       "      <td>NaN</td>\n",
       "      <td>NaN</td>\n",
       "      <td>NaN</td>\n",
       "      <td>NaN</td>\n",
       "      <td>NaN</td>\n",
       "      <td>NaN</td>\n",
       "      <td>NaN</td>\n",
       "      <td>NaN</td>\n",
       "      <td>...</td>\n",
       "      <td>NaN</td>\n",
       "      <td>NaN</td>\n",
       "      <td>NaN</td>\n",
       "      <td>NaN</td>\n",
       "      <td>63.20</td>\n",
       "      <td>51.36</td>\n",
       "      <td>57.76</td>\n",
       "      <td>43.76</td>\n",
       "      <td>27.78</td>\n",
       "      <td>15.14</td>\n",
       "    </tr>\n",
       "    <tr>\n",
       "      <th>dc</th>\n",
       "      <td>NaN</td>\n",
       "      <td>NaN</td>\n",
       "      <td>NaN</td>\n",
       "      <td>NaN</td>\n",
       "      <td>3.38</td>\n",
       "      <td>5.16</td>\n",
       "      <td>5.99</td>\n",
       "      <td>1.07</td>\n",
       "      <td>0.29</td>\n",
       "      <td>NaN</td>\n",
       "      <td>...</td>\n",
       "      <td>0.02</td>\n",
       "      <td>0.04</td>\n",
       "      <td>NaN</td>\n",
       "      <td>NaN</td>\n",
       "      <td>NaN</td>\n",
       "      <td>NaN</td>\n",
       "      <td>NaN</td>\n",
       "      <td>NaN</td>\n",
       "      <td>NaN</td>\n",
       "      <td>NaN</td>\n",
       "    </tr>\n",
       "    <tr>\n",
       "      <th>ds</th>\n",
       "      <td>NaN</td>\n",
       "      <td>NaN</td>\n",
       "      <td>NaN</td>\n",
       "      <td>NaN</td>\n",
       "      <td>NaN</td>\n",
       "      <td>NaN</td>\n",
       "      <td>NaN</td>\n",
       "      <td>NaN</td>\n",
       "      <td>NaN</td>\n",
       "      <td>NaN</td>\n",
       "      <td>...</td>\n",
       "      <td>146.94</td>\n",
       "      <td>148.65</td>\n",
       "      <td>119.54</td>\n",
       "      <td>85.02</td>\n",
       "      <td>26.18</td>\n",
       "      <td>11.01</td>\n",
       "      <td>1.54</td>\n",
       "      <td>NaN</td>\n",
       "      <td>NaN</td>\n",
       "      <td>NaN</td>\n",
       "    </tr>\n",
       "    <tr>\n",
       "      <th>gb</th>\n",
       "      <td>12.18</td>\n",
       "      <td>3.60</td>\n",
       "      <td>36.03</td>\n",
       "      <td>7.40</td>\n",
       "      <td>26.90</td>\n",
       "      <td>38.00</td>\n",
       "      <td>19.76</td>\n",
       "      <td>9.24</td>\n",
       "      <td>NaN</td>\n",
       "      <td>NaN</td>\n",
       "      <td>...</td>\n",
       "      <td>NaN</td>\n",
       "      <td>NaN</td>\n",
       "      <td>NaN</td>\n",
       "      <td>NaN</td>\n",
       "      <td>NaN</td>\n",
       "      <td>NaN</td>\n",
       "      <td>NaN</td>\n",
       "      <td>NaN</td>\n",
       "      <td>NaN</td>\n",
       "      <td>NaN</td>\n",
       "    </tr>\n",
       "    <tr>\n",
       "      <th>gba</th>\n",
       "      <td>NaN</td>\n",
       "      <td>NaN</td>\n",
       "      <td>NaN</td>\n",
       "      <td>NaN</td>\n",
       "      <td>NaN</td>\n",
       "      <td>NaN</td>\n",
       "      <td>0.07</td>\n",
       "      <td>61.53</td>\n",
       "      <td>74.16</td>\n",
       "      <td>61.64</td>\n",
       "      <td>...</td>\n",
       "      <td>3.40</td>\n",
       "      <td>NaN</td>\n",
       "      <td>NaN</td>\n",
       "      <td>NaN</td>\n",
       "      <td>NaN</td>\n",
       "      <td>NaN</td>\n",
       "      <td>NaN</td>\n",
       "      <td>NaN</td>\n",
       "      <td>NaN</td>\n",
       "      <td>NaN</td>\n",
       "    </tr>\n",
       "    <tr>\n",
       "      <th>gc</th>\n",
       "      <td>NaN</td>\n",
       "      <td>NaN</td>\n",
       "      <td>NaN</td>\n",
       "      <td>NaN</td>\n",
       "      <td>NaN</td>\n",
       "      <td>NaN</td>\n",
       "      <td>NaN</td>\n",
       "      <td>26.34</td>\n",
       "      <td>51.81</td>\n",
       "      <td>52.81</td>\n",
       "      <td>...</td>\n",
       "      <td>0.27</td>\n",
       "      <td>NaN</td>\n",
       "      <td>NaN</td>\n",
       "      <td>NaN</td>\n",
       "      <td>NaN</td>\n",
       "      <td>NaN</td>\n",
       "      <td>NaN</td>\n",
       "      <td>NaN</td>\n",
       "      <td>NaN</td>\n",
       "      <td>NaN</td>\n",
       "    </tr>\n",
       "    <tr>\n",
       "      <th>gen</th>\n",
       "      <td>8.13</td>\n",
       "      <td>NaN</td>\n",
       "      <td>NaN</td>\n",
       "      <td>NaN</td>\n",
       "      <td>NaN</td>\n",
       "      <td>NaN</td>\n",
       "      <td>NaN</td>\n",
       "      <td>NaN</td>\n",
       "      <td>NaN</td>\n",
       "      <td>NaN</td>\n",
       "      <td>...</td>\n",
       "      <td>NaN</td>\n",
       "      <td>NaN</td>\n",
       "      <td>NaN</td>\n",
       "      <td>NaN</td>\n",
       "      <td>NaN</td>\n",
       "      <td>NaN</td>\n",
       "      <td>NaN</td>\n",
       "      <td>NaN</td>\n",
       "      <td>NaN</td>\n",
       "      <td>NaN</td>\n",
       "    </tr>\n",
       "    <tr>\n",
       "      <th>n64</th>\n",
       "      <td>NaN</td>\n",
       "      <td>NaN</td>\n",
       "      <td>34.10</td>\n",
       "      <td>39.50</td>\n",
       "      <td>49.24</td>\n",
       "      <td>58.54</td>\n",
       "      <td>33.97</td>\n",
       "      <td>3.25</td>\n",
       "      <td>0.08</td>\n",
       "      <td>NaN</td>\n",
       "      <td>...</td>\n",
       "      <td>NaN</td>\n",
       "      <td>NaN</td>\n",
       "      <td>NaN</td>\n",
       "      <td>NaN</td>\n",
       "      <td>NaN</td>\n",
       "      <td>NaN</td>\n",
       "      <td>NaN</td>\n",
       "      <td>NaN</td>\n",
       "      <td>NaN</td>\n",
       "      <td>NaN</td>\n",
       "    </tr>\n",
       "    <tr>\n",
       "      <th>nes</th>\n",
       "      <td>0.11</td>\n",
       "      <td>NaN</td>\n",
       "      <td>NaN</td>\n",
       "      <td>NaN</td>\n",
       "      <td>NaN</td>\n",
       "      <td>NaN</td>\n",
       "      <td>NaN</td>\n",
       "      <td>NaN</td>\n",
       "      <td>NaN</td>\n",
       "      <td>NaN</td>\n",
       "      <td>...</td>\n",
       "      <td>NaN</td>\n",
       "      <td>NaN</td>\n",
       "      <td>NaN</td>\n",
       "      <td>NaN</td>\n",
       "      <td>NaN</td>\n",
       "      <td>NaN</td>\n",
       "      <td>NaN</td>\n",
       "      <td>NaN</td>\n",
       "      <td>NaN</td>\n",
       "      <td>NaN</td>\n",
       "    </tr>\n",
       "    <tr>\n",
       "      <th>ng</th>\n",
       "      <td>0.80</td>\n",
       "      <td>0.33</td>\n",
       "      <td>0.10</td>\n",
       "      <td>NaN</td>\n",
       "      <td>NaN</td>\n",
       "      <td>NaN</td>\n",
       "      <td>NaN</td>\n",
       "      <td>NaN</td>\n",
       "      <td>NaN</td>\n",
       "      <td>NaN</td>\n",
       "      <td>...</td>\n",
       "      <td>NaN</td>\n",
       "      <td>NaN</td>\n",
       "      <td>NaN</td>\n",
       "      <td>NaN</td>\n",
       "      <td>NaN</td>\n",
       "      <td>NaN</td>\n",
       "      <td>NaN</td>\n",
       "      <td>NaN</td>\n",
       "      <td>NaN</td>\n",
       "      <td>NaN</td>\n",
       "    </tr>\n",
       "    <tr>\n",
       "      <th>pc</th>\n",
       "      <td>12.87</td>\n",
       "      <td>4.22</td>\n",
       "      <td>10.58</td>\n",
       "      <td>11.27</td>\n",
       "      <td>3.26</td>\n",
       "      <td>4.74</td>\n",
       "      <td>4.66</td>\n",
       "      <td>5.47</td>\n",
       "      <td>8.57</td>\n",
       "      <td>8.84</td>\n",
       "      <td>...</td>\n",
       "      <td>9.28</td>\n",
       "      <td>12.42</td>\n",
       "      <td>16.91</td>\n",
       "      <td>28.04</td>\n",
       "      <td>35.03</td>\n",
       "      <td>23.22</td>\n",
       "      <td>12.38</td>\n",
       "      <td>13.28</td>\n",
       "      <td>8.52</td>\n",
       "      <td>5.25</td>\n",
       "    </tr>\n",
       "    <tr>\n",
       "      <th>pcfx</th>\n",
       "      <td>NaN</td>\n",
       "      <td>NaN</td>\n",
       "      <td>0.03</td>\n",
       "      <td>NaN</td>\n",
       "      <td>NaN</td>\n",
       "      <td>NaN</td>\n",
       "      <td>NaN</td>\n",
       "      <td>NaN</td>\n",
       "      <td>NaN</td>\n",
       "      <td>NaN</td>\n",
       "      <td>...</td>\n",
       "      <td>NaN</td>\n",
       "      <td>NaN</td>\n",
       "      <td>NaN</td>\n",
       "      <td>NaN</td>\n",
       "      <td>NaN</td>\n",
       "      <td>NaN</td>\n",
       "      <td>NaN</td>\n",
       "      <td>NaN</td>\n",
       "      <td>NaN</td>\n",
       "      <td>NaN</td>\n",
       "    </tr>\n",
       "    <tr>\n",
       "      <th>ps</th>\n",
       "      <td>6.03</td>\n",
       "      <td>35.96</td>\n",
       "      <td>94.70</td>\n",
       "      <td>136.17</td>\n",
       "      <td>172.77</td>\n",
       "      <td>144.53</td>\n",
       "      <td>96.37</td>\n",
       "      <td>35.59</td>\n",
       "      <td>6.67</td>\n",
       "      <td>2.07</td>\n",
       "      <td>...</td>\n",
       "      <td>NaN</td>\n",
       "      <td>NaN</td>\n",
       "      <td>NaN</td>\n",
       "      <td>NaN</td>\n",
       "      <td>NaN</td>\n",
       "      <td>NaN</td>\n",
       "      <td>NaN</td>\n",
       "      <td>NaN</td>\n",
       "      <td>NaN</td>\n",
       "      <td>NaN</td>\n",
       "    </tr>\n",
       "    <tr>\n",
       "      <th>ps2</th>\n",
       "      <td>NaN</td>\n",
       "      <td>NaN</td>\n",
       "      <td>NaN</td>\n",
       "      <td>NaN</td>\n",
       "      <td>NaN</td>\n",
       "      <td>NaN</td>\n",
       "      <td>39.17</td>\n",
       "      <td>166.43</td>\n",
       "      <td>205.38</td>\n",
       "      <td>184.31</td>\n",
       "      <td>...</td>\n",
       "      <td>75.99</td>\n",
       "      <td>53.90</td>\n",
       "      <td>26.40</td>\n",
       "      <td>5.64</td>\n",
       "      <td>0.45</td>\n",
       "      <td>NaN</td>\n",
       "      <td>NaN</td>\n",
       "      <td>NaN</td>\n",
       "      <td>NaN</td>\n",
       "      <td>NaN</td>\n",
       "    </tr>\n",
       "    <tr>\n",
       "      <th>ps3</th>\n",
       "      <td>NaN</td>\n",
       "      <td>NaN</td>\n",
       "      <td>NaN</td>\n",
       "      <td>NaN</td>\n",
       "      <td>NaN</td>\n",
       "      <td>NaN</td>\n",
       "      <td>NaN</td>\n",
       "      <td>NaN</td>\n",
       "      <td>NaN</td>\n",
       "      <td>NaN</td>\n",
       "      <td>...</td>\n",
       "      <td>73.19</td>\n",
       "      <td>118.52</td>\n",
       "      <td>130.93</td>\n",
       "      <td>142.17</td>\n",
       "      <td>165.09</td>\n",
       "      <td>107.36</td>\n",
       "      <td>113.25</td>\n",
       "      <td>47.76</td>\n",
       "      <td>16.82</td>\n",
       "      <td>3.60</td>\n",
       "    </tr>\n",
       "    <tr>\n",
       "      <th>ps4</th>\n",
       "      <td>NaN</td>\n",
       "      <td>NaN</td>\n",
       "      <td>NaN</td>\n",
       "      <td>NaN</td>\n",
       "      <td>NaN</td>\n",
       "      <td>NaN</td>\n",
       "      <td>NaN</td>\n",
       "      <td>NaN</td>\n",
       "      <td>NaN</td>\n",
       "      <td>NaN</td>\n",
       "      <td>...</td>\n",
       "      <td>NaN</td>\n",
       "      <td>NaN</td>\n",
       "      <td>NaN</td>\n",
       "      <td>NaN</td>\n",
       "      <td>NaN</td>\n",
       "      <td>NaN</td>\n",
       "      <td>25.99</td>\n",
       "      <td>100.00</td>\n",
       "      <td>118.90</td>\n",
       "      <td>69.25</td>\n",
       "    </tr>\n",
       "    <tr>\n",
       "      <th>psp</th>\n",
       "      <td>NaN</td>\n",
       "      <td>NaN</td>\n",
       "      <td>NaN</td>\n",
       "      <td>NaN</td>\n",
       "      <td>NaN</td>\n",
       "      <td>NaN</td>\n",
       "      <td>NaN</td>\n",
       "      <td>NaN</td>\n",
       "      <td>NaN</td>\n",
       "      <td>NaN</td>\n",
       "      <td>...</td>\n",
       "      <td>46.93</td>\n",
       "      <td>34.55</td>\n",
       "      <td>42.30</td>\n",
       "      <td>35.04</td>\n",
       "      <td>17.82</td>\n",
       "      <td>7.69</td>\n",
       "      <td>3.14</td>\n",
       "      <td>0.24</td>\n",
       "      <td>0.12</td>\n",
       "      <td>NaN</td>\n",
       "    </tr>\n",
       "    <tr>\n",
       "      <th>psv</th>\n",
       "      <td>NaN</td>\n",
       "      <td>NaN</td>\n",
       "      <td>NaN</td>\n",
       "      <td>NaN</td>\n",
       "      <td>NaN</td>\n",
       "      <td>NaN</td>\n",
       "      <td>NaN</td>\n",
       "      <td>NaN</td>\n",
       "      <td>NaN</td>\n",
       "      <td>NaN</td>\n",
       "      <td>...</td>\n",
       "      <td>NaN</td>\n",
       "      <td>NaN</td>\n",
       "      <td>NaN</td>\n",
       "      <td>NaN</td>\n",
       "      <td>4.63</td>\n",
       "      <td>16.19</td>\n",
       "      <td>10.59</td>\n",
       "      <td>12.16</td>\n",
       "      <td>6.25</td>\n",
       "      <td>4.25</td>\n",
       "    </tr>\n",
       "    <tr>\n",
       "      <th>sat</th>\n",
       "      <td>3.65</td>\n",
       "      <td>11.57</td>\n",
       "      <td>7.69</td>\n",
       "      <td>6.77</td>\n",
       "      <td>3.82</td>\n",
       "      <td>0.09</td>\n",
       "      <td>NaN</td>\n",
       "      <td>NaN</td>\n",
       "      <td>NaN</td>\n",
       "      <td>NaN</td>\n",
       "      <td>...</td>\n",
       "      <td>NaN</td>\n",
       "      <td>NaN</td>\n",
       "      <td>NaN</td>\n",
       "      <td>NaN</td>\n",
       "      <td>NaN</td>\n",
       "      <td>NaN</td>\n",
       "      <td>NaN</td>\n",
       "      <td>NaN</td>\n",
       "      <td>NaN</td>\n",
       "      <td>NaN</td>\n",
       "    </tr>\n",
       "    <tr>\n",
       "      <th>scd</th>\n",
       "      <td>0.36</td>\n",
       "      <td>NaN</td>\n",
       "      <td>NaN</td>\n",
       "      <td>NaN</td>\n",
       "      <td>NaN</td>\n",
       "      <td>NaN</td>\n",
       "      <td>NaN</td>\n",
       "      <td>NaN</td>\n",
       "      <td>NaN</td>\n",
       "      <td>NaN</td>\n",
       "      <td>...</td>\n",
       "      <td>NaN</td>\n",
       "      <td>NaN</td>\n",
       "      <td>NaN</td>\n",
       "      <td>NaN</td>\n",
       "      <td>NaN</td>\n",
       "      <td>NaN</td>\n",
       "      <td>NaN</td>\n",
       "      <td>NaN</td>\n",
       "      <td>NaN</td>\n",
       "      <td>NaN</td>\n",
       "    </tr>\n",
       "    <tr>\n",
       "      <th>snes</th>\n",
       "      <td>35.08</td>\n",
       "      <td>32.20</td>\n",
       "      <td>15.92</td>\n",
       "      <td>0.99</td>\n",
       "      <td>0.22</td>\n",
       "      <td>0.26</td>\n",
       "      <td>NaN</td>\n",
       "      <td>NaN</td>\n",
       "      <td>NaN</td>\n",
       "      <td>NaN</td>\n",
       "      <td>...</td>\n",
       "      <td>NaN</td>\n",
       "      <td>NaN</td>\n",
       "      <td>NaN</td>\n",
       "      <td>NaN</td>\n",
       "      <td>NaN</td>\n",
       "      <td>NaN</td>\n",
       "      <td>NaN</td>\n",
       "      <td>NaN</td>\n",
       "      <td>NaN</td>\n",
       "      <td>NaN</td>\n",
       "    </tr>\n",
       "    <tr>\n",
       "      <th>tg16</th>\n",
       "      <td>NaN</td>\n",
       "      <td>0.16</td>\n",
       "      <td>NaN</td>\n",
       "      <td>NaN</td>\n",
       "      <td>NaN</td>\n",
       "      <td>NaN</td>\n",
       "      <td>NaN</td>\n",
       "      <td>NaN</td>\n",
       "      <td>NaN</td>\n",
       "      <td>NaN</td>\n",
       "      <td>...</td>\n",
       "      <td>NaN</td>\n",
       "      <td>NaN</td>\n",
       "      <td>NaN</td>\n",
       "      <td>NaN</td>\n",
       "      <td>NaN</td>\n",
       "      <td>NaN</td>\n",
       "      <td>NaN</td>\n",
       "      <td>NaN</td>\n",
       "      <td>NaN</td>\n",
       "      <td>NaN</td>\n",
       "    </tr>\n",
       "    <tr>\n",
       "      <th>wii</th>\n",
       "      <td>NaN</td>\n",
       "      <td>NaN</td>\n",
       "      <td>NaN</td>\n",
       "      <td>NaN</td>\n",
       "      <td>NaN</td>\n",
       "      <td>NaN</td>\n",
       "      <td>NaN</td>\n",
       "      <td>NaN</td>\n",
       "      <td>NaN</td>\n",
       "      <td>NaN</td>\n",
       "      <td>...</td>\n",
       "      <td>152.77</td>\n",
       "      <td>171.32</td>\n",
       "      <td>223.30</td>\n",
       "      <td>127.95</td>\n",
       "      <td>59.65</td>\n",
       "      <td>21.71</td>\n",
       "      <td>8.59</td>\n",
       "      <td>3.75</td>\n",
       "      <td>1.14</td>\n",
       "      <td>0.18</td>\n",
       "    </tr>\n",
       "    <tr>\n",
       "      <th>wiiu</th>\n",
       "      <td>NaN</td>\n",
       "      <td>NaN</td>\n",
       "      <td>NaN</td>\n",
       "      <td>NaN</td>\n",
       "      <td>NaN</td>\n",
       "      <td>NaN</td>\n",
       "      <td>NaN</td>\n",
       "      <td>NaN</td>\n",
       "      <td>NaN</td>\n",
       "      <td>NaN</td>\n",
       "      <td>...</td>\n",
       "      <td>NaN</td>\n",
       "      <td>NaN</td>\n",
       "      <td>NaN</td>\n",
       "      <td>NaN</td>\n",
       "      <td>NaN</td>\n",
       "      <td>17.56</td>\n",
       "      <td>21.65</td>\n",
       "      <td>22.03</td>\n",
       "      <td>16.35</td>\n",
       "      <td>4.60</td>\n",
       "    </tr>\n",
       "    <tr>\n",
       "      <th>ws</th>\n",
       "      <td>NaN</td>\n",
       "      <td>NaN</td>\n",
       "      <td>NaN</td>\n",
       "      <td>NaN</td>\n",
       "      <td>NaN</td>\n",
       "      <td>0.46</td>\n",
       "      <td>0.68</td>\n",
       "      <td>0.28</td>\n",
       "      <td>NaN</td>\n",
       "      <td>NaN</td>\n",
       "      <td>...</td>\n",
       "      <td>NaN</td>\n",
       "      <td>NaN</td>\n",
       "      <td>NaN</td>\n",
       "      <td>NaN</td>\n",
       "      <td>NaN</td>\n",
       "      <td>NaN</td>\n",
       "      <td>NaN</td>\n",
       "      <td>NaN</td>\n",
       "      <td>NaN</td>\n",
       "      <td>NaN</td>\n",
       "    </tr>\n",
       "    <tr>\n",
       "      <th>x360</th>\n",
       "      <td>NaN</td>\n",
       "      <td>NaN</td>\n",
       "      <td>NaN</td>\n",
       "      <td>NaN</td>\n",
       "      <td>NaN</td>\n",
       "      <td>NaN</td>\n",
       "      <td>NaN</td>\n",
       "      <td>NaN</td>\n",
       "      <td>NaN</td>\n",
       "      <td>NaN</td>\n",
       "      <td>...</td>\n",
       "      <td>95.41</td>\n",
       "      <td>135.26</td>\n",
       "      <td>120.29</td>\n",
       "      <td>180.21</td>\n",
       "      <td>143.84</td>\n",
       "      <td>99.74</td>\n",
       "      <td>88.58</td>\n",
       "      <td>34.74</td>\n",
       "      <td>11.96</td>\n",
       "      <td>1.52</td>\n",
       "    </tr>\n",
       "    <tr>\n",
       "      <th>xb</th>\n",
       "      <td>NaN</td>\n",
       "      <td>NaN</td>\n",
       "      <td>NaN</td>\n",
       "      <td>NaN</td>\n",
       "      <td>NaN</td>\n",
       "      <td>NaN</td>\n",
       "      <td>0.99</td>\n",
       "      <td>22.26</td>\n",
       "      <td>48.01</td>\n",
       "      <td>55.04</td>\n",
       "      <td>...</td>\n",
       "      <td>0.55</td>\n",
       "      <td>0.18</td>\n",
       "      <td>NaN</td>\n",
       "      <td>NaN</td>\n",
       "      <td>NaN</td>\n",
       "      <td>NaN</td>\n",
       "      <td>NaN</td>\n",
       "      <td>NaN</td>\n",
       "      <td>NaN</td>\n",
       "      <td>NaN</td>\n",
       "    </tr>\n",
       "    <tr>\n",
       "      <th>xone</th>\n",
       "      <td>NaN</td>\n",
       "      <td>NaN</td>\n",
       "      <td>NaN</td>\n",
       "      <td>NaN</td>\n",
       "      <td>NaN</td>\n",
       "      <td>NaN</td>\n",
       "      <td>NaN</td>\n",
       "      <td>NaN</td>\n",
       "      <td>NaN</td>\n",
       "      <td>NaN</td>\n",
       "      <td>...</td>\n",
       "      <td>NaN</td>\n",
       "      <td>NaN</td>\n",
       "      <td>NaN</td>\n",
       "      <td>NaN</td>\n",
       "      <td>NaN</td>\n",
       "      <td>NaN</td>\n",
       "      <td>18.96</td>\n",
       "      <td>54.07</td>\n",
       "      <td>60.14</td>\n",
       "      <td>26.15</td>\n",
       "    </tr>\n",
       "  </tbody>\n",
       "</table>\n",
       "<p>29 rows × 23 columns</p>\n",
       "</div>"
      ],
      "text/plain": [
       "year_of_release   1994   1995   1996    1997    1998    1999   2000    2001  \\\n",
       "platform                                                                      \n",
       "3do               0.02   0.08    NaN     NaN     NaN     NaN    NaN     NaN   \n",
       "3ds                NaN    NaN    NaN     NaN     NaN     NaN    NaN     NaN   \n",
       "dc                 NaN    NaN    NaN     NaN    3.38    5.16   5.99    1.07   \n",
       "ds                 NaN    NaN    NaN     NaN     NaN     NaN    NaN     NaN   \n",
       "gb               12.18   3.60  36.03    7.40   26.90   38.00  19.76    9.24   \n",
       "gba                NaN    NaN    NaN     NaN     NaN     NaN   0.07   61.53   \n",
       "gc                 NaN    NaN    NaN     NaN     NaN     NaN    NaN   26.34   \n",
       "gen               8.13    NaN    NaN     NaN     NaN     NaN    NaN     NaN   \n",
       "n64                NaN    NaN  34.10   39.50   49.24   58.54  33.97    3.25   \n",
       "nes               0.11    NaN    NaN     NaN     NaN     NaN    NaN     NaN   \n",
       "ng                0.80   0.33   0.10     NaN     NaN     NaN    NaN     NaN   \n",
       "pc               12.87   4.22  10.58   11.27    3.26    4.74   4.66    5.47   \n",
       "pcfx               NaN    NaN   0.03     NaN     NaN     NaN    NaN     NaN   \n",
       "ps                6.03  35.96  94.70  136.17  172.77  144.53  96.37   35.59   \n",
       "ps2                NaN    NaN    NaN     NaN     NaN     NaN  39.17  166.43   \n",
       "ps3                NaN    NaN    NaN     NaN     NaN     NaN    NaN     NaN   \n",
       "ps4                NaN    NaN    NaN     NaN     NaN     NaN    NaN     NaN   \n",
       "psp                NaN    NaN    NaN     NaN     NaN     NaN    NaN     NaN   \n",
       "psv                NaN    NaN    NaN     NaN     NaN     NaN    NaN     NaN   \n",
       "sat               3.65  11.57   7.69    6.77    3.82    0.09    NaN     NaN   \n",
       "scd               0.36    NaN    NaN     NaN     NaN     NaN    NaN     NaN   \n",
       "snes             35.08  32.20  15.92    0.99    0.22    0.26    NaN     NaN   \n",
       "tg16               NaN   0.16    NaN     NaN     NaN     NaN    NaN     NaN   \n",
       "wii                NaN    NaN    NaN     NaN     NaN     NaN    NaN     NaN   \n",
       "wiiu               NaN    NaN    NaN     NaN     NaN     NaN    NaN     NaN   \n",
       "ws                 NaN    NaN    NaN     NaN     NaN    0.46   0.68    0.28   \n",
       "x360               NaN    NaN    NaN     NaN     NaN     NaN    NaN     NaN   \n",
       "xb                 NaN    NaN    NaN     NaN     NaN     NaN   0.99   22.26   \n",
       "xone               NaN    NaN    NaN     NaN     NaN     NaN    NaN     NaN   \n",
       "\n",
       "year_of_release    2002    2003  ...    2007    2008    2009    2010    2011  \\\n",
       "platform                         ...                                           \n",
       "3do                 NaN     NaN  ...     NaN     NaN     NaN     NaN     NaN   \n",
       "3ds                 NaN     NaN  ...     NaN     NaN     NaN     NaN   63.20   \n",
       "dc                 0.29     NaN  ...    0.02    0.04     NaN     NaN     NaN   \n",
       "ds                  NaN     NaN  ...  146.94  148.65  119.54   85.02   26.18   \n",
       "gb                  NaN     NaN  ...     NaN     NaN     NaN     NaN     NaN   \n",
       "gba               74.16   61.64  ...    3.40     NaN     NaN     NaN     NaN   \n",
       "gc                51.81   52.81  ...    0.27     NaN     NaN     NaN     NaN   \n",
       "gen                 NaN     NaN  ...     NaN     NaN     NaN     NaN     NaN   \n",
       "n64                0.08     NaN  ...     NaN     NaN     NaN     NaN     NaN   \n",
       "nes                 NaN     NaN  ...     NaN     NaN     NaN     NaN     NaN   \n",
       "ng                  NaN     NaN  ...     NaN     NaN     NaN     NaN     NaN   \n",
       "pc                 8.57    8.84  ...    9.28   12.42   16.91   28.04   35.03   \n",
       "pcfx                NaN     NaN  ...     NaN     NaN     NaN     NaN     NaN   \n",
       "ps                 6.67    2.07  ...     NaN     NaN     NaN     NaN     NaN   \n",
       "ps2              205.38  184.31  ...   75.99   53.90   26.40    5.64    0.45   \n",
       "ps3                 NaN     NaN  ...   73.19  118.52  130.93  142.17  165.09   \n",
       "ps4                 NaN     NaN  ...     NaN     NaN     NaN     NaN     NaN   \n",
       "psp                 NaN     NaN  ...   46.93   34.55   42.30   35.04   17.82   \n",
       "psv                 NaN     NaN  ...     NaN     NaN     NaN     NaN    4.63   \n",
       "sat                 NaN     NaN  ...     NaN     NaN     NaN     NaN     NaN   \n",
       "scd                 NaN     NaN  ...     NaN     NaN     NaN     NaN     NaN   \n",
       "snes                NaN     NaN  ...     NaN     NaN     NaN     NaN     NaN   \n",
       "tg16                NaN     NaN  ...     NaN     NaN     NaN     NaN     NaN   \n",
       "wii                 NaN     NaN  ...  152.77  171.32  223.30  127.95   59.65   \n",
       "wiiu                NaN     NaN  ...     NaN     NaN     NaN     NaN     NaN   \n",
       "ws                  NaN     NaN  ...     NaN     NaN     NaN     NaN     NaN   \n",
       "x360                NaN     NaN  ...   95.41  135.26  120.29  180.21  143.84   \n",
       "xb                48.01   55.04  ...    0.55    0.18     NaN     NaN     NaN   \n",
       "xone                NaN     NaN  ...     NaN     NaN     NaN     NaN     NaN   \n",
       "\n",
       "year_of_release    2012    2013    2014    2015   2016  \n",
       "platform                                                \n",
       "3do                 NaN     NaN     NaN     NaN    NaN  \n",
       "3ds               51.36   57.76   43.76   27.78  15.14  \n",
       "dc                  NaN     NaN     NaN     NaN    NaN  \n",
       "ds                11.01    1.54     NaN     NaN    NaN  \n",
       "gb                  NaN     NaN     NaN     NaN    NaN  \n",
       "gba                 NaN     NaN     NaN     NaN    NaN  \n",
       "gc                  NaN     NaN     NaN     NaN    NaN  \n",
       "gen                 NaN     NaN     NaN     NaN    NaN  \n",
       "n64                 NaN     NaN     NaN     NaN    NaN  \n",
       "nes                 NaN     NaN     NaN     NaN    NaN  \n",
       "ng                  NaN     NaN     NaN     NaN    NaN  \n",
       "pc                23.22   12.38   13.28    8.52   5.25  \n",
       "pcfx                NaN     NaN     NaN     NaN    NaN  \n",
       "ps                  NaN     NaN     NaN     NaN    NaN  \n",
       "ps2                 NaN     NaN     NaN     NaN    NaN  \n",
       "ps3              107.36  113.25   47.76   16.82   3.60  \n",
       "ps4                 NaN   25.99  100.00  118.90  69.25  \n",
       "psp                7.69    3.14    0.24    0.12    NaN  \n",
       "psv               16.19   10.59   12.16    6.25   4.25  \n",
       "sat                 NaN     NaN     NaN     NaN    NaN  \n",
       "scd                 NaN     NaN     NaN     NaN    NaN  \n",
       "snes                NaN     NaN     NaN     NaN    NaN  \n",
       "tg16                NaN     NaN     NaN     NaN    NaN  \n",
       "wii               21.71    8.59    3.75    1.14   0.18  \n",
       "wiiu              17.56   21.65   22.03   16.35   4.60  \n",
       "ws                  NaN     NaN     NaN     NaN    NaN  \n",
       "x360              99.74   88.58   34.74   11.96   1.52  \n",
       "xb                  NaN     NaN     NaN     NaN    NaN  \n",
       "xone                NaN   18.96   54.07   60.14  26.15  \n",
       "\n",
       "[29 rows x 23 columns]"
      ]
     },
     "execution_count": 24,
     "metadata": {},
     "output_type": "execute_result"
    }
   ],
   "source": [
    "#построим сводную таблицу и покажем наш топ-6\n",
    "data_top=data_after_1993.pivot_table(index='platform',columns='year_of_release',values='sum_sales',aggfunc='sum')\n",
    "data_top"
   ]
  },
  {
   "cell_type": "code",
   "execution_count": 25,
   "metadata": {
    "scrolled": true
   },
   "outputs": [
    {
     "data": {
      "image/png": "[encoded data removed]",
      "text/plain": [
       "<Figure size 1080x360 with 1 Axes>"
      ]
     },
     "metadata": {
      "needs_background": "light"
     },
     "output_type": "display_data"
    }
   ],
   "source": [
    "#построим график продаж по платформам топ\n",
    "for i in ['ps2','x360','ps3','wii','ds','ps']:\n",
    "    data_top.loc[i].plot(xlabel='года', ylabel='сумма продаж',grid=True,style='o-',figsize=(15,5), legend=True, title='распределение сумм продаж по года платформ топ')"
   ]
  },
  {
   "cell_type": "code",
   "execution_count": 26,
   "metadata": {},
   "outputs": [
    {
     "data": {
      "text/plain": [
       "platform\n",
       "ps2     12\n",
       "x360    12\n",
       "ps3     11\n",
       "wii     11\n",
       "ds      10\n",
       "ps      10\n",
       "dtype: int64"
      ]
     },
     "execution_count": 26,
     "metadata": {},
     "output_type": "execute_result"
    }
   ],
   "source": [
    "#посмотрим сколько лет выходили игры на популярных платформах\n",
    "data_after_1993.pivot_table(index='year_of_release',columns='platform',values='sum_sales',aggfunc='sum')\\\n",
    "[['ps2','x360','ps3','wii','ds','ps']].count()\n"
   ]
  },
  {
   "cell_type": "markdown",
   "metadata": {},
   "source": [
    "Вывод: с появлением ps количество игр и собственно продаж начало резко увеличиваться, после выхода второй версии, продажи на первую начали падать, а продажи ps2 начали рости. в промежутке с 2005 по 2011 года(больше всего вышло игр), появилось много конкурентов(x360, wii, ds), поэтому продажи начали падать, а так же вышла третья версия ps3. вывод, после выхода новой более современной платформы спрос на старые версии падает. средний срок существования консоли 11 лет. wii продажи в 2016 практически на нуле(0.18). x360 и ps3 у них вышли новые версии, выход новых игр в следующем году маловероятен "
   ]
  },
  {
   "cell_type": "markdown",
   "metadata": {},
   "source": [
    "### Составим прогноз за 2017 год"
   ]
  },
  {
   "cell_type": "markdown",
   "metadata": {},
   "source": [
    "возьмем последние 4 года и посмотрим график продаж по платформам"
   ]
  },
  {
   "cell_type": "code",
   "execution_count": 27,
   "metadata": {
    "scrolled": true
   },
   "outputs": [
    {
     "data": {
      "text/html": [
       "<div>\n",
       "<style scoped>\n",
       "    .dataframe tbody tr th:only-of-type {\n",
       "        vertical-align: middle;\n",
       "    }\n",
       "\n",
       "    .dataframe tbody tr th {\n",
       "        vertical-align: top;\n",
       "    }\n",
       "\n",
       "    .dataframe thead th {\n",
       "        text-align: right;\n",
       "    }\n",
       "</style>\n",
       "<table border=\"1\" class=\"dataframe\">\n",
       "  <thead>\n",
       "    <tr style=\"text-align: right;\">\n",
       "      <th>platform</th>\n",
       "      <th>3ds</th>\n",
       "      <th>pc</th>\n",
       "      <th>ps3</th>\n",
       "      <th>ps4</th>\n",
       "      <th>psv</th>\n",
       "      <th>wii</th>\n",
       "      <th>wiiu</th>\n",
       "      <th>x360</th>\n",
       "      <th>xone</th>\n",
       "    </tr>\n",
       "    <tr>\n",
       "      <th>year_of_release</th>\n",
       "      <th></th>\n",
       "      <th></th>\n",
       "      <th></th>\n",
       "      <th></th>\n",
       "      <th></th>\n",
       "      <th></th>\n",
       "      <th></th>\n",
       "      <th></th>\n",
       "      <th></th>\n",
       "    </tr>\n",
       "  </thead>\n",
       "  <tbody>\n",
       "    <tr>\n",
       "      <th>2013</th>\n",
       "      <td>57.76</td>\n",
       "      <td>12.38</td>\n",
       "      <td>113.25</td>\n",
       "      <td>25.99</td>\n",
       "      <td>10.59</td>\n",
       "      <td>8.59</td>\n",
       "      <td>21.65</td>\n",
       "      <td>88.58</td>\n",
       "      <td>18.96</td>\n",
       "    </tr>\n",
       "    <tr>\n",
       "      <th>2014</th>\n",
       "      <td>43.76</td>\n",
       "      <td>13.28</td>\n",
       "      <td>47.76</td>\n",
       "      <td>100.00</td>\n",
       "      <td>12.16</td>\n",
       "      <td>3.75</td>\n",
       "      <td>22.03</td>\n",
       "      <td>34.74</td>\n",
       "      <td>54.07</td>\n",
       "    </tr>\n",
       "    <tr>\n",
       "      <th>2015</th>\n",
       "      <td>27.78</td>\n",
       "      <td>8.52</td>\n",
       "      <td>16.82</td>\n",
       "      <td>118.90</td>\n",
       "      <td>6.25</td>\n",
       "      <td>1.14</td>\n",
       "      <td>16.35</td>\n",
       "      <td>11.96</td>\n",
       "      <td>60.14</td>\n",
       "    </tr>\n",
       "    <tr>\n",
       "      <th>2016</th>\n",
       "      <td>15.14</td>\n",
       "      <td>5.25</td>\n",
       "      <td>3.60</td>\n",
       "      <td>69.25</td>\n",
       "      <td>4.25</td>\n",
       "      <td>0.18</td>\n",
       "      <td>4.60</td>\n",
       "      <td>1.52</td>\n",
       "      <td>26.15</td>\n",
       "    </tr>\n",
       "  </tbody>\n",
       "</table>\n",
       "</div>"
      ],
      "text/plain": [
       "platform           3ds     pc     ps3     ps4    psv   wii   wiiu   x360  \\\n",
       "year_of_release                                                            \n",
       "2013             57.76  12.38  113.25   25.99  10.59  8.59  21.65  88.58   \n",
       "2014             43.76  13.28   47.76  100.00  12.16  3.75  22.03  34.74   \n",
       "2015             27.78   8.52   16.82  118.90   6.25  1.14  16.35  11.96   \n",
       "2016             15.14   5.25    3.60   69.25   4.25  0.18   4.60   1.52   \n",
       "\n",
       "platform          xone  \n",
       "year_of_release         \n",
       "2013             18.96  \n",
       "2014             54.07  \n",
       "2015             60.14  \n",
       "2016             26.15  "
      ]
     },
     "execution_count": 27,
     "metadata": {},
     "output_type": "execute_result"
    }
   ],
   "source": [
    "#сделаем выборку за последние 4 года\n",
    "data_2017=data.query('year_of_release>2012')\n",
    "#сделаем сводную таблицу\n",
    "data_2017_pivot=data_2017.pivot_table(index='year_of_release',columns='platform',values='sum_sales',aggfunc='sum')\n",
    "#через columns взяли столбцы и убрали те, в которых NaN в 2016 году. т.к. на них перестали выпускать игры\n",
    "data_2017_pivot[['3ds', 'pc', 'ps3', 'ps4', 'psv', 'wii', 'wiiu','x360', 'xone']]"
   ]
  },
  {
   "cell_type": "code",
   "execution_count": 28,
   "metadata": {
    "scrolled": true
   },
   "outputs": [
    {
     "data": {
      "image/png": "[encoded data removed]",
      "text/plain": [
       "<Figure size 1080x360 with 1 Axes>"
      ]
     },
     "metadata": {
      "needs_background": "light"
     },
     "output_type": "display_data"
    }
   ],
   "source": [
    "#построим график продаж по платформам для анализа\n",
    "data_2017_pivot[['3ds', 'pc', 'ps3', 'ps4', 'psv', 'wii', 'wiiu',\n",
    "       'x360', 'xone']].plot(xlabel='года', ylabel='сумма продаж',grid=True,style='o-',figsize=(15,5), legend=True, title='распределение сумм продаж с 2013 года');"
   ]
  },
  {
   "cell_type": "code",
   "execution_count": 29,
   "metadata": {},
   "outputs": [
    {
     "data": {
      "text/plain": [
       "platform\n",
       "ps4     4\n",
       "xone    4\n",
       "dtype: int64"
      ]
     },
     "execution_count": 29,
     "metadata": {},
     "output_type": "execute_result"
    }
   ],
   "source": [
    "data_2017.pivot_table(index='year_of_release',columns='platform',values='sum_sales',aggfunc='sum')\\\n",
    "[['ps4','xone']].count()"
   ]
  },
  {
   "cell_type": "markdown",
   "metadata": {},
   "source": [
    "Вывод: как по таблице, так и по графику видно, что продажи падают у всех платформ. на платформах ps4 и xone продажи выше чем у остальных, но в 2016 заметнее ниже, чем в 2015. из предыдущего графика мы выяснили, что срок жизни платформ в среднем 11 лет. на 2016 год платформы существуют меньше половины от среднего, и  что не все данные за 2016 год. думаю продажи платформ в 2017 будут не ниже уровня 2016 года в данный момент."
   ]
  },
  {
   "cell_type": "markdown",
   "metadata": {},
   "source": [
    "### Построим \"ящик с усами\" в разбивке по каждой платформе"
   ]
  },
  {
   "cell_type": "code",
   "execution_count": 30,
   "metadata": {},
   "outputs": [
    {
     "data": {
      "text/plain": [
       "(0.0, 2.0)"
      ]
     },
     "execution_count": 30,
     "metadata": {},
     "output_type": "execute_result"
    },
    {
     "data": {
      "image/png": "[encoded data removed]",
      "text/plain": [
       "<Figure size 1080x360 with 1 Axes>"
      ]
     },
     "metadata": {
      "needs_background": "light"
     },
     "output_type": "display_data"
    }
   ],
   "source": [
    "data_2017[['platform','sum_sales']].boxplot(by='platform',figsize=(15,5));\n",
    "plt.title('диаграмма размаха')\n",
    "plt.xlabel('платформы')\n",
    "plt.ylabel('продажи')\n",
    "plt.ylim(0,2)"
   ]
  },
  {
   "cell_type": "markdown",
   "metadata": {
    "scrolled": true
   },
   "source": [
    "Вывод: очень большое количество выбросов в каждой платформе. это говорит, что игр выходит очень много, а выбросы это игры,  которые покупаются в больших количествах.  медийное значение, говорит о покупке различних игр на той или иной платформе, т.е. чем выше медийное значение, тем больше различных игр покупают на этой платформе"
   ]
  },
  {
   "cell_type": "markdown",
   "metadata": {},
   "source": [
    "### Посмотрим на общее распределение игр по жанрам"
   ]
  },
  {
   "cell_type": "code",
   "execution_count": 31,
   "metadata": {
    "scrolled": true
   },
   "outputs": [
    {
     "data": {
      "text/html": [
       "<div>\n",
       "<style scoped>\n",
       "    .dataframe tbody tr th:only-of-type {\n",
       "        vertical-align: middle;\n",
       "    }\n",
       "\n",
       "    .dataframe tbody tr th {\n",
       "        vertical-align: top;\n",
       "    }\n",
       "\n",
       "    .dataframe thead th {\n",
       "        text-align: right;\n",
       "    }\n",
       "</style>\n",
       "<table border=\"1\" class=\"dataframe\">\n",
       "  <thead>\n",
       "    <tr style=\"text-align: right;\">\n",
       "      <th></th>\n",
       "      <th>sum</th>\n",
       "      <th>count</th>\n",
       "      <th>median</th>\n",
       "      <th>mean</th>\n",
       "    </tr>\n",
       "    <tr>\n",
       "      <th>genre</th>\n",
       "      <th></th>\n",
       "      <th></th>\n",
       "      <th></th>\n",
       "      <th></th>\n",
       "    </tr>\n",
       "  </thead>\n",
       "  <tbody>\n",
       "    <tr>\n",
       "      <th>action</th>\n",
       "      <td>322.27</td>\n",
       "      <td>767</td>\n",
       "      <td>0.110</td>\n",
       "      <td>0.420169</td>\n",
       "    </tr>\n",
       "    <tr>\n",
       "      <th>shooter</th>\n",
       "      <td>233.05</td>\n",
       "      <td>188</td>\n",
       "      <td>0.445</td>\n",
       "      <td>1.239628</td>\n",
       "    </tr>\n",
       "    <tr>\n",
       "      <th>sports</th>\n",
       "      <td>150.67</td>\n",
       "      <td>215</td>\n",
       "      <td>0.240</td>\n",
       "      <td>0.700791</td>\n",
       "    </tr>\n",
       "    <tr>\n",
       "      <th>role-playing</th>\n",
       "      <td>146.18</td>\n",
       "      <td>294</td>\n",
       "      <td>0.125</td>\n",
       "      <td>0.497211</td>\n",
       "    </tr>\n",
       "    <tr>\n",
       "      <th>misc</th>\n",
       "      <td>62.82</td>\n",
       "      <td>155</td>\n",
       "      <td>0.100</td>\n",
       "      <td>0.405290</td>\n",
       "    </tr>\n",
       "    <tr>\n",
       "      <th>platform</th>\n",
       "      <td>42.63</td>\n",
       "      <td>74</td>\n",
       "      <td>0.225</td>\n",
       "      <td>0.576081</td>\n",
       "    </tr>\n",
       "    <tr>\n",
       "      <th>racing</th>\n",
       "      <td>39.98</td>\n",
       "      <td>86</td>\n",
       "      <td>0.115</td>\n",
       "      <td>0.464884</td>\n",
       "    </tr>\n",
       "    <tr>\n",
       "      <th>fighting</th>\n",
       "      <td>35.31</td>\n",
       "      <td>80</td>\n",
       "      <td>0.125</td>\n",
       "      <td>0.441375</td>\n",
       "    </tr>\n",
       "    <tr>\n",
       "      <th>adventure</th>\n",
       "      <td>23.73</td>\n",
       "      <td>246</td>\n",
       "      <td>0.030</td>\n",
       "      <td>0.096463</td>\n",
       "    </tr>\n",
       "    <tr>\n",
       "      <th>simulation</th>\n",
       "      <td>22.25</td>\n",
       "      <td>64</td>\n",
       "      <td>0.105</td>\n",
       "      <td>0.347656</td>\n",
       "    </tr>\n",
       "    <tr>\n",
       "      <th>strategy</th>\n",
       "      <td>10.08</td>\n",
       "      <td>56</td>\n",
       "      <td>0.080</td>\n",
       "      <td>0.180000</td>\n",
       "    </tr>\n",
       "    <tr>\n",
       "      <th>puzzle</th>\n",
       "      <td>3.17</td>\n",
       "      <td>17</td>\n",
       "      <td>0.060</td>\n",
       "      <td>0.186471</td>\n",
       "    </tr>\n",
       "  </tbody>\n",
       "</table>\n",
       "</div>"
      ],
      "text/plain": [
       "                 sum  count  median      mean\n",
       "genre                                        \n",
       "action        322.27    767   0.110  0.420169\n",
       "shooter       233.05    188   0.445  1.239628\n",
       "sports        150.67    215   0.240  0.700791\n",
       "role-playing  146.18    294   0.125  0.497211\n",
       "misc           62.82    155   0.100  0.405290\n",
       "platform       42.63     74   0.225  0.576081\n",
       "racing         39.98     86   0.115  0.464884\n",
       "fighting       35.31     80   0.125  0.441375\n",
       "adventure      23.73    246   0.030  0.096463\n",
       "simulation     22.25     64   0.105  0.347656\n",
       "strategy       10.08     56   0.080  0.180000\n",
       "puzzle          3.17     17   0.060  0.186471"
      ]
     },
     "execution_count": 31,
     "metadata": {},
     "output_type": "execute_result"
    }
   ],
   "source": [
    "s1=data_2017.pivot_table(index='genre',values='sum_sales',aggfunc=['sum','count','median','mean'])#.sort_values(by='sum_sales',ascending=False)\n",
    "s1.columns=['sum','count','median','mean']\n",
    "s1.sort_values(by='sum',ascending=False)"
   ]
  },
  {
   "cell_type": "code",
   "execution_count": 32,
   "metadata": {},
   "outputs": [
    {
     "data": {
      "text/plain": [
       "(0.0, 3.5)"
      ]
     },
     "execution_count": 32,
     "metadata": {},
     "output_type": "execute_result"
    },
    {
     "data": {
      "image/png": "[encoded data removed]",
      "text/plain": [
       "<Figure size 1080x360 with 1 Axes>"
      ]
     },
     "metadata": {
      "needs_background": "light"
     },
     "output_type": "display_data"
    }
   ],
   "source": [
    "data_2017[['genre','sum_sales']].boxplot(by='genre',figsize=(15,5));\n",
    "plt.title('диаграмма размаха')\n",
    "plt.xlabel('жанры')\n",
    "plt.ylabel('продажи')\n",
    "plt.ylim(0,3.5)"
   ]
  },
  {
   "cell_type": "markdown",
   "metadata": {},
   "source": [
    "Вывод: 3 самых покупаемых жанра **action**, **shooter**, **sport**. если мы посмотрим на таблицу и boxplot, то можно увидеть:  **action** есть выбросы, но квантили и медийное значение маленькое, это значит, что игр выходит очень много с этим жанром, но большинство из них имеют низкие продажи. **shooter** квантили и медийное значение самое высокое, различные игр с этим жанром пользуются спросом у покупателей.  **sport** квантили и медиана меньше, чем у shooter, но выше чем у action и так же пользуются спросом\n"
   ]
  },
  {
   "cell_type": "markdown",
   "metadata": {},
   "source": [
    "### Посмотрим, как продажи самой популярной платформы влияют от отзывов критиков и пользователей"
   ]
  },
  {
   "cell_type": "code",
   "execution_count": 33,
   "metadata": {
    "scrolled": false
   },
   "outputs": [
    {
     "data": {
      "text/html": [
       "<div>\n",
       "<style scoped>\n",
       "    .dataframe tbody tr th:only-of-type {\n",
       "        vertical-align: middle;\n",
       "    }\n",
       "\n",
       "    .dataframe tbody tr th {\n",
       "        vertical-align: top;\n",
       "    }\n",
       "\n",
       "    .dataframe thead th {\n",
       "        text-align: right;\n",
       "    }\n",
       "</style>\n",
       "<table border=\"1\" class=\"dataframe\">\n",
       "  <thead>\n",
       "    <tr style=\"text-align: right;\">\n",
       "      <th></th>\n",
       "      <th>sum_sales</th>\n",
       "    </tr>\n",
       "    <tr>\n",
       "      <th>platform</th>\n",
       "      <th></th>\n",
       "    </tr>\n",
       "  </thead>\n",
       "  <tbody>\n",
       "    <tr>\n",
       "      <th>ps4</th>\n",
       "      <td>314.14</td>\n",
       "    </tr>\n",
       "    <tr>\n",
       "      <th>ps3</th>\n",
       "      <td>181.43</td>\n",
       "    </tr>\n",
       "    <tr>\n",
       "      <th>xone</th>\n",
       "      <td>159.32</td>\n",
       "    </tr>\n",
       "    <tr>\n",
       "      <th>3ds</th>\n",
       "      <td>144.44</td>\n",
       "    </tr>\n",
       "    <tr>\n",
       "      <th>x360</th>\n",
       "      <td>136.80</td>\n",
       "    </tr>\n",
       "  </tbody>\n",
       "</table>\n",
       "</div>"
      ],
      "text/plain": [
       "          sum_sales\n",
       "platform           \n",
       "ps4          314.14\n",
       "ps3          181.43\n",
       "xone         159.32\n",
       "3ds          144.44\n",
       "x360         136.80"
      ]
     },
     "execution_count": 33,
     "metadata": {},
     "output_type": "execute_result"
    }
   ],
   "source": [
    "#найдем платформу на которую было продано больше всего игр\n",
    "data_2017.pivot_table(index='platform', values='sum_sales',aggfunc='sum').sort_values(by='sum_sales',ascending=False).head(5)"
   ]
  },
  {
   "cell_type": "code",
   "execution_count": 34,
   "metadata": {
    "scrolled": false
   },
   "outputs": [
    {
     "data": {
      "image/png": "[encoded data removed]",
      "text/plain": [
       "<Figure size 720x432 with 1 Axes>"
      ]
     },
     "metadata": {
      "needs_background": "light"
     },
     "output_type": "display_data"
    },
    {
     "data": {
      "image/png": "[encoded data removed]",
      "text/plain": [
       "<Figure size 720x432 with 1 Axes>"
      ]
     },
     "metadata": {
      "needs_background": "light"
     },
     "output_type": "display_data"
    },
    {
     "data": {
      "image/png": "[encoded data removed]",
      "text/plain": [
       "<Figure size 720x432 with 1 Axes>"
      ]
     },
     "metadata": {
      "needs_background": "light"
     },
     "output_type": "display_data"
    },
    {
     "data": {
      "image/png": "[encoded data removed]",
      "text/plain": [
       "<Figure size 720x432 with 1 Axes>"
      ]
     },
     "metadata": {
      "needs_background": "light"
     },
     "output_type": "display_data"
    },
    {
     "data": {
      "image/png": "[encoded data removed]",
      "text/plain": [
       "<Figure size 720x432 with 1 Axes>"
      ]
     },
     "metadata": {
      "needs_background": "light"
     },
     "output_type": "display_data"
    }
   ],
   "source": [
    "#график рассеяния критиков от продаж \n",
    "data_2017.query('platform==\"ps4\"').plot(kind='scatter', x='critic_score', y='sum_sales',figsize=(10,6), title='зависимость рейтинга критиков от суммы продаж platform==\"ps4\"');\n",
    "data_2017.query('platform==\"xone\"').plot(kind='scatter', x='critic_score', y='sum_sales',figsize=(10,6), title='зависимость рейтинга критиков от суммы продаж platform==\"xone\"');\n",
    "data_2017.query('platform==\"ps3\"').plot(kind='scatter', x='critic_score', y='sum_sales',figsize=(10,6), title='зависимость рейтинга критиков от суммы продаж platform==\"ps3\"');\n",
    "data_2017.query('platform==\"3ds\"').plot(kind='scatter', x='critic_score', y='sum_sales',figsize=(10,6), title='зависимость рейтинга критиков от суммы продаж platform==\"3ds\"');\n",
    "data_2017.query('platform==\"x360\"').plot(kind='scatter', x='critic_score', y='sum_sales',figsize=(10,6), title='зависимость рейтинга критиков от суммы продаж platform==\"x360\"');\n"
   ]
  },
  {
   "cell_type": "code",
   "execution_count": 35,
   "metadata": {
    "scrolled": true
   },
   "outputs": [
    {
     "data": {
      "text/plain": [
       "0.40656790206178095"
      ]
     },
     "execution_count": 35,
     "metadata": {},
     "output_type": "execute_result"
    }
   ],
   "source": [
    "#корреляция критиков от продаж platform==\"ps4\"\n",
    "data_2017.query('platform==\"ps4\"')['critic_score'].corr(data_2017.query('platform==\"ps4\"')['sum_sales'])"
   ]
  },
  {
   "cell_type": "code",
   "execution_count": 36,
   "metadata": {},
   "outputs": [
    {
     "data": {
      "text/plain": [
       "0.4169983280084017"
      ]
     },
     "execution_count": 36,
     "metadata": {},
     "output_type": "execute_result"
    }
   ],
   "source": [
    "#корреляция критиков от продаж platform==\"xone\"\n",
    "data_2017.query('platform==\"xone\"')['critic_score'].corr(data_2017.query('platform==\"xone\"')['sum_sales'])"
   ]
  },
  {
   "cell_type": "code",
   "execution_count": 37,
   "metadata": {},
   "outputs": [
    {
     "data": {
      "text/plain": [
       "0.3342853393371919"
      ]
     },
     "execution_count": 37,
     "metadata": {},
     "output_type": "execute_result"
    }
   ],
   "source": [
    "#корреляция критиков от продаж platform==\"ps3\"\n",
    "data_2017.query('platform==\"ps3\"')['critic_score'].corr(data_2017.query('platform==\"ps3\"')['sum_sales'])"
   ]
  },
  {
   "cell_type": "code",
   "execution_count": 38,
   "metadata": {},
   "outputs": [
    {
     "data": {
      "text/plain": [
       "0.3610077809590907"
      ]
     },
     "execution_count": 38,
     "metadata": {},
     "output_type": "execute_result"
    }
   ],
   "source": [
    "#корреляция критиков от продаж platform==\"3ds\"\n",
    "data_2017.query('platform==\"3ds\"')['critic_score'].corr(data_2017.query('platform==\"3ds\"')['sum_sales'])"
   ]
  },
  {
   "cell_type": "code",
   "execution_count": 39,
   "metadata": {},
   "outputs": [
    {
     "data": {
      "text/plain": [
       "0.3503445460228664"
      ]
     },
     "execution_count": 39,
     "metadata": {},
     "output_type": "execute_result"
    }
   ],
   "source": [
    "#корреляция критиков от продаж platform==\"x360\"\n",
    "data_2017.query('platform==\"x360\"')['critic_score'].corr(data_2017.query('platform==\"x360\"')['sum_sales'])"
   ]
  },
  {
   "cell_type": "markdown",
   "metadata": {},
   "source": [
    "TBD это игр, рейтин которых еще не известен,\n",
    "либо вышел только анонс игры \n",
    "либо если у них готовится к релизу какое-либо дополнение, однако пока не известно, когда именно оно будет выпущен.\n",
    "в теории это тот же самый NaN"
   ]
  },
  {
   "cell_type": "code",
   "execution_count": 40,
   "metadata": {
    "scrolled": false
   },
   "outputs": [],
   "source": [
    "#исключим tbd и пропуски(не нужны при проверки гипотез) для изменения типа данных на float и проверки корреляции\n",
    "data_user=data_2017.query('user_score!=\"tbd\"')\n",
    "data_user=data_user.dropna(subset=['user_score'])\n",
    "data_user['user_score']=pd.to_numeric(data_user['user_score'],errors='ignore')"
   ]
  },
  {
   "cell_type": "code",
   "execution_count": 41,
   "metadata": {
    "scrolled": true
   },
   "outputs": [
    {
     "data": {
      "image/png": "[encoded data removed]",
      "text/plain": [
       "<Figure size 720x432 with 1 Axes>"
      ]
     },
     "metadata": {
      "needs_background": "light"
     },
     "output_type": "display_data"
    },
    {
     "data": {
      "image/png": "[encoded data removed]",
      "text/plain": [
       "<Figure size 720x432 with 1 Axes>"
      ]
     },
     "metadata": {
      "needs_background": "light"
     },
     "output_type": "display_data"
    },
    {
     "data": {
      "image/png": "[encoded data removed]",
      "text/plain": [
       "<Figure size 720x432 with 1 Axes>"
      ]
     },
     "metadata": {
      "needs_background": "light"
     },
     "output_type": "display_data"
    },
    {
     "data": {
      "image/png": "[encoded data removed]",
      "text/plain": [
       "<Figure size 720x432 with 1 Axes>"
      ]
     },
     "metadata": {
      "needs_background": "light"
     },
     "output_type": "display_data"
    },
    {
     "data": {
      "image/png": "[encoded data removed]",
      "text/plain": [
       "<Figure size 720x432 with 1 Axes>"
      ]
     },
     "metadata": {
      "needs_background": "light"
     },
     "output_type": "display_data"
    }
   ],
   "source": [
    "#график рассеяния критиков от продаж \n",
    "data_user.query('platform==\"ps4\"').plot(kind='scatter', x='user_score', y='sum_sales',figsize=(10,6), title='зависимость рейтинга пользователей от суммы продаж platform==\"ps4\"');\n",
    "data_user.query('platform==\"xone\"').plot(kind='scatter', x='user_score', y='sum_sales',figsize=(10,6), title='зависимость рейтинга пользователей от суммы продаж platform==\"xone\"');\n",
    "data_user.query('platform==\"ps3\"').plot(kind='scatter', x='user_score', y='sum_sales',figsize=(10,6), title='зависимость рейтинга пользователей от суммы продаж platform==\"ps3\"');\n",
    "data_user.query('platform==\"3ds\"').plot(kind='scatter', x='user_score', y='sum_sales',figsize=(10,6), title='зависимость рейтинга пользователей от суммы продаж platform==\"3ds\"');\n",
    "data_user.query('platform==\"x360\"').plot(kind='scatter', x='user_score', y='sum_sales',figsize=(10,6), title='зависимость рейтинга пользователей от суммы продаж platform==\"x360\"');"
   ]
  },
  {
   "cell_type": "code",
   "execution_count": 42,
   "metadata": {},
   "outputs": [
    {
     "data": {
      "text/plain": [
       "-0.031957110204556376"
      ]
     },
     "execution_count": 42,
     "metadata": {},
     "output_type": "execute_result"
    }
   ],
   "source": [
    "#корреляция пользователей от продаж platform==\"ps4\"\n",
    "data_user.query('platform==\"ps4\"')['user_score'].corr(data_user.query('platform==\"ps4\"')['sum_sales'])"
   ]
  },
  {
   "cell_type": "code",
   "execution_count": 43,
   "metadata": {},
   "outputs": [
    {
     "data": {
      "text/plain": [
       "-0.06892505328279414"
      ]
     },
     "execution_count": 43,
     "metadata": {},
     "output_type": "execute_result"
    }
   ],
   "source": [
    "#корреляция пользователей от продаж platform==\"xone\"\n",
    "data_user.query('platform==\"xone\"')['user_score'].corr(data_user.query('platform==\"xone\"')['sum_sales'])"
   ]
  },
  {
   "cell_type": "code",
   "execution_count": 44,
   "metadata": {},
   "outputs": [
    {
     "data": {
      "text/plain": [
       "0.0023944027357566925"
      ]
     },
     "execution_count": 44,
     "metadata": {},
     "output_type": "execute_result"
    }
   ],
   "source": [
    "#корреляция пользователей от продаж platform==\"ps3\"\n",
    "data_user.query('platform==\"ps3\"')['user_score'].corr(data_user.query('platform==\"ps3\"')['sum_sales'])"
   ]
  },
  {
   "cell_type": "code",
   "execution_count": 45,
   "metadata": {},
   "outputs": [
    {
     "data": {
      "text/plain": [
       "0.2503662158651731"
      ]
     },
     "execution_count": 45,
     "metadata": {},
     "output_type": "execute_result"
    }
   ],
   "source": [
    "#корреляция пользователей от продаж platform==\"3ds\"\n",
    "data_user.query('platform==\"3ds\"')['user_score'].corr(data_user.query('platform==\"3ds\"')['sum_sales'])"
   ]
  },
  {
   "cell_type": "code",
   "execution_count": 46,
   "metadata": {},
   "outputs": [
    {
     "data": {
      "text/plain": [
       "-0.011742185147181342"
      ]
     },
     "execution_count": 46,
     "metadata": {},
     "output_type": "execute_result"
    }
   ],
   "source": [
    "#корреляция пользователей от продаж platform==\"x360\"\n",
    "data_user.query('platform==\"x360\"')['user_score'].corr(data_user.query('platform==\"x360\"')['sum_sales'])"
   ]
  },
  {
   "cell_type": "markdown",
   "metadata": {},
   "source": [
    "Вывод: по графику и корреляции критиков от сумм продаж видна зависимомть покупки игр от оценки критиков, больше всего корреляция на новых платформах  ps4 и xone. по графику и корреляции пользователей от сумм продаж зависимости покупки игр от оценки пользователей НЕТ"
   ]
  },
  {
   "cell_type": "markdown",
   "metadata": {},
   "source": [
    "### Составим портрет пользователя каждого региона.найдем самые популярные платформы и жанры(топ-5). проверим влияет ли рейтинг ESRB на продажи "
   ]
  },
  {
   "cell_type": "code",
   "execution_count": 47,
   "metadata": {
    "scrolled": false
   },
   "outputs": [
    {
     "data": {
      "image/png": "[encoded data removed]",
      "text/plain": [
       "<Figure size 1080x360 with 1 Axes>"
      ]
     },
     "metadata": {
      "needs_background": "light"
     },
     "output_type": "display_data"
    },
    {
     "data": {
      "image/png": "[encoded data removed]",
      "text/plain": [
       "<Figure size 1080x360 with 1 Axes>"
      ]
     },
     "metadata": {
      "needs_background": "light"
     },
     "output_type": "display_data"
    },
    {
     "data": {
      "image/png": "[encoded data removed]",
      "text/plain": [
       "<Figure size 1080x360 with 1 Axes>"
      ]
     },
     "metadata": {
      "needs_background": "light"
     },
     "output_type": "display_data"
    }
   ],
   "source": [
    "data_2017.pivot_table(index='genre',values='na_sales',aggfunc='sum').sort_values(by='na_sales',ascending=False).head(5).plot(kind='bar',figsize=(15,5),grid=True,title='5 самых популярных жанров NA')\n",
    "plt.xlabel('жанры')\n",
    "plt.ylabel('продажи')\n",
    "data_2017.pivot_table(index='genre',values='eu_sales',aggfunc='sum').sort_values(by='eu_sales',ascending=False).head(5).plot(kind='bar',figsize=(15,5),grid=True,title='5 самых популярных жанров EU')\n",
    "plt.xlabel('жанры')\n",
    "plt.ylabel('продажи')\n",
    "data_2017.pivot_table(index='genre',values='jp_sales',aggfunc='sum').sort_values(by='jp_sales',ascending=False).head(5).plot(kind='bar',figsize=(15,5),grid=True,title='5 самых популярных жанров JP')\n",
    "plt.xlabel('жанры')\n",
    "plt.ylabel('продажи')\n",
    "plt.show()"
   ]
  },
  {
   "cell_type": "code",
   "execution_count": 48,
   "metadata": {},
   "outputs": [
    {
     "data": {
      "image/png": "[encoded data removed]",
      "text/plain": [
       "<Figure size 1080x360 with 1 Axes>"
      ]
     },
     "metadata": {
      "needs_background": "light"
     },
     "output_type": "display_data"
    },
    {
     "data": {
      "image/png": "[encoded data removed]",
      "text/plain": [
       "<Figure size 1080x360 with 1 Axes>"
      ]
     },
     "metadata": {
      "needs_background": "light"
     },
     "output_type": "display_data"
    },
    {
     "data": {
      "image/png": "[encoded data removed]",
      "text/plain": [
       "<Figure size 1080x360 with 1 Axes>"
      ]
     },
     "metadata": {
      "needs_background": "light"
     },
     "output_type": "display_data"
    }
   ],
   "source": [
    "data_2017.pivot_table(index='platform',values='na_sales',aggfunc='sum').sort_values(by='na_sales',ascending=False).head(5).plot(kind='bar',figsize=(15,5),grid=True,title='5 самых популярных платформ NA')\n",
    "plt.xlabel('платформы')\n",
    "plt.ylabel('продажи')\n",
    "data_2017.pivot_table(index='platform',values='eu_sales',aggfunc='sum').sort_values(by='eu_sales',ascending=False).head(5).plot(kind='bar',figsize=(15,5),grid=True,title='5 самых популярных платформ EU')\n",
    "plt.xlabel('платформы')\n",
    "plt.ylabel('продажи')\n",
    "data_2017.pivot_table(index='platform',values='jp_sales',aggfunc='sum').sort_values(by='jp_sales',ascending=False).head(5).plot(kind='bar',figsize=(15,5),grid=True,title='5 самых популярных платформ JP')\n",
    "plt.xlabel('платформы')\n",
    "plt.ylabel('продажи')\n",
    "plt.show()"
   ]
  },
  {
   "cell_type": "markdown",
   "metadata": {},
   "source": [
    "Вывод:  в Европе  и Америке самой популярной платформой является ps4. в японии 3ds"
   ]
  },
  {
   "cell_type": "code",
   "execution_count": 49,
   "metadata": {},
   "outputs": [
    {
     "data": {
      "image/png": "[encoded data removed]",
      "text/plain": [
       "<Figure size 1080x360 with 1 Axes>"
      ]
     },
     "metadata": {
      "needs_background": "light"
     },
     "output_type": "display_data"
    },
    {
     "data": {
      "image/png": "[encoded data removed]",
      "text/plain": [
       "<Figure size 1080x360 with 1 Axes>"
      ]
     },
     "metadata": {
      "needs_background": "light"
     },
     "output_type": "display_data"
    },
    {
     "data": {
      "image/png": "[encoded data removed]",
      "text/plain": [
       "<Figure size 1080x360 with 1 Axes>"
      ]
     },
     "metadata": {
      "needs_background": "light"
     },
     "output_type": "display_data"
    }
   ],
   "source": [
    "data_2017.pivot_table(index='rating',values='na_sales',aggfunc='sum').sort_values(by='na_sales',ascending=False).head(5).plot(kind='bar',figsize=(15,5),grid=True,title='5 самых популярных платформ NA')\n",
    "plt.xlabel('рейтинг')\n",
    "plt.ylabel('продажи')\n",
    "data_2017.pivot_table(index='rating',values='eu_sales',aggfunc='sum').sort_values(by='eu_sales',ascending=False).head(5).plot(kind='bar',figsize=(15,5),grid=True,title='5 самых популярных платформ EU')\n",
    "plt.xlabel('рейтинг')\n",
    "plt.ylabel('продажи')\n",
    "data_2017.pivot_table(index='rating',values='jp_sales',aggfunc='sum').sort_values(by='jp_sales',ascending=False).head(5).plot(kind='bar',figsize=(15,5),grid=True,title='5 самых популярных платформ JP')\n",
    "plt.xlabel('рейтинг')\n",
    "plt.ylabel('продажи')\n",
    "plt.show()"
   ]
  },
  {
   "cell_type": "markdown",
   "metadata": {
    "scrolled": true
   },
   "source": [
    "Вывод: Распределение по жанрам у Европы и Америки  примерно одинаковое action, shooter, sport, в японии 2 самых популярных жанра role-playing и action. В Европе и Америке самой популярной платформой является ps4, в японии 3ds.\n",
    "Рейтинги и продажи в Европе и Америке респределились примерно одинаково предпочитают рейтинг \"М\". В Японии покупают очень много игр без рейтинга"
   ]
  },
  {
   "cell_type": "markdown",
   "metadata": {},
   "source": [
    "# Шаг 4. Проверим гипотезы:"
   ]
  },
  {
   "cell_type": "markdown",
   "metadata": {},
   "source": [
    "первая гипотеза:"
   ]
  },
  {
   "cell_type": "markdown",
   "metadata": {},
   "source": [
    "Но=средние пользовательские рейтинги платформ xone и pc одинаковые"
   ]
  },
  {
   "cell_type": "markdown",
   "metadata": {},
   "source": [
    "Н1=средние пользовательские рейтинги платформ xone и pc не равны"
   ]
  },
  {
   "cell_type": "code",
   "execution_count": 50,
   "metadata": {
    "scrolled": true
   },
   "outputs": [
    {
     "name": "stdout",
     "output_type": "stream",
     "text": [
      "0.14759594013430463\n",
      "не получится отвергнуть\n"
     ]
    }
   ],
   "source": [
    "data_xone=data_user.query('platform==\"xone\"')\n",
    "data_pc=data_user.query('platform==\"pc\"')\n",
    "alpha=0.05\n",
    "results=st.ttest_ind(data_xone['user_score'],data_pc['user_score'],equal_var=False) #дисперсии разные поэтому equal_var=False\n",
    "results.pvalue\n",
    "print(results.pvalue)\n",
    "if results.pvalue<alpha:\n",
    "    print('отвергаем нулевую гипотезу')\n",
    "else:\n",
    "    print('не получится отвергнуть')"
   ]
  },
  {
   "cell_type": "markdown",
   "metadata": {},
   "source": [
    " "
   ]
  },
  {
   "cell_type": "markdown",
   "metadata": {},
   "source": [
    "вторая гипотеза:"
   ]
  },
  {
   "cell_type": "markdown",
   "metadata": {},
   "source": [
    "Но=средние пользовательские рейтинги жанров action и sports одинаковые"
   ]
  },
  {
   "cell_type": "markdown",
   "metadata": {},
   "source": [
    "Н1=средние пользовательские рейтинги жанров action и sports разные"
   ]
  },
  {
   "cell_type": "code",
   "execution_count": 51,
   "metadata": {
    "scrolled": true
   },
   "outputs": [
    {
     "name": "stdout",
     "output_type": "stream",
     "text": [
      "1.4711831608728666e-20\n",
      "отвергаем нулевую гипотезу\n"
     ]
    }
   ],
   "source": [
    "data_action=data_user.query('genre==\"action\"')\n",
    "data_sports=data_user.query('genre==\"sports\"')\n",
    "alpha=0.05\n",
    "results=st.ttest_ind(data_action['user_score'],data_sports['user_score'],equal_var=False) #дисперсии разные поэтому equal_var=False\n",
    "results.pvalue\n",
    "print(results.pvalue)\n",
    "if results.pvalue<alpha:\n",
    "    print('отвергаем нулевую гипотезу')\n",
    "else:\n",
    "    print('не получится отвергнуть')"
   ]
  },
  {
   "cell_type": "markdown",
   "metadata": {},
   "source": [
    "# Шаг 5. Общий вывод:\n",
    "В нашем распоряжении были данные о создании игр по годам, сумме полученной прибыли от проданных игр на различных платформах с 1980 по 2016 года. Мы нашли самые популярные платформы, определили их среднюю продолжительность жизни(11 лет). Выбрали актуальные года(2013-2016) и посмотрели, как менялась прибыть популярных платформ того времени по годам, построили прогноз на 2017 год. посмотрели зависимость покупки игр от рейтинга критиков(она есть). Зависимости рейтинга пользователей от покупки игр нет. Так же нашли самые популярные платформы, жанры, рейтинги в зависимости от места проживания. Распределение по жанрам у Европы и Америки примерно одинаковое action, shooter, sport, в Японии 2 самых популярных жанра role-playing и action. В Европе и Америке самой популярной платформой является ps4, в Японии 3ds. Рейтинги и продажи в Европе и Америке распределились примерно одинаково предпочитают рейтинг \"М\". Больше всего игр выходит с жанром action, большее из которых с низкими продажами. В Японии покупают очень много игр без рейтинга. Выдвинули гипотезы о сравнении двух платформ и сравнении двух жанров игр\n",
    "\n",
    "\n",
    "\n"
   ]
  },
  {
   "cell_type": "code",
   "execution_count": null,
   "metadata": {},
   "outputs": [],
   "source": []
  }
 ],
 "metadata": {
  "ExecuteTimeLog": [
   {
    "duration": 483,
    "start_time": "2022-12-12T14:43:42.180Z"
   },
   {
    "duration": 93,
    "start_time": "2022-12-12T14:44:10.332Z"
   },
   {
    "duration": 191,
    "start_time": "2022-12-12T14:44:24.164Z"
   },
   {
    "duration": 23,
    "start_time": "2022-12-12T14:44:41.582Z"
   },
   {
    "duration": 20,
    "start_time": "2022-12-12T14:45:23.955Z"
   },
   {
    "duration": 4,
    "start_time": "2022-12-12T14:55:44.410Z"
   },
   {
    "duration": 3,
    "start_time": "2022-12-12T14:57:27.591Z"
   },
   {
    "duration": 12,
    "start_time": "2022-12-12T14:57:43.670Z"
   },
   {
    "duration": 3,
    "start_time": "2022-12-12T14:58:56.442Z"
   },
   {
    "duration": 829,
    "start_time": "2022-12-12T15:02:06.992Z"
   },
   {
    "duration": 27,
    "start_time": "2022-12-12T15:03:01.207Z"
   },
   {
    "duration": 11,
    "start_time": "2022-12-12T15:03:16.566Z"
   },
   {
    "duration": 490,
    "start_time": "2022-12-12T15:03:21.171Z"
   },
   {
    "duration": 721,
    "start_time": "2022-12-12T15:05:19.997Z"
   },
   {
    "duration": 29,
    "start_time": "2022-12-12T15:07:07.176Z"
   },
   {
    "duration": 9,
    "start_time": "2022-12-12T15:09:24.401Z"
   },
   {
    "duration": 15,
    "start_time": "2022-12-12T15:10:27.692Z"
   },
   {
    "duration": 15,
    "start_time": "2022-12-12T15:10:37.391Z"
   },
   {
    "duration": 11,
    "start_time": "2022-12-12T15:10:52.494Z"
   },
   {
    "duration": 8,
    "start_time": "2022-12-12T15:11:19.304Z"
   },
   {
    "duration": 31,
    "start_time": "2022-12-12T15:11:26.517Z"
   },
   {
    "duration": 17,
    "start_time": "2022-12-12T15:13:49.447Z"
   },
   {
    "duration": 13,
    "start_time": "2022-12-12T15:14:38.770Z"
   },
   {
    "duration": 18,
    "start_time": "2022-12-12T15:14:43.970Z"
   },
   {
    "duration": 1303,
    "start_time": "2022-12-12T15:17:00.125Z"
   },
   {
    "duration": 6,
    "start_time": "2022-12-12T15:17:12.212Z"
   },
   {
    "duration": 11,
    "start_time": "2022-12-12T15:19:37.726Z"
   },
   {
    "duration": 29,
    "start_time": "2022-12-12T15:21:09.171Z"
   },
   {
    "duration": 9,
    "start_time": "2022-12-12T15:30:39.386Z"
   },
   {
    "duration": 11,
    "start_time": "2022-12-12T15:31:08.113Z"
   },
   {
    "duration": 8,
    "start_time": "2022-12-12T15:31:46.451Z"
   },
   {
    "duration": 8,
    "start_time": "2022-12-12T15:32:06.701Z"
   },
   {
    "duration": 8,
    "start_time": "2022-12-12T15:33:20.433Z"
   },
   {
    "duration": 9,
    "start_time": "2022-12-12T15:33:51.882Z"
   },
   {
    "duration": 1132,
    "start_time": "2022-12-12T15:34:52.596Z"
   },
   {
    "duration": 5,
    "start_time": "2022-12-12T15:35:44.368Z"
   },
   {
    "duration": 8,
    "start_time": "2022-12-12T15:45:55.373Z"
   },
   {
    "duration": 125,
    "start_time": "2022-12-12T15:46:29.989Z"
   },
   {
    "duration": 7,
    "start_time": "2022-12-12T15:46:38.084Z"
   },
   {
    "duration": 6,
    "start_time": "2022-12-12T15:46:42.075Z"
   },
   {
    "duration": 3,
    "start_time": "2022-12-12T15:47:56.724Z"
   },
   {
    "duration": 1326,
    "start_time": "2022-12-12T15:47:57.372Z"
   },
   {
    "duration": 1183,
    "start_time": "2022-12-12T15:48:39.323Z"
   },
   {
    "duration": 18,
    "start_time": "2022-12-12T15:49:55.974Z"
   },
   {
    "duration": 361,
    "start_time": "2022-12-12T15:50:22.638Z"
   },
   {
    "duration": 61,
    "start_time": "2022-12-12T15:50:23.001Z"
   },
   {
    "duration": 25,
    "start_time": "2022-12-12T15:50:23.064Z"
   },
   {
    "duration": 13,
    "start_time": "2022-12-12T15:50:23.091Z"
   },
   {
    "duration": 4,
    "start_time": "2022-12-12T15:50:23.106Z"
   },
   {
    "duration": 21,
    "start_time": "2022-12-12T15:50:23.111Z"
   },
   {
    "duration": 49,
    "start_time": "2022-12-12T15:50:23.134Z"
   },
   {
    "duration": 10,
    "start_time": "2022-12-12T15:50:23.184Z"
   },
   {
    "duration": 19,
    "start_time": "2022-12-12T15:50:23.195Z"
   },
   {
    "duration": 11,
    "start_time": "2022-12-12T15:50:23.217Z"
   },
   {
    "duration": 10,
    "start_time": "2022-12-12T15:50:23.230Z"
   },
   {
    "duration": 6,
    "start_time": "2022-12-12T15:50:23.241Z"
   },
   {
    "duration": 87,
    "start_time": "2022-12-12T15:50:23.249Z"
   },
   {
    "duration": 24,
    "start_time": "2022-12-12T15:51:47.662Z"
   },
   {
    "duration": 9,
    "start_time": "2022-12-12T15:53:23.481Z"
   },
   {
    "duration": 23,
    "start_time": "2022-12-12T15:53:28.602Z"
   },
   {
    "duration": 20,
    "start_time": "2022-12-12T16:01:47.369Z"
   },
   {
    "duration": 9,
    "start_time": "2022-12-12T17:40:57.089Z"
   },
   {
    "duration": 17,
    "start_time": "2022-12-12T17:41:05.730Z"
   },
   {
    "duration": 25,
    "start_time": "2022-12-12T17:43:21.066Z"
   },
   {
    "duration": 23,
    "start_time": "2022-12-12T17:43:43.594Z"
   },
   {
    "duration": 18,
    "start_time": "2022-12-12T17:45:41.818Z"
   },
   {
    "duration": 10,
    "start_time": "2022-12-12T17:47:15.742Z"
   },
   {
    "duration": 3,
    "start_time": "2022-12-12T17:47:33.979Z"
   },
   {
    "duration": 24,
    "start_time": "2022-12-12T17:48:00.430Z"
   },
   {
    "duration": 31,
    "start_time": "2022-12-12T17:48:35.245Z"
   },
   {
    "duration": 381,
    "start_time": "2022-12-12T17:55:15.202Z"
   },
   {
    "duration": 54,
    "start_time": "2022-12-12T17:55:15.585Z"
   },
   {
    "duration": 24,
    "start_time": "2022-12-12T17:55:15.640Z"
   },
   {
    "duration": 14,
    "start_time": "2022-12-12T17:55:15.666Z"
   },
   {
    "duration": 4,
    "start_time": "2022-12-12T17:55:15.682Z"
   },
   {
    "duration": 22,
    "start_time": "2022-12-12T17:55:15.688Z"
   },
   {
    "duration": 16,
    "start_time": "2022-12-12T17:55:15.712Z"
   },
   {
    "duration": 30,
    "start_time": "2022-12-12T17:55:15.729Z"
   },
   {
    "duration": 25,
    "start_time": "2022-12-12T17:55:15.760Z"
   },
   {
    "duration": 21,
    "start_time": "2022-12-12T17:55:15.786Z"
   },
   {
    "duration": 13,
    "start_time": "2022-12-12T17:55:15.809Z"
   },
   {
    "duration": 12,
    "start_time": "2022-12-12T17:55:15.823Z"
   },
   {
    "duration": 7,
    "start_time": "2022-12-12T17:55:15.837Z"
   },
   {
    "duration": 67,
    "start_time": "2022-12-12T17:55:15.846Z"
   },
   {
    "duration": 0,
    "start_time": "2022-12-12T17:55:15.915Z"
   },
   {
    "duration": 1236,
    "start_time": "2022-12-12T17:55:24.754Z"
   },
   {
    "duration": 125,
    "start_time": "2022-12-12T17:55:46.242Z"
   },
   {
    "duration": 20,
    "start_time": "2022-12-12T17:55:58.065Z"
   },
   {
    "duration": 373,
    "start_time": "2022-12-12T17:56:18.597Z"
   },
   {
    "duration": 50,
    "start_time": "2022-12-12T17:56:18.972Z"
   },
   {
    "duration": 26,
    "start_time": "2022-12-12T17:56:19.024Z"
   },
   {
    "duration": 36,
    "start_time": "2022-12-12T17:56:19.053Z"
   },
   {
    "duration": 13,
    "start_time": "2022-12-12T17:56:19.092Z"
   },
   {
    "duration": 36,
    "start_time": "2022-12-12T17:56:19.107Z"
   },
   {
    "duration": 19,
    "start_time": "2022-12-12T17:56:19.145Z"
   },
   {
    "duration": 40,
    "start_time": "2022-12-12T17:56:19.165Z"
   },
   {
    "duration": 9,
    "start_time": "2022-12-12T17:56:19.207Z"
   },
   {
    "duration": 26,
    "start_time": "2022-12-12T17:56:19.218Z"
   },
   {
    "duration": 17,
    "start_time": "2022-12-12T17:56:19.246Z"
   },
   {
    "duration": 11,
    "start_time": "2022-12-12T17:56:19.279Z"
   },
   {
    "duration": 9,
    "start_time": "2022-12-12T17:56:19.292Z"
   },
   {
    "duration": 8,
    "start_time": "2022-12-12T17:56:19.302Z"
   },
   {
    "duration": 29,
    "start_time": "2022-12-12T17:56:19.312Z"
   },
   {
    "duration": 7,
    "start_time": "2022-12-12T17:57:31.205Z"
   },
   {
    "duration": 3,
    "start_time": "2022-12-12T17:58:40.295Z"
   },
   {
    "duration": 34,
    "start_time": "2022-12-12T17:59:12.734Z"
   },
   {
    "duration": 104,
    "start_time": "2022-12-12T17:59:35.810Z"
   },
   {
    "duration": 648,
    "start_time": "2022-12-12T18:01:11.264Z"
   },
   {
    "duration": 15,
    "start_time": "2022-12-12T18:01:43.434Z"
   },
   {
    "duration": 410,
    "start_time": "2022-12-12T18:12:26.443Z"
   },
   {
    "duration": 52,
    "start_time": "2022-12-12T18:12:26.855Z"
   },
   {
    "duration": 21,
    "start_time": "2022-12-12T18:12:26.909Z"
   },
   {
    "duration": 19,
    "start_time": "2022-12-12T18:12:26.931Z"
   },
   {
    "duration": 13,
    "start_time": "2022-12-12T18:12:26.951Z"
   },
   {
    "duration": 31,
    "start_time": "2022-12-12T18:12:26.966Z"
   },
   {
    "duration": 27,
    "start_time": "2022-12-12T18:12:26.998Z"
   },
   {
    "duration": 39,
    "start_time": "2022-12-12T18:12:27.026Z"
   },
   {
    "duration": 9,
    "start_time": "2022-12-12T18:12:27.067Z"
   },
   {
    "duration": 28,
    "start_time": "2022-12-12T18:12:27.078Z"
   },
   {
    "duration": 14,
    "start_time": "2022-12-12T18:12:27.108Z"
   },
   {
    "duration": 21,
    "start_time": "2022-12-12T18:12:27.123Z"
   },
   {
    "duration": 6,
    "start_time": "2022-12-12T18:12:27.146Z"
   },
   {
    "duration": 12,
    "start_time": "2022-12-12T18:12:27.154Z"
   },
   {
    "duration": 44,
    "start_time": "2022-12-12T18:12:27.168Z"
   },
   {
    "duration": 119,
    "start_time": "2022-12-12T18:12:27.214Z"
   },
   {
    "duration": 13,
    "start_time": "2022-12-12T18:12:27.335Z"
   },
   {
    "duration": 97,
    "start_time": "2022-12-12T18:12:27.349Z"
   },
   {
    "duration": 11,
    "start_time": "2022-12-12T18:15:00.910Z"
   },
   {
    "duration": 42,
    "start_time": "2022-12-12T18:15:08.128Z"
   },
   {
    "duration": 29,
    "start_time": "2022-12-12T18:15:54.625Z"
   },
   {
    "duration": 9,
    "start_time": "2022-12-12T18:16:14.236Z"
   },
   {
    "duration": 44,
    "start_time": "2022-12-12T18:16:20.902Z"
   },
   {
    "duration": 42,
    "start_time": "2022-12-12T18:16:26.095Z"
   },
   {
    "duration": 59,
    "start_time": "2022-12-12T18:18:23.577Z"
   },
   {
    "duration": 12,
    "start_time": "2022-12-12T18:18:35.025Z"
   },
   {
    "duration": 13,
    "start_time": "2022-12-12T18:20:29.523Z"
   },
   {
    "duration": 30,
    "start_time": "2022-12-12T18:21:57.217Z"
   },
   {
    "duration": 67,
    "start_time": "2022-12-12T18:23:01.515Z"
   },
   {
    "duration": 16,
    "start_time": "2022-12-12T18:23:09.002Z"
   },
   {
    "duration": 385,
    "start_time": "2022-12-12T18:24:16.592Z"
   },
   {
    "duration": 55,
    "start_time": "2022-12-12T18:24:16.980Z"
   },
   {
    "duration": 27,
    "start_time": "2022-12-12T18:24:17.036Z"
   },
   {
    "duration": 21,
    "start_time": "2022-12-12T18:24:17.066Z"
   },
   {
    "duration": 11,
    "start_time": "2022-12-12T18:24:17.088Z"
   },
   {
    "duration": 21,
    "start_time": "2022-12-12T18:24:17.100Z"
   },
   {
    "duration": 15,
    "start_time": "2022-12-12T18:24:17.123Z"
   },
   {
    "duration": 41,
    "start_time": "2022-12-12T18:24:17.139Z"
   },
   {
    "duration": 8,
    "start_time": "2022-12-12T18:24:17.181Z"
   },
   {
    "duration": 16,
    "start_time": "2022-12-12T18:24:17.191Z"
   },
   {
    "duration": 12,
    "start_time": "2022-12-12T18:24:17.208Z"
   },
   {
    "duration": 19,
    "start_time": "2022-12-12T18:24:17.221Z"
   },
   {
    "duration": 10,
    "start_time": "2022-12-12T18:24:17.241Z"
   },
   {
    "duration": 114,
    "start_time": "2022-12-12T18:24:17.252Z"
   },
   {
    "duration": 21,
    "start_time": "2022-12-12T18:24:17.368Z"
   },
   {
    "duration": 11,
    "start_time": "2022-12-12T18:24:38.329Z"
   },
   {
    "duration": 4,
    "start_time": "2022-12-12T18:27:14.402Z"
   },
   {
    "duration": 24,
    "start_time": "2022-12-12T18:27:23.788Z"
   },
   {
    "duration": 12,
    "start_time": "2022-12-12T18:30:16.310Z"
   },
   {
    "duration": 23,
    "start_time": "2022-12-12T18:30:30.966Z"
   },
   {
    "duration": 19,
    "start_time": "2022-12-12T18:32:30.752Z"
   },
   {
    "duration": 21,
    "start_time": "2022-12-12T18:32:35.164Z"
   },
   {
    "duration": 26,
    "start_time": "2022-12-12T18:35:24.117Z"
   },
   {
    "duration": 19,
    "start_time": "2022-12-12T18:35:28.200Z"
   },
   {
    "duration": 67,
    "start_time": "2022-12-12T18:36:48.897Z"
   },
   {
    "duration": 974,
    "start_time": "2022-12-12T18:40:52.296Z"
   },
   {
    "duration": 908,
    "start_time": "2022-12-12T18:41:05.300Z"
   },
   {
    "duration": 799,
    "start_time": "2022-12-12T18:41:22.912Z"
   },
   {
    "duration": 345,
    "start_time": "2022-12-12T18:42:52.436Z"
   },
   {
    "duration": 65,
    "start_time": "2022-12-12T18:42:52.783Z"
   },
   {
    "duration": 27,
    "start_time": "2022-12-12T18:42:52.851Z"
   },
   {
    "duration": 17,
    "start_time": "2022-12-12T18:42:52.880Z"
   },
   {
    "duration": 905,
    "start_time": "2022-12-12T18:42:52.899Z"
   },
   {
    "duration": 4,
    "start_time": "2022-12-12T18:42:53.805Z"
   },
   {
    "duration": 20,
    "start_time": "2022-12-12T18:42:53.811Z"
   },
   {
    "duration": 17,
    "start_time": "2022-12-12T18:42:53.833Z"
   },
   {
    "duration": 45,
    "start_time": "2022-12-12T18:42:53.852Z"
   },
   {
    "duration": 10,
    "start_time": "2022-12-12T18:42:53.899Z"
   },
   {
    "duration": 17,
    "start_time": "2022-12-12T18:42:53.911Z"
   },
   {
    "duration": 19,
    "start_time": "2022-12-12T18:42:53.930Z"
   },
   {
    "duration": 34,
    "start_time": "2022-12-12T18:42:53.950Z"
   },
   {
    "duration": 6,
    "start_time": "2022-12-12T18:42:53.987Z"
   },
   {
    "duration": 149,
    "start_time": "2022-12-12T18:42:53.994Z"
   },
   {
    "duration": 28,
    "start_time": "2022-12-12T18:42:54.146Z"
   },
   {
    "duration": 29,
    "start_time": "2022-12-12T18:42:54.179Z"
   },
   {
    "duration": 9,
    "start_time": "2022-12-12T18:42:54.210Z"
   },
   {
    "duration": 5,
    "start_time": "2022-12-12T18:43:57.193Z"
   },
   {
    "duration": 32,
    "start_time": "2022-12-12T18:47:10.341Z"
   },
   {
    "duration": 427,
    "start_time": "2022-12-13T17:30:03.075Z"
   },
   {
    "duration": 200,
    "start_time": "2022-12-13T17:30:03.504Z"
   },
   {
    "duration": 34,
    "start_time": "2022-12-13T17:30:03.706Z"
   },
   {
    "duration": 55,
    "start_time": "2022-12-13T17:30:03.743Z"
   },
   {
    "duration": 1308,
    "start_time": "2022-12-13T17:30:03.800Z"
   },
   {
    "duration": 7,
    "start_time": "2022-12-13T17:30:05.121Z"
   },
   {
    "duration": 69,
    "start_time": "2022-12-13T17:30:05.130Z"
   },
   {
    "duration": 52,
    "start_time": "2022-12-13T17:30:05.201Z"
   },
   {
    "duration": 141,
    "start_time": "2022-12-13T17:30:05.255Z"
   },
   {
    "duration": 23,
    "start_time": "2022-12-13T17:30:05.400Z"
   },
   {
    "duration": 62,
    "start_time": "2022-12-13T17:30:05.426Z"
   },
   {
    "duration": 24,
    "start_time": "2022-12-13T17:30:05.491Z"
   },
   {
    "duration": 59,
    "start_time": "2022-12-13T17:30:05.517Z"
   },
   {
    "duration": 149,
    "start_time": "2022-12-13T17:30:05.579Z"
   },
   {
    "duration": 28,
    "start_time": "2022-12-13T17:30:05.730Z"
   },
   {
    "duration": 72,
    "start_time": "2022-12-13T17:30:05.763Z"
   },
   {
    "duration": 62,
    "start_time": "2022-12-13T17:30:05.837Z"
   },
   {
    "duration": 75,
    "start_time": "2022-12-13T17:30:05.901Z"
   },
   {
    "duration": 129,
    "start_time": "2022-12-13T17:32:11.596Z"
   },
   {
    "duration": 26,
    "start_time": "2022-12-13T17:32:21.301Z"
   },
   {
    "duration": 72,
    "start_time": "2022-12-13T17:33:03.573Z"
   },
   {
    "duration": 24,
    "start_time": "2022-12-13T17:33:13.430Z"
   },
   {
    "duration": 17,
    "start_time": "2022-12-13T17:34:47.030Z"
   },
   {
    "duration": 23,
    "start_time": "2022-12-13T17:36:50.394Z"
   },
   {
    "duration": 26,
    "start_time": "2022-12-13T17:38:02.288Z"
   },
   {
    "duration": 30,
    "start_time": "2022-12-13T17:38:14.919Z"
   },
   {
    "duration": 161,
    "start_time": "2022-12-13T17:40:31.052Z"
   },
   {
    "duration": 152,
    "start_time": "2022-12-13T17:41:19.863Z"
   },
   {
    "duration": 171,
    "start_time": "2022-12-13T17:42:31.561Z"
   },
   {
    "duration": 6,
    "start_time": "2022-12-13T17:42:42.183Z"
   },
   {
    "duration": 244,
    "start_time": "2022-12-13T17:45:33.301Z"
   },
   {
    "duration": 272,
    "start_time": "2022-12-13T17:48:31.468Z"
   },
   {
    "duration": 17,
    "start_time": "2022-12-13T17:52:47.539Z"
   },
   {
    "duration": 278,
    "start_time": "2022-12-13T17:52:55.698Z"
   },
   {
    "duration": 15,
    "start_time": "2022-12-13T17:53:51.246Z"
   },
   {
    "duration": 17,
    "start_time": "2022-12-13T17:54:18.194Z"
   },
   {
    "duration": 285,
    "start_time": "2022-12-13T17:54:29.509Z"
   },
   {
    "duration": 16,
    "start_time": "2022-12-13T17:54:46.839Z"
   },
   {
    "duration": 18,
    "start_time": "2022-12-13T17:56:05.041Z"
   },
   {
    "duration": 16,
    "start_time": "2022-12-13T17:56:13.673Z"
   },
   {
    "duration": 32,
    "start_time": "2022-12-13T17:56:22.355Z"
   },
   {
    "duration": 270,
    "start_time": "2022-12-13T17:56:47.895Z"
   },
   {
    "duration": 585,
    "start_time": "2022-12-13T17:59:26.274Z"
   },
   {
    "duration": 443,
    "start_time": "2022-12-13T18:00:27.596Z"
   },
   {
    "duration": 50,
    "start_time": "2022-12-13T18:00:28.041Z"
   },
   {
    "duration": 22,
    "start_time": "2022-12-13T18:00:28.093Z"
   },
   {
    "duration": 29,
    "start_time": "2022-12-13T18:00:28.117Z"
   },
   {
    "duration": 989,
    "start_time": "2022-12-13T18:00:28.148Z"
   },
   {
    "duration": 5,
    "start_time": "2022-12-13T18:00:29.139Z"
   },
   {
    "duration": 22,
    "start_time": "2022-12-13T18:00:29.145Z"
   },
   {
    "duration": 18,
    "start_time": "2022-12-13T18:00:29.168Z"
   },
   {
    "duration": 55,
    "start_time": "2022-12-13T18:00:29.187Z"
   },
   {
    "duration": 9,
    "start_time": "2022-12-13T18:00:29.244Z"
   },
   {
    "duration": 26,
    "start_time": "2022-12-13T18:00:29.255Z"
   },
   {
    "duration": 13,
    "start_time": "2022-12-13T18:00:29.283Z"
   },
   {
    "duration": 33,
    "start_time": "2022-12-13T18:00:29.298Z"
   },
   {
    "duration": 115,
    "start_time": "2022-12-13T18:00:29.336Z"
   },
   {
    "duration": 25,
    "start_time": "2022-12-13T18:00:29.453Z"
   },
   {
    "duration": 4,
    "start_time": "2022-12-13T18:00:29.480Z"
   },
   {
    "duration": 14,
    "start_time": "2022-12-13T18:00:29.486Z"
   },
   {
    "duration": 37,
    "start_time": "2022-12-13T18:00:29.502Z"
   },
   {
    "duration": 159,
    "start_time": "2022-12-13T18:00:29.541Z"
   },
   {
    "duration": 6,
    "start_time": "2022-12-13T18:00:29.701Z"
   },
   {
    "duration": 284,
    "start_time": "2022-12-13T18:00:29.708Z"
   },
   {
    "duration": 0,
    "start_time": "2022-12-13T18:00:29.994Z"
   },
   {
    "duration": 0,
    "start_time": "2022-12-13T18:00:29.995Z"
   },
   {
    "duration": 17,
    "start_time": "2022-12-13T18:00:58.225Z"
   },
   {
    "duration": 10,
    "start_time": "2022-12-13T18:01:34.818Z"
   },
   {
    "duration": 376,
    "start_time": "2022-12-13T18:01:56.486Z"
   },
   {
    "duration": 49,
    "start_time": "2022-12-13T18:01:56.864Z"
   },
   {
    "duration": 27,
    "start_time": "2022-12-13T18:01:56.914Z"
   },
   {
    "duration": 16,
    "start_time": "2022-12-13T18:01:56.943Z"
   },
   {
    "duration": 1015,
    "start_time": "2022-12-13T18:01:56.960Z"
   },
   {
    "duration": 4,
    "start_time": "2022-12-13T18:01:57.977Z"
   },
   {
    "duration": 66,
    "start_time": "2022-12-13T18:01:57.982Z"
   },
   {
    "duration": 49,
    "start_time": "2022-12-13T18:01:58.049Z"
   },
   {
    "duration": 66,
    "start_time": "2022-12-13T18:01:58.100Z"
   },
   {
    "duration": 15,
    "start_time": "2022-12-13T18:01:58.169Z"
   },
   {
    "duration": 56,
    "start_time": "2022-12-13T18:01:58.186Z"
   },
   {
    "duration": 43,
    "start_time": "2022-12-13T18:01:58.244Z"
   },
   {
    "duration": 42,
    "start_time": "2022-12-13T18:01:58.288Z"
   },
   {
    "duration": 161,
    "start_time": "2022-12-13T18:01:58.332Z"
   },
   {
    "duration": 28,
    "start_time": "2022-12-13T18:01:58.495Z"
   },
   {
    "duration": 44,
    "start_time": "2022-12-13T18:01:58.525Z"
   },
   {
    "duration": 28,
    "start_time": "2022-12-13T18:01:58.571Z"
   },
   {
    "duration": 27,
    "start_time": "2022-12-13T18:01:58.600Z"
   },
   {
    "duration": 182,
    "start_time": "2022-12-13T18:01:58.629Z"
   },
   {
    "duration": 11,
    "start_time": "2022-12-13T18:01:58.812Z"
   },
   {
    "duration": 274,
    "start_time": "2022-12-13T18:01:58.824Z"
   },
   {
    "duration": 0,
    "start_time": "2022-12-13T18:01:59.100Z"
   },
   {
    "duration": 0,
    "start_time": "2022-12-13T18:01:59.101Z"
   },
   {
    "duration": 16,
    "start_time": "2022-12-13T18:02:02.434Z"
   },
   {
    "duration": 5,
    "start_time": "2022-12-13T18:02:03.523Z"
   },
   {
    "duration": 13,
    "start_time": "2022-12-13T18:02:10.893Z"
   },
   {
    "duration": 291,
    "start_time": "2022-12-13T18:02:31.139Z"
   },
   {
    "duration": 3,
    "start_time": "2022-12-13T18:03:22.434Z"
   },
   {
    "duration": 10,
    "start_time": "2022-12-13T18:06:04.640Z"
   },
   {
    "duration": 61,
    "start_time": "2022-12-13T18:06:25.683Z"
   },
   {
    "duration": 18,
    "start_time": "2022-12-13T18:09:10.474Z"
   },
   {
    "duration": 15,
    "start_time": "2022-12-13T18:09:48.052Z"
   },
   {
    "duration": 18,
    "start_time": "2022-12-13T18:10:19.073Z"
   },
   {
    "duration": 18,
    "start_time": "2022-12-13T18:10:57.897Z"
   },
   {
    "duration": 79,
    "start_time": "2022-12-13T18:12:16.784Z"
   },
   {
    "duration": 73,
    "start_time": "2022-12-13T18:14:32.475Z"
   },
   {
    "duration": 75,
    "start_time": "2022-12-13T18:14:54.786Z"
   },
   {
    "duration": 78,
    "start_time": "2022-12-13T18:15:04.798Z"
   },
   {
    "duration": 12,
    "start_time": "2022-12-13T18:16:04.226Z"
   },
   {
    "duration": 9,
    "start_time": "2022-12-13T18:16:15.579Z"
   },
   {
    "duration": 14,
    "start_time": "2022-12-13T18:16:18.882Z"
   },
   {
    "duration": 19,
    "start_time": "2022-12-13T18:16:26.893Z"
   },
   {
    "duration": 16,
    "start_time": "2022-12-13T18:18:22.534Z"
   },
   {
    "duration": 24,
    "start_time": "2022-12-13T18:35:17.522Z"
   },
   {
    "duration": 30,
    "start_time": "2022-12-13T18:37:43.244Z"
   },
   {
    "duration": 27,
    "start_time": "2022-12-13T18:38:27.482Z"
   },
   {
    "duration": 15,
    "start_time": "2022-12-13T18:40:13.672Z"
   },
   {
    "duration": 73,
    "start_time": "2022-12-13T18:40:30.858Z"
   },
   {
    "duration": 20,
    "start_time": "2022-12-13T18:40:53.018Z"
   },
   {
    "duration": 14,
    "start_time": "2022-12-13T18:41:06.309Z"
   },
   {
    "duration": 24,
    "start_time": "2022-12-13T18:42:03.748Z"
   },
   {
    "duration": 397,
    "start_time": "2022-12-13T18:43:42.359Z"
   },
   {
    "duration": 51,
    "start_time": "2022-12-13T18:43:42.758Z"
   },
   {
    "duration": 32,
    "start_time": "2022-12-13T18:43:42.811Z"
   },
   {
    "duration": 19,
    "start_time": "2022-12-13T18:43:42.845Z"
   },
   {
    "duration": 1026,
    "start_time": "2022-12-13T18:43:42.867Z"
   },
   {
    "duration": 4,
    "start_time": "2022-12-13T18:43:43.896Z"
   },
   {
    "duration": 39,
    "start_time": "2022-12-13T18:43:43.902Z"
   },
   {
    "duration": 19,
    "start_time": "2022-12-13T18:43:43.943Z"
   },
   {
    "duration": 31,
    "start_time": "2022-12-13T18:43:43.964Z"
   },
   {
    "duration": 32,
    "start_time": "2022-12-13T18:43:43.997Z"
   },
   {
    "duration": 35,
    "start_time": "2022-12-13T18:43:44.031Z"
   },
   {
    "duration": 18,
    "start_time": "2022-12-13T18:43:44.068Z"
   },
   {
    "duration": 20,
    "start_time": "2022-12-13T18:43:44.088Z"
   },
   {
    "duration": 168,
    "start_time": "2022-12-13T18:43:44.111Z"
   },
   {
    "duration": 30,
    "start_time": "2022-12-13T18:43:44.281Z"
   },
   {
    "duration": 24,
    "start_time": "2022-12-13T18:43:44.313Z"
   },
   {
    "duration": 26,
    "start_time": "2022-12-13T18:43:44.340Z"
   },
   {
    "duration": 26,
    "start_time": "2022-12-13T18:43:44.368Z"
   },
   {
    "duration": 173,
    "start_time": "2022-12-13T18:43:44.397Z"
   },
   {
    "duration": 5,
    "start_time": "2022-12-13T18:43:44.572Z"
   },
   {
    "duration": 4,
    "start_time": "2022-12-13T18:43:44.579Z"
   },
   {
    "duration": 10,
    "start_time": "2022-12-13T18:43:44.584Z"
   },
   {
    "duration": 5,
    "start_time": "2022-12-13T18:43:44.596Z"
   },
   {
    "duration": 21,
    "start_time": "2022-12-13T18:43:44.603Z"
   },
   {
    "duration": 19,
    "start_time": "2022-12-13T18:43:44.626Z"
   },
   {
    "duration": 31,
    "start_time": "2022-12-13T18:43:44.648Z"
   },
   {
    "duration": 18,
    "start_time": "2022-12-13T18:43:44.680Z"
   },
   {
    "duration": 3,
    "start_time": "2022-12-13T18:43:44.699Z"
   },
   {
    "duration": 60,
    "start_time": "2022-12-13T18:44:09.232Z"
   },
   {
    "duration": 70,
    "start_time": "2022-12-13T18:44:40.329Z"
   },
   {
    "duration": 17,
    "start_time": "2022-12-13T18:47:10.015Z"
   },
   {
    "duration": 147,
    "start_time": "2022-12-13T18:47:32.244Z"
   },
   {
    "duration": 90,
    "start_time": "2022-12-13T18:50:11.364Z"
   },
   {
    "duration": 63,
    "start_time": "2022-12-13T18:51:12.950Z"
   },
   {
    "duration": 20,
    "start_time": "2022-12-13T18:51:47.646Z"
   },
   {
    "duration": 18,
    "start_time": "2022-12-13T18:52:15.557Z"
   },
   {
    "duration": 18,
    "start_time": "2022-12-13T18:53:10.241Z"
   },
   {
    "duration": 19,
    "start_time": "2022-12-13T18:53:32.824Z"
   },
   {
    "duration": 84,
    "start_time": "2022-12-13T18:53:45.305Z"
   },
   {
    "duration": 18,
    "start_time": "2022-12-13T18:53:54.979Z"
   },
   {
    "duration": 23,
    "start_time": "2022-12-13T18:56:11.284Z"
   },
   {
    "duration": 14,
    "start_time": "2022-12-13T18:58:57.629Z"
   },
   {
    "duration": 23,
    "start_time": "2022-12-13T18:59:50.646Z"
   },
   {
    "duration": 152,
    "start_time": "2022-12-13T19:02:36.735Z"
   },
   {
    "duration": 25,
    "start_time": "2022-12-13T19:02:58.505Z"
   },
   {
    "duration": 58,
    "start_time": "2022-12-13T19:04:15.525Z"
   },
   {
    "duration": 32,
    "start_time": "2022-12-13T19:06:15.707Z"
   },
   {
    "duration": 28,
    "start_time": "2022-12-13T19:09:37.552Z"
   },
   {
    "duration": 22,
    "start_time": "2022-12-13T19:10:23.673Z"
   },
   {
    "duration": 30,
    "start_time": "2022-12-13T19:10:41.131Z"
   },
   {
    "duration": 428,
    "start_time": "2022-12-14T14:29:09.420Z"
   },
   {
    "duration": 111,
    "start_time": "2022-12-14T14:29:09.850Z"
   },
   {
    "duration": 25,
    "start_time": "2022-12-14T14:29:09.963Z"
   },
   {
    "duration": 15,
    "start_time": "2022-12-14T14:29:09.990Z"
   },
   {
    "duration": 1241,
    "start_time": "2022-12-14T14:29:10.007Z"
   },
   {
    "duration": 9,
    "start_time": "2022-12-14T14:29:11.251Z"
   },
   {
    "duration": 39,
    "start_time": "2022-12-14T14:29:11.261Z"
   },
   {
    "duration": 20,
    "start_time": "2022-12-14T14:29:11.302Z"
   },
   {
    "duration": 99,
    "start_time": "2022-12-14T14:29:11.323Z"
   },
   {
    "duration": 10,
    "start_time": "2022-12-14T14:29:11.426Z"
   },
   {
    "duration": 23,
    "start_time": "2022-12-14T14:29:11.437Z"
   },
   {
    "duration": 14,
    "start_time": "2022-12-14T14:29:11.462Z"
   },
   {
    "duration": 35,
    "start_time": "2022-12-14T14:29:11.478Z"
   },
   {
    "duration": 116,
    "start_time": "2022-12-14T14:29:11.515Z"
   },
   {
    "duration": 27,
    "start_time": "2022-12-14T14:29:11.633Z"
   },
   {
    "duration": 6,
    "start_time": "2022-12-14T14:29:11.662Z"
   },
   {
    "duration": 12,
    "start_time": "2022-12-14T14:29:11.670Z"
   },
   {
    "duration": 43,
    "start_time": "2022-12-14T14:29:11.684Z"
   },
   {
    "duration": 177,
    "start_time": "2022-12-14T14:29:11.729Z"
   },
   {
    "duration": 7,
    "start_time": "2022-12-14T14:29:11.911Z"
   },
   {
    "duration": 4,
    "start_time": "2022-12-14T14:29:11.920Z"
   },
   {
    "duration": 8,
    "start_time": "2022-12-14T14:29:11.925Z"
   },
   {
    "duration": 8,
    "start_time": "2022-12-14T14:29:11.935Z"
   },
   {
    "duration": 5,
    "start_time": "2022-12-14T14:29:11.945Z"
   },
   {
    "duration": 22,
    "start_time": "2022-12-14T14:29:11.952Z"
   },
   {
    "duration": 55,
    "start_time": "2022-12-14T14:29:11.976Z"
   },
   {
    "duration": 38,
    "start_time": "2022-12-14T14:29:12.033Z"
   },
   {
    "duration": 49,
    "start_time": "2022-12-14T14:29:12.075Z"
   },
   {
    "duration": 42,
    "start_time": "2022-12-14T14:29:12.126Z"
   },
   {
    "duration": 29,
    "start_time": "2022-12-14T14:29:12.170Z"
   },
   {
    "duration": 7,
    "start_time": "2022-12-14T14:29:12.213Z"
   },
   {
    "duration": 5,
    "start_time": "2022-12-14T14:31:39.103Z"
   },
   {
    "duration": 79,
    "start_time": "2022-12-14T14:32:39.951Z"
   },
   {
    "duration": 10,
    "start_time": "2022-12-14T14:33:01.334Z"
   },
   {
    "duration": 24,
    "start_time": "2022-12-14T14:33:01.346Z"
   },
   {
    "duration": 11,
    "start_time": "2022-12-14T14:33:15.167Z"
   },
   {
    "duration": 8,
    "start_time": "2022-12-14T14:33:17.153Z"
   },
   {
    "duration": 6,
    "start_time": "2022-12-14T14:33:58.828Z"
   },
   {
    "duration": 6,
    "start_time": "2022-12-14T14:36:54.019Z"
   },
   {
    "duration": 14,
    "start_time": "2022-12-14T14:37:15.082Z"
   },
   {
    "duration": 11,
    "start_time": "2022-12-14T14:38:32.298Z"
   },
   {
    "duration": 8,
    "start_time": "2022-12-14T14:38:32.961Z"
   },
   {
    "duration": 6,
    "start_time": "2022-12-14T14:39:21.155Z"
   },
   {
    "duration": 9,
    "start_time": "2022-12-14T14:39:31.498Z"
   },
   {
    "duration": 7,
    "start_time": "2022-12-14T14:39:41.246Z"
   },
   {
    "duration": 16,
    "start_time": "2022-12-14T14:40:05.084Z"
   },
   {
    "duration": 7,
    "start_time": "2022-12-14T14:40:05.724Z"
   },
   {
    "duration": 6,
    "start_time": "2022-12-14T14:40:10.022Z"
   },
   {
    "duration": 15,
    "start_time": "2022-12-14T14:40:38.965Z"
   },
   {
    "duration": 424,
    "start_time": "2022-12-14T14:41:04.936Z"
   },
   {
    "duration": 54,
    "start_time": "2022-12-14T14:41:05.362Z"
   },
   {
    "duration": 23,
    "start_time": "2022-12-14T14:41:05.418Z"
   },
   {
    "duration": 15,
    "start_time": "2022-12-14T14:41:05.443Z"
   },
   {
    "duration": 1076,
    "start_time": "2022-12-14T14:41:05.460Z"
   },
   {
    "duration": 5,
    "start_time": "2022-12-14T14:41:06.539Z"
   },
   {
    "duration": 30,
    "start_time": "2022-12-14T14:41:06.545Z"
   },
   {
    "duration": 43,
    "start_time": "2022-12-14T14:41:06.577Z"
   },
   {
    "duration": 44,
    "start_time": "2022-12-14T14:41:06.623Z"
   },
   {
    "duration": 14,
    "start_time": "2022-12-14T14:41:06.671Z"
   },
   {
    "duration": 53,
    "start_time": "2022-12-14T14:41:06.687Z"
   },
   {
    "duration": 35,
    "start_time": "2022-12-14T14:41:06.743Z"
   },
   {
    "duration": 17,
    "start_time": "2022-12-14T14:41:06.780Z"
   },
   {
    "duration": 110,
    "start_time": "2022-12-14T14:41:06.799Z"
   },
   {
    "duration": 26,
    "start_time": "2022-12-14T14:41:06.911Z"
   },
   {
    "duration": 6,
    "start_time": "2022-12-14T14:41:06.939Z"
   },
   {
    "duration": 11,
    "start_time": "2022-12-14T14:41:06.947Z"
   },
   {
    "duration": 21,
    "start_time": "2022-12-14T14:41:06.959Z"
   },
   {
    "duration": 193,
    "start_time": "2022-12-14T14:41:06.982Z"
   },
   {
    "duration": 6,
    "start_time": "2022-12-14T14:41:07.177Z"
   },
   {
    "duration": 91,
    "start_time": "2022-12-14T14:41:07.184Z"
   },
   {
    "duration": 0,
    "start_time": "2022-12-14T14:41:07.277Z"
   },
   {
    "duration": 0,
    "start_time": "2022-12-14T14:41:07.279Z"
   },
   {
    "duration": 0,
    "start_time": "2022-12-14T14:41:07.280Z"
   },
   {
    "duration": 0,
    "start_time": "2022-12-14T14:41:07.282Z"
   },
   {
    "duration": 0,
    "start_time": "2022-12-14T14:41:07.284Z"
   },
   {
    "duration": 0,
    "start_time": "2022-12-14T14:41:07.286Z"
   },
   {
    "duration": 0,
    "start_time": "2022-12-14T14:41:07.288Z"
   },
   {
    "duration": 0,
    "start_time": "2022-12-14T14:41:07.312Z"
   },
   {
    "duration": 0,
    "start_time": "2022-12-14T14:41:07.315Z"
   },
   {
    "duration": 0,
    "start_time": "2022-12-14T14:41:07.317Z"
   },
   {
    "duration": 0,
    "start_time": "2022-12-14T14:41:07.318Z"
   },
   {
    "duration": 0,
    "start_time": "2022-12-14T14:41:07.320Z"
   },
   {
    "duration": 0,
    "start_time": "2022-12-14T14:41:07.322Z"
   },
   {
    "duration": 18,
    "start_time": "2022-12-14T14:41:22.457Z"
   },
   {
    "duration": 8,
    "start_time": "2022-12-14T14:41:30.944Z"
   },
   {
    "duration": 21,
    "start_time": "2022-12-14T14:41:33.485Z"
   },
   {
    "duration": 7,
    "start_time": "2022-12-14T14:41:47.138Z"
   },
   {
    "duration": 4,
    "start_time": "2022-12-14T14:41:49.798Z"
   },
   {
    "duration": 10,
    "start_time": "2022-12-14T14:42:08.167Z"
   },
   {
    "duration": 7,
    "start_time": "2022-12-14T14:42:11.450Z"
   },
   {
    "duration": 15,
    "start_time": "2022-12-14T14:42:16.309Z"
   },
   {
    "duration": 428,
    "start_time": "2022-12-14T14:43:00.746Z"
   },
   {
    "duration": 61,
    "start_time": "2022-12-14T14:43:01.176Z"
   },
   {
    "duration": 40,
    "start_time": "2022-12-14T14:43:01.273Z"
   },
   {
    "duration": 15,
    "start_time": "2022-12-14T14:43:01.315Z"
   },
   {
    "duration": 1080,
    "start_time": "2022-12-14T14:43:01.332Z"
   },
   {
    "duration": 5,
    "start_time": "2022-12-14T14:43:02.414Z"
   },
   {
    "duration": 23,
    "start_time": "2022-12-14T14:43:02.420Z"
   },
   {
    "duration": 19,
    "start_time": "2022-12-14T14:43:02.445Z"
   },
   {
    "duration": 63,
    "start_time": "2022-12-14T14:43:02.465Z"
   },
   {
    "duration": 9,
    "start_time": "2022-12-14T14:43:02.529Z"
   },
   {
    "duration": 18,
    "start_time": "2022-12-14T14:43:02.540Z"
   },
   {
    "duration": 13,
    "start_time": "2022-12-14T14:43:02.561Z"
   },
   {
    "duration": 41,
    "start_time": "2022-12-14T14:43:02.576Z"
   },
   {
    "duration": 123,
    "start_time": "2022-12-14T14:43:02.619Z"
   },
   {
    "duration": 27,
    "start_time": "2022-12-14T14:43:02.744Z"
   },
   {
    "duration": 5,
    "start_time": "2022-12-14T14:43:02.772Z"
   },
   {
    "duration": 34,
    "start_time": "2022-12-14T14:43:02.778Z"
   },
   {
    "duration": 20,
    "start_time": "2022-12-14T14:43:02.814Z"
   },
   {
    "duration": 176,
    "start_time": "2022-12-14T14:43:02.836Z"
   },
   {
    "duration": 6,
    "start_time": "2022-12-14T14:43:03.014Z"
   },
   {
    "duration": 9,
    "start_time": "2022-12-14T14:43:03.022Z"
   },
   {
    "duration": 8,
    "start_time": "2022-12-14T14:43:03.033Z"
   },
   {
    "duration": 15,
    "start_time": "2022-12-14T14:43:03.043Z"
   },
   {
    "duration": 3,
    "start_time": "2022-12-14T14:43:03.060Z"
   },
   {
    "duration": 6,
    "start_time": "2022-12-14T14:43:03.065Z"
   },
   {
    "duration": 21,
    "start_time": "2022-12-14T14:43:03.113Z"
   },
   {
    "duration": 91,
    "start_time": "2022-12-14T14:43:03.136Z"
   },
   {
    "duration": 29,
    "start_time": "2022-12-14T14:43:03.229Z"
   },
   {
    "duration": 16,
    "start_time": "2022-12-14T14:43:03.260Z"
   },
   {
    "duration": 62,
    "start_time": "2022-12-14T14:43:03.279Z"
   },
   {
    "duration": 15,
    "start_time": "2022-12-14T14:43:03.343Z"
   },
   {
    "duration": 3,
    "start_time": "2022-12-14T14:43:03.359Z"
   },
   {
    "duration": 6,
    "start_time": "2022-12-14T14:43:51.664Z"
   },
   {
    "duration": 203,
    "start_time": "2022-12-14T14:44:16.321Z"
   },
   {
    "duration": 4,
    "start_time": "2022-12-14T14:46:34.378Z"
   },
   {
    "duration": 5,
    "start_time": "2022-12-14T14:47:01.939Z"
   },
   {
    "duration": 427,
    "start_time": "2022-12-14T14:52:40.101Z"
   },
   {
    "duration": 3,
    "start_time": "2022-12-14T14:52:40.530Z"
   },
   {
    "duration": 54,
    "start_time": "2022-12-14T14:52:40.534Z"
   },
   {
    "duration": 23,
    "start_time": "2022-12-14T14:52:40.590Z"
   },
   {
    "duration": 15,
    "start_time": "2022-12-14T14:52:40.614Z"
   },
   {
    "duration": 1062,
    "start_time": "2022-12-14T14:52:40.630Z"
   },
   {
    "duration": 4,
    "start_time": "2022-12-14T14:52:41.694Z"
   },
   {
    "duration": 27,
    "start_time": "2022-12-14T14:52:41.700Z"
   },
   {
    "duration": 19,
    "start_time": "2022-12-14T14:52:41.728Z"
   },
   {
    "duration": 63,
    "start_time": "2022-12-14T14:52:41.750Z"
   },
   {
    "duration": 9,
    "start_time": "2022-12-14T14:52:41.815Z"
   },
   {
    "duration": 22,
    "start_time": "2022-12-14T14:52:41.826Z"
   },
   {
    "duration": 13,
    "start_time": "2022-12-14T14:52:41.850Z"
   },
   {
    "duration": 10,
    "start_time": "2022-12-14T14:52:41.865Z"
   },
   {
    "duration": 148,
    "start_time": "2022-12-14T14:52:41.876Z"
   },
   {
    "duration": 6,
    "start_time": "2022-12-14T14:52:42.025Z"
   },
   {
    "duration": 16,
    "start_time": "2022-12-14T14:52:42.033Z"
   },
   {
    "duration": 17,
    "start_time": "2022-12-14T14:52:42.050Z"
   },
   {
    "duration": 191,
    "start_time": "2022-12-14T14:52:42.069Z"
   },
   {
    "duration": 5,
    "start_time": "2022-12-14T14:52:42.262Z"
   },
   {
    "duration": 15,
    "start_time": "2022-12-14T14:52:42.269Z"
   },
   {
    "duration": 231,
    "start_time": "2022-12-14T14:52:42.286Z"
   },
   {
    "duration": 17,
    "start_time": "2022-12-14T14:52:42.520Z"
   },
   {
    "duration": 25,
    "start_time": "2022-12-14T14:52:42.539Z"
   },
   {
    "duration": 59,
    "start_time": "2022-12-14T14:52:42.567Z"
   },
   {
    "duration": 17,
    "start_time": "2022-12-14T14:52:42.628Z"
   },
   {
    "duration": 40,
    "start_time": "2022-12-14T14:52:42.648Z"
   },
   {
    "duration": 3,
    "start_time": "2022-12-14T14:52:42.713Z"
   },
   {
    "duration": 156,
    "start_time": "2022-12-14T14:54:00.599Z"
   },
   {
    "duration": 20,
    "start_time": "2022-12-14T14:56:52.319Z"
   },
   {
    "duration": 14,
    "start_time": "2022-12-14T14:57:22.280Z"
   },
   {
    "duration": 38,
    "start_time": "2022-12-14T14:59:48.685Z"
   },
   {
    "duration": 32,
    "start_time": "2022-12-14T14:59:58.067Z"
   },
   {
    "duration": 18,
    "start_time": "2022-12-14T15:00:26.066Z"
   },
   {
    "duration": 34,
    "start_time": "2022-12-14T15:00:32.375Z"
   },
   {
    "duration": 19,
    "start_time": "2022-12-14T15:01:19.329Z"
   },
   {
    "duration": 18,
    "start_time": "2022-12-14T15:06:16.516Z"
   },
   {
    "duration": 54,
    "start_time": "2022-12-14T15:08:37.077Z"
   },
   {
    "duration": 17,
    "start_time": "2022-12-14T15:08:52.268Z"
   },
   {
    "duration": 64,
    "start_time": "2022-12-14T15:08:57.522Z"
   },
   {
    "duration": 60,
    "start_time": "2022-12-14T15:10:11.231Z"
   },
   {
    "duration": 18,
    "start_time": "2022-12-14T15:10:29.846Z"
   },
   {
    "duration": 60,
    "start_time": "2022-12-14T15:11:02.323Z"
   },
   {
    "duration": 27,
    "start_time": "2022-12-14T15:11:26.345Z"
   },
   {
    "duration": 61,
    "start_time": "2022-12-14T15:12:18.907Z"
   },
   {
    "duration": 36,
    "start_time": "2022-12-14T15:12:44.827Z"
   },
   {
    "duration": 74,
    "start_time": "2022-12-14T15:13:09.020Z"
   },
   {
    "duration": 85,
    "start_time": "2022-12-14T15:13:29.792Z"
   },
   {
    "duration": 14,
    "start_time": "2022-12-14T15:13:48.488Z"
   },
   {
    "duration": 9,
    "start_time": "2022-12-14T15:22:33.794Z"
   },
   {
    "duration": 17,
    "start_time": "2022-12-14T15:26:24.179Z"
   },
   {
    "duration": 64,
    "start_time": "2022-12-14T15:27:11.596Z"
   },
   {
    "duration": 58,
    "start_time": "2022-12-14T15:27:51.123Z"
   },
   {
    "duration": 50,
    "start_time": "2022-12-14T15:28:00.579Z"
   },
   {
    "duration": 54,
    "start_time": "2022-12-14T15:28:06.801Z"
   },
   {
    "duration": 2,
    "start_time": "2022-12-14T15:30:48.425Z"
   },
   {
    "duration": 55,
    "start_time": "2022-12-14T15:31:28.695Z"
   },
   {
    "duration": 2,
    "start_time": "2022-12-14T15:34:12.127Z"
   },
   {
    "duration": 8,
    "start_time": "2022-12-14T15:34:38.058Z"
   },
   {
    "duration": 44,
    "start_time": "2022-12-14T15:34:42.326Z"
   },
   {
    "duration": 217,
    "start_time": "2022-12-14T15:37:35.439Z"
   },
   {
    "duration": 176,
    "start_time": "2022-12-14T15:37:53.734Z"
   },
   {
    "duration": 181,
    "start_time": "2022-12-14T15:38:54.694Z"
   },
   {
    "duration": 47,
    "start_time": "2022-12-14T15:39:42.761Z"
   },
   {
    "duration": 282,
    "start_time": "2022-12-14T15:39:48.605Z"
   },
   {
    "duration": 236,
    "start_time": "2022-12-14T15:39:55.680Z"
   },
   {
    "duration": 232,
    "start_time": "2022-12-14T15:39:59.436Z"
   },
   {
    "duration": 183,
    "start_time": "2022-12-14T15:40:10.044Z"
   },
   {
    "duration": 216,
    "start_time": "2022-12-14T15:40:16.769Z"
   },
   {
    "duration": 291,
    "start_time": "2022-12-14T15:41:42.205Z"
   },
   {
    "duration": 266,
    "start_time": "2022-12-14T15:42:12.950Z"
   },
   {
    "duration": 274,
    "start_time": "2022-12-14T15:43:30.972Z"
   },
   {
    "duration": 289,
    "start_time": "2022-12-14T15:43:56.749Z"
   },
   {
    "duration": 270,
    "start_time": "2022-12-14T15:45:11.895Z"
   },
   {
    "duration": 257,
    "start_time": "2022-12-14T15:45:16.568Z"
   },
   {
    "duration": 16,
    "start_time": "2022-12-14T15:45:58.554Z"
   },
   {
    "duration": 282,
    "start_time": "2022-12-14T15:46:31.496Z"
   },
   {
    "duration": 49,
    "start_time": "2022-12-14T15:47:02.623Z"
   },
   {
    "duration": 10,
    "start_time": "2022-12-14T15:50:28.847Z"
   },
   {
    "duration": 431,
    "start_time": "2022-12-14T15:50:49.112Z"
   },
   {
    "duration": 4,
    "start_time": "2022-12-14T15:50:49.545Z"
   },
   {
    "duration": 72,
    "start_time": "2022-12-14T15:50:49.551Z"
   },
   {
    "duration": 24,
    "start_time": "2022-12-14T15:50:49.626Z"
   },
   {
    "duration": 15,
    "start_time": "2022-12-14T15:50:49.652Z"
   },
   {
    "duration": 1042,
    "start_time": "2022-12-14T15:50:49.668Z"
   },
   {
    "duration": 5,
    "start_time": "2022-12-14T15:50:50.711Z"
   },
   {
    "duration": 24,
    "start_time": "2022-12-14T15:50:50.717Z"
   },
   {
    "duration": 24,
    "start_time": "2022-12-14T15:50:50.744Z"
   },
   {
    "duration": 51,
    "start_time": "2022-12-14T15:50:50.772Z"
   },
   {
    "duration": 11,
    "start_time": "2022-12-14T15:50:50.825Z"
   },
   {
    "duration": 37,
    "start_time": "2022-12-14T15:50:50.837Z"
   },
   {
    "duration": 14,
    "start_time": "2022-12-14T15:50:50.875Z"
   },
   {
    "duration": 21,
    "start_time": "2022-12-14T15:50:50.891Z"
   },
   {
    "duration": 116,
    "start_time": "2022-12-14T15:50:50.914Z"
   },
   {
    "duration": 6,
    "start_time": "2022-12-14T15:50:51.031Z"
   },
   {
    "duration": 13,
    "start_time": "2022-12-14T15:50:51.038Z"
   },
   {
    "duration": 18,
    "start_time": "2022-12-14T15:50:51.053Z"
   },
   {
    "duration": 40,
    "start_time": "2022-12-14T15:50:51.073Z"
   },
   {
    "duration": 33,
    "start_time": "2022-12-14T15:50:51.115Z"
   },
   {
    "duration": 8,
    "start_time": "2022-12-14T15:50:51.150Z"
   },
   {
    "duration": 84,
    "start_time": "2022-12-14T15:50:51.160Z"
   },
   {
    "duration": 407,
    "start_time": "2022-12-14T15:50:51.247Z"
   },
   {
    "duration": 17,
    "start_time": "2022-12-14T15:50:51.656Z"
   },
   {
    "duration": 154,
    "start_time": "2022-12-14T15:50:51.674Z"
   },
   {
    "duration": 6,
    "start_time": "2022-12-14T15:50:51.830Z"
   },
   {
    "duration": 18,
    "start_time": "2022-12-14T15:50:51.838Z"
   },
   {
    "duration": 178,
    "start_time": "2022-12-14T15:50:51.859Z"
   },
   {
    "duration": 16,
    "start_time": "2022-12-14T15:50:52.038Z"
   },
   {
    "duration": 26,
    "start_time": "2022-12-14T15:50:52.056Z"
   },
   {
    "duration": 52,
    "start_time": "2022-12-14T15:50:52.083Z"
   },
   {
    "duration": 16,
    "start_time": "2022-12-14T15:50:52.137Z"
   },
   {
    "duration": 32,
    "start_time": "2022-12-14T15:50:52.154Z"
   },
   {
    "duration": 3,
    "start_time": "2022-12-14T15:50:52.188Z"
   },
   {
    "duration": 328,
    "start_time": "2022-12-14T15:51:19.087Z"
   },
   {
    "duration": 297,
    "start_time": "2022-12-14T15:51:25.736Z"
   },
   {
    "duration": 284,
    "start_time": "2022-12-14T15:52:36.868Z"
   },
   {
    "duration": 289,
    "start_time": "2022-12-14T15:52:52.807Z"
   },
   {
    "duration": 315,
    "start_time": "2022-12-14T15:53:03.126Z"
   },
   {
    "duration": 21,
    "start_time": "2022-12-14T16:14:34.680Z"
   },
   {
    "duration": 18,
    "start_time": "2022-12-14T16:14:41.987Z"
   },
   {
    "duration": 18,
    "start_time": "2022-12-14T16:14:48.397Z"
   },
   {
    "duration": 217,
    "start_time": "2022-12-14T16:17:16.461Z"
   },
   {
    "duration": 17,
    "start_time": "2022-12-14T16:17:32.448Z"
   },
   {
    "duration": 85,
    "start_time": "2022-12-14T16:17:42.796Z"
   },
   {
    "duration": 16,
    "start_time": "2022-12-14T16:17:56.394Z"
   },
   {
    "duration": 9,
    "start_time": "2022-12-14T16:20:34.045Z"
   },
   {
    "duration": 1841,
    "start_time": "2022-12-14T16:21:09.323Z"
   },
   {
    "duration": 353,
    "start_time": "2022-12-14T16:22:05.983Z"
   },
   {
    "duration": 33,
    "start_time": "2022-12-14T16:25:22.128Z"
   },
   {
    "duration": 54,
    "start_time": "2022-12-14T16:25:37.089Z"
   },
   {
    "duration": 276,
    "start_time": "2022-12-14T16:25:45.567Z"
   },
   {
    "duration": 18,
    "start_time": "2022-12-14T16:25:58.314Z"
   },
   {
    "duration": 13,
    "start_time": "2022-12-14T16:26:10.967Z"
   },
   {
    "duration": 196,
    "start_time": "2022-12-14T16:27:07.260Z"
   },
   {
    "duration": 69,
    "start_time": "2022-12-14T16:29:55.579Z"
   },
   {
    "duration": 460,
    "start_time": "2022-12-14T16:30:23.126Z"
   },
   {
    "duration": 50,
    "start_time": "2022-12-14T16:30:54.356Z"
   },
   {
    "duration": 1335,
    "start_time": "2022-12-14T16:31:32.371Z"
   },
   {
    "duration": 31,
    "start_time": "2022-12-14T16:31:58.401Z"
   },
   {
    "duration": 178,
    "start_time": "2022-12-14T16:32:11.380Z"
   },
   {
    "duration": 201,
    "start_time": "2022-12-14T16:32:30.585Z"
   },
   {
    "duration": 217,
    "start_time": "2022-12-14T16:32:37.245Z"
   },
   {
    "duration": 207,
    "start_time": "2022-12-14T16:32:45.753Z"
   },
   {
    "duration": 196,
    "start_time": "2022-12-14T16:32:49.312Z"
   },
   {
    "duration": 159,
    "start_time": "2022-12-14T16:33:29.965Z"
   },
   {
    "duration": 138,
    "start_time": "2022-12-14T16:33:53.161Z"
   },
   {
    "duration": 170,
    "start_time": "2022-12-14T16:34:05.420Z"
   },
   {
    "duration": 31,
    "start_time": "2022-12-14T16:44:31.952Z"
   },
   {
    "duration": 16,
    "start_time": "2022-12-14T16:44:47.402Z"
   },
   {
    "duration": 1438,
    "start_time": "2022-12-14T16:45:28.798Z"
   },
   {
    "duration": 43,
    "start_time": "2022-12-14T16:45:31.561Z"
   },
   {
    "duration": 2,
    "start_time": "2022-12-14T16:47:03.656Z"
   },
   {
    "duration": 23,
    "start_time": "2022-12-14T16:47:04.367Z"
   },
   {
    "duration": 13,
    "start_time": "2022-12-14T16:48:39.916Z"
   },
   {
    "duration": 14,
    "start_time": "2022-12-14T16:50:26.620Z"
   },
   {
    "duration": 14,
    "start_time": "2022-12-14T16:50:35.501Z"
   },
   {
    "duration": 13,
    "start_time": "2022-12-14T16:50:42.851Z"
   },
   {
    "duration": 14,
    "start_time": "2022-12-14T16:50:52.210Z"
   },
   {
    "duration": 14,
    "start_time": "2022-12-14T16:51:18.951Z"
   },
   {
    "duration": 14,
    "start_time": "2022-12-14T16:51:35.173Z"
   },
   {
    "duration": 48,
    "start_time": "2022-12-14T16:57:29.499Z"
   },
   {
    "duration": 45,
    "start_time": "2022-12-14T16:57:29.727Z"
   },
   {
    "duration": 22,
    "start_time": "2022-12-14T16:59:36.936Z"
   },
   {
    "duration": 16,
    "start_time": "2022-12-14T17:00:21.714Z"
   },
   {
    "duration": 14,
    "start_time": "2022-12-14T17:00:34.969Z"
   },
   {
    "duration": 9,
    "start_time": "2022-12-14T17:00:59.026Z"
   },
   {
    "duration": 13,
    "start_time": "2022-12-14T17:01:16.925Z"
   },
   {
    "duration": 13,
    "start_time": "2022-12-14T17:01:20.636Z"
   },
   {
    "duration": 13,
    "start_time": "2022-12-14T17:01:37.101Z"
   },
   {
    "duration": 386,
    "start_time": "2022-12-14T17:02:15.265Z"
   },
   {
    "duration": 3,
    "start_time": "2022-12-14T17:02:15.653Z"
   },
   {
    "duration": 59,
    "start_time": "2022-12-14T17:02:15.657Z"
   },
   {
    "duration": 24,
    "start_time": "2022-12-14T17:02:15.718Z"
   },
   {
    "duration": 14,
    "start_time": "2022-12-14T17:02:15.744Z"
   },
   {
    "duration": 1203,
    "start_time": "2022-12-14T17:02:15.760Z"
   },
   {
    "duration": 5,
    "start_time": "2022-12-14T17:02:16.965Z"
   },
   {
    "duration": 29,
    "start_time": "2022-12-14T17:02:16.972Z"
   },
   {
    "duration": 45,
    "start_time": "2022-12-14T17:02:17.003Z"
   },
   {
    "duration": 93,
    "start_time": "2022-12-14T17:02:17.052Z"
   },
   {
    "duration": 20,
    "start_time": "2022-12-14T17:02:17.147Z"
   },
   {
    "duration": 48,
    "start_time": "2022-12-14T17:02:17.169Z"
   },
   {
    "duration": 21,
    "start_time": "2022-12-14T17:02:17.219Z"
   },
   {
    "duration": 58,
    "start_time": "2022-12-14T17:02:17.242Z"
   },
   {
    "duration": 151,
    "start_time": "2022-12-14T17:02:17.302Z"
   },
   {
    "duration": 8,
    "start_time": "2022-12-14T17:02:17.455Z"
   },
   {
    "duration": 30,
    "start_time": "2022-12-14T17:02:17.465Z"
   },
   {
    "duration": 37,
    "start_time": "2022-12-14T17:02:17.497Z"
   },
   {
    "duration": 19,
    "start_time": "2022-12-14T17:02:17.536Z"
   },
   {
    "duration": 62,
    "start_time": "2022-12-14T17:02:17.557Z"
   },
   {
    "duration": 12,
    "start_time": "2022-12-14T17:02:17.622Z"
   },
   {
    "duration": 109,
    "start_time": "2022-12-14T17:02:17.637Z"
   },
   {
    "duration": 423,
    "start_time": "2022-12-14T17:02:17.749Z"
   },
   {
    "duration": 201,
    "start_time": "2022-12-14T17:02:18.183Z"
   },
   {
    "duration": 42,
    "start_time": "2022-12-14T17:02:18.386Z"
   },
   {
    "duration": 17,
    "start_time": "2022-12-14T17:02:18.430Z"
   },
   {
    "duration": 30,
    "start_time": "2022-12-14T17:02:18.449Z"
   },
   {
    "duration": 178,
    "start_time": "2022-12-14T17:02:18.483Z"
   },
   {
    "duration": 5,
    "start_time": "2022-12-14T17:02:18.663Z"
   },
   {
    "duration": 31,
    "start_time": "2022-12-14T17:02:18.670Z"
   },
   {
    "duration": 174,
    "start_time": "2022-12-14T17:02:18.712Z"
   },
   {
    "duration": 8,
    "start_time": "2022-12-14T17:02:18.888Z"
   },
   {
    "duration": 510,
    "start_time": "2022-12-14T17:02:18.898Z"
   },
   {
    "duration": 15,
    "start_time": "2022-12-14T17:02:19.409Z"
   },
   {
    "duration": 18,
    "start_time": "2022-12-14T17:02:19.425Z"
   },
   {
    "duration": 20,
    "start_time": "2022-12-14T17:02:32.854Z"
   },
   {
    "duration": 20,
    "start_time": "2022-12-14T17:31:07.347Z"
   },
   {
    "duration": 28,
    "start_time": "2022-12-14T17:31:47.150Z"
   },
   {
    "duration": 22,
    "start_time": "2022-12-14T17:32:09.728Z"
   },
   {
    "duration": 20,
    "start_time": "2022-12-14T17:33:04.223Z"
   },
   {
    "duration": 16,
    "start_time": "2022-12-14T17:33:05.144Z"
   },
   {
    "duration": 19,
    "start_time": "2022-12-14T17:33:14.839Z"
   },
   {
    "duration": 17,
    "start_time": "2022-12-14T17:33:17.099Z"
   },
   {
    "duration": 17,
    "start_time": "2022-12-14T17:34:03.031Z"
   },
   {
    "duration": 24,
    "start_time": "2022-12-14T17:34:30.923Z"
   },
   {
    "duration": 18,
    "start_time": "2022-12-14T17:34:32.628Z"
   },
   {
    "duration": 16,
    "start_time": "2022-12-14T17:35:34.299Z"
   },
   {
    "duration": 108,
    "start_time": "2022-12-14T17:35:58.192Z"
   },
   {
    "duration": 16,
    "start_time": "2022-12-14T17:36:10.269Z"
   },
   {
    "duration": 17,
    "start_time": "2022-12-14T17:36:11.510Z"
   },
   {
    "duration": 6,
    "start_time": "2022-12-14T17:37:10.268Z"
   },
   {
    "duration": 152,
    "start_time": "2022-12-14T17:37:35.570Z"
   },
   {
    "duration": 587,
    "start_time": "2022-12-14T17:39:33.942Z"
   },
   {
    "duration": 17,
    "start_time": "2022-12-14T17:39:42.748Z"
   },
   {
    "duration": 3,
    "start_time": "2022-12-14T17:40:51.210Z"
   },
   {
    "duration": 15,
    "start_time": "2022-12-14T17:40:58.008Z"
   },
   {
    "duration": 18,
    "start_time": "2022-12-14T17:41:17.032Z"
   },
   {
    "duration": 252,
    "start_time": "2022-12-14T17:41:34.418Z"
   },
   {
    "duration": 167,
    "start_time": "2022-12-14T17:42:05.104Z"
   },
   {
    "duration": 14,
    "start_time": "2022-12-14T17:42:19.411Z"
   },
   {
    "duration": 22,
    "start_time": "2022-12-14T17:42:48.038Z"
   },
   {
    "duration": 16,
    "start_time": "2022-12-14T17:43:24.387Z"
   },
   {
    "duration": 10,
    "start_time": "2022-12-14T17:50:04.826Z"
   },
   {
    "duration": 39,
    "start_time": "2022-12-14T17:50:12.287Z"
   },
   {
    "duration": 31,
    "start_time": "2022-12-14T17:51:25.789Z"
   },
   {
    "duration": 239,
    "start_time": "2022-12-14T17:52:58.568Z"
   },
   {
    "duration": 33,
    "start_time": "2022-12-14T17:54:23.211Z"
   },
   {
    "duration": 323,
    "start_time": "2022-12-14T17:54:30.341Z"
   },
   {
    "duration": 325,
    "start_time": "2022-12-14T17:55:31.531Z"
   },
   {
    "duration": 41,
    "start_time": "2022-12-14T17:55:38.054Z"
   },
   {
    "duration": 360,
    "start_time": "2022-12-14T17:55:38.772Z"
   },
   {
    "duration": 35,
    "start_time": "2022-12-14T17:56:29.226Z"
   },
   {
    "duration": 39,
    "start_time": "2022-12-14T17:57:32.338Z"
   },
   {
    "duration": 34,
    "start_time": "2022-12-14T17:57:50.848Z"
   },
   {
    "duration": 22,
    "start_time": "2022-12-14T17:59:03.979Z"
   },
   {
    "duration": 33,
    "start_time": "2022-12-14T17:59:15.173Z"
   },
   {
    "duration": 270,
    "start_time": "2022-12-14T17:59:58.396Z"
   },
   {
    "duration": 33,
    "start_time": "2022-12-14T18:00:13.723Z"
   },
   {
    "duration": 42,
    "start_time": "2022-12-14T18:00:56.422Z"
   },
   {
    "duration": 258,
    "start_time": "2022-12-14T18:01:01.982Z"
   },
   {
    "duration": 255,
    "start_time": "2022-12-14T18:01:12.224Z"
   },
   {
    "duration": 35,
    "start_time": "2022-12-14T18:04:45.415Z"
   },
   {
    "duration": 10,
    "start_time": "2022-12-14T18:06:45.880Z"
   },
   {
    "duration": 3,
    "start_time": "2022-12-14T18:31:13.236Z"
   },
   {
    "duration": 380,
    "start_time": "2022-12-14T18:44:48.164Z"
   },
   {
    "duration": 3,
    "start_time": "2022-12-14T18:44:48.546Z"
   },
   {
    "duration": 60,
    "start_time": "2022-12-14T18:44:48.550Z"
   },
   {
    "duration": 22,
    "start_time": "2022-12-14T18:44:48.612Z"
   },
   {
    "duration": 12,
    "start_time": "2022-12-14T18:44:48.635Z"
   },
   {
    "duration": 990,
    "start_time": "2022-12-14T18:44:48.649Z"
   },
   {
    "duration": 4,
    "start_time": "2022-12-14T18:44:49.640Z"
   },
   {
    "duration": 21,
    "start_time": "2022-12-14T18:44:49.645Z"
   },
   {
    "duration": 17,
    "start_time": "2022-12-14T18:44:49.668Z"
   },
   {
    "duration": 28,
    "start_time": "2022-12-14T18:44:49.688Z"
   },
   {
    "duration": 23,
    "start_time": "2022-12-14T18:44:49.718Z"
   },
   {
    "duration": 15,
    "start_time": "2022-12-14T18:44:49.743Z"
   },
   {
    "duration": 13,
    "start_time": "2022-12-14T18:44:49.759Z"
   },
   {
    "duration": 128,
    "start_time": "2022-12-14T18:44:49.774Z"
   },
   {
    "duration": 8,
    "start_time": "2022-12-14T18:44:49.904Z"
   },
   {
    "duration": 12,
    "start_time": "2022-12-14T18:44:49.914Z"
   },
   {
    "duration": 18,
    "start_time": "2022-12-14T18:44:49.928Z"
   },
   {
    "duration": 12,
    "start_time": "2022-12-14T18:44:49.948Z"
   },
   {
    "duration": 52,
    "start_time": "2022-12-14T18:44:49.961Z"
   },
   {
    "duration": 9,
    "start_time": "2022-12-14T18:44:50.015Z"
   },
   {
    "duration": 92,
    "start_time": "2022-12-14T18:44:50.026Z"
   },
   {
    "duration": 0,
    "start_time": "2022-12-14T18:44:50.120Z"
   },
   {
    "duration": 0,
    "start_time": "2022-12-14T18:44:50.122Z"
   },
   {
    "duration": 0,
    "start_time": "2022-12-14T18:44:50.123Z"
   },
   {
    "duration": 0,
    "start_time": "2022-12-14T18:44:50.124Z"
   },
   {
    "duration": 0,
    "start_time": "2022-12-14T18:44:50.125Z"
   },
   {
    "duration": 0,
    "start_time": "2022-12-14T18:44:50.126Z"
   },
   {
    "duration": 0,
    "start_time": "2022-12-14T18:44:50.127Z"
   },
   {
    "duration": 0,
    "start_time": "2022-12-14T18:44:50.128Z"
   },
   {
    "duration": 0,
    "start_time": "2022-12-14T18:44:50.129Z"
   },
   {
    "duration": 0,
    "start_time": "2022-12-14T18:44:50.131Z"
   },
   {
    "duration": 0,
    "start_time": "2022-12-14T18:44:50.132Z"
   },
   {
    "duration": 0,
    "start_time": "2022-12-14T18:44:50.133Z"
   },
   {
    "duration": 0,
    "start_time": "2022-12-14T18:44:50.134Z"
   },
   {
    "duration": 0,
    "start_time": "2022-12-14T18:44:50.135Z"
   },
   {
    "duration": 0,
    "start_time": "2022-12-14T18:44:50.136Z"
   },
   {
    "duration": 0,
    "start_time": "2022-12-14T18:44:50.137Z"
   },
   {
    "duration": 0,
    "start_time": "2022-12-14T18:44:50.138Z"
   },
   {
    "duration": 0,
    "start_time": "2022-12-14T18:44:50.139Z"
   },
   {
    "duration": 0,
    "start_time": "2022-12-14T18:44:50.140Z"
   },
   {
    "duration": 0,
    "start_time": "2022-12-14T18:44:50.142Z"
   },
   {
    "duration": 0,
    "start_time": "2022-12-14T18:44:50.143Z"
   },
   {
    "duration": 0,
    "start_time": "2022-12-14T18:44:50.144Z"
   },
   {
    "duration": 0,
    "start_time": "2022-12-14T18:44:50.145Z"
   },
   {
    "duration": 53,
    "start_time": "2022-12-14T18:46:06.928Z"
   },
   {
    "duration": 23,
    "start_time": "2022-12-14T18:46:14.097Z"
   },
   {
    "duration": 55,
    "start_time": "2022-12-14T18:46:18.468Z"
   },
   {
    "duration": 429,
    "start_time": "2022-12-14T18:46:38.508Z"
   },
   {
    "duration": 3,
    "start_time": "2022-12-14T18:46:38.939Z"
   },
   {
    "duration": 61,
    "start_time": "2022-12-14T18:46:38.943Z"
   },
   {
    "duration": 23,
    "start_time": "2022-12-14T18:46:39.006Z"
   },
   {
    "duration": 13,
    "start_time": "2022-12-14T18:46:39.031Z"
   },
   {
    "duration": 938,
    "start_time": "2022-12-14T18:46:39.045Z"
   },
   {
    "duration": 4,
    "start_time": "2022-12-14T18:46:39.985Z"
   },
   {
    "duration": 33,
    "start_time": "2022-12-14T18:46:39.990Z"
   },
   {
    "duration": 18,
    "start_time": "2022-12-14T18:46:40.025Z"
   },
   {
    "duration": 8,
    "start_time": "2022-12-14T18:46:40.046Z"
   },
   {
    "duration": 22,
    "start_time": "2022-12-14T18:46:40.055Z"
   },
   {
    "duration": 34,
    "start_time": "2022-12-14T18:46:40.078Z"
   },
   {
    "duration": 8,
    "start_time": "2022-12-14T18:46:40.114Z"
   },
   {
    "duration": 109,
    "start_time": "2022-12-14T18:46:40.123Z"
   },
   {
    "duration": 4,
    "start_time": "2022-12-14T18:46:40.234Z"
   },
   {
    "duration": 13,
    "start_time": "2022-12-14T18:46:40.239Z"
   },
   {
    "duration": 17,
    "start_time": "2022-12-14T18:46:40.254Z"
   },
   {
    "duration": 12,
    "start_time": "2022-12-14T18:46:40.272Z"
   },
   {
    "duration": 52,
    "start_time": "2022-12-14T18:46:40.286Z"
   },
   {
    "duration": 6,
    "start_time": "2022-12-14T18:46:40.340Z"
   },
   {
    "duration": 48,
    "start_time": "2022-12-14T18:46:40.348Z"
   },
   {
    "duration": 350,
    "start_time": "2022-12-14T18:46:40.397Z"
   },
   {
    "duration": 30,
    "start_time": "2022-12-14T18:46:40.749Z"
   },
   {
    "duration": 235,
    "start_time": "2022-12-14T18:46:40.781Z"
   },
   {
    "duration": 174,
    "start_time": "2022-12-14T18:46:41.018Z"
   },
   {
    "duration": 2,
    "start_time": "2022-12-14T18:46:41.194Z"
   },
   {
    "duration": 26,
    "start_time": "2022-12-14T18:46:41.197Z"
   },
   {
    "duration": 14,
    "start_time": "2022-12-14T18:46:41.226Z"
   },
   {
    "duration": 154,
    "start_time": "2022-12-14T18:46:41.242Z"
   },
   {
    "duration": 14,
    "start_time": "2022-12-14T18:46:41.398Z"
   },
   {
    "duration": 17,
    "start_time": "2022-12-14T18:46:41.413Z"
   },
   {
    "duration": 158,
    "start_time": "2022-12-14T18:46:41.432Z"
   },
   {
    "duration": 28,
    "start_time": "2022-12-14T18:46:41.592Z"
   },
   {
    "duration": 15,
    "start_time": "2022-12-14T18:46:41.621Z"
   },
   {
    "duration": 13,
    "start_time": "2022-12-14T18:46:41.638Z"
   },
   {
    "duration": 16,
    "start_time": "2022-12-14T18:46:41.653Z"
   },
   {
    "duration": 42,
    "start_time": "2022-12-14T18:46:41.671Z"
   },
   {
    "duration": 15,
    "start_time": "2022-12-14T18:46:41.715Z"
   },
   {
    "duration": 13,
    "start_time": "2022-12-14T18:46:41.732Z"
   },
   {
    "duration": 14,
    "start_time": "2022-12-14T18:46:41.747Z"
   },
   {
    "duration": 17,
    "start_time": "2022-12-14T18:46:41.762Z"
   },
   {
    "duration": 455,
    "start_time": "2022-12-14T18:46:41.781Z"
   },
   {
    "duration": 11,
    "start_time": "2022-12-14T18:46:42.238Z"
   },
   {
    "duration": 11,
    "start_time": "2022-12-14T18:46:42.250Z"
   },
   {
    "duration": 423,
    "start_time": "2022-12-14T19:25:03.626Z"
   },
   {
    "duration": 3,
    "start_time": "2022-12-14T19:25:04.051Z"
   },
   {
    "duration": 67,
    "start_time": "2022-12-14T19:25:04.055Z"
   },
   {
    "duration": 26,
    "start_time": "2022-12-14T19:25:04.125Z"
   },
   {
    "duration": 23,
    "start_time": "2022-12-14T19:25:04.153Z"
   },
   {
    "duration": 987,
    "start_time": "2022-12-14T19:25:04.178Z"
   },
   {
    "duration": 4,
    "start_time": "2022-12-14T19:25:05.167Z"
   },
   {
    "duration": 31,
    "start_time": "2022-12-14T19:25:05.172Z"
   },
   {
    "duration": 30,
    "start_time": "2022-12-14T19:25:05.205Z"
   },
   {
    "duration": 10,
    "start_time": "2022-12-14T19:25:05.238Z"
   },
   {
    "duration": 33,
    "start_time": "2022-12-14T19:25:05.249Z"
   },
   {
    "duration": 18,
    "start_time": "2022-12-14T19:25:05.283Z"
   },
   {
    "duration": 11,
    "start_time": "2022-12-14T19:25:05.303Z"
   },
   {
    "duration": 126,
    "start_time": "2022-12-14T19:25:05.316Z"
   },
   {
    "duration": 4,
    "start_time": "2022-12-14T19:25:05.444Z"
   },
   {
    "duration": 15,
    "start_time": "2022-12-14T19:25:05.450Z"
   },
   {
    "duration": 15,
    "start_time": "2022-12-14T19:25:05.467Z"
   },
   {
    "duration": 12,
    "start_time": "2022-12-14T19:25:05.483Z"
   },
   {
    "duration": 54,
    "start_time": "2022-12-14T19:25:05.496Z"
   },
   {
    "duration": 7,
    "start_time": "2022-12-14T19:25:05.552Z"
   },
   {
    "duration": 68,
    "start_time": "2022-12-14T19:25:05.561Z"
   },
   {
    "duration": 366,
    "start_time": "2022-12-14T19:25:05.630Z"
   },
   {
    "duration": 32,
    "start_time": "2022-12-14T19:25:05.997Z"
   },
   {
    "duration": 253,
    "start_time": "2022-12-14T19:25:06.031Z"
   },
   {
    "duration": 185,
    "start_time": "2022-12-14T19:25:06.287Z"
   },
   {
    "duration": 2,
    "start_time": "2022-12-14T19:25:06.474Z"
   },
   {
    "duration": 19,
    "start_time": "2022-12-14T19:25:06.478Z"
   },
   {
    "duration": 27,
    "start_time": "2022-12-14T19:25:06.500Z"
   },
   {
    "duration": 151,
    "start_time": "2022-12-14T19:25:06.529Z"
   },
   {
    "duration": 5,
    "start_time": "2022-12-14T19:25:06.682Z"
   },
   {
    "duration": 20,
    "start_time": "2022-12-14T19:25:06.688Z"
   },
   {
    "duration": 162,
    "start_time": "2022-12-14T19:25:06.709Z"
   },
   {
    "duration": 15,
    "start_time": "2022-12-14T19:25:06.873Z"
   },
   {
    "duration": 16,
    "start_time": "2022-12-14T19:25:06.889Z"
   },
   {
    "duration": 15,
    "start_time": "2022-12-14T19:25:06.923Z"
   },
   {
    "duration": 14,
    "start_time": "2022-12-14T19:25:06.939Z"
   },
   {
    "duration": 13,
    "start_time": "2022-12-14T19:25:06.955Z"
   },
   {
    "duration": 14,
    "start_time": "2022-12-14T19:25:06.969Z"
   },
   {
    "duration": 47,
    "start_time": "2022-12-14T19:25:06.984Z"
   },
   {
    "duration": 15,
    "start_time": "2022-12-14T19:25:07.033Z"
   },
   {
    "duration": 14,
    "start_time": "2022-12-14T19:25:07.049Z"
   },
   {
    "duration": 416,
    "start_time": "2022-12-14T19:25:07.065Z"
   },
   {
    "duration": 11,
    "start_time": "2022-12-14T19:25:07.483Z"
   },
   {
    "duration": 11,
    "start_time": "2022-12-14T19:25:07.495Z"
   },
   {
    "duration": 6,
    "start_time": "2022-12-15T16:13:35.595Z"
   },
   {
    "duration": 420,
    "start_time": "2022-12-15T16:14:03.331Z"
   },
   {
    "duration": 2,
    "start_time": "2022-12-15T16:14:03.753Z"
   },
   {
    "duration": 115,
    "start_time": "2022-12-15T16:14:03.757Z"
   },
   {
    "duration": 23,
    "start_time": "2022-12-15T16:14:03.874Z"
   },
   {
    "duration": 19,
    "start_time": "2022-12-15T16:14:03.900Z"
   },
   {
    "duration": 1108,
    "start_time": "2022-12-15T16:14:03.921Z"
   },
   {
    "duration": 4,
    "start_time": "2022-12-15T16:14:05.031Z"
   },
   {
    "duration": 881,
    "start_time": "2022-12-15T16:14:05.036Z"
   },
   {
    "duration": 0,
    "start_time": "2022-12-15T16:14:05.921Z"
   },
   {
    "duration": 0,
    "start_time": "2022-12-15T16:14:05.991Z"
   },
   {
    "duration": 0,
    "start_time": "2022-12-15T16:14:05.993Z"
   },
   {
    "duration": 0,
    "start_time": "2022-12-15T16:14:05.994Z"
   },
   {
    "duration": 0,
    "start_time": "2022-12-15T16:14:05.995Z"
   },
   {
    "duration": 0,
    "start_time": "2022-12-15T16:14:05.996Z"
   },
   {
    "duration": 0,
    "start_time": "2022-12-15T16:14:05.998Z"
   },
   {
    "duration": 0,
    "start_time": "2022-12-15T16:14:05.999Z"
   },
   {
    "duration": 0,
    "start_time": "2022-12-15T16:14:06.000Z"
   },
   {
    "duration": 0,
    "start_time": "2022-12-15T16:14:06.001Z"
   },
   {
    "duration": 0,
    "start_time": "2022-12-15T16:14:06.002Z"
   },
   {
    "duration": 0,
    "start_time": "2022-12-15T16:14:06.004Z"
   },
   {
    "duration": 0,
    "start_time": "2022-12-15T16:14:06.005Z"
   },
   {
    "duration": 0,
    "start_time": "2022-12-15T16:14:06.007Z"
   },
   {
    "duration": 0,
    "start_time": "2022-12-15T16:14:06.008Z"
   },
   {
    "duration": 0,
    "start_time": "2022-12-15T16:14:06.009Z"
   },
   {
    "duration": 0,
    "start_time": "2022-12-15T16:14:06.010Z"
   },
   {
    "duration": 0,
    "start_time": "2022-12-15T16:14:06.011Z"
   },
   {
    "duration": 0,
    "start_time": "2022-12-15T16:14:06.012Z"
   },
   {
    "duration": 0,
    "start_time": "2022-12-15T16:14:06.014Z"
   },
   {
    "duration": 0,
    "start_time": "2022-12-15T16:14:06.015Z"
   },
   {
    "duration": 0,
    "start_time": "2022-12-15T16:14:06.016Z"
   },
   {
    "duration": 0,
    "start_time": "2022-12-15T16:14:06.017Z"
   },
   {
    "duration": 0,
    "start_time": "2022-12-15T16:14:06.018Z"
   },
   {
    "duration": 0,
    "start_time": "2022-12-15T16:14:06.019Z"
   },
   {
    "duration": 0,
    "start_time": "2022-12-15T16:14:06.020Z"
   },
   {
    "duration": 0,
    "start_time": "2022-12-15T16:14:06.021Z"
   },
   {
    "duration": 0,
    "start_time": "2022-12-15T16:14:06.023Z"
   },
   {
    "duration": 0,
    "start_time": "2022-12-15T16:14:06.024Z"
   },
   {
    "duration": 0,
    "start_time": "2022-12-15T16:14:06.025Z"
   },
   {
    "duration": 0,
    "start_time": "2022-12-15T16:14:06.026Z"
   },
   {
    "duration": 0,
    "start_time": "2022-12-15T16:14:06.028Z"
   },
   {
    "duration": 0,
    "start_time": "2022-12-15T16:14:06.030Z"
   },
   {
    "duration": 0,
    "start_time": "2022-12-15T16:14:06.031Z"
   },
   {
    "duration": 0,
    "start_time": "2022-12-15T16:14:06.032Z"
   },
   {
    "duration": 0,
    "start_time": "2022-12-15T16:14:06.033Z"
   },
   {
    "duration": 694,
    "start_time": "2022-12-15T16:14:23.006Z"
   },
   {
    "duration": 710,
    "start_time": "2022-12-15T16:14:31.441Z"
   },
   {
    "duration": 710,
    "start_time": "2022-12-15T16:14:46.547Z"
   },
   {
    "duration": 802,
    "start_time": "2022-12-15T16:17:05.707Z"
   },
   {
    "duration": 4,
    "start_time": "2022-12-15T16:17:43.784Z"
   },
   {
    "duration": 17,
    "start_time": "2022-12-15T16:17:54.250Z"
   },
   {
    "duration": 5,
    "start_time": "2022-12-15T16:17:58.049Z"
   },
   {
    "duration": 413,
    "start_time": "2022-12-15T16:18:07.279Z"
   },
   {
    "duration": 3,
    "start_time": "2022-12-15T16:18:07.695Z"
   },
   {
    "duration": 55,
    "start_time": "2022-12-15T16:18:07.700Z"
   },
   {
    "duration": 25,
    "start_time": "2022-12-15T16:18:07.758Z"
   },
   {
    "duration": 13,
    "start_time": "2022-12-15T16:18:07.785Z"
   },
   {
    "duration": 880,
    "start_time": "2022-12-15T16:18:07.800Z"
   },
   {
    "duration": 4,
    "start_time": "2022-12-15T16:18:08.682Z"
   },
   {
    "duration": 20,
    "start_time": "2022-12-15T16:18:08.696Z"
   },
   {
    "duration": 18,
    "start_time": "2022-12-15T16:18:08.718Z"
   },
   {
    "duration": 9,
    "start_time": "2022-12-15T16:18:08.739Z"
   },
   {
    "duration": 47,
    "start_time": "2022-12-15T16:18:08.749Z"
   },
   {
    "duration": 11,
    "start_time": "2022-12-15T16:18:08.798Z"
   },
   {
    "duration": 12,
    "start_time": "2022-12-15T16:18:08.811Z"
   },
   {
    "duration": 104,
    "start_time": "2022-12-15T16:18:08.824Z"
   },
   {
    "duration": 4,
    "start_time": "2022-12-15T16:18:08.930Z"
   },
   {
    "duration": 16,
    "start_time": "2022-12-15T16:18:08.936Z"
   },
   {
    "duration": 16,
    "start_time": "2022-12-15T16:18:08.954Z"
   },
   {
    "duration": 11,
    "start_time": "2022-12-15T16:18:08.971Z"
   },
   {
    "duration": 29,
    "start_time": "2022-12-15T16:18:08.996Z"
   },
   {
    "duration": 7,
    "start_time": "2022-12-15T16:18:09.027Z"
   },
   {
    "duration": 64,
    "start_time": "2022-12-15T16:18:09.035Z"
   },
   {
    "duration": 333,
    "start_time": "2022-12-15T16:18:09.100Z"
   },
   {
    "duration": 29,
    "start_time": "2022-12-15T16:18:09.435Z"
   },
   {
    "duration": 218,
    "start_time": "2022-12-15T16:18:09.466Z"
   },
   {
    "duration": 166,
    "start_time": "2022-12-15T16:18:09.686Z"
   },
   {
    "duration": 2,
    "start_time": "2022-12-15T16:18:09.854Z"
   },
   {
    "duration": 23,
    "start_time": "2022-12-15T16:18:09.857Z"
   },
   {
    "duration": 22,
    "start_time": "2022-12-15T16:18:09.883Z"
   },
   {
    "duration": 153,
    "start_time": "2022-12-15T16:18:09.907Z"
   },
   {
    "duration": 5,
    "start_time": "2022-12-15T16:18:10.062Z"
   },
   {
    "duration": 28,
    "start_time": "2022-12-15T16:18:10.069Z"
   },
   {
    "duration": 154,
    "start_time": "2022-12-15T16:18:10.099Z"
   },
   {
    "duration": 17,
    "start_time": "2022-12-15T16:18:10.254Z"
   },
   {
    "duration": 31,
    "start_time": "2022-12-15T16:18:10.272Z"
   },
   {
    "duration": 17,
    "start_time": "2022-12-15T16:18:10.305Z"
   },
   {
    "duration": 17,
    "start_time": "2022-12-15T16:18:10.325Z"
   },
   {
    "duration": 17,
    "start_time": "2022-12-15T16:18:10.344Z"
   },
   {
    "duration": 42,
    "start_time": "2022-12-15T16:18:10.363Z"
   },
   {
    "duration": 13,
    "start_time": "2022-12-15T16:18:10.407Z"
   },
   {
    "duration": 14,
    "start_time": "2022-12-15T16:18:10.422Z"
   },
   {
    "duration": 13,
    "start_time": "2022-12-15T16:18:10.438Z"
   },
   {
    "duration": 451,
    "start_time": "2022-12-15T16:18:10.452Z"
   },
   {
    "duration": 12,
    "start_time": "2022-12-15T16:18:10.905Z"
   },
   {
    "duration": 11,
    "start_time": "2022-12-15T16:18:10.918Z"
   },
   {
    "duration": 11,
    "start_time": "2022-12-15T16:18:50.105Z"
   },
   {
    "duration": 10,
    "start_time": "2022-12-15T16:18:58.131Z"
   },
   {
    "duration": 11,
    "start_time": "2022-12-15T16:19:10.209Z"
   },
   {
    "duration": 12,
    "start_time": "2022-12-15T16:19:19.544Z"
   },
   {
    "duration": 388,
    "start_time": "2022-12-15T16:22:20.135Z"
   },
   {
    "duration": 3,
    "start_time": "2022-12-15T16:22:20.525Z"
   },
   {
    "duration": 54,
    "start_time": "2022-12-15T16:22:20.529Z"
   },
   {
    "duration": 27,
    "start_time": "2022-12-15T16:22:20.585Z"
   },
   {
    "duration": 13,
    "start_time": "2022-12-15T16:22:20.613Z"
   },
   {
    "duration": 1072,
    "start_time": "2022-12-15T16:22:20.628Z"
   },
   {
    "duration": 4,
    "start_time": "2022-12-15T16:22:21.701Z"
   },
   {
    "duration": 20,
    "start_time": "2022-12-15T16:22:21.706Z"
   },
   {
    "duration": 28,
    "start_time": "2022-12-15T16:22:21.728Z"
   },
   {
    "duration": 8,
    "start_time": "2022-12-15T16:22:21.758Z"
   },
   {
    "duration": 31,
    "start_time": "2022-12-15T16:22:21.768Z"
   },
   {
    "duration": 11,
    "start_time": "2022-12-15T16:22:21.801Z"
   },
   {
    "duration": 9,
    "start_time": "2022-12-15T16:22:21.814Z"
   },
   {
    "duration": 3,
    "start_time": "2022-12-15T16:22:21.824Z"
   },
   {
    "duration": 21,
    "start_time": "2022-12-15T16:22:21.829Z"
   },
   {
    "duration": 100,
    "start_time": "2022-12-15T16:22:21.852Z"
   },
   {
    "duration": 0,
    "start_time": "2022-12-15T16:22:21.954Z"
   },
   {
    "duration": 0,
    "start_time": "2022-12-15T16:22:21.955Z"
   },
   {
    "duration": 0,
    "start_time": "2022-12-15T16:22:21.956Z"
   },
   {
    "duration": 0,
    "start_time": "2022-12-15T16:22:21.957Z"
   },
   {
    "duration": 0,
    "start_time": "2022-12-15T16:22:21.958Z"
   },
   {
    "duration": 0,
    "start_time": "2022-12-15T16:22:21.959Z"
   },
   {
    "duration": 0,
    "start_time": "2022-12-15T16:22:21.960Z"
   },
   {
    "duration": 0,
    "start_time": "2022-12-15T16:22:21.962Z"
   },
   {
    "duration": 0,
    "start_time": "2022-12-15T16:22:21.963Z"
   },
   {
    "duration": 0,
    "start_time": "2022-12-15T16:22:21.964Z"
   },
   {
    "duration": 0,
    "start_time": "2022-12-15T16:22:21.965Z"
   },
   {
    "duration": 0,
    "start_time": "2022-12-15T16:22:21.966Z"
   },
   {
    "duration": 0,
    "start_time": "2022-12-15T16:22:21.967Z"
   },
   {
    "duration": 0,
    "start_time": "2022-12-15T16:22:21.968Z"
   },
   {
    "duration": 0,
    "start_time": "2022-12-15T16:22:21.969Z"
   },
   {
    "duration": 0,
    "start_time": "2022-12-15T16:22:21.997Z"
   },
   {
    "duration": 0,
    "start_time": "2022-12-15T16:22:21.999Z"
   },
   {
    "duration": 0,
    "start_time": "2022-12-15T16:22:22.000Z"
   },
   {
    "duration": 0,
    "start_time": "2022-12-15T16:22:22.001Z"
   },
   {
    "duration": 0,
    "start_time": "2022-12-15T16:22:22.002Z"
   },
   {
    "duration": 0,
    "start_time": "2022-12-15T16:22:22.003Z"
   },
   {
    "duration": 0,
    "start_time": "2022-12-15T16:22:22.004Z"
   },
   {
    "duration": 0,
    "start_time": "2022-12-15T16:22:22.005Z"
   },
   {
    "duration": 0,
    "start_time": "2022-12-15T16:22:22.006Z"
   },
   {
    "duration": 0,
    "start_time": "2022-12-15T16:22:22.008Z"
   },
   {
    "duration": 0,
    "start_time": "2022-12-15T16:22:22.009Z"
   },
   {
    "duration": 0,
    "start_time": "2022-12-15T16:22:22.010Z"
   },
   {
    "duration": 0,
    "start_time": "2022-12-15T16:22:22.011Z"
   },
   {
    "duration": 396,
    "start_time": "2022-12-15T16:24:10.919Z"
   },
   {
    "duration": 2,
    "start_time": "2022-12-15T16:24:11.317Z"
   },
   {
    "duration": 55,
    "start_time": "2022-12-15T16:24:11.321Z"
   },
   {
    "duration": 22,
    "start_time": "2022-12-15T16:24:11.378Z"
   },
   {
    "duration": 13,
    "start_time": "2022-12-15T16:24:11.402Z"
   },
   {
    "duration": 943,
    "start_time": "2022-12-15T16:24:11.416Z"
   },
   {
    "duration": 5,
    "start_time": "2022-12-15T16:24:12.360Z"
   },
   {
    "duration": 32,
    "start_time": "2022-12-15T16:24:12.367Z"
   },
   {
    "duration": 18,
    "start_time": "2022-12-15T16:24:12.401Z"
   },
   {
    "duration": 9,
    "start_time": "2022-12-15T16:24:12.422Z"
   },
   {
    "duration": 18,
    "start_time": "2022-12-15T16:24:12.433Z"
   },
   {
    "duration": 12,
    "start_time": "2022-12-15T16:24:12.452Z"
   },
   {
    "duration": 9,
    "start_time": "2022-12-15T16:24:12.497Z"
   },
   {
    "duration": 104,
    "start_time": "2022-12-15T16:24:12.508Z"
   },
   {
    "duration": 4,
    "start_time": "2022-12-15T16:24:12.614Z"
   },
   {
    "duration": 16,
    "start_time": "2022-12-15T16:24:12.620Z"
   },
   {
    "duration": 15,
    "start_time": "2022-12-15T16:24:12.638Z"
   },
   {
    "duration": 13,
    "start_time": "2022-12-15T16:24:12.655Z"
   },
   {
    "duration": 48,
    "start_time": "2022-12-15T16:24:12.670Z"
   },
   {
    "duration": 7,
    "start_time": "2022-12-15T16:24:12.719Z"
   },
   {
    "duration": 71,
    "start_time": "2022-12-15T16:24:12.728Z"
   },
   {
    "duration": 344,
    "start_time": "2022-12-15T16:24:12.801Z"
   },
   {
    "duration": 29,
    "start_time": "2022-12-15T16:24:13.147Z"
   },
   {
    "duration": 226,
    "start_time": "2022-12-15T16:24:13.178Z"
   },
   {
    "duration": 174,
    "start_time": "2022-12-15T16:24:13.406Z"
   },
   {
    "duration": 2,
    "start_time": "2022-12-15T16:24:13.582Z"
   },
   {
    "duration": 36,
    "start_time": "2022-12-15T16:24:13.586Z"
   },
   {
    "duration": 15,
    "start_time": "2022-12-15T16:24:13.625Z"
   },
   {
    "duration": 155,
    "start_time": "2022-12-15T16:24:13.641Z"
   },
   {
    "duration": 5,
    "start_time": "2022-12-15T16:24:13.798Z"
   },
   {
    "duration": 18,
    "start_time": "2022-12-15T16:24:13.805Z"
   },
   {
    "duration": 160,
    "start_time": "2022-12-15T16:24:13.824Z"
   },
   {
    "duration": 19,
    "start_time": "2022-12-15T16:24:13.985Z"
   },
   {
    "duration": 13,
    "start_time": "2022-12-15T16:24:14.006Z"
   },
   {
    "duration": 13,
    "start_time": "2022-12-15T16:24:14.021Z"
   },
   {
    "duration": 14,
    "start_time": "2022-12-15T16:24:14.036Z"
   },
   {
    "duration": 13,
    "start_time": "2022-12-15T16:24:14.052Z"
   },
   {
    "duration": 41,
    "start_time": "2022-12-15T16:24:14.066Z"
   },
   {
    "duration": 13,
    "start_time": "2022-12-15T16:24:14.109Z"
   },
   {
    "duration": 13,
    "start_time": "2022-12-15T16:24:14.123Z"
   },
   {
    "duration": 13,
    "start_time": "2022-12-15T16:24:14.137Z"
   },
   {
    "duration": 438,
    "start_time": "2022-12-15T16:24:14.151Z"
   },
   {
    "duration": 12,
    "start_time": "2022-12-15T16:24:14.590Z"
   },
   {
    "duration": 12,
    "start_time": "2022-12-15T16:24:14.604Z"
   },
   {
    "duration": 91,
    "start_time": "2022-12-15T16:25:23.558Z"
   },
   {
    "duration": 10,
    "start_time": "2022-12-15T16:25:29.640Z"
   },
   {
    "duration": 10,
    "start_time": "2022-12-15T16:25:43.415Z"
   },
   {
    "duration": 12,
    "start_time": "2022-12-15T16:27:10.256Z"
   },
   {
    "duration": 11,
    "start_time": "2022-12-15T16:27:24.498Z"
   },
   {
    "duration": 48,
    "start_time": "2022-12-15T16:38:53.750Z"
   },
   {
    "duration": 43,
    "start_time": "2022-12-15T16:40:56.718Z"
   },
   {
    "duration": 47,
    "start_time": "2022-12-15T16:41:06.072Z"
   },
   {
    "duration": 16,
    "start_time": "2022-12-15T16:43:34.058Z"
   },
   {
    "duration": 8,
    "start_time": "2022-12-15T16:43:59.214Z"
   },
   {
    "duration": 4,
    "start_time": "2022-12-15T16:44:10.821Z"
   },
   {
    "duration": 5,
    "start_time": "2022-12-15T16:47:02.004Z"
   },
   {
    "duration": 26,
    "start_time": "2022-12-15T16:50:10.227Z"
   },
   {
    "duration": 335,
    "start_time": "2022-12-15T16:50:20.911Z"
   },
   {
    "duration": 299,
    "start_time": "2022-12-15T16:51:36.116Z"
   },
   {
    "duration": 4,
    "start_time": "2022-12-15T16:57:14.162Z"
   },
   {
    "duration": 16,
    "start_time": "2022-12-15T16:58:30.909Z"
   },
   {
    "duration": 52,
    "start_time": "2022-12-15T16:59:00.543Z"
   },
   {
    "duration": 49,
    "start_time": "2022-12-15T17:03:18.160Z"
   },
   {
    "duration": 15,
    "start_time": "2022-12-15T17:03:31.847Z"
   },
   {
    "duration": 60,
    "start_time": "2022-12-15T17:03:36.796Z"
   },
   {
    "duration": 12,
    "start_time": "2022-12-15T17:04:13.109Z"
   },
   {
    "duration": 28,
    "start_time": "2022-12-15T17:06:39.267Z"
   },
   {
    "duration": 842,
    "start_time": "2022-12-15T17:07:19.562Z"
   },
   {
    "duration": 49,
    "start_time": "2022-12-15T17:07:30.334Z"
   },
   {
    "duration": 15,
    "start_time": "2022-12-15T17:07:40.335Z"
   },
   {
    "duration": 61,
    "start_time": "2022-12-15T17:10:05.310Z"
   },
   {
    "duration": 4,
    "start_time": "2022-12-15T17:11:25.880Z"
   },
   {
    "duration": 8,
    "start_time": "2022-12-15T17:11:40.841Z"
   },
   {
    "duration": 14,
    "start_time": "2022-12-15T17:12:27.442Z"
   },
   {
    "duration": 14,
    "start_time": "2022-12-15T17:12:32.667Z"
   },
   {
    "duration": 18,
    "start_time": "2022-12-15T17:12:53.970Z"
   },
   {
    "duration": 65,
    "start_time": "2022-12-15T17:13:06.080Z"
   },
   {
    "duration": 47,
    "start_time": "2022-12-15T17:13:30.488Z"
   },
   {
    "duration": 43,
    "start_time": "2022-12-15T17:13:46.598Z"
   },
   {
    "duration": 26,
    "start_time": "2022-12-15T17:13:56.839Z"
   },
   {
    "duration": 18,
    "start_time": "2022-12-15T17:14:07.946Z"
   },
   {
    "duration": 18,
    "start_time": "2022-12-15T17:14:45.204Z"
   },
   {
    "duration": 16,
    "start_time": "2022-12-15T17:26:13.592Z"
   },
   {
    "duration": 171,
    "start_time": "2022-12-15T17:33:00.308Z"
   },
   {
    "duration": 270,
    "start_time": "2022-12-15T17:33:11.759Z"
   },
   {
    "duration": 554,
    "start_time": "2022-12-15T17:33:23.621Z"
   },
   {
    "duration": 580,
    "start_time": "2022-12-15T17:33:28.719Z"
   },
   {
    "duration": 436,
    "start_time": "2022-12-15T17:33:42.670Z"
   },
   {
    "duration": 3,
    "start_time": "2022-12-15T17:33:43.107Z"
   },
   {
    "duration": 54,
    "start_time": "2022-12-15T17:33:43.112Z"
   },
   {
    "duration": 22,
    "start_time": "2022-12-15T17:33:43.168Z"
   },
   {
    "duration": 14,
    "start_time": "2022-12-15T17:33:43.192Z"
   },
   {
    "duration": 954,
    "start_time": "2022-12-15T17:33:43.208Z"
   },
   {
    "duration": 3,
    "start_time": "2022-12-15T17:33:44.164Z"
   },
   {
    "duration": 28,
    "start_time": "2022-12-15T17:33:44.169Z"
   },
   {
    "duration": 16,
    "start_time": "2022-12-15T17:33:44.198Z"
   },
   {
    "duration": 8,
    "start_time": "2022-12-15T17:33:44.216Z"
   },
   {
    "duration": 21,
    "start_time": "2022-12-15T17:33:44.226Z"
   },
   {
    "duration": 13,
    "start_time": "2022-12-15T17:33:44.248Z"
   },
   {
    "duration": 36,
    "start_time": "2022-12-15T17:33:44.262Z"
   },
   {
    "duration": 98,
    "start_time": "2022-12-15T17:33:44.300Z"
   },
   {
    "duration": 9,
    "start_time": "2022-12-15T17:33:44.399Z"
   },
   {
    "duration": 9,
    "start_time": "2022-12-15T17:33:44.410Z"
   },
   {
    "duration": 4,
    "start_time": "2022-12-15T17:33:44.421Z"
   },
   {
    "duration": 22,
    "start_time": "2022-12-15T17:33:44.426Z"
   },
   {
    "duration": 76,
    "start_time": "2022-12-15T17:33:44.450Z"
   },
   {
    "duration": 29,
    "start_time": "2022-12-15T17:33:44.527Z"
   },
   {
    "duration": 8,
    "start_time": "2022-12-15T17:33:44.557Z"
   },
   {
    "duration": 74,
    "start_time": "2022-12-15T17:33:44.566Z"
   },
   {
    "duration": 327,
    "start_time": "2022-12-15T17:33:44.642Z"
   },
   {
    "duration": 20,
    "start_time": "2022-12-15T17:33:44.972Z"
   },
   {
    "duration": 26,
    "start_time": "2022-12-15T17:33:44.994Z"
   },
   {
    "duration": 280,
    "start_time": "2022-12-15T17:33:45.022Z"
   },
   {
    "duration": 19,
    "start_time": "2022-12-15T17:33:45.303Z"
   },
   {
    "duration": 168,
    "start_time": "2022-12-15T17:33:45.325Z"
   },
   {
    "duration": 3,
    "start_time": "2022-12-15T17:33:45.495Z"
   },
   {
    "duration": 21,
    "start_time": "2022-12-15T17:33:45.499Z"
   },
   {
    "duration": 15,
    "start_time": "2022-12-15T17:33:45.522Z"
   },
   {
    "duration": 159,
    "start_time": "2022-12-15T17:33:45.539Z"
   },
   {
    "duration": 6,
    "start_time": "2022-12-15T17:33:45.700Z"
   },
   {
    "duration": 17,
    "start_time": "2022-12-15T17:33:45.708Z"
   },
   {
    "duration": 162,
    "start_time": "2022-12-15T17:33:45.727Z"
   },
   {
    "duration": 20,
    "start_time": "2022-12-15T17:33:45.891Z"
   },
   {
    "duration": 18,
    "start_time": "2022-12-15T17:33:45.913Z"
   },
   {
    "duration": 17,
    "start_time": "2022-12-15T17:33:45.932Z"
   },
   {
    "duration": 15,
    "start_time": "2022-12-15T17:33:45.951Z"
   },
   {
    "duration": 42,
    "start_time": "2022-12-15T17:33:45.967Z"
   },
   {
    "duration": 17,
    "start_time": "2022-12-15T17:33:46.010Z"
   },
   {
    "duration": 13,
    "start_time": "2022-12-15T17:33:46.029Z"
   },
   {
    "duration": 12,
    "start_time": "2022-12-15T17:33:46.044Z"
   },
   {
    "duration": 40,
    "start_time": "2022-12-15T17:33:46.057Z"
   },
   {
    "duration": 420,
    "start_time": "2022-12-15T17:33:46.099Z"
   },
   {
    "duration": 11,
    "start_time": "2022-12-15T17:33:46.521Z"
   },
   {
    "duration": 13,
    "start_time": "2022-12-15T17:33:46.533Z"
   },
   {
    "duration": 28,
    "start_time": "2022-12-15T17:36:33.084Z"
   },
   {
    "duration": 11,
    "start_time": "2022-12-15T17:37:50.819Z"
   },
   {
    "duration": 152,
    "start_time": "2022-12-15T17:38:24.239Z"
   },
   {
    "duration": 207,
    "start_time": "2022-12-15T17:40:43.622Z"
   },
   {
    "duration": 232,
    "start_time": "2022-12-15T17:42:45.981Z"
   },
   {
    "duration": 218,
    "start_time": "2022-12-15T17:42:58.964Z"
   },
   {
    "duration": 190,
    "start_time": "2022-12-15T17:46:19.006Z"
   },
   {
    "duration": 240,
    "start_time": "2022-12-15T17:46:31.147Z"
   },
   {
    "duration": 27,
    "start_time": "2022-12-15T17:46:42.809Z"
   },
   {
    "duration": 220,
    "start_time": "2022-12-15T17:46:50.492Z"
   },
   {
    "duration": 224,
    "start_time": "2022-12-15T17:48:25.108Z"
   },
   {
    "duration": 222,
    "start_time": "2022-12-15T17:48:43.370Z"
   },
   {
    "duration": 214,
    "start_time": "2022-12-15T17:48:48.568Z"
   },
   {
    "duration": 213,
    "start_time": "2022-12-15T17:49:24.335Z"
   },
   {
    "duration": 94,
    "start_time": "2022-12-15T17:49:42.674Z"
   },
   {
    "duration": 119,
    "start_time": "2022-12-15T17:49:50.349Z"
   },
   {
    "duration": 236,
    "start_time": "2022-12-15T17:49:55.074Z"
   },
   {
    "duration": 233,
    "start_time": "2022-12-15T17:51:28.026Z"
   },
   {
    "duration": 232,
    "start_time": "2022-12-15T17:51:39.293Z"
   },
   {
    "duration": 250,
    "start_time": "2022-12-15T17:51:52.763Z"
   },
   {
    "duration": 237,
    "start_time": "2022-12-15T17:52:01.262Z"
   },
   {
    "duration": 233,
    "start_time": "2022-12-15T17:52:47.865Z"
   },
   {
    "duration": 236,
    "start_time": "2022-12-15T17:53:23.634Z"
   },
   {
    "duration": 245,
    "start_time": "2022-12-15T17:53:40.119Z"
   },
   {
    "duration": 655,
    "start_time": "2022-12-15T17:53:50.030Z"
   },
   {
    "duration": 239,
    "start_time": "2022-12-15T17:54:11.219Z"
   },
   {
    "duration": 12,
    "start_time": "2022-12-15T17:54:56.610Z"
   },
   {
    "duration": 10,
    "start_time": "2022-12-15T17:55:15.034Z"
   },
   {
    "duration": 14,
    "start_time": "2022-12-15T17:55:19.739Z"
   },
   {
    "duration": 261,
    "start_time": "2022-12-15T17:57:25.698Z"
   },
   {
    "duration": 15,
    "start_time": "2022-12-15T18:05:12.462Z"
   },
   {
    "duration": 15,
    "start_time": "2022-12-15T18:05:54.901Z"
   },
   {
    "duration": 51,
    "start_time": "2022-12-17T07:52:37.375Z"
   },
   {
    "duration": 1174,
    "start_time": "2022-12-17T07:52:58.683Z"
   },
   {
    "duration": 3,
    "start_time": "2022-12-17T07:52:59.859Z"
   },
   {
    "duration": 257,
    "start_time": "2022-12-17T07:52:59.863Z"
   },
   {
    "duration": 19,
    "start_time": "2022-12-17T07:53:00.121Z"
   },
   {
    "duration": 18,
    "start_time": "2022-12-17T07:53:00.142Z"
   },
   {
    "duration": 723,
    "start_time": "2022-12-17T07:53:00.161Z"
   },
   {
    "duration": 5,
    "start_time": "2022-12-17T07:53:00.885Z"
   },
   {
    "duration": 38,
    "start_time": "2022-12-17T07:53:00.892Z"
   },
   {
    "duration": 22,
    "start_time": "2022-12-17T07:53:00.932Z"
   },
   {
    "duration": 24,
    "start_time": "2022-12-17T07:53:00.956Z"
   },
   {
    "duration": 32,
    "start_time": "2022-12-17T07:53:00.982Z"
   },
   {
    "duration": 32,
    "start_time": "2022-12-17T07:53:01.015Z"
   },
   {
    "duration": 43,
    "start_time": "2022-12-17T07:53:01.049Z"
   },
   {
    "duration": 123,
    "start_time": "2022-12-17T07:53:01.095Z"
   },
   {
    "duration": 10,
    "start_time": "2022-12-17T07:53:01.220Z"
   },
   {
    "duration": 21,
    "start_time": "2022-12-17T07:53:01.232Z"
   },
   {
    "duration": 39,
    "start_time": "2022-12-17T07:53:01.255Z"
   },
   {
    "duration": 50,
    "start_time": "2022-12-17T07:53:01.296Z"
   },
   {
    "duration": 48,
    "start_time": "2022-12-17T07:53:01.348Z"
   },
   {
    "duration": 30,
    "start_time": "2022-12-17T07:53:01.398Z"
   },
   {
    "duration": 8,
    "start_time": "2022-12-17T07:53:01.430Z"
   },
   {
    "duration": 72,
    "start_time": "2022-12-17T07:53:01.440Z"
   },
   {
    "duration": 298,
    "start_time": "2022-12-17T07:53:01.514Z"
   },
   {
    "duration": 19,
    "start_time": "2022-12-17T07:53:01.814Z"
   },
   {
    "duration": 25,
    "start_time": "2022-12-17T07:53:01.834Z"
   },
   {
    "duration": 261,
    "start_time": "2022-12-17T07:53:01.861Z"
   },
   {
    "duration": 16,
    "start_time": "2022-12-17T07:53:02.124Z"
   },
   {
    "duration": 265,
    "start_time": "2022-12-17T07:53:02.141Z"
   },
   {
    "duration": 13,
    "start_time": "2022-12-17T07:53:02.408Z"
   },
   {
    "duration": 257,
    "start_time": "2022-12-17T07:53:02.423Z"
   },
   {
    "duration": 14,
    "start_time": "2022-12-17T07:53:02.682Z"
   },
   {
    "duration": 232,
    "start_time": "2022-12-17T07:53:02.698Z"
   },
   {
    "duration": 7,
    "start_time": "2022-12-17T07:53:02.932Z"
   },
   {
    "duration": 39,
    "start_time": "2022-12-17T07:53:02.940Z"
   },
   {
    "duration": 135,
    "start_time": "2022-12-17T07:53:02.980Z"
   },
   {
    "duration": 15,
    "start_time": "2022-12-17T07:53:03.117Z"
   },
   {
    "duration": 15,
    "start_time": "2022-12-17T07:53:03.133Z"
   },
   {
    "duration": 35,
    "start_time": "2022-12-17T07:53:03.149Z"
   },
   {
    "duration": 15,
    "start_time": "2022-12-17T07:53:03.185Z"
   },
   {
    "duration": 15,
    "start_time": "2022-12-17T07:53:03.202Z"
   },
   {
    "duration": 15,
    "start_time": "2022-12-17T07:53:03.220Z"
   },
   {
    "duration": 42,
    "start_time": "2022-12-17T07:53:03.237Z"
   },
   {
    "duration": 15,
    "start_time": "2022-12-17T07:53:03.280Z"
   },
   {
    "duration": 17,
    "start_time": "2022-12-17T07:53:03.296Z"
   },
   {
    "duration": 2,
    "start_time": "2022-12-17T07:53:03.315Z"
   },
   {
    "duration": 15,
    "start_time": "2022-12-17T07:53:03.319Z"
   },
   {
    "duration": 16,
    "start_time": "2022-12-17T07:53:03.336Z"
   },
   {
    "duration": 249,
    "start_time": "2022-12-17T07:54:12.481Z"
   },
   {
    "duration": 262,
    "start_time": "2022-12-17T07:54:28.929Z"
   },
   {
    "duration": 293,
    "start_time": "2022-12-17T07:54:38.252Z"
   },
   {
    "duration": 263,
    "start_time": "2022-12-17T07:54:53.435Z"
   },
   {
    "duration": 120,
    "start_time": "2022-12-17T08:09:13.849Z"
   },
   {
    "duration": 21,
    "start_time": "2022-12-17T08:09:28.809Z"
   },
   {
    "duration": 17,
    "start_time": "2022-12-17T08:09:58.824Z"
   },
   {
    "duration": 21,
    "start_time": "2022-12-17T08:10:48.848Z"
   },
   {
    "duration": 17,
    "start_time": "2022-12-17T08:11:38.887Z"
   },
   {
    "duration": 20,
    "start_time": "2022-12-17T08:11:43.805Z"
   },
   {
    "duration": 18,
    "start_time": "2022-12-17T08:12:05.118Z"
   },
   {
    "duration": 25,
    "start_time": "2022-12-17T08:12:44.947Z"
   },
   {
    "duration": 29,
    "start_time": "2022-12-17T08:14:21.445Z"
   },
   {
    "duration": 132,
    "start_time": "2022-12-17T08:25:06.343Z"
   },
   {
    "duration": 214,
    "start_time": "2022-12-17T08:25:16.812Z"
   },
   {
    "duration": 14,
    "start_time": "2022-12-17T08:26:06.379Z"
   },
   {
    "duration": 143,
    "start_time": "2022-12-17T08:27:08.981Z"
   },
   {
    "duration": 1064,
    "start_time": "2022-12-17T08:27:36.193Z"
   },
   {
    "duration": 3,
    "start_time": "2022-12-17T08:27:37.259Z"
   },
   {
    "duration": 104,
    "start_time": "2022-12-17T08:27:37.263Z"
   },
   {
    "duration": 20,
    "start_time": "2022-12-17T08:27:37.370Z"
   },
   {
    "duration": 28,
    "start_time": "2022-12-17T08:27:37.392Z"
   },
   {
    "duration": 773,
    "start_time": "2022-12-17T08:27:37.422Z"
   },
   {
    "duration": 5,
    "start_time": "2022-12-17T08:27:38.197Z"
   },
   {
    "duration": 48,
    "start_time": "2022-12-17T08:27:38.204Z"
   },
   {
    "duration": 33,
    "start_time": "2022-12-17T08:27:38.253Z"
   },
   {
    "duration": 33,
    "start_time": "2022-12-17T08:27:38.289Z"
   },
   {
    "duration": 42,
    "start_time": "2022-12-17T08:27:38.324Z"
   },
   {
    "duration": 17,
    "start_time": "2022-12-17T08:27:38.368Z"
   },
   {
    "duration": 38,
    "start_time": "2022-12-17T08:27:38.387Z"
   },
   {
    "duration": 117,
    "start_time": "2022-12-17T08:27:38.427Z"
   },
   {
    "duration": 10,
    "start_time": "2022-12-17T08:27:38.546Z"
   },
   {
    "duration": 27,
    "start_time": "2022-12-17T08:27:38.558Z"
   },
   {
    "duration": 13,
    "start_time": "2022-12-17T08:27:38.586Z"
   },
   {
    "duration": 44,
    "start_time": "2022-12-17T08:27:38.601Z"
   },
   {
    "duration": 83,
    "start_time": "2022-12-17T08:27:38.647Z"
   },
   {
    "duration": 32,
    "start_time": "2022-12-17T08:27:38.732Z"
   },
   {
    "duration": 16,
    "start_time": "2022-12-17T08:27:38.765Z"
   },
   {
    "duration": 62,
    "start_time": "2022-12-17T08:27:38.783Z"
   },
   {
    "duration": 293,
    "start_time": "2022-12-17T08:27:38.847Z"
   },
   {
    "duration": 20,
    "start_time": "2022-12-17T08:27:39.142Z"
   },
   {
    "duration": 27,
    "start_time": "2022-12-17T08:27:39.164Z"
   },
   {
    "duration": 278,
    "start_time": "2022-12-17T08:27:39.193Z"
   },
   {
    "duration": 19,
    "start_time": "2022-12-17T08:27:39.472Z"
   },
   {
    "duration": 250,
    "start_time": "2022-12-17T08:27:39.494Z"
   },
   {
    "duration": 36,
    "start_time": "2022-12-17T08:27:39.746Z"
   },
   {
    "duration": 262,
    "start_time": "2022-12-17T08:27:39.783Z"
   },
   {
    "duration": 14,
    "start_time": "2022-12-17T08:27:40.046Z"
   },
   {
    "duration": 229,
    "start_time": "2022-12-17T08:27:40.062Z"
   },
   {
    "duration": 5,
    "start_time": "2022-12-17T08:27:40.293Z"
   },
   {
    "duration": 13,
    "start_time": "2022-12-17T08:27:40.300Z"
   },
   {
    "duration": 127,
    "start_time": "2022-12-17T08:27:40.315Z"
   },
   {
    "duration": 15,
    "start_time": "2022-12-17T08:27:40.443Z"
   },
   {
    "duration": 28,
    "start_time": "2022-12-17T08:27:40.460Z"
   },
   {
    "duration": 15,
    "start_time": "2022-12-17T08:27:40.489Z"
   },
   {
    "duration": 13,
    "start_time": "2022-12-17T08:27:40.505Z"
   },
   {
    "duration": 13,
    "start_time": "2022-12-17T08:27:40.520Z"
   },
   {
    "duration": 13,
    "start_time": "2022-12-17T08:27:40.534Z"
   },
   {
    "duration": 16,
    "start_time": "2022-12-17T08:27:40.577Z"
   },
   {
    "duration": 15,
    "start_time": "2022-12-17T08:27:40.594Z"
   },
   {
    "duration": 14,
    "start_time": "2022-12-17T08:27:40.611Z"
   },
   {
    "duration": 3,
    "start_time": "2022-12-17T08:27:40.627Z"
   },
   {
    "duration": 13,
    "start_time": "2022-12-17T08:27:40.632Z"
   },
   {
    "duration": 10,
    "start_time": "2022-12-17T08:27:40.678Z"
   },
   {
    "duration": 131,
    "start_time": "2022-12-17T08:28:17.073Z"
   },
   {
    "duration": 278,
    "start_time": "2022-12-17T08:31:12.826Z"
   },
   {
    "duration": 259,
    "start_time": "2022-12-17T08:31:20.566Z"
   },
   {
    "duration": 320,
    "start_time": "2022-12-17T08:31:38.396Z"
   },
   {
    "duration": 293,
    "start_time": "2022-12-17T08:32:03.388Z"
   },
   {
    "duration": 1035,
    "start_time": "2022-12-17T08:34:07.843Z"
   },
   {
    "duration": 16,
    "start_time": "2022-12-17T08:34:35.839Z"
   },
   {
    "duration": 142,
    "start_time": "2022-12-17T08:35:19.627Z"
   },
   {
    "duration": 136,
    "start_time": "2022-12-17T08:35:45.747Z"
   },
   {
    "duration": 5,
    "start_time": "2022-12-17T08:36:07.043Z"
   },
   {
    "duration": 144,
    "start_time": "2022-12-17T08:36:58.241Z"
   },
   {
    "duration": 10,
    "start_time": "2022-12-17T08:37:16.845Z"
   },
   {
    "duration": 362,
    "start_time": "2022-12-17T08:39:15.963Z"
   },
   {
    "duration": 1091,
    "start_time": "2022-12-17T08:41:52.702Z"
   },
   {
    "duration": 687,
    "start_time": "2022-12-17T08:44:58.711Z"
   },
   {
    "duration": 697,
    "start_time": "2022-12-17T08:46:40.431Z"
   },
   {
    "duration": 15,
    "start_time": "2022-12-17T08:47:19.265Z"
   },
   {
    "duration": 16,
    "start_time": "2022-12-17T08:47:24.483Z"
   },
   {
    "duration": 19,
    "start_time": "2022-12-17T08:47:33.886Z"
   },
   {
    "duration": 11,
    "start_time": "2022-12-17T08:50:02.973Z"
   },
   {
    "duration": 14,
    "start_time": "2022-12-17T08:50:03.333Z"
   },
   {
    "duration": 13,
    "start_time": "2022-12-17T08:50:03.714Z"
   },
   {
    "duration": 13,
    "start_time": "2022-12-17T08:50:04.073Z"
   },
   {
    "duration": 12,
    "start_time": "2022-12-17T08:50:04.412Z"
   },
   {
    "duration": 228,
    "start_time": "2022-12-17T08:59:43.998Z"
   },
   {
    "duration": 1104,
    "start_time": "2022-12-17T09:00:44.699Z"
   },
   {
    "duration": 3,
    "start_time": "2022-12-17T09:00:45.805Z"
   },
   {
    "duration": 112,
    "start_time": "2022-12-17T09:00:45.810Z"
   },
   {
    "duration": 24,
    "start_time": "2022-12-17T09:00:45.924Z"
   },
   {
    "duration": 40,
    "start_time": "2022-12-17T09:00:45.949Z"
   },
   {
    "duration": 742,
    "start_time": "2022-12-17T09:00:45.991Z"
   },
   {
    "duration": 4,
    "start_time": "2022-12-17T09:00:46.735Z"
   },
   {
    "duration": 45,
    "start_time": "2022-12-17T09:00:46.740Z"
   },
   {
    "duration": 30,
    "start_time": "2022-12-17T09:00:46.787Z"
   },
   {
    "duration": 20,
    "start_time": "2022-12-17T09:00:46.819Z"
   },
   {
    "duration": 39,
    "start_time": "2022-12-17T09:00:46.841Z"
   },
   {
    "duration": 18,
    "start_time": "2022-12-17T09:00:46.882Z"
   },
   {
    "duration": 45,
    "start_time": "2022-12-17T09:00:46.902Z"
   },
   {
    "duration": 101,
    "start_time": "2022-12-17T09:00:46.949Z"
   },
   {
    "duration": 9,
    "start_time": "2022-12-17T09:00:47.051Z"
   },
   {
    "duration": 27,
    "start_time": "2022-12-17T09:00:47.062Z"
   },
   {
    "duration": 21,
    "start_time": "2022-12-17T09:00:47.090Z"
   },
   {
    "duration": 61,
    "start_time": "2022-12-17T09:00:47.112Z"
   },
   {
    "duration": 67,
    "start_time": "2022-12-17T09:00:47.174Z"
   },
   {
    "duration": 29,
    "start_time": "2022-12-17T09:00:47.243Z"
   },
   {
    "duration": 9,
    "start_time": "2022-12-17T09:00:47.273Z"
   },
   {
    "duration": 66,
    "start_time": "2022-12-17T09:00:47.284Z"
   },
   {
    "duration": 272,
    "start_time": "2022-12-17T09:00:47.352Z"
   },
   {
    "duration": 18,
    "start_time": "2022-12-17T09:00:47.626Z"
   },
   {
    "duration": 24,
    "start_time": "2022-12-17T09:00:47.645Z"
   },
   {
    "duration": 257,
    "start_time": "2022-12-17T09:00:47.671Z"
   },
   {
    "duration": 15,
    "start_time": "2022-12-17T09:00:47.929Z"
   },
   {
    "duration": 250,
    "start_time": "2022-12-17T09:00:47.947Z"
   },
   {
    "duration": 32,
    "start_time": "2022-12-17T09:00:48.199Z"
   },
   {
    "duration": 273,
    "start_time": "2022-12-17T09:00:48.233Z"
   },
   {
    "duration": 13,
    "start_time": "2022-12-17T09:00:48.508Z"
   },
   {
    "duration": 791,
    "start_time": "2022-12-17T09:00:48.523Z"
   },
   {
    "duration": 13,
    "start_time": "2022-12-17T09:00:49.316Z"
   },
   {
    "duration": 14,
    "start_time": "2022-12-17T09:00:49.331Z"
   },
   {
    "duration": 31,
    "start_time": "2022-12-17T09:00:49.347Z"
   },
   {
    "duration": 19,
    "start_time": "2022-12-17T09:00:49.380Z"
   },
   {
    "duration": 16,
    "start_time": "2022-12-17T09:00:49.401Z"
   },
   {
    "duration": 13,
    "start_time": "2022-12-17T09:00:49.418Z"
   },
   {
    "duration": 212,
    "start_time": "2022-12-17T09:00:49.433Z"
   },
   {
    "duration": 0,
    "start_time": "2022-12-17T09:00:49.647Z"
   },
   {
    "duration": 0,
    "start_time": "2022-12-17T09:00:49.648Z"
   },
   {
    "duration": 0,
    "start_time": "2022-12-17T09:00:49.649Z"
   },
   {
    "duration": 0,
    "start_time": "2022-12-17T09:00:49.649Z"
   },
   {
    "duration": 0,
    "start_time": "2022-12-17T09:00:49.650Z"
   },
   {
    "duration": 0,
    "start_time": "2022-12-17T09:00:49.651Z"
   },
   {
    "duration": 0,
    "start_time": "2022-12-17T09:00:49.652Z"
   },
   {
    "duration": 0,
    "start_time": "2022-12-17T09:00:49.653Z"
   },
   {
    "duration": 0,
    "start_time": "2022-12-17T09:00:49.654Z"
   },
   {
    "duration": 0,
    "start_time": "2022-12-17T09:00:49.655Z"
   },
   {
    "duration": 0,
    "start_time": "2022-12-17T09:00:49.656Z"
   },
   {
    "duration": 0,
    "start_time": "2022-12-17T09:00:49.657Z"
   },
   {
    "duration": 0,
    "start_time": "2022-12-17T09:00:49.658Z"
   },
   {
    "duration": 673,
    "start_time": "2022-12-17T09:02:17.500Z"
   },
   {
    "duration": 11,
    "start_time": "2022-12-17T09:03:06.091Z"
   },
   {
    "duration": 11,
    "start_time": "2022-12-17T09:04:30.604Z"
   },
   {
    "duration": 10,
    "start_time": "2022-12-17T09:05:22.794Z"
   },
   {
    "duration": 11,
    "start_time": "2022-12-17T09:06:34.625Z"
   },
   {
    "duration": 11,
    "start_time": "2022-12-17T09:06:34.645Z"
   },
   {
    "duration": 640,
    "start_time": "2022-12-17T09:07:55.926Z"
   },
   {
    "duration": 1015,
    "start_time": "2022-12-17T09:27:17.897Z"
   },
   {
    "duration": 3,
    "start_time": "2022-12-17T09:27:18.913Z"
   },
   {
    "duration": 121,
    "start_time": "2022-12-17T09:27:18.917Z"
   },
   {
    "duration": 19,
    "start_time": "2022-12-17T09:27:19.040Z"
   },
   {
    "duration": 14,
    "start_time": "2022-12-17T09:27:19.060Z"
   },
   {
    "duration": 714,
    "start_time": "2022-12-17T09:27:19.076Z"
   },
   {
    "duration": 4,
    "start_time": "2022-12-17T09:27:19.792Z"
   },
   {
    "duration": 23,
    "start_time": "2022-12-17T09:27:19.797Z"
   },
   {
    "duration": 17,
    "start_time": "2022-12-17T09:27:19.822Z"
   },
   {
    "duration": 8,
    "start_time": "2022-12-17T09:27:19.843Z"
   },
   {
    "duration": 40,
    "start_time": "2022-12-17T09:27:19.852Z"
   },
   {
    "duration": 11,
    "start_time": "2022-12-17T09:27:19.893Z"
   },
   {
    "duration": 10,
    "start_time": "2022-12-17T09:27:19.906Z"
   },
   {
    "duration": 111,
    "start_time": "2022-12-17T09:27:19.918Z"
   },
   {
    "duration": 10,
    "start_time": "2022-12-17T09:27:20.031Z"
   },
   {
    "duration": 15,
    "start_time": "2022-12-17T09:27:20.043Z"
   },
   {
    "duration": 19,
    "start_time": "2022-12-17T09:27:20.060Z"
   },
   {
    "duration": 17,
    "start_time": "2022-12-17T09:27:20.081Z"
   },
   {
    "duration": 45,
    "start_time": "2022-12-17T09:27:20.100Z"
   },
   {
    "duration": 48,
    "start_time": "2022-12-17T09:27:20.146Z"
   },
   {
    "duration": 8,
    "start_time": "2022-12-17T09:27:20.196Z"
   },
   {
    "duration": 55,
    "start_time": "2022-12-17T09:27:20.205Z"
   },
   {
    "duration": 291,
    "start_time": "2022-12-17T09:27:20.261Z"
   },
   {
    "duration": 18,
    "start_time": "2022-12-17T09:27:20.554Z"
   },
   {
    "duration": 25,
    "start_time": "2022-12-17T09:27:20.573Z"
   },
   {
    "duration": 263,
    "start_time": "2022-12-17T09:27:20.599Z"
   },
   {
    "duration": 24,
    "start_time": "2022-12-17T09:27:20.864Z"
   },
   {
    "duration": 280,
    "start_time": "2022-12-17T09:27:20.891Z"
   },
   {
    "duration": 36,
    "start_time": "2022-12-17T09:27:21.172Z"
   },
   {
    "duration": 297,
    "start_time": "2022-12-17T09:27:21.210Z"
   },
   {
    "duration": 14,
    "start_time": "2022-12-17T09:27:21.508Z"
   },
   {
    "duration": 743,
    "start_time": "2022-12-17T09:27:21.523Z"
   },
   {
    "duration": 14,
    "start_time": "2022-12-17T09:27:22.267Z"
   },
   {
    "duration": 17,
    "start_time": "2022-12-17T09:27:22.282Z"
   },
   {
    "duration": 11,
    "start_time": "2022-12-17T09:27:22.300Z"
   },
   {
    "duration": 13,
    "start_time": "2022-12-17T09:27:22.313Z"
   },
   {
    "duration": 12,
    "start_time": "2022-12-17T09:27:22.328Z"
   },
   {
    "duration": 9,
    "start_time": "2022-12-17T09:27:22.342Z"
   },
   {
    "duration": 702,
    "start_time": "2022-12-17T09:27:22.353Z"
   },
   {
    "duration": 10,
    "start_time": "2022-12-17T09:27:23.056Z"
   },
   {
    "duration": 18,
    "start_time": "2022-12-17T09:27:23.067Z"
   },
   {
    "duration": 12,
    "start_time": "2022-12-17T09:27:23.087Z"
   },
   {
    "duration": 9,
    "start_time": "2022-12-17T09:27:23.100Z"
   },
   {
    "duration": 13,
    "start_time": "2022-12-17T09:27:23.111Z"
   },
   {
    "duration": 17,
    "start_time": "2022-12-17T09:27:23.126Z"
   },
   {
    "duration": 39,
    "start_time": "2022-12-17T09:27:23.145Z"
   },
   {
    "duration": 16,
    "start_time": "2022-12-17T09:27:23.186Z"
   },
   {
    "duration": 13,
    "start_time": "2022-12-17T09:27:23.203Z"
   },
   {
    "duration": 14,
    "start_time": "2022-12-17T09:27:23.217Z"
   },
   {
    "duration": 15,
    "start_time": "2022-12-17T09:27:23.232Z"
   },
   {
    "duration": 41,
    "start_time": "2022-12-17T09:27:23.248Z"
   },
   {
    "duration": 15,
    "start_time": "2022-12-17T09:27:23.291Z"
   },
   {
    "duration": 16,
    "start_time": "2022-12-17T09:27:23.308Z"
   },
   {
    "duration": 5,
    "start_time": "2022-12-17T09:27:23.326Z"
   },
   {
    "duration": 12,
    "start_time": "2022-12-17T09:27:23.332Z"
   },
   {
    "duration": 17,
    "start_time": "2022-12-17T09:27:23.345Z"
   },
   {
    "duration": 21,
    "start_time": "2022-12-17T09:28:52.173Z"
   },
   {
    "duration": 27,
    "start_time": "2022-12-17T09:29:09.615Z"
   },
   {
    "duration": 94,
    "start_time": "2022-12-17T09:29:49.987Z"
   },
   {
    "duration": 17,
    "start_time": "2022-12-17T09:30:01.505Z"
   },
   {
    "duration": 27,
    "start_time": "2022-12-17T09:32:04.091Z"
   },
   {
    "duration": 11,
    "start_time": "2022-12-17T09:32:17.564Z"
   },
   {
    "duration": 18,
    "start_time": "2022-12-17T09:32:27.383Z"
   },
   {
    "duration": 20,
    "start_time": "2022-12-17T09:32:54.240Z"
   },
   {
    "duration": 8,
    "start_time": "2022-12-17T09:36:07.152Z"
   },
   {
    "duration": 4,
    "start_time": "2022-12-17T09:36:19.872Z"
   },
   {
    "duration": 10,
    "start_time": "2022-12-17T09:36:28.552Z"
   },
   {
    "duration": 13,
    "start_time": "2022-12-17T09:36:48.015Z"
   },
   {
    "duration": 14,
    "start_time": "2022-12-17T09:36:57.816Z"
   },
   {
    "duration": 1218,
    "start_time": "2022-12-17T09:37:37.916Z"
   },
   {
    "duration": 3,
    "start_time": "2022-12-17T09:37:39.137Z"
   },
   {
    "duration": 116,
    "start_time": "2022-12-17T09:37:39.141Z"
   },
   {
    "duration": 20,
    "start_time": "2022-12-17T09:37:39.259Z"
   },
   {
    "duration": 14,
    "start_time": "2022-12-17T09:37:39.282Z"
   },
   {
    "duration": 721,
    "start_time": "2022-12-17T09:37:39.297Z"
   },
   {
    "duration": 4,
    "start_time": "2022-12-17T09:37:40.019Z"
   },
   {
    "duration": 20,
    "start_time": "2022-12-17T09:37:40.025Z"
   },
   {
    "duration": 32,
    "start_time": "2022-12-17T09:37:40.047Z"
   },
   {
    "duration": 9,
    "start_time": "2022-12-17T09:37:40.081Z"
   },
   {
    "duration": 17,
    "start_time": "2022-12-17T09:37:40.092Z"
   },
   {
    "duration": 13,
    "start_time": "2022-12-17T09:37:40.110Z"
   },
   {
    "duration": 9,
    "start_time": "2022-12-17T09:37:40.125Z"
   },
   {
    "duration": 121,
    "start_time": "2022-12-17T09:37:40.137Z"
   },
   {
    "duration": 4,
    "start_time": "2022-12-17T09:37:40.260Z"
   },
   {
    "duration": 19,
    "start_time": "2022-12-17T09:37:40.265Z"
   },
   {
    "duration": 12,
    "start_time": "2022-12-17T09:37:40.285Z"
   },
   {
    "duration": 6,
    "start_time": "2022-12-17T09:37:40.298Z"
   },
   {
    "duration": 16,
    "start_time": "2022-12-17T09:37:40.306Z"
   },
   {
    "duration": 61,
    "start_time": "2022-12-17T09:37:40.323Z"
   },
   {
    "duration": 28,
    "start_time": "2022-12-17T09:37:40.385Z"
   },
   {
    "duration": 8,
    "start_time": "2022-12-17T09:37:40.414Z"
   },
   {
    "duration": 69,
    "start_time": "2022-12-17T09:37:40.423Z"
   },
   {
    "duration": 274,
    "start_time": "2022-12-17T09:37:40.494Z"
   },
   {
    "duration": 19,
    "start_time": "2022-12-17T09:37:40.771Z"
   },
   {
    "duration": 25,
    "start_time": "2022-12-17T09:37:40.792Z"
   },
   {
    "duration": 287,
    "start_time": "2022-12-17T09:37:40.818Z"
   },
   {
    "duration": 15,
    "start_time": "2022-12-17T09:37:41.106Z"
   },
   {
    "duration": 262,
    "start_time": "2022-12-17T09:37:41.123Z"
   },
   {
    "duration": 31,
    "start_time": "2022-12-17T09:37:41.387Z"
   },
   {
    "duration": 302,
    "start_time": "2022-12-17T09:37:41.420Z"
   },
   {
    "duration": 14,
    "start_time": "2022-12-17T09:37:41.724Z"
   },
   {
    "duration": 759,
    "start_time": "2022-12-17T09:37:41.740Z"
   },
   {
    "duration": 10,
    "start_time": "2022-12-17T09:37:42.500Z"
   },
   {
    "duration": 25,
    "start_time": "2022-12-17T09:37:42.512Z"
   },
   {
    "duration": 12,
    "start_time": "2022-12-17T09:37:42.539Z"
   },
   {
    "duration": 11,
    "start_time": "2022-12-17T09:37:42.552Z"
   },
   {
    "duration": 25,
    "start_time": "2022-12-17T09:37:42.565Z"
   },
   {
    "duration": 31,
    "start_time": "2022-12-17T09:37:42.591Z"
   },
   {
    "duration": 765,
    "start_time": "2022-12-17T09:37:42.623Z"
   },
   {
    "duration": 43,
    "start_time": "2022-12-17T09:47:40.612Z"
   },
   {
    "duration": 961,
    "start_time": "2022-12-17T09:48:06.528Z"
   },
   {
    "duration": 2,
    "start_time": "2022-12-17T09:48:07.491Z"
   },
   {
    "duration": 117,
    "start_time": "2022-12-17T09:48:07.495Z"
   },
   {
    "duration": 21,
    "start_time": "2022-12-17T09:48:07.614Z"
   },
   {
    "duration": 34,
    "start_time": "2022-12-17T09:48:07.637Z"
   },
   {
    "duration": 707,
    "start_time": "2022-12-17T09:48:07.673Z"
   },
   {
    "duration": 4,
    "start_time": "2022-12-17T09:48:08.382Z"
   },
   {
    "duration": 62,
    "start_time": "2022-12-17T09:48:08.388Z"
   },
   {
    "duration": 58,
    "start_time": "2022-12-17T09:48:08.452Z"
   },
   {
    "duration": 44,
    "start_time": "2022-12-17T09:48:08.513Z"
   },
   {
    "duration": 45,
    "start_time": "2022-12-17T09:48:08.559Z"
   },
   {
    "duration": 29,
    "start_time": "2022-12-17T09:48:08.605Z"
   },
   {
    "duration": 52,
    "start_time": "2022-12-17T09:48:08.636Z"
   },
   {
    "duration": 117,
    "start_time": "2022-12-17T09:48:08.690Z"
   },
   {
    "duration": 4,
    "start_time": "2022-12-17T09:48:08.809Z"
   },
   {
    "duration": 34,
    "start_time": "2022-12-17T09:48:08.814Z"
   },
   {
    "duration": 34,
    "start_time": "2022-12-17T09:48:08.849Z"
   },
   {
    "duration": 32,
    "start_time": "2022-12-17T09:48:08.884Z"
   },
   {
    "duration": 38,
    "start_time": "2022-12-17T09:48:08.918Z"
   },
   {
    "duration": 69,
    "start_time": "2022-12-17T09:48:08.957Z"
   },
   {
    "duration": 33,
    "start_time": "2022-12-17T09:48:09.028Z"
   },
   {
    "duration": 26,
    "start_time": "2022-12-17T09:48:09.063Z"
   },
   {
    "duration": 93,
    "start_time": "2022-12-17T09:48:09.091Z"
   },
   {
    "duration": 286,
    "start_time": "2022-12-17T09:48:09.186Z"
   },
   {
    "duration": 21,
    "start_time": "2022-12-17T09:48:09.474Z"
   },
   {
    "duration": 57,
    "start_time": "2022-12-17T09:48:09.497Z"
   },
   {
    "duration": 308,
    "start_time": "2022-12-17T09:48:09.556Z"
   },
   {
    "duration": 21,
    "start_time": "2022-12-17T09:48:09.869Z"
   },
   {
    "duration": 272,
    "start_time": "2022-12-17T09:48:09.892Z"
   },
   {
    "duration": 36,
    "start_time": "2022-12-17T09:48:10.165Z"
   },
   {
    "duration": 272,
    "start_time": "2022-12-17T09:48:10.203Z"
   },
   {
    "duration": 13,
    "start_time": "2022-12-17T09:48:10.477Z"
   },
   {
    "duration": 799,
    "start_time": "2022-12-17T09:48:10.492Z"
   },
   {
    "duration": 9,
    "start_time": "2022-12-17T09:48:11.293Z"
   },
   {
    "duration": 22,
    "start_time": "2022-12-17T09:48:11.304Z"
   },
   {
    "duration": 18,
    "start_time": "2022-12-17T09:48:11.328Z"
   },
   {
    "duration": 20,
    "start_time": "2022-12-17T09:48:11.348Z"
   },
   {
    "duration": 17,
    "start_time": "2022-12-17T09:48:11.370Z"
   },
   {
    "duration": 20,
    "start_time": "2022-12-17T09:48:11.389Z"
   },
   {
    "duration": 645,
    "start_time": "2022-12-17T09:48:11.410Z"
   },
   {
    "duration": 11,
    "start_time": "2022-12-17T09:48:12.057Z"
   },
   {
    "duration": 15,
    "start_time": "2022-12-17T09:48:12.078Z"
   },
   {
    "duration": 10,
    "start_time": "2022-12-17T09:48:12.095Z"
   },
   {
    "duration": 12,
    "start_time": "2022-12-17T09:48:12.107Z"
   },
   {
    "duration": 16,
    "start_time": "2022-12-17T09:48:12.121Z"
   },
   {
    "duration": 23,
    "start_time": "2022-12-17T09:48:12.139Z"
   },
   {
    "duration": 23,
    "start_time": "2022-12-17T09:48:12.163Z"
   },
   {
    "duration": 12,
    "start_time": "2022-12-17T09:48:12.188Z"
   },
   {
    "duration": 13,
    "start_time": "2022-12-17T09:48:12.201Z"
   },
   {
    "duration": 16,
    "start_time": "2022-12-17T09:48:12.215Z"
   },
   {
    "duration": 20,
    "start_time": "2022-12-17T09:48:12.232Z"
   },
   {
    "duration": 31,
    "start_time": "2022-12-17T09:48:12.254Z"
   },
   {
    "duration": 21,
    "start_time": "2022-12-17T09:48:12.286Z"
   },
   {
    "duration": 28,
    "start_time": "2022-12-17T09:48:12.308Z"
   },
   {
    "duration": 9,
    "start_time": "2022-12-17T09:48:12.337Z"
   },
   {
    "duration": 19,
    "start_time": "2022-12-17T09:48:12.348Z"
   },
   {
    "duration": 21,
    "start_time": "2022-12-17T09:48:12.369Z"
   },
   {
    "duration": 14,
    "start_time": "2022-12-17T09:48:57.027Z"
   },
   {
    "duration": 15,
    "start_time": "2022-12-17T09:49:59.056Z"
   },
   {
    "duration": 127,
    "start_time": "2022-12-17T09:50:28.932Z"
   },
   {
    "duration": 18,
    "start_time": "2022-12-17T09:51:16.679Z"
   },
   {
    "duration": 96,
    "start_time": "2022-12-17T09:52:47.732Z"
   },
   {
    "duration": 98,
    "start_time": "2022-12-17T09:52:59.692Z"
   },
   {
    "duration": 9,
    "start_time": "2022-12-17T09:53:08.603Z"
   },
   {
    "duration": 1084,
    "start_time": "2022-12-17T09:53:10.402Z"
   },
   {
    "duration": 6,
    "start_time": "2022-12-17T09:54:25.363Z"
   },
   {
    "duration": 9,
    "start_time": "2022-12-17T09:54:31.492Z"
   },
   {
    "duration": 9,
    "start_time": "2022-12-17T09:54:54.093Z"
   },
   {
    "duration": 7,
    "start_time": "2022-12-17T09:55:05.728Z"
   },
   {
    "duration": 171,
    "start_time": "2022-12-17T09:55:15.012Z"
   },
   {
    "duration": 161,
    "start_time": "2022-12-17T09:56:41.720Z"
   },
   {
    "duration": 129,
    "start_time": "2022-12-17T09:57:00.341Z"
   },
   {
    "duration": 122,
    "start_time": "2022-12-17T09:58:12.102Z"
   },
   {
    "duration": 200,
    "start_time": "2022-12-17T09:59:01.524Z"
   },
   {
    "duration": 121,
    "start_time": "2022-12-17T09:59:58.603Z"
   },
   {
    "duration": 15,
    "start_time": "2022-12-17T10:01:59.054Z"
   },
   {
    "duration": 137,
    "start_time": "2022-12-17T10:02:33.141Z"
   },
   {
    "duration": 187,
    "start_time": "2022-12-17T10:03:34.400Z"
   },
   {
    "duration": 142,
    "start_time": "2022-12-17T10:03:52.260Z"
   },
   {
    "duration": 146,
    "start_time": "2022-12-17T10:06:23.083Z"
   },
   {
    "duration": 138,
    "start_time": "2022-12-17T10:06:26.012Z"
   },
   {
    "duration": 278,
    "start_time": "2022-12-17T10:06:54.219Z"
   },
   {
    "duration": 469,
    "start_time": "2022-12-17T10:07:15.715Z"
   },
   {
    "duration": 503,
    "start_time": "2022-12-17T10:07:41.659Z"
   },
   {
    "duration": 448,
    "start_time": "2022-12-17T10:11:26.767Z"
   },
   {
    "duration": 317,
    "start_time": "2022-12-17T10:12:52.797Z"
   },
   {
    "duration": 78,
    "start_time": "2022-12-17T10:13:25.098Z"
   },
   {
    "duration": 189,
    "start_time": "2022-12-17T10:13:32.344Z"
   },
   {
    "duration": 438,
    "start_time": "2022-12-17T10:21:22.311Z"
   },
   {
    "duration": 5,
    "start_time": "2022-12-17T10:27:12.037Z"
   },
   {
    "duration": 73,
    "start_time": "2022-12-17T10:32:02.867Z"
   },
   {
    "duration": 415,
    "start_time": "2022-12-17T10:32:32.949Z"
   },
   {
    "duration": 542,
    "start_time": "2022-12-17T10:33:15.428Z"
   },
   {
    "duration": 436,
    "start_time": "2022-12-17T10:33:39.652Z"
   },
   {
    "duration": 420,
    "start_time": "2022-12-17T10:34:06.833Z"
   },
   {
    "duration": 44,
    "start_time": "2022-12-17T10:37:19.212Z"
   },
   {
    "duration": 67,
    "start_time": "2022-12-17T10:42:22.569Z"
   },
   {
    "duration": 1095,
    "start_time": "2022-12-17T10:43:01.544Z"
   },
   {
    "duration": 3,
    "start_time": "2022-12-17T10:43:02.642Z"
   },
   {
    "duration": 95,
    "start_time": "2022-12-17T10:43:02.647Z"
   },
   {
    "duration": 19,
    "start_time": "2022-12-17T10:43:02.745Z"
   },
   {
    "duration": 23,
    "start_time": "2022-12-17T10:43:02.766Z"
   },
   {
    "duration": 753,
    "start_time": "2022-12-17T10:43:02.791Z"
   },
   {
    "duration": 5,
    "start_time": "2022-12-17T10:43:03.545Z"
   },
   {
    "duration": 36,
    "start_time": "2022-12-17T10:43:03.551Z"
   },
   {
    "duration": 19,
    "start_time": "2022-12-17T10:43:03.589Z"
   },
   {
    "duration": 9,
    "start_time": "2022-12-17T10:43:03.611Z"
   },
   {
    "duration": 22,
    "start_time": "2022-12-17T10:43:03.622Z"
   },
   {
    "duration": 33,
    "start_time": "2022-12-17T10:43:03.646Z"
   },
   {
    "duration": 16,
    "start_time": "2022-12-17T10:43:03.681Z"
   },
   {
    "duration": 119,
    "start_time": "2022-12-17T10:43:03.699Z"
   },
   {
    "duration": 4,
    "start_time": "2022-12-17T10:43:03.820Z"
   },
   {
    "duration": 13,
    "start_time": "2022-12-17T10:43:03.826Z"
   },
   {
    "duration": 15,
    "start_time": "2022-12-17T10:43:03.841Z"
   },
   {
    "duration": 22,
    "start_time": "2022-12-17T10:43:03.858Z"
   },
   {
    "duration": 26,
    "start_time": "2022-12-17T10:43:03.882Z"
   },
   {
    "duration": 89,
    "start_time": "2022-12-17T10:43:03.910Z"
   },
   {
    "duration": 42,
    "start_time": "2022-12-17T10:43:04.001Z"
   },
   {
    "duration": 11,
    "start_time": "2022-12-17T10:43:04.046Z"
   },
   {
    "duration": 77,
    "start_time": "2022-12-17T10:43:04.078Z"
   },
   {
    "duration": 294,
    "start_time": "2022-12-17T10:43:04.158Z"
   },
   {
    "duration": 20,
    "start_time": "2022-12-17T10:43:04.454Z"
   },
   {
    "duration": 30,
    "start_time": "2022-12-17T10:43:04.476Z"
   },
   {
    "duration": 319,
    "start_time": "2022-12-17T10:43:04.507Z"
   },
   {
    "duration": 27,
    "start_time": "2022-12-17T10:43:04.832Z"
   },
   {
    "duration": 325,
    "start_time": "2022-12-17T10:43:04.861Z"
   },
   {
    "duration": 38,
    "start_time": "2022-12-17T10:43:05.188Z"
   },
   {
    "duration": 331,
    "start_time": "2022-12-17T10:43:05.228Z"
   },
   {
    "duration": 22,
    "start_time": "2022-12-17T10:43:05.561Z"
   },
   {
    "duration": 883,
    "start_time": "2022-12-17T10:43:05.585Z"
   },
   {
    "duration": 15,
    "start_time": "2022-12-17T10:43:06.470Z"
   },
   {
    "duration": 25,
    "start_time": "2022-12-17T10:43:06.487Z"
   },
   {
    "duration": 50,
    "start_time": "2022-12-17T10:43:06.515Z"
   },
   {
    "duration": 22,
    "start_time": "2022-12-17T10:43:06.567Z"
   },
   {
    "duration": 34,
    "start_time": "2022-12-17T10:43:06.592Z"
   },
   {
    "duration": 35,
    "start_time": "2022-12-17T10:43:06.628Z"
   },
   {
    "duration": 738,
    "start_time": "2022-12-17T10:43:06.666Z"
   },
   {
    "duration": 11,
    "start_time": "2022-12-17T10:43:07.405Z"
   },
   {
    "duration": 38,
    "start_time": "2022-12-17T10:43:07.417Z"
   },
   {
    "duration": 38,
    "start_time": "2022-12-17T10:43:07.457Z"
   },
   {
    "duration": 19,
    "start_time": "2022-12-17T10:43:07.497Z"
   },
   {
    "duration": 38,
    "start_time": "2022-12-17T10:43:07.517Z"
   },
   {
    "duration": 437,
    "start_time": "2022-12-17T10:43:07.557Z"
   },
   {
    "duration": 460,
    "start_time": "2022-12-17T10:43:07.995Z"
   },
   {
    "duration": 525,
    "start_time": "2022-12-17T10:43:08.457Z"
   },
   {
    "duration": 2,
    "start_time": "2022-12-17T10:43:08.984Z"
   },
   {
    "duration": 13,
    "start_time": "2022-12-17T10:43:08.988Z"
   },
   {
    "duration": 13,
    "start_time": "2022-12-17T10:43:09.003Z"
   },
   {
    "duration": 81,
    "start_time": "2022-12-17T10:55:54.984Z"
   },
   {
    "duration": 1156,
    "start_time": "2022-12-17T11:14:18.668Z"
   },
   {
    "duration": 3,
    "start_time": "2022-12-17T11:14:19.825Z"
   },
   {
    "duration": 121,
    "start_time": "2022-12-17T11:14:19.829Z"
   },
   {
    "duration": 21,
    "start_time": "2022-12-17T11:14:19.952Z"
   },
   {
    "duration": 28,
    "start_time": "2022-12-17T11:14:19.976Z"
   },
   {
    "duration": 797,
    "start_time": "2022-12-17T11:14:20.006Z"
   },
   {
    "duration": 7,
    "start_time": "2022-12-17T11:14:20.805Z"
   },
   {
    "duration": 22,
    "start_time": "2022-12-17T11:14:20.814Z"
   },
   {
    "duration": 17,
    "start_time": "2022-12-17T11:14:20.838Z"
   },
   {
    "duration": 19,
    "start_time": "2022-12-17T11:14:20.883Z"
   },
   {
    "duration": 22,
    "start_time": "2022-12-17T11:14:20.904Z"
   },
   {
    "duration": 13,
    "start_time": "2022-12-17T11:14:20.928Z"
   },
   {
    "duration": 13,
    "start_time": "2022-12-17T11:14:20.943Z"
   },
   {
    "duration": 131,
    "start_time": "2022-12-17T11:14:20.982Z"
   },
   {
    "duration": 5,
    "start_time": "2022-12-17T11:14:21.114Z"
   },
   {
    "duration": 12,
    "start_time": "2022-12-17T11:14:21.120Z"
   },
   {
    "duration": 10,
    "start_time": "2022-12-17T11:14:21.133Z"
   },
   {
    "duration": 5,
    "start_time": "2022-12-17T11:14:21.144Z"
   },
   {
    "duration": 48,
    "start_time": "2022-12-17T11:14:21.150Z"
   },
   {
    "duration": 47,
    "start_time": "2022-12-17T11:14:21.200Z"
   },
   {
    "duration": 53,
    "start_time": "2022-12-17T11:14:21.248Z"
   },
   {
    "duration": 10,
    "start_time": "2022-12-17T11:14:21.304Z"
   },
   {
    "duration": 63,
    "start_time": "2022-12-17T11:14:21.315Z"
   },
   {
    "duration": 339,
    "start_time": "2022-12-17T11:14:21.380Z"
   },
   {
    "duration": 19,
    "start_time": "2022-12-17T11:14:21.720Z"
   },
   {
    "duration": 36,
    "start_time": "2022-12-17T11:14:21.740Z"
   },
   {
    "duration": 290,
    "start_time": "2022-12-17T11:14:21.777Z"
   },
   {
    "duration": 30,
    "start_time": "2022-12-17T11:14:22.069Z"
   },
   {
    "duration": 321,
    "start_time": "2022-12-17T11:14:22.101Z"
   },
   {
    "duration": 30,
    "start_time": "2022-12-17T11:14:22.424Z"
   },
   {
    "duration": 313,
    "start_time": "2022-12-17T11:14:22.456Z"
   },
   {
    "duration": 18,
    "start_time": "2022-12-17T11:14:22.771Z"
   },
   {
    "duration": 844,
    "start_time": "2022-12-17T11:14:22.791Z"
   },
   {
    "duration": 10,
    "start_time": "2022-12-17T11:14:23.636Z"
   },
   {
    "duration": 26,
    "start_time": "2022-12-17T11:14:23.648Z"
   },
   {
    "duration": 37,
    "start_time": "2022-12-17T11:14:23.675Z"
   },
   {
    "duration": 26,
    "start_time": "2022-12-17T11:14:23.714Z"
   },
   {
    "duration": 32,
    "start_time": "2022-12-17T11:14:23.742Z"
   },
   {
    "duration": 23,
    "start_time": "2022-12-17T11:14:23.775Z"
   },
   {
    "duration": 828,
    "start_time": "2022-12-17T11:14:23.800Z"
   },
   {
    "duration": 9,
    "start_time": "2022-12-17T11:14:24.632Z"
   },
   {
    "duration": 19,
    "start_time": "2022-12-17T11:14:24.643Z"
   },
   {
    "duration": 33,
    "start_time": "2022-12-17T11:14:24.663Z"
   },
   {
    "duration": 40,
    "start_time": "2022-12-17T11:14:24.698Z"
   },
   {
    "duration": 35,
    "start_time": "2022-12-17T11:14:24.740Z"
   },
   {
    "duration": 422,
    "start_time": "2022-12-17T11:14:24.776Z"
   },
   {
    "duration": 424,
    "start_time": "2022-12-17T11:14:25.200Z"
   },
   {
    "duration": 514,
    "start_time": "2022-12-17T11:14:25.626Z"
   },
   {
    "duration": 2,
    "start_time": "2022-12-17T11:14:26.141Z"
   },
   {
    "duration": 29,
    "start_time": "2022-12-17T11:14:26.145Z"
   },
   {
    "duration": 31,
    "start_time": "2022-12-17T11:14:26.176Z"
   },
   {
    "duration": 10,
    "start_time": "2022-12-17T11:14:38.167Z"
   },
   {
    "duration": 1151,
    "start_time": "2022-12-18T09:35:45.127Z"
   },
   {
    "duration": 2,
    "start_time": "2022-12-18T09:35:46.280Z"
   },
   {
    "duration": 268,
    "start_time": "2022-12-18T09:35:46.284Z"
   },
   {
    "duration": 19,
    "start_time": "2022-12-18T09:35:46.554Z"
   },
   {
    "duration": 20,
    "start_time": "2022-12-18T09:35:46.575Z"
   },
   {
    "duration": 692,
    "start_time": "2022-12-18T09:35:46.597Z"
   },
   {
    "duration": 4,
    "start_time": "2022-12-18T09:35:47.291Z"
   },
   {
    "duration": 23,
    "start_time": "2022-12-18T09:35:47.304Z"
   },
   {
    "duration": 18,
    "start_time": "2022-12-18T09:35:47.328Z"
   },
   {
    "duration": 9,
    "start_time": "2022-12-18T09:35:47.349Z"
   },
   {
    "duration": 18,
    "start_time": "2022-12-18T09:35:47.360Z"
   },
   {
    "duration": 15,
    "start_time": "2022-12-18T09:35:47.404Z"
   },
   {
    "duration": 11,
    "start_time": "2022-12-18T09:35:47.422Z"
   },
   {
    "duration": 139,
    "start_time": "2022-12-18T09:35:47.435Z"
   },
   {
    "duration": 5,
    "start_time": "2022-12-18T09:35:47.576Z"
   },
   {
    "duration": 13,
    "start_time": "2022-12-18T09:35:47.582Z"
   },
   {
    "duration": 14,
    "start_time": "2022-12-18T09:35:47.597Z"
   },
   {
    "duration": 4,
    "start_time": "2022-12-18T09:35:47.613Z"
   },
   {
    "duration": 23,
    "start_time": "2022-12-18T09:35:47.618Z"
   },
   {
    "duration": 67,
    "start_time": "2022-12-18T09:35:47.643Z"
   },
   {
    "duration": 14,
    "start_time": "2022-12-18T09:35:47.711Z"
   },
   {
    "duration": 34,
    "start_time": "2022-12-18T09:35:47.727Z"
   },
   {
    "duration": 8,
    "start_time": "2022-12-18T09:35:47.763Z"
   },
   {
    "duration": 80,
    "start_time": "2022-12-18T09:35:47.773Z"
   },
   {
    "duration": 294,
    "start_time": "2022-12-18T09:35:47.855Z"
   },
   {
    "duration": 19,
    "start_time": "2022-12-18T09:35:48.151Z"
   },
   {
    "duration": 28,
    "start_time": "2022-12-18T09:35:48.171Z"
   },
   {
    "duration": 281,
    "start_time": "2022-12-18T09:35:48.205Z"
   },
   {
    "duration": 28,
    "start_time": "2022-12-18T09:35:48.487Z"
   },
   {
    "duration": 271,
    "start_time": "2022-12-18T09:35:48.517Z"
   },
   {
    "duration": 35,
    "start_time": "2022-12-18T09:35:48.789Z"
   },
   {
    "duration": 297,
    "start_time": "2022-12-18T09:35:48.826Z"
   },
   {
    "duration": 14,
    "start_time": "2022-12-18T09:35:49.125Z"
   },
   {
    "duration": 800,
    "start_time": "2022-12-18T09:35:49.141Z"
   },
   {
    "duration": 9,
    "start_time": "2022-12-18T09:35:49.943Z"
   },
   {
    "duration": 9,
    "start_time": "2022-12-18T09:35:49.954Z"
   },
   {
    "duration": 10,
    "start_time": "2022-12-18T09:35:49.964Z"
   },
   {
    "duration": 36,
    "start_time": "2022-12-18T09:35:49.975Z"
   },
   {
    "duration": 11,
    "start_time": "2022-12-18T09:35:50.013Z"
   },
   {
    "duration": 11,
    "start_time": "2022-12-18T09:35:50.025Z"
   },
   {
    "duration": 739,
    "start_time": "2022-12-18T09:35:50.038Z"
   },
   {
    "duration": 10,
    "start_time": "2022-12-18T09:35:50.779Z"
   },
   {
    "duration": 20,
    "start_time": "2022-12-18T09:35:50.791Z"
   },
   {
    "duration": 10,
    "start_time": "2022-12-18T09:35:50.812Z"
   },
   {
    "duration": 12,
    "start_time": "2022-12-18T09:35:50.824Z"
   },
   {
    "duration": 10,
    "start_time": "2022-12-18T09:35:50.837Z"
   },
   {
    "duration": 457,
    "start_time": "2022-12-18T09:35:50.849Z"
   },
   {
    "duration": 439,
    "start_time": "2022-12-18T09:35:51.308Z"
   },
   {
    "duration": 537,
    "start_time": "2022-12-18T09:35:51.748Z"
   },
   {
    "duration": 2,
    "start_time": "2022-12-18T09:35:52.287Z"
   },
   {
    "duration": 19,
    "start_time": "2022-12-18T09:35:52.291Z"
   },
   {
    "duration": 12,
    "start_time": "2022-12-18T09:35:52.312Z"
   },
   {
    "duration": 119,
    "start_time": "2022-12-18T09:37:17.759Z"
   },
   {
    "duration": 105,
    "start_time": "2022-12-18T09:38:08.670Z"
   },
   {
    "duration": 47,
    "start_time": "2022-12-18T09:38:19.907Z"
   },
   {
    "duration": 13,
    "start_time": "2022-12-18T09:39:11.947Z"
   },
   {
    "duration": 134,
    "start_time": "2022-12-18T09:39:51.399Z"
   },
   {
    "duration": 3,
    "start_time": "2022-12-18T09:48:14.689Z"
   },
   {
    "duration": 1117,
    "start_time": "2022-12-18T09:48:23.397Z"
   },
   {
    "duration": 2,
    "start_time": "2022-12-18T09:48:24.516Z"
   },
   {
    "duration": 97,
    "start_time": "2022-12-18T09:48:24.520Z"
   },
   {
    "duration": 20,
    "start_time": "2022-12-18T09:48:24.619Z"
   },
   {
    "duration": 16,
    "start_time": "2022-12-18T09:48:24.641Z"
   },
   {
    "duration": 728,
    "start_time": "2022-12-18T09:48:24.659Z"
   },
   {
    "duration": 4,
    "start_time": "2022-12-18T09:48:25.389Z"
   },
   {
    "duration": 27,
    "start_time": "2022-12-18T09:48:25.394Z"
   },
   {
    "duration": 18,
    "start_time": "2022-12-18T09:48:25.423Z"
   },
   {
    "duration": 9,
    "start_time": "2022-12-18T09:48:25.443Z"
   },
   {
    "duration": 23,
    "start_time": "2022-12-18T09:48:25.453Z"
   },
   {
    "duration": 32,
    "start_time": "2022-12-18T09:48:25.477Z"
   },
   {
    "duration": 12,
    "start_time": "2022-12-18T09:48:25.511Z"
   },
   {
    "duration": 116,
    "start_time": "2022-12-18T09:48:25.524Z"
   },
   {
    "duration": 4,
    "start_time": "2022-12-18T09:48:25.641Z"
   },
   {
    "duration": 14,
    "start_time": "2022-12-18T09:48:25.647Z"
   },
   {
    "duration": 16,
    "start_time": "2022-12-18T09:48:25.663Z"
   },
   {
    "duration": 10,
    "start_time": "2022-12-18T09:48:25.681Z"
   },
   {
    "duration": 25,
    "start_time": "2022-12-18T09:48:25.692Z"
   },
   {
    "duration": 49,
    "start_time": "2022-12-18T09:48:25.719Z"
   },
   {
    "duration": 37,
    "start_time": "2022-12-18T09:48:25.770Z"
   },
   {
    "duration": 133,
    "start_time": "2022-12-18T09:48:25.808Z"
   },
   {
    "duration": 32,
    "start_time": "2022-12-18T09:48:25.943Z"
   },
   {
    "duration": 9,
    "start_time": "2022-12-18T09:48:25.977Z"
   },
   {
    "duration": 54,
    "start_time": "2022-12-18T09:48:26.004Z"
   },
   {
    "duration": 317,
    "start_time": "2022-12-18T09:48:26.060Z"
   },
   {
    "duration": 19,
    "start_time": "2022-12-18T09:48:26.379Z"
   },
   {
    "duration": 25,
    "start_time": "2022-12-18T09:48:26.401Z"
   },
   {
    "duration": 283,
    "start_time": "2022-12-18T09:48:26.427Z"
   },
   {
    "duration": 16,
    "start_time": "2022-12-18T09:48:26.712Z"
   },
   {
    "duration": 288,
    "start_time": "2022-12-18T09:48:26.729Z"
   },
   {
    "duration": 34,
    "start_time": "2022-12-18T09:48:27.019Z"
   },
   {
    "duration": 443,
    "start_time": "2022-12-18T09:48:27.055Z"
   },
   {
    "duration": 18,
    "start_time": "2022-12-18T09:48:27.499Z"
   },
   {
    "duration": 731,
    "start_time": "2022-12-18T09:48:27.519Z"
   },
   {
    "duration": 14,
    "start_time": "2022-12-18T09:48:28.252Z"
   },
   {
    "duration": 14,
    "start_time": "2022-12-18T09:48:28.267Z"
   },
   {
    "duration": 26,
    "start_time": "2022-12-18T09:48:28.283Z"
   },
   {
    "duration": 11,
    "start_time": "2022-12-18T09:48:28.311Z"
   },
   {
    "duration": 10,
    "start_time": "2022-12-18T09:48:28.323Z"
   },
   {
    "duration": 11,
    "start_time": "2022-12-18T09:48:28.334Z"
   },
   {
    "duration": 720,
    "start_time": "2022-12-18T09:48:28.347Z"
   },
   {
    "duration": 10,
    "start_time": "2022-12-18T09:48:29.068Z"
   },
   {
    "duration": 11,
    "start_time": "2022-12-18T09:48:29.079Z"
   },
   {
    "duration": 17,
    "start_time": "2022-12-18T09:48:29.091Z"
   },
   {
    "duration": 12,
    "start_time": "2022-12-18T09:48:29.110Z"
   },
   {
    "duration": 8,
    "start_time": "2022-12-18T09:48:29.123Z"
   },
   {
    "duration": 455,
    "start_time": "2022-12-18T09:48:29.133Z"
   },
   {
    "duration": 3,
    "start_time": "2022-12-18T09:48:29.590Z"
   },
   {
    "duration": 454,
    "start_time": "2022-12-18T09:48:29.594Z"
   },
   {
    "duration": 574,
    "start_time": "2022-12-18T09:48:30.050Z"
   },
   {
    "duration": 3,
    "start_time": "2022-12-18T09:48:30.626Z"
   },
   {
    "duration": 50,
    "start_time": "2022-12-18T09:48:30.631Z"
   },
   {
    "duration": 63,
    "start_time": "2022-12-18T09:48:30.683Z"
   },
   {
    "duration": 111,
    "start_time": "2022-12-18T09:50:50.493Z"
   },
   {
    "duration": 18,
    "start_time": "2022-12-18T09:51:25.893Z"
   },
   {
    "duration": 1254,
    "start_time": "2023-03-10T14:28:27.332Z"
   },
   {
    "duration": 5,
    "start_time": "2023-03-10T14:28:28.588Z"
   },
   {
    "duration": 159,
    "start_time": "2023-03-10T14:28:28.595Z"
   },
   {
    "duration": 19,
    "start_time": "2023-03-10T14:28:28.756Z"
   },
   {
    "duration": 32,
    "start_time": "2023-03-10T14:28:28.777Z"
   },
   {
    "duration": 714,
    "start_time": "2023-03-10T14:28:28.811Z"
   },
   {
    "duration": 4,
    "start_time": "2023-03-10T14:28:29.526Z"
   },
   {
    "duration": 21,
    "start_time": "2023-03-10T14:28:29.531Z"
   },
   {
    "duration": 31,
    "start_time": "2023-03-10T14:28:29.554Z"
   },
   {
    "duration": 22,
    "start_time": "2023-03-10T14:28:29.593Z"
   },
   {
    "duration": 21,
    "start_time": "2023-03-10T14:28:29.616Z"
   },
   {
    "duration": 12,
    "start_time": "2023-03-10T14:28:29.638Z"
   },
   {
    "duration": 9,
    "start_time": "2023-03-10T14:28:29.651Z"
   },
   {
    "duration": 152,
    "start_time": "2023-03-10T14:28:29.662Z"
   },
   {
    "duration": 4,
    "start_time": "2023-03-10T14:28:29.816Z"
   },
   {
    "duration": 20,
    "start_time": "2023-03-10T14:28:29.821Z"
   },
   {
    "duration": 9,
    "start_time": "2023-03-10T14:28:29.842Z"
   },
   {
    "duration": 5,
    "start_time": "2023-03-10T14:28:29.853Z"
   },
   {
    "duration": 39,
    "start_time": "2023-03-10T14:28:29.860Z"
   },
   {
    "duration": 52,
    "start_time": "2023-03-10T14:28:29.901Z"
   },
   {
    "duration": 11,
    "start_time": "2023-03-10T14:28:29.955Z"
   },
   {
    "duration": 150,
    "start_time": "2023-03-10T14:28:29.968Z"
   },
   {
    "duration": 31,
    "start_time": "2023-03-10T14:28:30.119Z"
   },
   {
    "duration": 10,
    "start_time": "2023-03-10T14:28:30.151Z"
   },
   {
    "duration": 102,
    "start_time": "2023-03-10T14:28:30.163Z"
   },
   {
    "duration": 276,
    "start_time": "2023-03-10T14:28:30.267Z"
   },
   {
    "duration": 17,
    "start_time": "2023-03-10T14:28:30.545Z"
   },
   {
    "duration": 87,
    "start_time": "2023-03-10T14:28:30.565Z"
   },
   {
    "duration": 361,
    "start_time": "2023-03-10T14:28:30.654Z"
   },
   {
    "duration": 23,
    "start_time": "2023-03-10T14:28:31.017Z"
   },
   {
    "duration": 296,
    "start_time": "2023-03-10T14:28:31.042Z"
   },
   {
    "duration": 47,
    "start_time": "2023-03-10T14:28:31.340Z"
   },
   {
    "duration": 381,
    "start_time": "2023-03-10T14:28:31.388Z"
   },
   {
    "duration": 32,
    "start_time": "2023-03-10T14:28:31.771Z"
   },
   {
    "duration": 750,
    "start_time": "2023-03-10T14:28:31.809Z"
   },
   {
    "duration": 22,
    "start_time": "2023-03-10T14:28:32.561Z"
   },
   {
    "duration": 19,
    "start_time": "2023-03-10T14:28:32.594Z"
   },
   {
    "duration": 19,
    "start_time": "2023-03-10T14:28:32.615Z"
   },
   {
    "duration": 16,
    "start_time": "2023-03-10T14:28:32.636Z"
   },
   {
    "duration": 22,
    "start_time": "2023-03-10T14:28:32.654Z"
   },
   {
    "duration": 53,
    "start_time": "2023-03-10T14:28:32.677Z"
   },
   {
    "duration": 663,
    "start_time": "2023-03-10T14:28:32.731Z"
   },
   {
    "duration": 12,
    "start_time": "2023-03-10T14:28:33.395Z"
   },
   {
    "duration": 13,
    "start_time": "2023-03-10T14:28:33.408Z"
   },
   {
    "duration": 12,
    "start_time": "2023-03-10T14:28:33.423Z"
   },
   {
    "duration": 17,
    "start_time": "2023-03-10T14:28:33.436Z"
   },
   {
    "duration": 21,
    "start_time": "2023-03-10T14:28:33.454Z"
   },
   {
    "duration": 459,
    "start_time": "2023-03-10T14:28:33.476Z"
   },
   {
    "duration": 3,
    "start_time": "2023-03-10T14:28:33.936Z"
   },
   {
    "duration": 423,
    "start_time": "2023-03-10T14:28:33.940Z"
   },
   {
    "duration": 123,
    "start_time": "2023-03-10T14:28:34.365Z"
   },
   {
    "duration": 0,
    "start_time": "2023-03-10T14:28:34.490Z"
   },
   {
    "duration": 0,
    "start_time": "2023-03-10T14:28:34.491Z"
   },
   {
    "duration": 0,
    "start_time": "2023-03-10T14:28:34.491Z"
   },
   {
    "duration": 0,
    "start_time": "2023-03-10T14:28:34.492Z"
   },
   {
    "duration": 1416,
    "start_time": "2023-04-16T14:56:38.621Z"
   },
   {
    "duration": 265,
    "start_time": "2023-04-16T14:56:40.040Z"
   },
   {
    "duration": 21,
    "start_time": "2023-04-16T14:56:40.307Z"
   },
   {
    "duration": 20,
    "start_time": "2023-04-16T14:56:40.330Z"
   },
   {
    "duration": 821,
    "start_time": "2023-04-16T14:56:40.352Z"
   },
   {
    "duration": 5,
    "start_time": "2023-04-16T14:56:41.187Z"
   },
   {
    "duration": 28,
    "start_time": "2023-04-16T14:56:41.205Z"
   },
   {
    "duration": 20,
    "start_time": "2023-04-16T14:56:41.234Z"
   },
   {
    "duration": 11,
    "start_time": "2023-04-16T14:56:41.256Z"
   },
   {
    "duration": 38,
    "start_time": "2023-04-16T14:56:41.269Z"
   },
   {
    "duration": 22,
    "start_time": "2023-04-16T14:56:41.309Z"
   },
   {
    "duration": 15,
    "start_time": "2023-04-16T14:56:41.333Z"
   },
   {
    "duration": 199,
    "start_time": "2023-04-16T14:56:41.350Z"
   },
   {
    "duration": 6,
    "start_time": "2023-04-16T14:56:41.553Z"
   },
   {
    "duration": 42,
    "start_time": "2023-04-16T14:56:41.561Z"
   },
   {
    "duration": 20,
    "start_time": "2023-04-16T14:56:41.607Z"
   },
   {
    "duration": 6,
    "start_time": "2023-04-16T14:56:41.630Z"
   },
   {
    "duration": 34,
    "start_time": "2023-04-16T14:56:41.638Z"
   },
   {
    "duration": 67,
    "start_time": "2023-04-16T14:56:41.675Z"
   },
   {
    "duration": 16,
    "start_time": "2023-04-16T14:56:41.744Z"
   },
   {
    "duration": 193,
    "start_time": "2023-04-16T14:56:41.762Z"
   },
   {
    "duration": 53,
    "start_time": "2023-04-16T14:56:41.958Z"
   },
   {
    "duration": 10,
    "start_time": "2023-04-16T14:56:42.013Z"
   },
   {
    "duration": 107,
    "start_time": "2023-04-16T14:56:42.025Z"
   },
   {
    "duration": 339,
    "start_time": "2023-04-16T14:56:42.134Z"
   },
   {
    "duration": 37,
    "start_time": "2023-04-16T14:56:42.475Z"
   },
   {
    "duration": 47,
    "start_time": "2023-04-16T14:56:42.528Z"
   },
   {
    "duration": 333,
    "start_time": "2023-04-16T14:56:42.577Z"
   },
   {
    "duration": 22,
    "start_time": "2023-04-16T14:56:42.912Z"
   },
   {
    "duration": 323,
    "start_time": "2023-04-16T14:56:42.935Z"
   },
   {
    "duration": 49,
    "start_time": "2023-04-16T14:56:43.260Z"
   },
   {
    "duration": 436,
    "start_time": "2023-04-16T14:56:43.312Z"
   },
   {
    "duration": 17,
    "start_time": "2023-04-16T14:56:43.750Z"
   },
   {
    "duration": 980,
    "start_time": "2023-04-16T14:56:43.769Z"
   },
   {
    "duration": 17,
    "start_time": "2023-04-16T14:56:44.751Z"
   },
   {
    "duration": 52,
    "start_time": "2023-04-16T14:56:44.775Z"
   },
   {
    "duration": 18,
    "start_time": "2023-04-16T14:56:44.829Z"
   },
   {
    "duration": 24,
    "start_time": "2023-04-16T14:56:44.849Z"
   },
   {
    "duration": 46,
    "start_time": "2023-04-16T14:56:44.876Z"
   },
   {
    "duration": 28,
    "start_time": "2023-04-16T14:56:44.925Z"
   },
   {
    "duration": 1008,
    "start_time": "2023-04-16T14:56:44.958Z"
   },
   {
    "duration": 20,
    "start_time": "2023-04-16T14:56:45.969Z"
   },
   {
    "duration": 30,
    "start_time": "2023-04-16T14:56:45.992Z"
   },
   {
    "duration": 16,
    "start_time": "2023-04-16T14:56:46.025Z"
   },
   {
    "duration": 17,
    "start_time": "2023-04-16T14:56:46.043Z"
   },
   {
    "duration": 35,
    "start_time": "2023-04-16T14:56:46.063Z"
   },
   {
    "duration": 731,
    "start_time": "2023-04-16T14:56:46.102Z"
   },
   {
    "duration": 3,
    "start_time": "2023-04-16T14:56:46.836Z"
   },
   {
    "duration": 699,
    "start_time": "2023-04-16T14:56:46.841Z"
   },
   {
    "duration": 785,
    "start_time": "2023-04-16T14:56:47.542Z"
   },
   {
    "duration": 4,
    "start_time": "2023-04-16T14:56:48.329Z"
   },
   {
    "duration": 44,
    "start_time": "2023-04-16T14:56:48.334Z"
   },
   {
    "duration": 37,
    "start_time": "2023-04-16T14:56:48.380Z"
   },
   {
    "duration": 1183,
    "start_time": "2023-05-10T09:09:01.474Z"
   },
   {
    "duration": 285,
    "start_time": "2023-05-10T09:09:02.659Z"
   },
   {
    "duration": 33,
    "start_time": "2023-05-10T09:09:02.953Z"
   },
   {
    "duration": 67,
    "start_time": "2023-05-10T09:09:02.989Z"
   },
   {
    "duration": 954,
    "start_time": "2023-05-10T09:09:03.059Z"
   },
   {
    "duration": 4,
    "start_time": "2023-05-10T09:09:04.015Z"
   },
   {
    "duration": 90,
    "start_time": "2023-05-10T09:09:04.021Z"
   },
   {
    "duration": 66,
    "start_time": "2023-05-10T09:09:04.113Z"
   },
   {
    "duration": 36,
    "start_time": "2023-05-10T09:09:04.181Z"
   },
   {
    "duration": 25,
    "start_time": "2023-05-10T09:09:04.220Z"
   },
   {
    "duration": 22,
    "start_time": "2023-05-10T09:09:04.247Z"
   },
   {
    "duration": 10,
    "start_time": "2023-05-10T09:09:04.270Z"
   },
   {
    "duration": 137,
    "start_time": "2023-05-10T09:09:04.282Z"
   },
   {
    "duration": 4,
    "start_time": "2023-05-10T09:09:04.422Z"
   },
   {
    "duration": 45,
    "start_time": "2023-05-10T09:09:04.428Z"
   },
   {
    "duration": 63,
    "start_time": "2023-05-10T09:09:04.475Z"
   },
   {
    "duration": 33,
    "start_time": "2023-05-10T09:09:04.543Z"
   },
   {
    "duration": 49,
    "start_time": "2023-05-10T09:09:04.578Z"
   },
   {
    "duration": 69,
    "start_time": "2023-05-10T09:09:04.630Z"
   },
   {
    "duration": 13,
    "start_time": "2023-05-10T09:09:04.701Z"
   },
   {
    "duration": 167,
    "start_time": "2023-05-10T09:09:04.716Z"
   },
   {
    "duration": 36,
    "start_time": "2023-05-10T09:09:04.885Z"
   },
   {
    "duration": 30,
    "start_time": "2023-05-10T09:09:04.923Z"
   },
   {
    "duration": 81,
    "start_time": "2023-05-10T09:09:04.957Z"
   },
   {
    "duration": 321,
    "start_time": "2023-05-10T09:09:05.040Z"
   },
   {
    "duration": 21,
    "start_time": "2023-05-10T09:09:05.363Z"
   },
   {
    "duration": 140,
    "start_time": "2023-05-10T09:09:05.386Z"
   },
   {
    "duration": 343,
    "start_time": "2023-05-10T09:09:05.530Z"
   },
   {
    "duration": 22,
    "start_time": "2023-05-10T09:09:05.875Z"
   },
   {
    "duration": 453,
    "start_time": "2023-05-10T09:09:05.900Z"
   },
   {
    "duration": 36,
    "start_time": "2023-05-10T09:09:06.355Z"
   },
   {
    "duration": 479,
    "start_time": "2023-05-10T09:09:06.393Z"
   },
   {
    "duration": 17,
    "start_time": "2023-05-10T09:09:06.873Z"
   },
   {
    "duration": 896,
    "start_time": "2023-05-10T09:09:06.893Z"
   },
   {
    "duration": 12,
    "start_time": "2023-05-10T09:09:07.791Z"
   },
   {
    "duration": 32,
    "start_time": "2023-05-10T09:09:07.805Z"
   },
   {
    "duration": 43,
    "start_time": "2023-05-10T09:09:07.839Z"
   },
   {
    "duration": 28,
    "start_time": "2023-05-10T09:09:07.884Z"
   },
   {
    "duration": 23,
    "start_time": "2023-05-10T09:09:07.914Z"
   },
   {
    "duration": 41,
    "start_time": "2023-05-10T09:09:07.939Z"
   },
   {
    "duration": 836,
    "start_time": "2023-05-10T09:09:07.983Z"
   },
   {
    "duration": 23,
    "start_time": "2023-05-10T09:09:08.822Z"
   },
   {
    "duration": 32,
    "start_time": "2023-05-10T09:09:08.852Z"
   },
   {
    "duration": 27,
    "start_time": "2023-05-10T09:09:08.886Z"
   },
   {
    "duration": 38,
    "start_time": "2023-05-10T09:09:08.915Z"
   },
   {
    "duration": 37,
    "start_time": "2023-05-10T09:09:08.955Z"
   },
   {
    "duration": 563,
    "start_time": "2023-05-10T09:09:08.994Z"
   },
   {
    "duration": 531,
    "start_time": "2023-05-10T09:09:09.559Z"
   },
   {
    "duration": 652,
    "start_time": "2023-05-10T09:09:10.093Z"
   },
   {
    "duration": 15,
    "start_time": "2023-05-10T09:09:10.752Z"
   },
   {
    "duration": 25,
    "start_time": "2023-05-10T09:09:10.770Z"
   },
   {
    "duration": 526,
    "start_time": "2023-05-10T09:09:37.324Z"
   },
   {
    "duration": 544,
    "start_time": "2023-05-10T09:09:54.226Z"
   },
   {
    "duration": 588,
    "start_time": "2023-05-10T09:10:16.975Z"
   },
   {
    "duration": 571,
    "start_time": "2023-05-10T09:10:28.726Z"
   },
   {
    "duration": 833,
    "start_time": "2023-05-10T09:10:42.957Z"
   },
   {
    "duration": 577,
    "start_time": "2023-05-10T09:10:59.622Z"
   },
   {
    "duration": 615,
    "start_time": "2023-05-10T09:11:15.475Z"
   },
   {
    "duration": 363,
    "start_time": "2023-05-10T09:11:46.022Z"
   },
   {
    "duration": 1506,
    "start_time": "2023-05-10T14:18:47.790Z"
   },
   {
    "duration": 150,
    "start_time": "2023-05-10T14:18:49.298Z"
   },
   {
    "duration": 19,
    "start_time": "2023-05-10T14:18:49.450Z"
   },
   {
    "duration": 27,
    "start_time": "2023-05-10T14:18:49.472Z"
   },
   {
    "duration": 753,
    "start_time": "2023-05-10T14:18:49.500Z"
   },
   {
    "duration": 5,
    "start_time": "2023-05-10T14:18:50.255Z"
   },
   {
    "duration": 64,
    "start_time": "2023-05-10T14:18:50.262Z"
   },
   {
    "duration": 34,
    "start_time": "2023-05-10T14:18:50.328Z"
   },
   {
    "duration": 13,
    "start_time": "2023-05-10T14:18:50.363Z"
   },
   {
    "duration": 52,
    "start_time": "2023-05-10T14:18:50.379Z"
   },
   {
    "duration": 27,
    "start_time": "2023-05-10T14:18:50.433Z"
   },
   {
    "duration": 28,
    "start_time": "2023-05-10T14:18:50.461Z"
   },
   {
    "duration": 126,
    "start_time": "2023-05-10T14:18:50.491Z"
   },
   {
    "duration": 4,
    "start_time": "2023-05-10T14:18:50.619Z"
   },
   {
    "duration": 17,
    "start_time": "2023-05-10T14:18:50.625Z"
   },
   {
    "duration": 22,
    "start_time": "2023-05-10T14:18:50.644Z"
   },
   {
    "duration": 25,
    "start_time": "2023-05-10T14:18:50.668Z"
   },
   {
    "duration": 26,
    "start_time": "2023-05-10T14:18:50.695Z"
   },
   {
    "duration": 71,
    "start_time": "2023-05-10T14:18:50.722Z"
   },
   {
    "duration": 15,
    "start_time": "2023-05-10T14:18:50.795Z"
   },
   {
    "duration": 193,
    "start_time": "2023-05-10T14:18:50.811Z"
   },
   {
    "duration": 31,
    "start_time": "2023-05-10T14:18:51.006Z"
   },
   {
    "duration": 12,
    "start_time": "2023-05-10T14:18:51.038Z"
   },
   {
    "duration": 69,
    "start_time": "2023-05-10T14:18:51.052Z"
   },
   {
    "duration": 274,
    "start_time": "2023-05-10T14:18:51.123Z"
   },
   {
    "duration": 37,
    "start_time": "2023-05-10T14:18:51.399Z"
   },
   {
    "duration": 37,
    "start_time": "2023-05-10T14:18:51.439Z"
   },
   {
    "duration": 284,
    "start_time": "2023-05-10T14:18:51.479Z"
   },
   {
    "duration": 15,
    "start_time": "2023-05-10T14:18:51.765Z"
   },
   {
    "duration": 260,
    "start_time": "2023-05-10T14:18:51.781Z"
   },
   {
    "duration": 30,
    "start_time": "2023-05-10T14:18:52.043Z"
   },
   {
    "duration": 332,
    "start_time": "2023-05-10T14:18:52.075Z"
   },
   {
    "duration": 28,
    "start_time": "2023-05-10T14:18:52.410Z"
   },
   {
    "duration": 862,
    "start_time": "2023-05-10T14:18:52.440Z"
   },
   {
    "duration": 11,
    "start_time": "2023-05-10T14:18:53.304Z"
   },
   {
    "duration": 25,
    "start_time": "2023-05-10T14:18:53.317Z"
   },
   {
    "duration": 11,
    "start_time": "2023-05-10T14:18:53.344Z"
   },
   {
    "duration": 12,
    "start_time": "2023-05-10T14:18:53.357Z"
   },
   {
    "duration": 16,
    "start_time": "2023-05-10T14:18:53.371Z"
   },
   {
    "duration": 10,
    "start_time": "2023-05-10T14:18:53.389Z"
   },
   {
    "duration": 991,
    "start_time": "2023-05-10T14:18:53.400Z"
   },
   {
    "duration": 11,
    "start_time": "2023-05-10T14:18:54.393Z"
   },
   {
    "duration": 34,
    "start_time": "2023-05-10T14:18:54.406Z"
   },
   {
    "duration": 15,
    "start_time": "2023-05-10T14:18:54.442Z"
   },
   {
    "duration": 13,
    "start_time": "2023-05-10T14:18:54.459Z"
   },
   {
    "duration": 14,
    "start_time": "2023-05-10T14:18:54.474Z"
   },
   {
    "duration": 519,
    "start_time": "2023-05-10T14:18:54.489Z"
   },
   {
    "duration": 493,
    "start_time": "2023-05-10T14:18:55.009Z"
   },
   {
    "duration": 566,
    "start_time": "2023-05-10T14:18:55.504Z"
   },
   {
    "duration": 10,
    "start_time": "2023-05-10T14:18:56.072Z"
   },
   {
    "duration": 34,
    "start_time": "2023-05-10T14:18:56.084Z"
   },
   {
    "duration": 656,
    "start_time": "2023-05-10T14:20:40.462Z"
   },
   {
    "duration": 751,
    "start_time": "2023-05-10T14:21:04.774Z"
   },
   {
    "duration": 804,
    "start_time": "2023-05-10T14:21:17.422Z"
   },
   {
    "duration": 828,
    "start_time": "2023-05-10T14:21:29.366Z"
   },
   {
    "duration": 723,
    "start_time": "2023-05-10T14:21:54.305Z"
   },
   {
    "duration": 1411,
    "start_time": "2023-05-11T13:44:10.282Z"
   },
   {
    "duration": 170,
    "start_time": "2023-05-11T13:44:11.695Z"
   },
   {
    "duration": 26,
    "start_time": "2023-05-11T13:44:11.867Z"
   },
   {
    "duration": 21,
    "start_time": "2023-05-11T13:44:11.895Z"
   },
   {
    "duration": 871,
    "start_time": "2023-05-11T13:44:11.920Z"
   },
   {
    "duration": 5,
    "start_time": "2023-05-11T13:44:12.792Z"
   },
   {
    "duration": 21,
    "start_time": "2023-05-11T13:44:12.799Z"
   },
   {
    "duration": 36,
    "start_time": "2023-05-11T13:44:12.822Z"
   },
   {
    "duration": 9,
    "start_time": "2023-05-11T13:44:12.859Z"
   },
   {
    "duration": 22,
    "start_time": "2023-05-11T13:44:12.870Z"
   },
   {
    "duration": 14,
    "start_time": "2023-05-11T13:44:12.894Z"
   },
   {
    "duration": 42,
    "start_time": "2023-05-11T13:44:12.910Z"
   },
   {
    "duration": 114,
    "start_time": "2023-05-11T13:44:12.954Z"
   },
   {
    "duration": 4,
    "start_time": "2023-05-11T13:44:13.072Z"
   },
   {
    "duration": 26,
    "start_time": "2023-05-11T13:44:13.078Z"
   },
   {
    "duration": 11,
    "start_time": "2023-05-11T13:44:13.106Z"
   },
   {
    "duration": 5,
    "start_time": "2023-05-11T13:44:13.118Z"
   },
   {
    "duration": 28,
    "start_time": "2023-05-11T13:44:13.125Z"
   },
   {
    "duration": 53,
    "start_time": "2023-05-11T13:44:13.156Z"
   },
   {
    "duration": 38,
    "start_time": "2023-05-11T13:44:13.211Z"
   },
   {
    "duration": 338,
    "start_time": "2023-05-11T13:44:13.250Z"
   },
   {
    "duration": 155,
    "start_time": "2023-05-11T13:44:13.590Z"
   },
   {
    "duration": 9,
    "start_time": "2023-05-11T13:44:13.752Z"
   },
   {
    "duration": 114,
    "start_time": "2023-05-11T13:44:13.763Z"
   },
   {
    "duration": 647,
    "start_time": "2023-05-11T13:44:13.878Z"
   },
   {
    "duration": 30,
    "start_time": "2023-05-11T13:44:14.527Z"
   },
   {
    "duration": 28,
    "start_time": "2023-05-11T13:44:14.558Z"
   },
   {
    "duration": 327,
    "start_time": "2023-05-11T13:44:14.588Z"
   },
   {
    "duration": 19,
    "start_time": "2023-05-11T13:44:14.937Z"
   },
   {
    "duration": 985,
    "start_time": "2023-05-11T13:44:14.958Z"
   },
   {
    "duration": 118,
    "start_time": "2023-05-11T13:44:15.945Z"
   },
   {
    "duration": 1432,
    "start_time": "2023-05-11T13:44:16.140Z"
   },
   {
    "duration": 79,
    "start_time": "2023-05-11T13:44:17.574Z"
   },
   {
    "duration": 1930,
    "start_time": "2023-05-11T13:44:17.659Z"
   },
   {
    "duration": 53,
    "start_time": "2023-05-11T13:44:19.591Z"
   },
   {
    "duration": 23,
    "start_time": "2023-05-11T13:44:19.646Z"
   },
   {
    "duration": 33,
    "start_time": "2023-05-11T13:44:19.670Z"
   },
   {
    "duration": 17,
    "start_time": "2023-05-11T13:44:19.744Z"
   },
   {
    "duration": 11,
    "start_time": "2023-05-11T13:44:19.763Z"
   },
   {
    "duration": 79,
    "start_time": "2023-05-11T13:44:19.775Z"
   },
   {
    "duration": 1884,
    "start_time": "2023-05-11T13:44:19.858Z"
   },
   {
    "duration": 14,
    "start_time": "2023-05-11T13:44:21.745Z"
   },
   {
    "duration": 87,
    "start_time": "2023-05-11T13:44:21.761Z"
   },
   {
    "duration": 14,
    "start_time": "2023-05-11T13:44:21.852Z"
   },
   {
    "duration": 12,
    "start_time": "2023-05-11T13:44:21.867Z"
   },
   {
    "duration": 11,
    "start_time": "2023-05-11T13:44:21.881Z"
   },
   {
    "duration": 2146,
    "start_time": "2023-05-11T13:44:21.895Z"
   },
   {
    "duration": 1999,
    "start_time": "2023-05-11T13:44:24.043Z"
   },
   {
    "duration": 2509,
    "start_time": "2023-05-11T13:44:26.046Z"
   },
   {
    "duration": 87,
    "start_time": "2023-05-11T13:44:28.559Z"
   },
   {
    "duration": 11,
    "start_time": "2023-05-11T13:44:28.650Z"
   }
  ],
  "kernelspec": {
   "display_name": "Python 3 (ipykernel)",
   "language": "python",
   "name": "python3"
  },
  "language_info": {
   "codemirror_mode": {
    "name": "ipython",
    "version": 3
   },
   "file_extension": ".py",
   "mimetype": "text/x-python",
   "name": "python",
   "nbconvert_exporter": "python",
   "pygments_lexer": "ipython3",
   "version": "3.9.5"
  },
  "toc": {
   "base_numbering": 1,
   "nav_menu": {},
   "number_sections": true,
   "sideBar": true,
   "skip_h1_title": true,
   "title_cell": "Table of Contents",
   "title_sidebar": "Contents",
   "toc_cell": false,
   "toc_position": {},
   "toc_section_display": true,
   "toc_window_display": false
  }
 },
 "nbformat": 4,
 "nbformat_minor": 2
}
